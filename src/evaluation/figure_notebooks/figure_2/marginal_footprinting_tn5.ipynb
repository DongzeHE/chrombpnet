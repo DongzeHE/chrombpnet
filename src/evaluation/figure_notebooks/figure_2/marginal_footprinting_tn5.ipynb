{
 "cells": [
  {
   "cell_type": "code",
   "execution_count": 1,
   "metadata": {},
   "outputs": [],
   "source": [
    "#simple_bias1=\"results/chrombpnet/ATAC_PE/GM12878/ATAC_PE_03.06.2022_simplebias/chrombpnet_model/footprints/\"\n",
    "main=\"/mnt/lab_data2/anusri/chrombpnet/\"\n",
    "\n",
    "chrombpnet_uncorrected1=main+\"results/chrombpnet/ATAC_PE/GM12878/nautilus_runs/GM12878_03.01.2022_bias_128_4_1234_0.4_fold_0/chrombpnet_model/footprints_motifs_uncorrected/motif_footprints.h5\"\n",
    "#tobias1=main+\"results/tobias/ATAC_PE/GM12878/ATAC_PE_04.06.2022_tobias_with_bias_bigwig/tobias_model/footprints/corrected_footprints.h5\"\n",
    "tobias1=main+\"results/tobias/ATAC_PE/GM12878/ATAC_PE_04.08.2022_tobias_corrected_not_softmax_custom_shift/tobias_model/footprints_motifs/motif_footprints.h5\"\n",
    "hint_atac1=main+\"results/hint_atac/ATAC_PE/GM12878/ATAC_PE_03.06.2022_hint_atac/hint_atac_model/footprints_motifs/motif_footprints.h5\"\n",
    "chrombpnet_corrected1=main+\"results/chrombpnet/ATAC_PE/GM12878/nautilus_runs/GM12878_03.01.2022_bias_128_4_1234_0.4_fold_0/chrombpnet_model/footprints_motifs/motif_footprints.h5\"\n"
   ]
  },
  {
   "cell_type": "code",
   "execution_count": 2,
   "metadata": {},
   "outputs": [],
   "source": [
    "import deepdish"
   ]
  },
  {
   "cell_type": "code",
   "execution_count": 3,
   "metadata": {},
   "outputs": [],
   "source": [
    "uncorrected = deepdish.io.load(chrombpnet_uncorrected1)\n",
    "tobias = deepdish.io.load(tobias1)\n",
    "hint_atac = deepdish.io.load(hint_atac1)\n",
    "chrombpnet = deepdish.io.load(chrombpnet_corrected1)\n"
   ]
  },
  {
   "cell_type": "code",
   "execution_count": 4,
   "metadata": {},
   "outputs": [],
   "source": [
    "import matplotlib.pyplot as plt"
   ]
  },
  {
   "cell_type": "code",
   "execution_count": 6,
   "metadata": {},
   "outputs": [
    {
     "data": {
      "image/png": "[encoded data removed]",
      "text/plain": [
       "<Figure size 360x288 with 12 Axes>"
      ]
     },
     "metadata": {
      "needs_background": "light"
     },
     "output_type": "display_data"
    }
   ],
   "source": [
    "fig,axs = plt.subplots(3,4,figsize=(5,4),sharex=True,sharey=True)\n",
    "for i in range(1,4):\n",
    "    axs[i-1,0].plot(uncorrected[\"tn5_\"+str(i)][0][400:600], alpha=0.9, label=\"uncorrected\", c=\"k\")\n",
    "    axs[i-1,1].plot(hint_atac[\"tn5_\"+str(i)][0][400:600], alpha=0.9, label=\"hint-atac\", c=\"k\")\n",
    "    axs[i-1,2].plot(tobias[\"tn5_\"+str(i)][0][400:600], alpha=0.9, label=\"tobias\", c=\"k\")\n",
    "    axs[i-1,3].plot(chrombpnet[\"tn5_\"+str(i)][0][400:600], alpha=0.9, label=\"chrombpnet\", c=\"k\")\n",
    "\n",
    "    axs[i-1,0].set_ylim([0, 0.07])\n",
    "    axs[i-1,1].set_ylim([0, 0.07])\n",
    "    axs[i-1,2].set_ylim([0, 0.07])\n",
    "    axs[i-1,3].set_ylim([0, 0.07])\n",
    "\n",
    "plt.savefig(\"first_3_tn5_response_temp.png\")\n",
    "#fig.tight_layout()"
   ]
  },
  {
   "cell_type": "code",
   "execution_count": null,
   "metadata": {},
   "outputs": [],
   "source": []
  }
 ],
 "metadata": {
  "kernelspec": {
   "display_name": "Python 3",
   "language": "python",
   "name": "python3"
  },
  "language_info": {
   "codemirror_mode": {
    "name": "ipython",
    "version": 3
   },
   "file_extension": ".py",
   "mimetype": "text/x-python",
   "name": "python",
   "nbconvert_exporter": "python",
   "pygments_lexer": "ipython3",
   "version": "3.7.6"
  }
 },
 "nbformat": 4,
 "nbformat_minor": 4
}
