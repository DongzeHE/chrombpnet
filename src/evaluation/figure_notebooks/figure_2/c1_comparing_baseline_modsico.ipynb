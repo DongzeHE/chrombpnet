{
 "cells": [
  {
   "cell_type": "code",
   "execution_count": 53,
   "metadata": {},
   "outputs": [],
   "source": [
    "import pandas as pd\n",
    "\n",
    "uncorrected = '/oak/stanford/groups/akundaje/projects/chrombpnet_paper_new/ATAC_PE/GM12878/uncorrected_model_05.10.2022//SIGNAL/modisco_crop_500/profile.tomtom.tsv'\n",
    "uncorrected_annotations_path = \"/mnt/lab_data3/anusri/chrombpnet/results/chrombpnet/ATAC_PE/GM12878/uncorrected_model_05.10.2022/profile_annotations.csv\"\n",
    "hint = '/oak/stanford/groups/akundaje/projects/chrombpnet_paper_new/ATAC_PE/GM12878/ATAC_PE_03.06.2022_hint_atac/SIGNAL/modisco_crop_500/profile.tomtom.tsv'\n",
    "hint_annotations_path = \"/mnt/lab_data3/anusri/chrombpnet/results/chrombpnet/ATAC_PE/GM12878/ATAC_PE_03.06.2022_hint_atac/profile_annotations.csv\"\n",
    "tobias = '/oak/stanford/groups/akundaje/projects/chrombpnet_paper_new/ATAC_PE/GM12878/ATAC_PE_04.06.2022_tobias_with_bias_bigwig/SIGNAL/modisco_crop_500/profile.tomtom.tsv'\n",
    "tobias_annotations_path = \"/mnt/lab_data3/anusri/chrombpnet/results/chrombpnet/ATAC_PE/GM12878/ATAC_PE_04.06.2022_tobias_with_bias_bigwig/profile_annotations.csv\"\n",
    "simple_bias = '/oak/stanford/groups/akundaje/projects/chrombpnet_paper_new/ATAC_PE/GM12878/ATAC_PE_03.06.2022_simplebias/SIGNAL/modisco_crop_500/profile.tomtom.tsv'\n",
    "simple_bias_annotations_path = \"/mnt/lab_data3/anusri/chrombpnet/results/chrombpnet/ATAC_PE/GM12878/ATAC_PE_03.06.2022_simplebias/profile_annotations.csv\"\n",
    "\n",
    "corrected = '/oak/stanford/groups/akundaje/projects/chrombpnet_paper_new/ATAC_PE/GM12878/GM12878_03.01.2022_bias_128_4_1234_0.4_fold_0/SIGNAL/modisco_crop_500/profile.tomtom.tsv'\n",
    "corrected_annotations_path = \"/mnt/lab_data3/anusri/chrombpnet/results/chrombpnet/ATAC_PE/GM12878/GM12878_03.01.2022_bias_128_4_1234_0.4_fold_0/motif_annotations/profile_annotations.csv\"\n",
    "\n",
    "\n"
   ]
  },
  {
   "cell_type": "code",
   "execution_count": 54,
   "metadata": {},
   "outputs": [],
   "source": [
    "def read_data(tomtom_path_atac,annotations_path,model_name):\n",
    "    atac_data = pd.read_csv(tomtom_path_atac,sep=\"\\t\")\n",
    "    atac_data[\"Num_Seqlets\"] = atac_data[\"Num_Seqlets\"]/sum(atac_data[\"Num_Seqlets\"])\n",
    "    atac_data[\"Pattern\"] = atac_data[\"Pattern\"].str.replace(\"metacluster_\",\"\").str.replace(\".pattern_\",\"_\")\n",
    "    annotations = pd.read_csv(annotations_path,sep=\",\", names=[\"Pattern\", \"Label\"])\n",
    "    merged = pd.merge(annotations,atac_data,on=\"Pattern\",how=\"inner\")\n",
    "    merged = merged[merged[\"Num_Seqlets\"]>0.01]\n",
    "    merged[\"model\"] = model_name\n",
    "    return merged\n"
   ]
  },
  {
   "cell_type": "code",
   "execution_count": 58,
   "metadata": {},
   "outputs": [
    {
     "name": "stderr",
     "output_type": "stream",
     "text": [
      "/users/anusri/anaconda3/lib/python3.7/site-packages/ipykernel_launcher.py:4: FutureWarning: The default value of regex will change from True to False in a future version.\n",
      "  after removing the cwd from sys.path.\n"
     ]
    }
   ],
   "source": [
    "df1 = read_data(uncorrected,uncorrected_annotations_path, \"Uncorrected\")\n",
    "df2 = read_data(hint,hint_annotations_path, \"HINT-ATAC\")\n",
    "df3 = read_data(tobias,tobias_annotations_path, \"Tobias\")\n",
    "df4 = read_data(simple_bias,simple_bias_annotations_path, \"Simple-bias\")\n",
    "df5 = read_data(corrected,corrected_annotations_path, \"ChromBpnet\")\n",
    "\n",
    "df1 = df1.append(df2, ignore_index=True)\n",
    "df1 = df1.append(df3, ignore_index=True)\n",
    "df1 = df1.append(df4, ignore_index=True)\n",
    "df1 = df1.append(df5, ignore_index=True)"
   ]
  },
  {
   "cell_type": "code",
   "execution_count": 59,
   "metadata": {},
   "outputs": [],
   "source": [
    "df1[[\"Label\", \"model\", \"Num_Seqlets\"]].to_csv(\"combine_pd_benchmark.csv\",sep=\",\",header=False,index=False)"
   ]
  },
  {
   "cell_type": "code",
   "execution_count": null,
   "metadata": {},
   "outputs": [],
   "source": []
  },
  {
   "cell_type": "code",
   "execution_count": null,
   "metadata": {},
   "outputs": [],
   "source": []
  }
 ],
 "metadata": {
  "kernelspec": {
   "display_name": "Python 3",
   "language": "python",
   "name": "python3"
  },
  "language_info": {
   "codemirror_mode": {
    "name": "ipython",
    "version": 3
   },
   "file_extension": ".py",
   "mimetype": "text/x-python",
   "name": "python",
   "nbconvert_exporter": "python",
   "pygments_lexer": "ipython3",
   "version": "3.7.6"
  }
 },
 "nbformat": 4,
 "nbformat_minor": 4
}
