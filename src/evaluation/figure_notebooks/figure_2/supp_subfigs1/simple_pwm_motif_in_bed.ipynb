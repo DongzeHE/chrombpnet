{
 "cells": [
  {
   "cell_type": "code",
   "execution_count": 1,
   "metadata": {},
   "outputs": [],
   "source": [
    "import pyfaidx\n",
    "import numpy as np\n",
    "import pyBigWig\n",
    "from modisco.visualization import viz_sequence\n",
    "import matplotlib.pyplot as plt\n",
    "import sys\n",
    "sys.path.insert(0, \"/mnt/lab_data2/anusri/chrombpnet/src/helpers/preprocessing/analysis/\")\n",
    "import one_hot\n",
    "import pandas as pd\n",
    "\n",
    "def get_pwm_bg(seqs, cnts, new_seqs, pwm_width=24):\n",
    "    '''\n",
    "    Arguments::\n",
    "        seqs: An input array of shape L x alphabet\n",
    "        cnts: An input array of shape L\n",
    "    \n",
    "    Returns:\n",
    "        motif: PPM (Position Probability Matrix) dimensions of length x alphabet.\n",
    "               Entries along the alphabet axis sum to 1.\n",
    "        bg: The background base frequencies\n",
    "    '''\n",
    "    for i in range(pwm_width//2,cnts.shape[0]-pwm_width//2):\n",
    "        if cnts[i] > 0:\n",
    "            new_seqs.append(seqs[i-pwm_width//2:i+pwm_width//2,:]*cnts[i])\n",
    "    return new_seqs\n"
   ]
  },
  {
   "cell_type": "code",
   "execution_count": 2,
   "metadata": {},
   "outputs": [
    {
     "name": "stdout",
     "output_type": "stream",
     "text": [
      "      0          1          2  3  4  5  6  7  8     9\n",
      "0  chr3  105204000  105206114  .  .  .  .  .  .  1057\n",
      "1  chr3  146462000  146464114  .  .  .  .  .  .  1057\n",
      "2  chr1   77114000   77116114  .  .  .  .  .  .  1057\n",
      "3  chr1  116329000  116331114  .  .  .  .  .  .  1057\n",
      "4  chr1  240701000  240703114  .  .  .  .  .  .  1057\n"
     ]
    }
   ],
   "source": [
    "# access files\n",
    "genome=\"/mnt/lab_data2/anusri/chrombpnet/reference/hg38.genome.fa\"\n",
    "#bigwig=\"/mnt/lab_data2/anusri/chrombpnet/results/chrombpnet/ATAC_PE/GM12878/data/GM12878_unstranded.bw\"\n",
    "#bigwig=\"/mnt/lab_data2/anusri/chrombpnet/results/chrombpnet/ATAC_PE/NAKED/data/NAKED_unstranded.bw\"\n",
    "#bigwig=\"/mnt/lab_data2/anusri/chrombpnet/results/chrombpnet/ATAC_PE/HEPG2/data/HEPG2_unstranded.bw\"\n",
    "#31\n",
    "#bigwig=\"/mnt/lab_data2/anusri/chrombpnet/results/chrombpnet/ATAC_PE/IMR90/data/IMR90_unstranded.bw\"\n",
    "#32\n",
    "#bigwig=\"/mnt/lab_data2/anusri/chrombpnet/results/chrombpnet/ATAC_PE/K562/data/K562_unstranded.bw\"\n",
    "#33\n",
    "bigwig=\"/mnt/lab_data2/anusri/chrombpnet/results/chrombpnet/ATAC_PE/H1ESC/data/H1ESC_unstranded.bw\"\n",
    "\n",
    "bed=\"/mnt/lab_data2/anusri/chrombpnet/results/chrombpnet/ATAC_PE/GM12878/negatives_data/negatives_with_summit.bed\"\n",
    "#ppm_dir=\"bias_motifs_invivo\"\n",
    "#ppm_dir=\"bias_motifs/ATAC/\"\n",
    "ppm_dir='bias_motifs_transfer_hep'\n",
    "\n",
    "hg38 = pyfaidx.Fasta(genome)\n",
    "bw = pyBigWig.open(bigwig) \n",
    "bedregions=pd.read_csv(bed,sep=\"\\t\",header=None)\n",
    "print(bedregions.head())\n",
    "new_seqs = []\n",
    "\n",
    "for i,r in bedregions.iterrows():\n",
    "    chri=r[0]\n",
    "    start=r[1]+r[9]-500\n",
    "    end=r[1]+r[9]+500\n",
    "    # fetch values in the given chromsome and for the given chromsome region\n",
    "    seq = str(hg38[chri][start:end])\n",
    "    one_hot_seq = one_hot.dna_to_one_hot(seq).squeeze()\n",
    "    bigwig_vals = np.nan_to_num(bw.values(chri,start,end ))\n",
    "    get_pwm_bg(one_hot_seq, bigwig_vals, new_seqs, pwm_width=24)\n",
    "    \n",
    "motif = np.sum(new_seqs, axis=0)\n",
    "motif = motif/np.sum(motif, axis=-1, keepdims=True)\n",
    "bg = np.sum(np.sum(new_seqs, axis=0), axis=0)\n",
    "bg = bg/sum(bg)\n"
   ]
  },
  {
   "cell_type": "code",
   "execution_count": 3,
   "metadata": {},
   "outputs": [
    {
     "name": "stdout",
     "output_type": "stream",
     "text": [
      "(24, 4)\n"
     ]
    }
   ],
   "source": [
    "print(motif.shape)"
   ]
  },
  {
   "cell_type": "code",
   "execution_count": 4,
   "metadata": {},
   "outputs": [],
   "source": [
    "\n",
    "output = viz_sequence.ic_scale(motif, background=bg)"
   ]
  },
  {
   "cell_type": "code",
   "execution_count": 5,
   "metadata": {},
   "outputs": [
    {
     "data": {
      "text/plain": [
       "(24, 4)"
      ]
     },
     "execution_count": 5,
     "metadata": {},
     "output_type": "execute_result"
    }
   ],
   "source": [
    "output.shape"
   ]
  },
  {
   "cell_type": "code",
   "execution_count": 6,
   "metadata": {},
   "outputs": [
    {
     "ename": "NameError",
     "evalue": "name 'os' is not defined",
     "output_type": "error",
     "traceback": [
      "\u001b[0;31m---------------------------------------------------------------------------\u001b[0m",
      "\u001b[0;31mNameError\u001b[0m                                 Traceback (most recent call last)",
      "\u001b[0;32m<ipython-input-6-0fb072a3c025>\u001b[0m in \u001b[0;36m<module>\u001b[0;34m\u001b[0m\n\u001b[1;32m      1\u001b[0m \u001b[0mkey\u001b[0m\u001b[0;34m=\u001b[0m\u001b[0;34m\"0_33\"\u001b[0m\u001b[0;34m\u001b[0m\u001b[0;34m\u001b[0m\u001b[0m\n\u001b[1;32m      2\u001b[0m \u001b[0mmode\u001b[0m\u001b[0;34m=\u001b[0m\u001b[0;34m\"profile\"\u001b[0m\u001b[0;34m\u001b[0m\u001b[0;34m\u001b[0m\u001b[0m\n\u001b[0;32m----> 3\u001b[0;31m \u001b[0mf\u001b[0m \u001b[0;34m=\u001b[0m \u001b[0mopen\u001b[0m\u001b[0;34m(\u001b[0m\u001b[0mos\u001b[0m\u001b[0;34m.\u001b[0m\u001b[0mpath\u001b[0m\u001b[0;34m.\u001b[0m\u001b[0mjoin\u001b[0m\u001b[0;34m(\u001b[0m\u001b[0mppm_dir\u001b[0m\u001b[0;34m,\u001b[0m\u001b[0mmode\u001b[0m\u001b[0;34m+\u001b[0m\u001b[0;34m\"_\"\u001b[0m\u001b[0;34m+\u001b[0m\u001b[0mkey\u001b[0m\u001b[0;34m+\u001b[0m\u001b[0;34m\"_tn5.pfm\"\u001b[0m\u001b[0;34m)\u001b[0m\u001b[0;34m,\u001b[0m\u001b[0;34m\"w\"\u001b[0m\u001b[0;34m)\u001b[0m\u001b[0;34m\u001b[0m\u001b[0;34m\u001b[0m\u001b[0m\n\u001b[0m\u001b[1;32m      4\u001b[0m \u001b[0mnp\u001b[0m\u001b[0;34m.\u001b[0m\u001b[0msavetxt\u001b[0m\u001b[0;34m(\u001b[0m\u001b[0mf\u001b[0m\u001b[0;34m,\u001b[0m \u001b[0moutput\u001b[0m\u001b[0;34m,\u001b[0m \u001b[0mfmt\u001b[0m\u001b[0;34m=\u001b[0m\u001b[0;34m'%f'\u001b[0m\u001b[0;34m)\u001b[0m\u001b[0;34m\u001b[0m\u001b[0;34m\u001b[0m\u001b[0m\n\u001b[1;32m      5\u001b[0m \u001b[0mf\u001b[0m\u001b[0;34m.\u001b[0m\u001b[0mclose\u001b[0m\u001b[0;34m(\u001b[0m\u001b[0;34m)\u001b[0m\u001b[0;34m\u001b[0m\u001b[0;34m\u001b[0m\u001b[0m\n",
      "\u001b[0;31mNameError\u001b[0m: name 'os' is not defined"
     ]
    }
   ],
   "source": [
    "key=\"0_33\"\n",
    "mode=\"profile\"\n",
    "f = open(os.path.join(ppm_dir,mode+\"_\"+key+\"_tn5.pfm\"),\"w\")\n",
    "np.savetxt(f, output, fmt='%f')\n",
    "f.close()"
   ]
  },
  {
   "cell_type": "code",
   "execution_count": null,
   "metadata": {},
   "outputs": [],
   "source": []
  },
  {
   "cell_type": "code",
   "execution_count": null,
   "metadata": {},
   "outputs": [],
   "source": []
  }
 ],
 "metadata": {
  "kernelspec": {
   "display_name": "Python 3",
   "language": "python",
   "name": "python3"
  },
  "language_info": {
   "codemirror_mode": {
    "name": "ipython",
    "version": 3
   },
   "file_extension": ".py",
   "mimetype": "text/x-python",
   "name": "python",
   "nbconvert_exporter": "python",
   "pygments_lexer": "ipython3",
   "version": "3.7.6"
  }
 },
 "nbformat": 4,
 "nbformat_minor": 4
}
