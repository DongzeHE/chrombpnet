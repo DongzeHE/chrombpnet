{
 "cells": [
  {
   "cell_type": "code",
   "execution_count": 1,
   "metadata": {},
   "outputs": [
    {
     "name": "stderr",
     "output_type": "stream",
     "text": [
      "── \u001b[1mAttaching packages\u001b[22m ─────────────────────────────────────────────────────────────────────────────────────────────── tidyverse 1.3.2 ──\n",
      "\u001b[32m✔\u001b[39m \u001b[34mggplot2\u001b[39m 3.3.6      \u001b[32m✔\u001b[39m \u001b[34mpurrr  \u001b[39m 0.3.5 \n",
      "\u001b[32m✔\u001b[39m \u001b[34mtibble \u001b[39m 3.1.8      \u001b[32m✔\u001b[39m \u001b[34mdplyr  \u001b[39m 1.0.10\n",
      "\u001b[32m✔\u001b[39m \u001b[34mtidyr  \u001b[39m 1.2.1      \u001b[32m✔\u001b[39m \u001b[34mstringr\u001b[39m 1.4.1 \n",
      "\u001b[32m✔\u001b[39m \u001b[34mreadr  \u001b[39m 2.1.2      \u001b[32m✔\u001b[39m \u001b[34mforcats\u001b[39m 0.5.2 \n",
      "── \u001b[1mConflicts\u001b[22m ────────────────────────────────────────────────────────────────────────────────────────────────── tidyverse_conflicts() ──\n",
      "\u001b[31m✖\u001b[39m \u001b[34mdplyr\u001b[39m::\u001b[32mfilter()\u001b[39m masks \u001b[34mstats\u001b[39m::filter()\n",
      "\u001b[31m✖\u001b[39m \u001b[34mdplyr\u001b[39m::\u001b[32mlag()\u001b[39m    masks \u001b[34mstats\u001b[39m::lag()\n",
      "NOTE: Either Arial Narrow or Roboto Condensed fonts are required to use these themes.\n",
      "\n",
      "      Please use hrbrthemes::import_roboto_condensed() to install Roboto Condensed and\n",
      "\n",
      "      if Arial Narrow is not on your system, please see https://bit.ly/arialnarrow\n",
      "\n",
      "Loading required package: viridisLite\n",
      "\n"
     ]
    }
   ],
   "source": [
    "# Libraries\n",
    "library(tidyverse)\n",
    "library(hrbrthemes)\n",
    "library(viridis)\n",
    "library(ggplot2)\n",
    "library(\"rjson\")"
   ]
  },
  {
   "cell_type": "code",
   "execution_count": 2,
   "metadata": {},
   "outputs": [],
   "source": [
    "dataset = \"atac\"\n",
    "metadata = read.table(\"/mnt/lab_data2/anusri/chrombpnet/model_dir_atac.csv\", sep=\",\", header=FALSE)\n",
    "colnames(metadata) = c(\"fold\", \"cell_type\", \"model_dir\")"
   ]
  },
  {
   "cell_type": "code",
   "execution_count": 3,
   "metadata": {},
   "outputs": [],
   "source": [
    "counts_peaks = list()\n",
    "counts_peaks_nonpeaks = list()\n",
    "profile_peaks = list()\n",
    "profile_peaks_nonpeaks = list(\n",
    ")\n",
    "for (i in 1:nrow(metadata)){\n",
    "        inputf = file.path(metadata[i,\"model_dir\"], \"chrombpnet_model/chrombpnet_metrics.json\")\n",
    "        result <- fromJSON(file = inputf)\n",
    "        counts_peaks = append(counts_peaks, result$counts_metrics$peaks$pearsonr)\n",
    "        counts_peaks_nonpeaks = append(counts_peaks_nonpeaks, result$counts_metrics$peaks_and_nonpeaks$pearsonr)\n",
    "        profile_peaks = append(profile_peaks, result$profile_metrics$peaks$median_norm_jsd)\n",
    "        profile_peaks_nonpeaks = append(profile_peaks_nonpeaks, result$profile_metrics$peaks_and_nonpeaks$median_norm_jsd)\n",
    "    \n",
    "}"
   ]
  },
  {
   "cell_type": "code",
   "execution_count": 4,
   "metadata": {},
   "outputs": [],
   "source": [
    "metadata$counts_pearsonr_in_peaks = as.numeric(counts_peaks)\n",
    "metadata$counts_pearsonr_in_peaks_nonpeaks = as.numeric(counts_peaks_nonpeaks)\n",
    "metadata$profile_jsd_in_peaks = as.numeric(profile_peaks)\n",
    "metadata$profile_jsd_in_peaks_nonpeaks = as.numeric(profile_peaks_nonpeaks)\n",
    "\n",
    "metadata$cell_type <- factor(metadata$cell_type , levels=c(\"HEPG2\", \"GM12878\", \"K562\", \"H1ESC\", \"IMR90\"))\n"
   ]
  },
  {
   "cell_type": "code",
   "execution_count": 5,
   "metadata": {},
   "outputs": [
    {
     "data": {
      "text/html": [
       "<table class=\"dataframe\">\n",
       "<caption>A data.frame: 6 × 7</caption>\n",
       "<thead>\n",
       "\t<tr><th></th><th scope=col>fold</th><th scope=col>cell_type</th><th scope=col>model_dir</th><th scope=col>counts_pearsonr_in_peaks</th><th scope=col>counts_pearsonr_in_peaks_nonpeaks</th><th scope=col>profile_jsd_in_peaks</th><th scope=col>profile_jsd_in_peaks_nonpeaks</th></tr>\n",
       "\t<tr><th></th><th scope=col>&lt;chr&gt;</th><th scope=col>&lt;fct&gt;</th><th scope=col>&lt;chr&gt;</th><th scope=col>&lt;dbl&gt;</th><th scope=col>&lt;dbl&gt;</th><th scope=col>&lt;dbl&gt;</th><th scope=col>&lt;dbl&gt;</th></tr>\n",
       "</thead>\n",
       "<tbody>\n",
       "\t<tr><th scope=row>1</th><td>fold_0</td><td>GM12878</td><td>/mnt/lab_data2/anusri/chrombpnet/results/chrombpnet/ATAC_PE/GM12878/nautilus_runs/GM12878_03.01.2022_bias_128_4_1234_0.4_fold_0                          </td><td>0.6330793</td><td>0.7397478</td><td>0.5165552</td><td>0.6932337</td></tr>\n",
       "\t<tr><th scope=row>2</th><td>fold_1</td><td>GM12878</td><td>/oak/stanford/groups/akundaje/projects/chromatin-atlas-2022/chrombpnet/folds/ATAC/GM12878/GM12878_07.08.2022_bias_128_4_1234_0.4_fold_1_data_type_ATAC_PE</td><td>0.6203872</td><td>0.7220585</td><td>0.5145949</td><td>0.6938937</td></tr>\n",
       "\t<tr><th scope=row>3</th><td>fold_2</td><td>GM12878</td><td>/oak/stanford/groups/akundaje/projects/chromatin-atlas-2022/chrombpnet/folds/ATAC/GM12878/GM12878_07.08.2022_bias_128_4_1234_0.4_fold_2_data_type_ATAC_PE</td><td>0.6564146</td><td>0.6928328</td><td>0.5159125</td><td>0.6850709</td></tr>\n",
       "\t<tr><th scope=row>4</th><td>fold_3</td><td>GM12878</td><td>/oak/stanford/groups/akundaje/projects/chromatin-atlas-2022/chrombpnet/folds/ATAC/GM12878/GM12878_07.14.2022_bias_128_4_1234_0.4_fold_3_data_type_ATAC_PE</td><td>0.6095498</td><td>0.7333907</td><td>0.5148285</td><td>0.6942917</td></tr>\n",
       "\t<tr><th scope=row>5</th><td>fold_4</td><td>GM12878</td><td>/oak/stanford/groups/akundaje/projects/chromatin-atlas-2022/chrombpnet/folds/ATAC/GM12878/GM12878_07.07.2022_bias_128_4_1234_0.4_fold_4_data_type_ATAC_PE</td><td>0.6474911</td><td>0.7183592</td><td>0.5084879</td><td>0.6928442</td></tr>\n",
       "\t<tr><th scope=row>6</th><td>fold_0</td><td>K562   </td><td>/mnt/lab_data2/anusri/chrombpnet/results/chrombpnet/ATAC_PE/K562/nautilus_runs/K562_02.17.2022_bias_128_4_1234_0.5_fold_0                                </td><td>0.6995219</td><td>0.6935474</td><td>0.5495312</td><td>0.6772173</td></tr>\n",
       "</tbody>\n",
       "</table>\n"
      ],
      "text/latex": [
       "A data.frame: 6 × 7\n",
       "\\begin{tabular}{r|lllllll}\n",
       "  & fold & cell\\_type & model\\_dir & counts\\_pearsonr\\_in\\_peaks & counts\\_pearsonr\\_in\\_peaks\\_nonpeaks & profile\\_jsd\\_in\\_peaks & profile\\_jsd\\_in\\_peaks\\_nonpeaks\\\\\n",
       "  & <chr> & <fct> & <chr> & <dbl> & <dbl> & <dbl> & <dbl>\\\\\n",
       "\\hline\n",
       "\t1 & fold\\_0 & GM12878 & /mnt/lab\\_data2/anusri/chrombpnet/results/chrombpnet/ATAC\\_PE/GM12878/nautilus\\_runs/GM12878\\_03.01.2022\\_bias\\_128\\_4\\_1234\\_0.4\\_fold\\_0                           & 0.6330793 & 0.7397478 & 0.5165552 & 0.6932337\\\\\n",
       "\t2 & fold\\_1 & GM12878 & /oak/stanford/groups/akundaje/projects/chromatin-atlas-2022/chrombpnet/folds/ATAC/GM12878/GM12878\\_07.08.2022\\_bias\\_128\\_4\\_1234\\_0.4\\_fold\\_1\\_data\\_type\\_ATAC\\_PE & 0.6203872 & 0.7220585 & 0.5145949 & 0.6938937\\\\\n",
       "\t3 & fold\\_2 & GM12878 & /oak/stanford/groups/akundaje/projects/chromatin-atlas-2022/chrombpnet/folds/ATAC/GM12878/GM12878\\_07.08.2022\\_bias\\_128\\_4\\_1234\\_0.4\\_fold\\_2\\_data\\_type\\_ATAC\\_PE & 0.6564146 & 0.6928328 & 0.5159125 & 0.6850709\\\\\n",
       "\t4 & fold\\_3 & GM12878 & /oak/stanford/groups/akundaje/projects/chromatin-atlas-2022/chrombpnet/folds/ATAC/GM12878/GM12878\\_07.14.2022\\_bias\\_128\\_4\\_1234\\_0.4\\_fold\\_3\\_data\\_type\\_ATAC\\_PE & 0.6095498 & 0.7333907 & 0.5148285 & 0.6942917\\\\\n",
       "\t5 & fold\\_4 & GM12878 & /oak/stanford/groups/akundaje/projects/chromatin-atlas-2022/chrombpnet/folds/ATAC/GM12878/GM12878\\_07.07.2022\\_bias\\_128\\_4\\_1234\\_0.4\\_fold\\_4\\_data\\_type\\_ATAC\\_PE & 0.6474911 & 0.7183592 & 0.5084879 & 0.6928442\\\\\n",
       "\t6 & fold\\_0 & K562    & /mnt/lab\\_data2/anusri/chrombpnet/results/chrombpnet/ATAC\\_PE/K562/nautilus\\_runs/K562\\_02.17.2022\\_bias\\_128\\_4\\_1234\\_0.5\\_fold\\_0                                 & 0.6995219 & 0.6935474 & 0.5495312 & 0.6772173\\\\\n",
       "\\end{tabular}\n"
      ],
      "text/markdown": [
       "\n",
       "A data.frame: 6 × 7\n",
       "\n",
       "| <!--/--> | fold &lt;chr&gt; | cell_type &lt;fct&gt; | model_dir &lt;chr&gt; | counts_pearsonr_in_peaks &lt;dbl&gt; | counts_pearsonr_in_peaks_nonpeaks &lt;dbl&gt; | profile_jsd_in_peaks &lt;dbl&gt; | profile_jsd_in_peaks_nonpeaks &lt;dbl&gt; |\n",
       "|---|---|---|---|---|---|---|---|\n",
       "| 1 | fold_0 | GM12878 | /mnt/lab_data2/anusri/chrombpnet/results/chrombpnet/ATAC_PE/GM12878/nautilus_runs/GM12878_03.01.2022_bias_128_4_1234_0.4_fold_0                           | 0.6330793 | 0.7397478 | 0.5165552 | 0.6932337 |\n",
       "| 2 | fold_1 | GM12878 | /oak/stanford/groups/akundaje/projects/chromatin-atlas-2022/chrombpnet/folds/ATAC/GM12878/GM12878_07.08.2022_bias_128_4_1234_0.4_fold_1_data_type_ATAC_PE | 0.6203872 | 0.7220585 | 0.5145949 | 0.6938937 |\n",
       "| 3 | fold_2 | GM12878 | /oak/stanford/groups/akundaje/projects/chromatin-atlas-2022/chrombpnet/folds/ATAC/GM12878/GM12878_07.08.2022_bias_128_4_1234_0.4_fold_2_data_type_ATAC_PE | 0.6564146 | 0.6928328 | 0.5159125 | 0.6850709 |\n",
       "| 4 | fold_3 | GM12878 | /oak/stanford/groups/akundaje/projects/chromatin-atlas-2022/chrombpnet/folds/ATAC/GM12878/GM12878_07.14.2022_bias_128_4_1234_0.4_fold_3_data_type_ATAC_PE | 0.6095498 | 0.7333907 | 0.5148285 | 0.6942917 |\n",
       "| 5 | fold_4 | GM12878 | /oak/stanford/groups/akundaje/projects/chromatin-atlas-2022/chrombpnet/folds/ATAC/GM12878/GM12878_07.07.2022_bias_128_4_1234_0.4_fold_4_data_type_ATAC_PE | 0.6474911 | 0.7183592 | 0.5084879 | 0.6928442 |\n",
       "| 6 | fold_0 | K562    | /mnt/lab_data2/anusri/chrombpnet/results/chrombpnet/ATAC_PE/K562/nautilus_runs/K562_02.17.2022_bias_128_4_1234_0.5_fold_0                                 | 0.6995219 | 0.6935474 | 0.5495312 | 0.6772173 |\n",
       "\n"
      ],
      "text/plain": [
       "  fold   cell_type\n",
       "1 fold_0 GM12878  \n",
       "2 fold_1 GM12878  \n",
       "3 fold_2 GM12878  \n",
       "4 fold_3 GM12878  \n",
       "5 fold_4 GM12878  \n",
       "6 fold_0 K562     \n",
       "  model_dir                                                                                                                                                \n",
       "1 /mnt/lab_data2/anusri/chrombpnet/results/chrombpnet/ATAC_PE/GM12878/nautilus_runs/GM12878_03.01.2022_bias_128_4_1234_0.4_fold_0                          \n",
       "2 /oak/stanford/groups/akundaje/projects/chromatin-atlas-2022/chrombpnet/folds/ATAC/GM12878/GM12878_07.08.2022_bias_128_4_1234_0.4_fold_1_data_type_ATAC_PE\n",
       "3 /oak/stanford/groups/akundaje/projects/chromatin-atlas-2022/chrombpnet/folds/ATAC/GM12878/GM12878_07.08.2022_bias_128_4_1234_0.4_fold_2_data_type_ATAC_PE\n",
       "4 /oak/stanford/groups/akundaje/projects/chromatin-atlas-2022/chrombpnet/folds/ATAC/GM12878/GM12878_07.14.2022_bias_128_4_1234_0.4_fold_3_data_type_ATAC_PE\n",
       "5 /oak/stanford/groups/akundaje/projects/chromatin-atlas-2022/chrombpnet/folds/ATAC/GM12878/GM12878_07.07.2022_bias_128_4_1234_0.4_fold_4_data_type_ATAC_PE\n",
       "6 /mnt/lab_data2/anusri/chrombpnet/results/chrombpnet/ATAC_PE/K562/nautilus_runs/K562_02.17.2022_bias_128_4_1234_0.5_fold_0                                \n",
       "  counts_pearsonr_in_peaks counts_pearsonr_in_peaks_nonpeaks\n",
       "1 0.6330793                0.7397478                        \n",
       "2 0.6203872                0.7220585                        \n",
       "3 0.6564146                0.6928328                        \n",
       "4 0.6095498                0.7333907                        \n",
       "5 0.6474911                0.7183592                        \n",
       "6 0.6995219                0.6935474                        \n",
       "  profile_jsd_in_peaks profile_jsd_in_peaks_nonpeaks\n",
       "1 0.5165552            0.6932337                    \n",
       "2 0.5145949            0.6938937                    \n",
       "3 0.5159125            0.6850709                    \n",
       "4 0.5148285            0.6942917                    \n",
       "5 0.5084879            0.6928442                    \n",
       "6 0.5495312            0.6772173                    "
      ]
     },
     "metadata": {},
     "output_type": "display_data"
    }
   ],
   "source": [
    "head(metadata)\n",
    "metadata_atac = metadata"
   ]
  },
  {
   "cell_type": "code",
   "execution_count": 6,
   "metadata": {},
   "outputs": [],
   "source": [
    "dataset = \"atac\"\n",
    "metadata = read.table(\"/mnt/lab_data2/anusri/chrombpnet/model_dir_dnase.csv\", sep=\",\", header=FALSE)\n",
    "colnames(metadata) = c(\"fold\", \"cell_type\", \"model_dir\")"
   ]
  },
  {
   "cell_type": "code",
   "execution_count": 7,
   "metadata": {},
   "outputs": [],
   "source": [
    "counts_peaks = list()\n",
    "counts_peaks_nonpeaks = list()\n",
    "profile_peaks = list()\n",
    "profile_peaks_nonpeaks = list(\n",
    ")\n",
    "for (i in 1:nrow(metadata)){\n",
    "        inputf = file.path(metadata[i,\"model_dir\"], \"chrombpnet_model/chrombpnet_metrics.json\")\n",
    "        result <- fromJSON(file = inputf)\n",
    "        counts_peaks = append(counts_peaks, result$counts_metrics$peaks$pearsonr)\n",
    "        counts_peaks_nonpeaks = append(counts_peaks_nonpeaks, result$counts_metrics$peaks_and_nonpeaks$pearsonr)\n",
    "        profile_peaks = append(profile_peaks, result$profile_metrics$peaks$median_norm_jsd)\n",
    "        profile_peaks_nonpeaks = append(profile_peaks_nonpeaks, result$profile_metrics$peaks_and_nonpeaks$median_norm_jsd)\n",
    "    \n",
    "}"
   ]
  },
  {
   "cell_type": "code",
   "execution_count": 8,
   "metadata": {},
   "outputs": [],
   "source": [
    "metadata$counts_pearsonr_in_peaks = as.numeric(counts_peaks)\n",
    "metadata$counts_pearsonr_in_peaks_nonpeaks = as.numeric(counts_peaks_nonpeaks)\n",
    "metadata$profile_jsd_in_peaks = as.numeric(profile_peaks)\n",
    "metadata$profile_jsd_in_peaks_nonpeaks = as.numeric(profile_peaks_nonpeaks)\n",
    "\n",
    "metadata$cell_type <- factor(metadata$cell_type , levels=c(\"HEPG2\", \"GM12878\", \"K562\", \"H1ESC\", \"IMR90\"))\n"
   ]
  },
  {
   "cell_type": "code",
   "execution_count": 9,
   "metadata": {},
   "outputs": [
    {
     "data": {
      "text/html": [
       "<table class=\"dataframe\">\n",
       "<caption>A data.frame: 6 × 7</caption>\n",
       "<thead>\n",
       "\t<tr><th></th><th scope=col>fold</th><th scope=col>cell_type</th><th scope=col>model_dir</th><th scope=col>counts_pearsonr_in_peaks</th><th scope=col>counts_pearsonr_in_peaks_nonpeaks</th><th scope=col>profile_jsd_in_peaks</th><th scope=col>profile_jsd_in_peaks_nonpeaks</th></tr>\n",
       "\t<tr><th></th><th scope=col>&lt;chr&gt;</th><th scope=col>&lt;fct&gt;</th><th scope=col>&lt;chr&gt;</th><th scope=col>&lt;dbl&gt;</th><th scope=col>&lt;dbl&gt;</th><th scope=col>&lt;dbl&gt;</th><th scope=col>&lt;dbl&gt;</th></tr>\n",
       "</thead>\n",
       "<tbody>\n",
       "\t<tr><th scope=row>1</th><td>fold_0</td><td>GM12878</td><td>/mnt/lab_data2/anusri/chrombpnet/results/chrombpnet/DNASE_SE/GM12878/nautilus_runs/GM12878_03.06.2022_bias_128_4_1234_0.8_fold_0                           </td><td>0.5985642</td><td>0.7416640</td><td>0.9151989</td><td>0.9716407</td></tr>\n",
       "\t<tr><th scope=row>2</th><td>fold_1</td><td>GM12878</td><td>/oak/stanford/groups/akundaje/projects/chromatin-atlas-2022/chrombpnet/folds/DNASE/GM12878/GM12878_07.07.2022_bias_128_4_1234_0.8_fold_1_data_type_DNASE_SE</td><td>0.5439613</td><td>0.6409521</td><td>0.9184065</td><td>0.9718094</td></tr>\n",
       "\t<tr><th scope=row>3</th><td>fold_2</td><td>GM12878</td><td>/oak/stanford/groups/akundaje/projects/chromatin-atlas-2022/chrombpnet/folds/DNASE/GM12878/GM12878_07.07.2022_bias_128_4_1234_0.8_fold_2_data_type_DNASE_SE</td><td>0.6070512</td><td>0.7093642</td><td>0.9185302</td><td>0.9707566</td></tr>\n",
       "\t<tr><th scope=row>4</th><td>fold_3</td><td>GM12878</td><td>/oak/stanford/groups/akundaje/projects/chromatin-atlas-2022/chrombpnet/folds/DNASE/GM12878/GM12878_07.07.2022_bias_128_4_1234_0.8_fold_3_data_type_DNASE_SE</td><td>0.5740699</td><td>0.6928550</td><td>0.9165740</td><td>0.9721315</td></tr>\n",
       "\t<tr><th scope=row>5</th><td>fold_4</td><td>GM12878</td><td>/oak/stanford/groups/akundaje/projects/chromatin-atlas-2022/chrombpnet/folds/DNASE/GM12878/GM12878_07.07.2022_bias_128_4_1234_0.8_fold_4_data_type_DNASE_SE</td><td>0.5907282</td><td>0.6426933</td><td>0.9154740</td><td>0.9711040</td></tr>\n",
       "\t<tr><th scope=row>6</th><td>fold_0</td><td>K562   </td><td>/mnt/lab_data2/anusri/chrombpnet/results/chrombpnet/DNASE_PE/K562/nautilus_runs_may18/K562_05.13.2022_bias_128_4_1234_0.5_fold_0/                          </td><td>0.7088595</td><td>0.7220958</td><td>0.8450209</td><td>0.9468503</td></tr>\n",
       "</tbody>\n",
       "</table>\n"
      ],
      "text/latex": [
       "A data.frame: 6 × 7\n",
       "\\begin{tabular}{r|lllllll}\n",
       "  & fold & cell\\_type & model\\_dir & counts\\_pearsonr\\_in\\_peaks & counts\\_pearsonr\\_in\\_peaks\\_nonpeaks & profile\\_jsd\\_in\\_peaks & profile\\_jsd\\_in\\_peaks\\_nonpeaks\\\\\n",
       "  & <chr> & <fct> & <chr> & <dbl> & <dbl> & <dbl> & <dbl>\\\\\n",
       "\\hline\n",
       "\t1 & fold\\_0 & GM12878 & /mnt/lab\\_data2/anusri/chrombpnet/results/chrombpnet/DNASE\\_SE/GM12878/nautilus\\_runs/GM12878\\_03.06.2022\\_bias\\_128\\_4\\_1234\\_0.8\\_fold\\_0                            & 0.5985642 & 0.7416640 & 0.9151989 & 0.9716407\\\\\n",
       "\t2 & fold\\_1 & GM12878 & /oak/stanford/groups/akundaje/projects/chromatin-atlas-2022/chrombpnet/folds/DNASE/GM12878/GM12878\\_07.07.2022\\_bias\\_128\\_4\\_1234\\_0.8\\_fold\\_1\\_data\\_type\\_DNASE\\_SE & 0.5439613 & 0.6409521 & 0.9184065 & 0.9718094\\\\\n",
       "\t3 & fold\\_2 & GM12878 & /oak/stanford/groups/akundaje/projects/chromatin-atlas-2022/chrombpnet/folds/DNASE/GM12878/GM12878\\_07.07.2022\\_bias\\_128\\_4\\_1234\\_0.8\\_fold\\_2\\_data\\_type\\_DNASE\\_SE & 0.6070512 & 0.7093642 & 0.9185302 & 0.9707566\\\\\n",
       "\t4 & fold\\_3 & GM12878 & /oak/stanford/groups/akundaje/projects/chromatin-atlas-2022/chrombpnet/folds/DNASE/GM12878/GM12878\\_07.07.2022\\_bias\\_128\\_4\\_1234\\_0.8\\_fold\\_3\\_data\\_type\\_DNASE\\_SE & 0.5740699 & 0.6928550 & 0.9165740 & 0.9721315\\\\\n",
       "\t5 & fold\\_4 & GM12878 & /oak/stanford/groups/akundaje/projects/chromatin-atlas-2022/chrombpnet/folds/DNASE/GM12878/GM12878\\_07.07.2022\\_bias\\_128\\_4\\_1234\\_0.8\\_fold\\_4\\_data\\_type\\_DNASE\\_SE & 0.5907282 & 0.6426933 & 0.9154740 & 0.9711040\\\\\n",
       "\t6 & fold\\_0 & K562    & /mnt/lab\\_data2/anusri/chrombpnet/results/chrombpnet/DNASE\\_PE/K562/nautilus\\_runs\\_may18/K562\\_05.13.2022\\_bias\\_128\\_4\\_1234\\_0.5\\_fold\\_0/                           & 0.7088595 & 0.7220958 & 0.8450209 & 0.9468503\\\\\n",
       "\\end{tabular}\n"
      ],
      "text/markdown": [
       "\n",
       "A data.frame: 6 × 7\n",
       "\n",
       "| <!--/--> | fold &lt;chr&gt; | cell_type &lt;fct&gt; | model_dir &lt;chr&gt; | counts_pearsonr_in_peaks &lt;dbl&gt; | counts_pearsonr_in_peaks_nonpeaks &lt;dbl&gt; | profile_jsd_in_peaks &lt;dbl&gt; | profile_jsd_in_peaks_nonpeaks &lt;dbl&gt; |\n",
       "|---|---|---|---|---|---|---|---|\n",
       "| 1 | fold_0 | GM12878 | /mnt/lab_data2/anusri/chrombpnet/results/chrombpnet/DNASE_SE/GM12878/nautilus_runs/GM12878_03.06.2022_bias_128_4_1234_0.8_fold_0                            | 0.5985642 | 0.7416640 | 0.9151989 | 0.9716407 |\n",
       "| 2 | fold_1 | GM12878 | /oak/stanford/groups/akundaje/projects/chromatin-atlas-2022/chrombpnet/folds/DNASE/GM12878/GM12878_07.07.2022_bias_128_4_1234_0.8_fold_1_data_type_DNASE_SE | 0.5439613 | 0.6409521 | 0.9184065 | 0.9718094 |\n",
       "| 3 | fold_2 | GM12878 | /oak/stanford/groups/akundaje/projects/chromatin-atlas-2022/chrombpnet/folds/DNASE/GM12878/GM12878_07.07.2022_bias_128_4_1234_0.8_fold_2_data_type_DNASE_SE | 0.6070512 | 0.7093642 | 0.9185302 | 0.9707566 |\n",
       "| 4 | fold_3 | GM12878 | /oak/stanford/groups/akundaje/projects/chromatin-atlas-2022/chrombpnet/folds/DNASE/GM12878/GM12878_07.07.2022_bias_128_4_1234_0.8_fold_3_data_type_DNASE_SE | 0.5740699 | 0.6928550 | 0.9165740 | 0.9721315 |\n",
       "| 5 | fold_4 | GM12878 | /oak/stanford/groups/akundaje/projects/chromatin-atlas-2022/chrombpnet/folds/DNASE/GM12878/GM12878_07.07.2022_bias_128_4_1234_0.8_fold_4_data_type_DNASE_SE | 0.5907282 | 0.6426933 | 0.9154740 | 0.9711040 |\n",
       "| 6 | fold_0 | K562    | /mnt/lab_data2/anusri/chrombpnet/results/chrombpnet/DNASE_PE/K562/nautilus_runs_may18/K562_05.13.2022_bias_128_4_1234_0.5_fold_0/                           | 0.7088595 | 0.7220958 | 0.8450209 | 0.9468503 |\n",
       "\n"
      ],
      "text/plain": [
       "  fold   cell_type\n",
       "1 fold_0 GM12878  \n",
       "2 fold_1 GM12878  \n",
       "3 fold_2 GM12878  \n",
       "4 fold_3 GM12878  \n",
       "5 fold_4 GM12878  \n",
       "6 fold_0 K562     \n",
       "  model_dir                                                                                                                                                  \n",
       "1 /mnt/lab_data2/anusri/chrombpnet/results/chrombpnet/DNASE_SE/GM12878/nautilus_runs/GM12878_03.06.2022_bias_128_4_1234_0.8_fold_0                           \n",
       "2 /oak/stanford/groups/akundaje/projects/chromatin-atlas-2022/chrombpnet/folds/DNASE/GM12878/GM12878_07.07.2022_bias_128_4_1234_0.8_fold_1_data_type_DNASE_SE\n",
       "3 /oak/stanford/groups/akundaje/projects/chromatin-atlas-2022/chrombpnet/folds/DNASE/GM12878/GM12878_07.07.2022_bias_128_4_1234_0.8_fold_2_data_type_DNASE_SE\n",
       "4 /oak/stanford/groups/akundaje/projects/chromatin-atlas-2022/chrombpnet/folds/DNASE/GM12878/GM12878_07.07.2022_bias_128_4_1234_0.8_fold_3_data_type_DNASE_SE\n",
       "5 /oak/stanford/groups/akundaje/projects/chromatin-atlas-2022/chrombpnet/folds/DNASE/GM12878/GM12878_07.07.2022_bias_128_4_1234_0.8_fold_4_data_type_DNASE_SE\n",
       "6 /mnt/lab_data2/anusri/chrombpnet/results/chrombpnet/DNASE_PE/K562/nautilus_runs_may18/K562_05.13.2022_bias_128_4_1234_0.5_fold_0/                          \n",
       "  counts_pearsonr_in_peaks counts_pearsonr_in_peaks_nonpeaks\n",
       "1 0.5985642                0.7416640                        \n",
       "2 0.5439613                0.6409521                        \n",
       "3 0.6070512                0.7093642                        \n",
       "4 0.5740699                0.6928550                        \n",
       "5 0.5907282                0.6426933                        \n",
       "6 0.7088595                0.7220958                        \n",
       "  profile_jsd_in_peaks profile_jsd_in_peaks_nonpeaks\n",
       "1 0.9151989            0.9716407                    \n",
       "2 0.9184065            0.9718094                    \n",
       "3 0.9185302            0.9707566                    \n",
       "4 0.9165740            0.9721315                    \n",
       "5 0.9154740            0.9711040                    \n",
       "6 0.8450209            0.9468503                    "
      ]
     },
     "metadata": {},
     "output_type": "display_data"
    }
   ],
   "source": [
    "head(metadata)\n",
    "metadata_dnase = metadata"
   ]
  },
  {
   "cell_type": "code",
   "execution_count": 15,
   "metadata": {},
   "outputs": [],
   "source": [
    "combine_perf_counts = c(metadata_atac$counts_pearsonr_in_peaks,metadata_dnase$counts_pearsonr_in_peaks)  \n"
   ]
  },
  {
   "cell_type": "code",
   "execution_count": 17,
   "metadata": {},
   "outputs": [
    {
     "data": {
      "text/html": [
       "0.69"
      ],
      "text/latex": [
       "0.69"
      ],
      "text/markdown": [
       "0.69"
      ],
      "text/plain": [
       "[1] 0.69"
      ]
     },
     "metadata": {},
     "output_type": "display_data"
    }
   ],
   "source": [
    "round(median(combine_perf_counts),2)"
   ]
  },
  {
   "cell_type": "code",
   "execution_count": null,
   "metadata": {},
   "outputs": [],
   "source": []
  }
 ],
 "metadata": {
  "kernelspec": {
   "display_name": "R",
   "language": "R",
   "name": "ir"
  },
  "language_info": {
   "codemirror_mode": "r",
   "file_extension": ".r",
   "mimetype": "text/x-r-source",
   "name": "R",
   "pygments_lexer": "r",
   "version": "4.0.3"
  }
 },
 "nbformat": 4,
 "nbformat_minor": 4
}
