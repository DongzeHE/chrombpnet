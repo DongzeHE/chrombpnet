{
 "cells": [
  {
   "cell_type": "code",
   "execution_count": 1,
   "metadata": {},
   "outputs": [],
   "source": [
    "import pandas as pd\n",
    "from sklearn.metrics import precision_recall_curve\n",
    "from sklearn.metrics import roc_curve\n",
    "from sklearn.metrics import RocCurveDisplay\n",
    "import pandas as pd\n",
    "import matplotlib.pyplot as plt\n",
    "import numpy as np\n",
    "from sklearn import metrics\n",
    "import matplotlib.pyplot as plt\n",
    "import matplotlib\n",
    "import random\n",
    "import os\n",
    "import argparse\n",
    "from sklearn.metrics import precision_recall_curve\n",
    "\n",
    "matplotlib.rcParams['pdf.fonttype'] = 42\n",
    "matplotlib.rcParams['ps.fonttype'] = 42 \n",
    "\n",
    "dnase_preds=\"/mnt/lab_data2/anusri/chrombpnet/results/chrombpnet/DNASE_SE/GM12878/nautilus_runs/GM12878_03.06.2022_bias_128_4_1234_0.8_fold_0/dsqtl_preds/snp_scores.tsv\"\n",
    "atac_preds=\"/mnt/lab_data2/anusri/chrombpnet/results/chrombpnet/ATAC_PE/GM12878/nautilus_runs/GM12878_03.01.2022_bias_128_4_1234_0.4_fold_0/dsqtl_preds/snp_scores.tsv\""
   ]
  },
  {
   "cell_type": "code",
   "execution_count": null,
   "metadata": {},
   "outputs": [],
   "source": []
  },
  {
   "cell_type": "code",
   "execution_count": 2,
   "metadata": {},
   "outputs": [],
   "source": [
    "dsqtls_dnase = pd.read_csv(dnase_preds,sep=\"\\t\", header=0, index_col=False)\n",
    "dsqtls_dnase[['gkm_SVM','kmer_SVM','abs_gkm_SVM','abs_kmer_SVM','CADD','GWAVA_region','GWAVA_tss','GWAVA_unmatched','GERP','label']] = dsqtls_dnase['META_DATA'].str.split(\",\", expand=True)\n",
    "\n",
    "dsqtls_atac = pd.read_csv(atac_preds,sep=\"\\t\", header=0, index_col=False)\n",
    "dsqtls_atac[['gkm_SVM','kmer_SVM','abs_gkm_SVM','abs_kmer_SVM','CADD','GWAVA_region','GWAVA_tss','GWAVA_unmatched','GERP','label']] = dsqtls_atac['META_DATA'].str.split(\",\", expand=True)\n",
    "\n"
   ]
  },
  {
   "cell_type": "code",
   "execution_count": null,
   "metadata": {},
   "outputs": [],
   "source": []
  },
  {
   "cell_type": "code",
   "execution_count": 3,
   "metadata": {},
   "outputs": [],
   "source": [
    "dsqtls_atac[\"label\"] = dsqtls_atac[\"label\"].astype(int)\n",
    "dsqtls_atac[\"abs_gkm_SVM\"] = dsqtls_atac[\"abs_gkm_SVM\"].astype(float)\n",
    "\n",
    "dsqtls_dnase[\"label\"] = dsqtls_dnase[\"label\"].astype(int)\n",
    "dsqtls_dnase[\"abs_gkm_SVM\"] = dsqtls_dnase[\"abs_gkm_SVM\"].astype(float)\n"
   ]
  },
  {
   "cell_type": "code",
   "execution_count": 5,
   "metadata": {},
   "outputs": [
    {
     "data": {
      "text/html": [
       "<div>\n",
       "<style scoped>\n",
       "    .dataframe tbody tr th:only-of-type {\n",
       "        vertical-align: middle;\n",
       "    }\n",
       "\n",
       "    .dataframe tbody tr th {\n",
       "        vertical-align: top;\n",
       "    }\n",
       "\n",
       "    .dataframe thead th {\n",
       "        text-align: right;\n",
       "    }\n",
       "</style>\n",
       "<table border=\"1\" class=\"dataframe\">\n",
       "  <thead>\n",
       "    <tr style=\"text-align: right;\">\n",
       "      <th></th>\n",
       "      <th>CHR</th>\n",
       "      <th>POS0</th>\n",
       "      <th>REF</th>\n",
       "      <th>ALT</th>\n",
       "      <th>META_DATA</th>\n",
       "      <th>log_counts_diff</th>\n",
       "      <th>log_probs_diff_abs_sum</th>\n",
       "      <th>probs_jsd_diff</th>\n",
       "      <th>gkm_SVM</th>\n",
       "      <th>kmer_SVM</th>\n",
       "      <th>abs_gkm_SVM</th>\n",
       "      <th>abs_kmer_SVM</th>\n",
       "      <th>CADD</th>\n",
       "      <th>GWAVA_region</th>\n",
       "      <th>GWAVA_tss</th>\n",
       "      <th>GWAVA_unmatched</th>\n",
       "      <th>GERP</th>\n",
       "      <th>label</th>\n",
       "    </tr>\n",
       "  </thead>\n",
       "  <tbody>\n",
       "    <tr>\n",
       "      <th>0</th>\n",
       "      <td>chr1</td>\n",
       "      <td>846445</td>\n",
       "      <td>A</td>\n",
       "      <td>G</td>\n",
       "      <td>2.653531,7.938784,2.653531,7.938784,-1.522533,...</td>\n",
       "      <td>-0.341796</td>\n",
       "      <td>-271.06506</td>\n",
       "      <td>-0.109347</td>\n",
       "      <td>2.653531</td>\n",
       "      <td>7.938784</td>\n",
       "      <td>2.653531</td>\n",
       "      <td>7.938784</td>\n",
       "      <td>-1.522533</td>\n",
       "      <td>0.48</td>\n",
       "      <td>0.53</td>\n",
       "      <td>0.75</td>\n",
       "      <td>-0.682</td>\n",
       "      <td>1</td>\n",
       "    </tr>\n",
       "    <tr>\n",
       "      <th>1</th>\n",
       "      <td>chr1</td>\n",
       "      <td>901457</td>\n",
       "      <td>G</td>\n",
       "      <td>A</td>\n",
       "      <td>2.821422,6.027648,2.821422,6.027648,1.739152,0...</td>\n",
       "      <td>0.193605</td>\n",
       "      <td>172.31250</td>\n",
       "      <td>0.078106</td>\n",
       "      <td>2.821422</td>\n",
       "      <td>6.027648</td>\n",
       "      <td>2.821422</td>\n",
       "      <td>6.027648</td>\n",
       "      <td>1.739152</td>\n",
       "      <td>0.29</td>\n",
       "      <td>0.36</td>\n",
       "      <td>0.89</td>\n",
       "      <td>2.15</td>\n",
       "      <td>1</td>\n",
       "    </tr>\n",
       "    <tr>\n",
       "      <th>2</th>\n",
       "      <td>chr1</td>\n",
       "      <td>1176364</td>\n",
       "      <td>T</td>\n",
       "      <td>A</td>\n",
       "      <td>-7.167236,-10.870018,7.167236,10.870018,-0.091...</td>\n",
       "      <td>0.410028</td>\n",
       "      <td>151.35158</td>\n",
       "      <td>0.065117</td>\n",
       "      <td>-7.167236</td>\n",
       "      <td>-10.870018</td>\n",
       "      <td>7.167236</td>\n",
       "      <td>10.870018</td>\n",
       "      <td>-0.091378</td>\n",
       "      <td>0.42</td>\n",
       "      <td>0.49</td>\n",
       "      <td>0.66</td>\n",
       "      <td>0.451</td>\n",
       "      <td>1</td>\n",
       "    </tr>\n",
       "    <tr>\n",
       "      <th>3</th>\n",
       "      <td>chr1</td>\n",
       "      <td>1217274</td>\n",
       "      <td>A</td>\n",
       "      <td>G</td>\n",
       "      <td>-3.957382,2.387491,3.957382,2.387491,1.127472,...</td>\n",
       "      <td>0.902642</td>\n",
       "      <td>587.30383</td>\n",
       "      <td>0.263455</td>\n",
       "      <td>-3.957382</td>\n",
       "      <td>2.387491</td>\n",
       "      <td>3.957382</td>\n",
       "      <td>2.387491</td>\n",
       "      <td>1.127472</td>\n",
       "      <td>0.34</td>\n",
       "      <td>0.43</td>\n",
       "      <td>0.49</td>\n",
       "      <td>2.43</td>\n",
       "      <td>1</td>\n",
       "    </tr>\n",
       "    <tr>\n",
       "      <th>4</th>\n",
       "      <td>chr1</td>\n",
       "      <td>1580437</td>\n",
       "      <td>A</td>\n",
       "      <td>G</td>\n",
       "      <td>-4.785596,-6.827102,4.785596,6.827102,0.665464...</td>\n",
       "      <td>0.268798</td>\n",
       "      <td>121.87872</td>\n",
       "      <td>0.078786</td>\n",
       "      <td>-4.785596</td>\n",
       "      <td>-6.827102</td>\n",
       "      <td>4.785596</td>\n",
       "      <td>6.827102</td>\n",
       "      <td>0.665464</td>\n",
       "      <td>0.38</td>\n",
       "      <td>0.35</td>\n",
       "      <td>0.86</td>\n",
       "      <td>1.64</td>\n",
       "      <td>1</td>\n",
       "    </tr>\n",
       "  </tbody>\n",
       "</table>\n",
       "</div>"
      ],
      "text/plain": [
       "    CHR     POS0 REF ALT                                          META_DATA  \\\n",
       "0  chr1   846445   A   G  2.653531,7.938784,2.653531,7.938784,-1.522533,...   \n",
       "1  chr1   901457   G   A  2.821422,6.027648,2.821422,6.027648,1.739152,0...   \n",
       "2  chr1  1176364   T   A  -7.167236,-10.870018,7.167236,10.870018,-0.091...   \n",
       "3  chr1  1217274   A   G  -3.957382,2.387491,3.957382,2.387491,1.127472,...   \n",
       "4  chr1  1580437   A   G  -4.785596,-6.827102,4.785596,6.827102,0.665464...   \n",
       "\n",
       "   log_counts_diff  log_probs_diff_abs_sum  probs_jsd_diff    gkm_SVM  \\\n",
       "0        -0.341796              -271.06506       -0.109347   2.653531   \n",
       "1         0.193605               172.31250        0.078106   2.821422   \n",
       "2         0.410028               151.35158        0.065117  -7.167236   \n",
       "3         0.902642               587.30383        0.263455  -3.957382   \n",
       "4         0.268798               121.87872        0.078786  -4.785596   \n",
       "\n",
       "     kmer_SVM  abs_gkm_SVM abs_kmer_SVM       CADD GWAVA_region GWAVA_tss  \\\n",
       "0    7.938784     2.653531     7.938784  -1.522533         0.48      0.53   \n",
       "1    6.027648     2.821422     6.027648   1.739152         0.29      0.36   \n",
       "2  -10.870018     7.167236    10.870018  -0.091378         0.42      0.49   \n",
       "3    2.387491     3.957382     2.387491   1.127472         0.34      0.43   \n",
       "4   -6.827102     4.785596     6.827102   0.665464         0.38      0.35   \n",
       "\n",
       "  GWAVA_unmatched    GERP  label  \n",
       "0            0.75  -0.682      1  \n",
       "1            0.89    2.15      1  \n",
       "2            0.66   0.451      1  \n",
       "3            0.49    2.43      1  \n",
       "4            0.86    1.64      1  "
      ]
     },
     "execution_count": 5,
     "metadata": {},
     "output_type": "execute_result"
    }
   ],
   "source": [
    "dsqtls_atac.head()"
   ]
  },
  {
   "cell_type": "code",
   "execution_count": 6,
   "metadata": {},
   "outputs": [
    {
     "data": {
      "text/plain": [
       "574"
      ]
     },
     "execution_count": 6,
     "metadata": {},
     "output_type": "execute_result"
    }
   ],
   "source": [
    "sum(dsqtls_atac[\"label\"]==1)"
   ]
  },
  {
   "cell_type": "code",
   "execution_count": 9,
   "metadata": {},
   "outputs": [
    {
     "name": "stdout",
     "output_type": "stream",
     "text": [
      "28308 574\n"
     ]
    },
    {
     "data": {
      "image/png": "[encoded data removed]",
      "text/plain": [
       "<Figure size 432x288 with 1 Axes>"
      ]
     },
     "metadata": {
      "needs_background": "light"
     },
     "output_type": "display_data"
    }
   ],
   "source": [
    "dsqtl=dsqtls_atac\n",
    "\n",
    "fpr_chrombpnet, tpr_chrombpnet, _ = precision_recall_curve(dsqtl[\"label\"], abs(dsqtl[\"log_probs_diff_abs_sum\"]))\n",
    "roc_auc = metrics.average_precision_score(dsqtl[\"label\"], abs(dsqtl[\"log_probs_diff_abs_sum\"]))\n",
    "plt.plot(tpr_chrombpnet,fpr_chrombpnet,  linewidth=2, label=\"ChromBPnet profile VarScore, AP=\"+str(round(roc_auc,2)))\n",
    "\n",
    "fpr_chrombpnet, tpr_chrombpnet, _ = precision_recall_curve(dsqtl[\"label\"], abs(dsqtl[\"log_counts_diff\"]))\n",
    "roc_auc = metrics.average_precision_score(dsqtl[\"label\"], abs(dsqtl[\"log_counts_diff\"]))\n",
    "plt.plot(tpr_chrombpnet,fpr_chrombpnet,  linewidth=2, label=\"Chrom-BPnet counts VarScore, AP=\"+str(round(roc_auc,2)))\n",
    "\n",
    "fpr_gkm, tpr_gkm, _ = precision_recall_curve(dsqtl[\"label\"],abs(dsqtl[\"abs_gkm_SVM\"]))\n",
    "roc_auc = metrics.average_precision_score(dsqtl[\"label\"], abs(dsqtl[\"abs_gkm_SVM\"]))\n",
    "plt.plot(tpr_gkm, fpr_gkm, linewidth=2, label=\"gkm SVM (from deltaSVM paper), AP=\"+str(round(roc_auc,2)))\n",
    "\n",
    "in1 = list(dsqtl[\"label\"])\n",
    "random.shuffle(in1)\n",
    "in1=np.array(in1)\n",
    "\n",
    "fpr_random, tpr_random, _ = precision_recall_curve(dsqtl[\"label\"], in1)\n",
    "roc_auc = metrics.average_precision_score(dsqtl[\"label\"], in1)\n",
    "plt.plot(tpr_random, [sum(dsqtl[\"label\"]==1)/len(dsqtl[\"label\"])]*len(fpr_random), linewidth=2, label=\"random baseline, AP=\"+str(round(roc_auc,2)))\n",
    "\n",
    "print(len(dsqtl[\"label\"]), sum(dsqtl[\"label\"]==1))\n",
    "plt.legend(loc='upper right')\n",
    "plt.xlabel(\"Recall\")\n",
    "plt.ylabel(\"Precision\")\n",
    "\n",
    "#plt.savefig(\"pr_curve_atac_dsqtls_gm.pdf\")\n",
    "plt.savefig(\"subfigs/pr_curve_atac_dsqtls_gm.pdf\", transparent=True, dpi=300)\n",
    "\n"
   ]
  },
  {
   "cell_type": "code",
   "execution_count": 10,
   "metadata": {},
   "outputs": [
    {
     "name": "stdout",
     "output_type": "stream",
     "text": [
      "28308 574\n"
     ]
    },
    {
     "data": {
      "image/png": "[encoded data removed]",
      "text/plain": [
       "<Figure size 432x288 with 1 Axes>"
      ]
     },
     "metadata": {
      "needs_background": "light"
     },
     "output_type": "display_data"
    }
   ],
   "source": [
    "dsqtl= dsqtls_dnase\n",
    "\n",
    "fpr_chrombpnet, tpr_chrombpnet, _ = precision_recall_curve(dsqtl[\"label\"], abs(dsqtl[\"log_probs_diff_abs_sum\"]))\n",
    "roc_auc = metrics.average_precision_score(dsqtl[\"label\"], abs(dsqtl[\"log_probs_diff_abs_sum\"]))\n",
    "plt.plot(tpr_chrombpnet,fpr_chrombpnet,  linewidth=2, label=\"Chrom-BPnet profile VarScore, AP=\"+str(round(roc_auc,2)))\n",
    "\n",
    "fpr_chrombpnet, tpr_chrombpnet, _ = precision_recall_curve(dsqtl[\"label\"], abs(dsqtl[\"log_counts_diff\"]))\n",
    "roc_auc = metrics.average_precision_score(dsqtl[\"label\"], abs(dsqtl[\"log_counts_diff\"]))\n",
    "plt.plot(tpr_chrombpnet,fpr_chrombpnet,  linewidth=2, label=\"Chrom-BPnet counts VarScore, AP=\"+str(round(roc_auc,2)))\n",
    "\n",
    "fpr_gkm, tpr_gkm, _ = precision_recall_curve(dsqtl[\"label\"],abs(dsqtl[\"abs_gkm_SVM\"]))\n",
    "roc_auc = metrics.average_precision_score(dsqtl[\"label\"], abs(dsqtl[\"abs_gkm_SVM\"]))\n",
    "plt.plot(tpr_gkm, fpr_gkm, linewidth=2, label=\"gkm SVM (from deltaSVM paper), AP=\"+str(round(roc_auc,2)))\n",
    "\n",
    "in1 = list(dsqtl[\"label\"])\n",
    "random.shuffle(in1)\n",
    "in1=np.array(in1)\n",
    "\n",
    "fpr_random, tpr_random, _ = precision_recall_curve(dsqtl[\"label\"], in1)\n",
    "roc_auc = metrics.average_precision_score(dsqtl[\"label\"], in1)\n",
    "plt.plot(tpr_random, [sum(dsqtl[\"label\"]==1)/len(dsqtl[\"label\"])]*len(fpr_random), linewidth=2, label=\"random baseline, AP=\"+str(round(roc_auc,2)))\n",
    "\n",
    "print(len(dsqtl[\"label\"]), sum(dsqtl[\"label\"]==1))\n",
    "plt.legend(loc='upper right')\n",
    "plt.xlabel(\"Recall\")\n",
    "plt.ylabel(\"Precision\")\n",
    "\n",
    "plt.savefig(\"subfigs/pr_curve_dnase_dsqtls_gm.pdf\", transparent=True, dpi=300)\n"
   ]
  },
  {
   "cell_type": "code",
   "execution_count": null,
   "metadata": {},
   "outputs": [],
   "source": []
  },
  {
   "cell_type": "code",
   "execution_count": null,
   "metadata": {},
   "outputs": [],
   "source": []
  }
 ],
 "metadata": {
  "kernelspec": {
   "display_name": "Python 3",
   "language": "python",
   "name": "python3"
  },
  "language_info": {
   "codemirror_mode": {
    "name": "ipython",
    "version": 3
   },
   "file_extension": ".py",
   "mimetype": "text/x-python",
   "name": "python",
   "nbconvert_exporter": "python",
   "pygments_lexer": "ipython3",
   "version": "3.7.6"
  }
 },
 "nbformat": 4,
 "nbformat_minor": 4
}
