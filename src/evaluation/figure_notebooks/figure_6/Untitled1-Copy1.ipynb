{
 "cells": [
  {
   "cell_type": "code",
   "execution_count": 13,
   "metadata": {},
   "outputs": [],
   "source": [
    "import pandas as pd\n",
    "enformer_preds = \"/mnt/lab_data2/anusri/chrombpnet/results/variant_data/dsqtls/process/with_wnformer_preds.csv\""
   ]
  },
  {
   "cell_type": "code",
   "execution_count": 14,
   "metadata": {},
   "outputs": [],
   "source": [
    "scores = pd.read_csv(enformer_preds,header=None)\n",
    "scores[0] = scores[0].str.replace(\"b'\",\"\").str.replace(\"'\",\"\")"
   ]
  },
  {
   "cell_type": "code",
   "execution_count": 15,
   "metadata": {},
   "outputs": [],
   "source": [
    "dnase_preds=\"/mnt/lab_data2/anusri/chrombpnet/results/chrombpnet/DNASE_SE/GM12878/nautilus_runs/GM12878_03.06.2022_bias_128_4_1234_0.8_fold_0/dsqtl_preds/snp_scores.tsv\"\n",
    "dsqtls_dnase = pd.read_csv(dnase_preds,sep=\"\\t\", header=0, index_col=False)\n",
    "dsqtls_dnase[['gkm_SVM','kmer_SVM','abs_gkm_SVM','abs_kmer_SVM','CADD','GWAVA_region','GWAVA_tss','GWAVA_unmatched','GERP','label']] = dsqtls_dnase['META_DATA'].str.split(\",\", expand=True)\n"
   ]
  },
  {
   "cell_type": "code",
   "execution_count": 16,
   "metadata": {},
   "outputs": [],
   "source": [
    "atac_preds=\"/mnt/lab_data2/anusri/chrombpnet/results/chrombpnet/ATAC_PE/GM12878/nautilus_runs/GM12878_03.01.2022_bias_128_4_1234_0.4_fold_0/dsqtl_preds/snp_scores.tsv\"\n",
    "dsqtls_atac = pd.read_csv(atac_preds,sep=\"\\t\", header=0, index_col=False)\n",
    "dsqtls_atac[['gkm_SVM','kmer_SVM','abs_gkm_SVM','abs_kmer_SVM','CADD','GWAVA_region','GWAVA_tss','GWAVA_unmatched','GERP','label']] = dsqtls_dnase['META_DATA'].str.split(\",\", expand=True)\n"
   ]
  },
  {
   "cell_type": "code",
   "execution_count": 17,
   "metadata": {},
   "outputs": [],
   "source": [
    "dsqtls_dnase[\"rsid\"] = dsqtls_dnase[\"CHR\"] + \"_\" + dsqtls_dnase[\"POS0\"].astype(str) + \"_\" + dsqtls_dnase[\"REF\"] + \"_\" + dsqtls_dnase[\"ALT\"]"
   ]
  },
  {
   "cell_type": "code",
   "execution_count": 18,
   "metadata": {},
   "outputs": [],
   "source": [
    "dsqtls_atac[\"rsid\"] = dsqtls_atac[\"CHR\"] + \"_\" + dsqtls_atac[\"POS0\"].astype(str) + \"_\" + dsqtls_atac[\"REF\"] + \"_\" + dsqtls_atac[\"ALT\"]\n",
    "\n"
   ]
  },
  {
   "cell_type": "code",
   "execution_count": null,
   "metadata": {},
   "outputs": [],
   "source": []
  },
  {
   "cell_type": "code",
   "execution_count": 19,
   "metadata": {},
   "outputs": [],
   "source": [
    "#dsqtls_atac.shape"
   ]
  },
  {
   "cell_type": "code",
   "execution_count": 20,
   "metadata": {},
   "outputs": [],
   "source": [
    "snps=pd.read_csv(\"/mnt/lab_data3/anusri/histone_expts/all_qtl_analysis/gm12878_sequence_sets/test_set/deltasv,/41588_2015_BFng3331_MOESM26_ESM.csv\",header=0,sep=',')\n",
    "df = pd.DataFrame()\n",
    "df['label'] = snps[\"label\"].astype(int)\n",
    "df['abs_gkm_SVM'] = snps[\"abs_gkm_SVM\"].astype(str)\n",
    "df['rsid'] = snps[\"SNPname2\"].astype(str)\n",
    "df[\"Chr\"] = snps[\"chrom_hg18\"].astype(str) \n",
    "df[\"Pos0\"] = snps[\"pos_hg18\"].astype(int) - 1\n",
    "df['POSTallele']= snps[\"allele1\"].astype(str)\n",
    "df['ALTallele']= snps[\"allele2\"].astype(str)\n",
    "df['rsid2'] = df[\"Chr\"] + \"_\" + df[\"Pos0\"].astype(str) + \"_\" + df[\"POSTallele\"] + \"_\" + df[\"ALTallele\"] \n",
    "df['META']=snps[['gkm_SVM','kmer_SVM','abs_gkm_SVM','abs_kmer_SVM','CADD','GWAVA_region','GWAVA_tss','GWAVA_unmatched','GERP','label']].astype(str).agg(','.join, axis=1)\n"
   ]
  },
  {
   "cell_type": "code",
   "execution_count": 21,
   "metadata": {},
   "outputs": [
    {
     "data": {
      "text/plain": [
       "(28309, 9)"
      ]
     },
     "execution_count": 21,
     "metadata": {},
     "output_type": "execute_result"
    }
   ],
   "source": [
    "df.shape"
   ]
  },
  {
   "cell_type": "code",
   "execution_count": 22,
   "metadata": {},
   "outputs": [],
   "source": [
    "merged = df.merge(scores,left_on=\"rsid\",right_on=0, how=\"inner\")"
   ]
  },
  {
   "cell_type": "code",
   "execution_count": 23,
   "metadata": {},
   "outputs": [
    {
     "data": {
      "text/plain": [
       "(25262, 12)"
      ]
     },
     "execution_count": 23,
     "metadata": {},
     "output_type": "execute_result"
    }
   ],
   "source": [
    "merged.shape"
   ]
  },
  {
   "cell_type": "code",
   "execution_count": 24,
   "metadata": {},
   "outputs": [
    {
     "data": {
      "text/plain": [
       "(25262, 3)"
      ]
     },
     "execution_count": 24,
     "metadata": {},
     "output_type": "execute_result"
    }
   ],
   "source": [
    "scores.shape"
   ]
  },
  {
   "cell_type": "code",
   "execution_count": 25,
   "metadata": {},
   "outputs": [],
   "source": [
    "merged_with_atac = merged.merge(dsqtls_atac,left_on=\"rsid2\",right_on='rsid', how=\"inner\").drop_duplicates()\n",
    "merged = merged.merge(dsqtls_dnase,left_on=\"rsid2\",right_on='rsid', how=\"inner\").drop_duplicates()\n"
   ]
  },
  {
   "cell_type": "code",
   "execution_count": 26,
   "metadata": {},
   "outputs": [
    {
     "data": {
      "text/plain": [
       "Index([               'label_x',          'abs_gkm_SVM_x',\n",
       "                       'rsid_x',                    'Chr',\n",
       "                         'Pos0',             'POSTallele',\n",
       "                    'ALTallele',                  'rsid2',\n",
       "                         'META',                        0,\n",
       "                              1,                        2,\n",
       "                          'CHR',                   'POS0',\n",
       "                          'REF',                    'ALT',\n",
       "                    'META_DATA',        'log_counts_diff',\n",
       "       'log_probs_diff_abs_sum',         'probs_jsd_diff',\n",
       "                      'gkm_SVM',               'kmer_SVM',\n",
       "                'abs_gkm_SVM_y',           'abs_kmer_SVM',\n",
       "                         'CADD',           'GWAVA_region',\n",
       "                    'GWAVA_tss',        'GWAVA_unmatched',\n",
       "                         'GERP',                'label_y',\n",
       "                       'rsid_y'],\n",
       "      dtype='object')"
      ]
     },
     "execution_count": 26,
     "metadata": {},
     "output_type": "execute_result"
    }
   ],
   "source": [
    "merged_with_atac.columns"
   ]
  },
  {
   "cell_type": "code",
   "execution_count": 27,
   "metadata": {},
   "outputs": [
    {
     "name": "stdout",
     "output_type": "stream",
     "text": [
      "25262 516\n"
     ]
    },
    {
     "data": {
      "image/png": "[encoded data removed]",
      "text/plain": [
       "<Figure size 432x288 with 1 Axes>"
      ]
     },
     "metadata": {
      "needs_background": "light"
     },
     "output_type": "display_data"
    }
   ],
   "source": [
    "import matplotlib.pyplot as plt\n",
    "import pandas as pd\n",
    "from sklearn.metrics import precision_recall_curve\n",
    "from sklearn.metrics import roc_curve\n",
    "from sklearn.metrics import RocCurveDisplay\n",
    "import pandas as pd\n",
    "import matplotlib.pyplot as plt\n",
    "import numpy as np\n",
    "from sklearn import metrics\n",
    "import matplotlib.pyplot as plt\n",
    "import matplotlib\n",
    "\n",
    "matplotlib.rcParams['pdf.fonttype'] = 42\n",
    "matplotlib.rcParams['ps.fonttype'] = 42 \n",
    "\n",
    "import random\n",
    "import os\n",
    "import argparse\n",
    "from sklearn.metrics import precision_recall_curve\n",
    "\n",
    "\n",
    "fpr_chrombpnet, tpr_chrombpnet, _ = precision_recall_curve(merged_with_atac[\"label_x\"], abs(merged_with_atac[\"probs_jsd_diff\"]))\n",
    "roc_auc = metrics.average_precision_score(merged_with_atac[\"label_x\"], abs(merged_with_atac[\"probs_jsd_diff\"]))\n",
    "plt.plot(tpr_chrombpnet,fpr_chrombpnet,  linewidth=2, label=\"ChromBPnet effect sizes w/ ATAC profile , AP=\"+str(round(roc_auc,2)))\n",
    "\n",
    "fpr_chrombpnet, tpr_chrombpnet, _ = precision_recall_curve(merged_with_atac[\"label_x\"], abs(merged_with_atac[\"log_counts_diff\"]))\n",
    "roc_auc = metrics.average_precision_score(merged_with_atac[\"label_x\"], abs(merged_with_atac[\"log_counts_diff\"]))\n",
    "plt.plot(tpr_chrombpnet,fpr_chrombpnet,  linewidth=2, label=\"ChromBPnet effect sizes w/ ATAC counts, AP=\"+str(round(roc_auc,2)))\n",
    "\n",
    "\n",
    "fpr_chrombpnet, tpr_chrombpnet, _ = precision_recall_curve(merged[\"label_x\"], abs(merged[\"probs_jsd_diff\"]))\n",
    "roc_auc = metrics.average_precision_score(merged[\"label_x\"], abs(merged[\"probs_jsd_diff\"]))\n",
    "plt.plot(tpr_chrombpnet,fpr_chrombpnet,  linewidth=2, label=\"ChromBPnet effect sizes w/ DNase profile, AP=\"+str(round(roc_auc,2)))\n",
    "\n",
    "fpr_chrombpnet, tpr_chrombpnet, _ = precision_recall_curve(merged[\"label_x\"], abs(merged[\"log_counts_diff\"]))\n",
    "roc_auc = metrics.average_precision_score(merged[\"label_x\"], abs(merged[\"log_counts_diff\"]))\n",
    "plt.plot(tpr_chrombpnet,fpr_chrombpnet,  linewidth=2, label=\"ChromBPnet effect sizes w/ DNase counts, AP=\"+str(round(roc_auc,2)))\n",
    "\n",
    "in1 = list(merged[\"label_x\"])\n",
    "random.shuffle(in1)\n",
    "in1=np.array(in1)\n",
    "\n",
    "fpr_random, tpr_random, _ = precision_recall_curve(merged[\"label_x\"], in1)\n",
    "roc_auc = metrics.average_precision_score(merged[\"label_x\"], in1)\n",
    "plt.plot(tpr_random, [sum(merged[\"label_x\"]==1)/len(merged[\"label_x\"])]*len(fpr_random), linewidth=2, label=\"Random baseline, AP=\"+str(round(roc_auc,2)))\n",
    "\n",
    "\n",
    "print(len(merged[\"label_x\"]), sum(merged[\"label_x\"]==1))\n",
    "plt.legend(loc='upper right')\n",
    "plt.xlabel(\"Recall\")\n",
    "plt.ylabel(\"Precision\")\n",
    "\n",
    "plt.savefig(\"subfigs/pr_curve_chrombpnet_only.pdf\", transparent=True, dpi=300)\n"
   ]
  },
  {
   "cell_type": "code",
   "execution_count": 30,
   "metadata": {},
   "outputs": [],
   "source": [
    "new_scores = pd.read_csv(\"/mnt/lab_data2/anusri/dsqtl_ensemble/dsqtls_ensemble.csv\",header=0)"
   ]
  },
  {
   "cell_type": "code",
   "execution_count": 36,
   "metadata": {},
   "outputs": [
    {
     "data": {
      "text/html": [
       "<div>\n",
       "<style scoped>\n",
       "    .dataframe tbody tr th:only-of-type {\n",
       "        vertical-align: middle;\n",
       "    }\n",
       "\n",
       "    .dataframe tbody tr th {\n",
       "        vertical-align: top;\n",
       "    }\n",
       "\n",
       "    .dataframe thead th {\n",
       "        text-align: right;\n",
       "    }\n",
       "</style>\n",
       "<table border=\"1\" class=\"dataframe\">\n",
       "  <thead>\n",
       "    <tr style=\"text-align: right;\">\n",
       "      <th></th>\n",
       "      <th>labels</th>\n",
       "      <th>preds</th>\n",
       "    </tr>\n",
       "  </thead>\n",
       "  <tbody>\n",
       "    <tr>\n",
       "      <th>0</th>\n",
       "      <td>1</td>\n",
       "      <td>0.062765</td>\n",
       "    </tr>\n",
       "    <tr>\n",
       "      <th>1</th>\n",
       "      <td>1</td>\n",
       "      <td>0.006343</td>\n",
       "    </tr>\n",
       "    <tr>\n",
       "      <th>2</th>\n",
       "      <td>1</td>\n",
       "      <td>0.024529</td>\n",
       "    </tr>\n",
       "    <tr>\n",
       "      <th>3</th>\n",
       "      <td>1</td>\n",
       "      <td>0.325149</td>\n",
       "    </tr>\n",
       "    <tr>\n",
       "      <th>4</th>\n",
       "      <td>1</td>\n",
       "      <td>0.012742</td>\n",
       "    </tr>\n",
       "  </tbody>\n",
       "</table>\n",
       "</div>"
      ],
      "text/plain": [
       "   labels     preds\n",
       "0       1  0.062765\n",
       "1       1  0.006343\n",
       "2       1  0.024529\n",
       "3       1  0.325149\n",
       "4       1  0.012742"
      ]
     },
     "execution_count": 36,
     "metadata": {},
     "output_type": "execute_result"
    }
   ],
   "source": [
    "new_scores.head()"
   ]
  },
  {
   "cell_type": "code",
   "execution_count": 37,
   "metadata": {},
   "outputs": [],
   "source": [
    "new_scores_dnase = pd.read_csv(\"/mnt/lab_data2/anusri/dsqtl_ensemble/dsqtls_ensemble_dnase.csv\",header=0)"
   ]
  },
  {
   "cell_type": "code",
   "execution_count": null,
   "metadata": {},
   "outputs": [],
   "source": []
  },
  {
   "cell_type": "code",
   "execution_count": 38,
   "metadata": {},
   "outputs": [
    {
     "name": "stdout",
     "output_type": "stream",
     "text": [
      "25262 516\n"
     ]
    },
    {
     "data": {
      "image/png": "[encoded data removed]",
      "text/plain": [
       "<Figure size 432x288 with 1 Axes>"
      ]
     },
     "metadata": {
      "needs_background": "light"
     },
     "output_type": "display_data"
    }
   ],
   "source": [
    "import matplotlib.pyplot as plt\n",
    "import pandas as pd\n",
    "from sklearn.metrics import precision_recall_curve\n",
    "from sklearn.metrics import roc_curve\n",
    "from sklearn.metrics import RocCurveDisplay\n",
    "import pandas as pd\n",
    "import matplotlib.pyplot as plt\n",
    "import numpy as np\n",
    "from sklearn import metrics\n",
    "import matplotlib.pyplot as plt\n",
    "import matplotlib\n",
    "import random\n",
    "import os\n",
    "import argparse\n",
    "from sklearn.metrics import precision_recall_curve\n",
    "\n",
    "\n",
    "#fpr_chrombpnet, tpr_chrombpnet, _ = precision_recall_curve(merged_with_atac[\"label_x\"], abs(merged_with_atac[\"probs_jsd_diff\"]))\n",
    "#roc_auc = metrics.average_precision_score(merged_with_atac[\"label_x\"], abs(merged_with_atac[\"probs_jsd_diff\"]))\n",
    "#plt.plot(tpr_chrombpnet,fpr_chrombpnet,  linewidth=2, label=\"ChromBPnet effect sizes w/ ATAC, AP=\"+str(round(roc_auc,2)))\n",
    "\n",
    "\n",
    "#fpr_chrombpnet, tpr_chrombpnet, _ = precision_recall_curve(merged[\"label_x\"], abs(merged[\"probs_jsd_diff\"]))\n",
    "#roc_auc = metrics.average_precision_score(merged[\"label_x\"], abs(merged[\"probs_jsd_diff\"]))\n",
    "#plt.plot(tpr_chrombpnet,fpr_chrombpnet,  linewidth=2, label=\"ChromBPnet effect sizes w/ DNASE, AP=\"+str(round(roc_auc,2)))\n",
    "\n",
    "fpr_chrombpnet, tpr_chrombpnet, _ = precision_recall_curve(new_scores[\"labels\"], abs(new_scores[\"preds\"]))\n",
    "roc_auc = metrics.average_precision_score(new_scores[\"labels\"], abs(new_scores[\"preds\"]))\n",
    "plt.plot(tpr_chrombpnet,fpr_chrombpnet,  linewidth=2, label=\"ChromBPNet effect sizes w/ ATAC, AP=\"+str(round(roc_auc,2)))\n",
    "\n",
    "fpr_chrombpnet, tpr_chrombpnet, _ = precision_recall_curve(new_scores_dnase[\"labels\"], abs(new_scores_dnase[\"preds\"]))\n",
    "roc_auc = metrics.average_precision_score(new_scores_dnase[\"labels\"], abs(new_scores_dnase[\"preds\"]))\n",
    "plt.plot(tpr_chrombpnet,fpr_chrombpnet,  linewidth=2, label=\"ChromBPNet effect sizes w/ DNASE, AP=\"+str(round(roc_auc,2)))\n",
    "\n",
    "\n",
    "fpr_chrombpnet, tpr_chrombpnet, _ = precision_recall_curve(merged[\"label_x\"], abs(merged[2]))\n",
    "roc_auc = metrics.average_precision_score(merged[\"label_x\"], abs(merged[2]))\n",
    "plt.plot(tpr_chrombpnet,fpr_chrombpnet,  linewidth=2, label=\"Enformer SAR effect sizes w/ DNASE, AP=\"+str(round(roc_auc,2)))\n",
    "\n",
    "\n",
    "fpr_chrombpnet, tpr_chrombpnet, _ = precision_recall_curve(merged[\"label_x\"], abs(merged[1]))\n",
    "roc_auc = metrics.average_precision_score(merged[\"label_x\"], abs(merged[1]))\n",
    "plt.plot(tpr_chrombpnet,fpr_chrombpnet,  linewidth=2, label=\"Enformer SAD effect sizes w/ DNASE, AP=\"+str(round(roc_auc,2)))\n",
    "\n",
    "\n",
    "\n",
    "\n",
    "\n",
    "\n",
    "fpr_chrombpnet, tpr_chrombpnet, _ = precision_recall_curve(merged[\"label_x\"], abs(merged['abs_gkm_SVM_y'].astype(float)))\n",
    "roc_auc = metrics.average_precision_score(merged[\"label_x\"], abs(merged['abs_gkm_SVM_y'].astype(float)))\n",
    "plt.plot(tpr_chrombpnet,fpr_chrombpnet,  linewidth=2, label=\"Gkm SVM effect sizes w/ DNASE, AP=\"+str(round(roc_auc,2)))\n",
    "\n",
    "\n",
    "in1 = list(merged[\"label_x\"])\n",
    "random.shuffle(in1)\n",
    "in1=np.array(in1)\n",
    "\n",
    "fpr_random, tpr_random, _ = precision_recall_curve(merged[\"label_x\"], in1)\n",
    "roc_auc = metrics.average_precision_score(merged[\"label_x\"], in1)\n",
    "plt.plot(tpr_random, [sum(merged[\"label_x\"]==1)/len(merged[\"label_x\"])]*len(fpr_random), linewidth=2, label=\"Random baseline, AP=\"+str(round(roc_auc,2)))\n",
    "\n",
    "\n",
    "print(len(merged[\"label_x\"]), sum(merged[\"label_x\"]==1))\n",
    "plt.legend(loc='upper right')\n",
    "plt.xlabel(\"Recall\")\n",
    "plt.ylabel(\"Precision\")\n",
    "\n",
    "plt.savefig(\"subfigs/benchmarking_new.pdf\", transparent=True, dpi=300)\n"
   ]
  },
  {
   "cell_type": "code",
   "execution_count": 28,
   "metadata": {},
   "outputs": [],
   "source": [
    "dsqtls = merged[merged[\"label_x\"]==1]\n",
    "ndsqtls = merged[~(merged[\"label_x\"]==1)].sample(1000)\n"
   ]
  },
  {
   "cell_type": "code",
   "execution_count": 29,
   "metadata": {},
   "outputs": [
    {
     "data": {
      "image/png": "[encoded data removed]",
      "text/plain": [
       "<Figure size 432x288 with 1 Axes>"
      ]
     },
     "metadata": {},
     "output_type": "display_data"
    }
   ],
   "source": [
    "#plt.scatter(abs(dsqtls[2]),abs(dsqtls[\"probs_jsd_diff\"]))\n",
    "import seaborn as sns\n",
    "sns.set(style='white')\n",
    "plt.scatter(dsqtls[2],dsqtls[\"probs_jsd_diff\"]*-1,c=\"b\",alpha=0.8,label=\"DsQTLs\",linewidths=0,s=5)\n",
    "plt.scatter(ndsqtls[2],ndsqtls[\"probs_jsd_diff\"]*-1,c=\"r\",alpha=0.8,label=\"Controls\",linewidths=0,s=5)\n",
    "plt.legend(loc='upper right')\n",
    "plt.xlabel(\"Enformer SAR VarScore\")\n",
    "plt.ylabel(\"ChromBPNet VarScore\")\n",
    "plt.savefig(\"subfigs/chrombpnet_versus_enformer.pdf\", transparent=True, dpi=300)\n"
   ]
  },
  {
   "cell_type": "code",
   "execution_count": 30,
   "metadata": {},
   "outputs": [
    {
     "name": "stdout",
     "output_type": "stream",
     "text": [
      "Index([               'label_x',          'abs_gkm_SVM_x',\n",
      "                       'rsid_x',                    'Chr',\n",
      "                         'Pos0',             'POSTallele',\n",
      "                    'ALTallele',                  'rsid2',\n",
      "                         'META',                        0,\n",
      "                              1,                        2,\n",
      "                          'CHR',                   'POS0',\n",
      "                          'REF',                    'ALT',\n",
      "                    'META_DATA',        'log_counts_diff',\n",
      "       'log_probs_diff_abs_sum',         'probs_jsd_diff',\n",
      "                      'gkm_SVM',               'kmer_SVM',\n",
      "                'abs_gkm_SVM_y',           'abs_kmer_SVM',\n",
      "                         'CADD',           'GWAVA_region',\n",
      "                    'GWAVA_tss',        'GWAVA_unmatched',\n",
      "                         'GERP',                'label_y',\n",
      "                       'rsid_y'],\n",
      "      dtype='object')\n"
     ]
    },
    {
     "data": {
      "image/png": "[encoded data removed]",
      "text/plain": [
       "<Figure size 432x288 with 1 Axes>"
      ]
     },
     "metadata": {},
     "output_type": "display_data"
    }
   ],
   "source": [
    "#plt.scatter(abs(dsqtls[2]),abs(dsqtls[\"probs_jsd_diff\"]))\n",
    "print(dsqtls.columns)\n",
    "plt.figure()\n",
    "plt.scatter(dsqtls[\"gkm_SVM\"].astype(float),dsqtls[\"probs_jsd_diff\"]*-1,c=\"b\",alpha=0.8,label=\"DsQTLs\",linewidths=0,s=5)\n",
    "plt.scatter(ndsqtls[\"gkm_SVM\"].astype(float),ndsqtls[\"probs_jsd_diff\"]*-1,c=\"r\",alpha=0.8,label=\"Controls\",linewidths=0,s=5)\n",
    "plt.legend(loc='upper right')\n",
    "plt.xlabel(\"gkm_SVM VarScore\")\n",
    "plt.ylabel(\"ChromBPNet VarScore\")\n",
    "\n",
    "plt.savefig(\"subfigs/chrombpnet_versus_deltasvm.pdf\", transparent=True, dpi=300)\n"
   ]
  },
  {
   "cell_type": "code",
   "execution_count": null,
   "metadata": {},
   "outputs": [],
   "source": []
  },
  {
   "cell_type": "code",
   "execution_count": 79,
   "metadata": {},
   "outputs": [
    {
     "data": {
      "text/plain": [
       "21     -6.7954289999999995\n",
       "46               -6.783504\n",
       "173             -10.222351\n",
       "185             -20.754752\n",
       "206    -11.789375999999999\n",
       "440    -15.184854999999999\n",
       "463              -9.851068\n",
       "477             -11.985853\n",
       "Name: gkm_SVM, dtype: object"
      ]
     },
     "execution_count": 79,
     "metadata": {},
     "output_type": "execute_result"
    }
   ],
   "source": [
    "dsqtls[dsqtls[\"probs_jsd_diff\"]>0.3].loc[:,\"gkm_SVM\"]"
   ]
  },
  {
   "cell_type": "code",
   "execution_count": 31,
   "metadata": {},
   "outputs": [
    {
     "data": {
      "text/plain": [
       "<matplotlib.collections.PathCollection at 0x7fdb47c55fd0>"
      ]
     },
     "execution_count": 31,
     "metadata": {},
     "output_type": "execute_result"
    },
    {
     "data": {
      "image/png": "[encoded data removed]",
      "text/plain": [
       "<Figure size 432x288 with 1 Axes>"
      ]
     },
     "metadata": {
      "needs_background": "light"
     },
     "output_type": "display_data"
    }
   ],
   "source": [
    "plt.scatter(abs(dsqtls[2]),abs(dsqtls[\"log_counts_diff\"]))\n"
   ]
  },
  {
   "cell_type": "code",
   "execution_count": 26,
   "metadata": {},
   "outputs": [
    {
     "data": {
      "text/plain": [
       "<matplotlib.collections.PathCollection at 0x7fdb47eed310>"
      ]
     },
     "execution_count": 26,
     "metadata": {},
     "output_type": "execute_result"
    },
    {
     "data": {
      "image/png": "[encoded data removed]",
      "text/plain": [
       "<Figure size 432x288 with 1 Axes>"
      ]
     },
     "metadata": {
      "needs_background": "light"
     },
     "output_type": "display_data"
    }
   ],
   "source": [
    "plt.scatter(abs(dsqtls[2]),abs(dsqtls[\"abs_gkm_SVM_y\"].astype(float)))"
   ]
  },
  {
   "cell_type": "code",
   "execution_count": 19,
   "metadata": {},
   "outputs": [
    {
     "data": {
      "text/html": [
       "<div>\n",
       "<style scoped>\n",
       "    .dataframe tbody tr th:only-of-type {\n",
       "        vertical-align: middle;\n",
       "    }\n",
       "\n",
       "    .dataframe tbody tr th {\n",
       "        vertical-align: top;\n",
       "    }\n",
       "\n",
       "    .dataframe thead th {\n",
       "        text-align: right;\n",
       "    }\n",
       "</style>\n",
       "<table border=\"1\" class=\"dataframe\">\n",
       "  <thead>\n",
       "    <tr style=\"text-align: right;\">\n",
       "      <th></th>\n",
       "      <th>label_x</th>\n",
       "      <th>abs_gkm_SVM_x</th>\n",
       "      <th>rsid_x</th>\n",
       "      <th>Chr</th>\n",
       "      <th>Pos0</th>\n",
       "      <th>POSTallele</th>\n",
       "      <th>ALTallele</th>\n",
       "      <th>rsid2</th>\n",
       "      <th>META</th>\n",
       "      <th>0</th>\n",
       "      <th>...</th>\n",
       "      <th>kmer_SVM</th>\n",
       "      <th>abs_gkm_SVM_y</th>\n",
       "      <th>abs_kmer_SVM</th>\n",
       "      <th>CADD</th>\n",
       "      <th>GWAVA_region</th>\n",
       "      <th>GWAVA_tss</th>\n",
       "      <th>GWAVA_unmatched</th>\n",
       "      <th>GERP</th>\n",
       "      <th>label_y</th>\n",
       "      <th>rsid_y</th>\n",
       "    </tr>\n",
       "  </thead>\n",
       "  <tbody>\n",
       "    <tr>\n",
       "      <th>0</th>\n",
       "      <td>1</td>\n",
       "      <td>0.66898</td>\n",
       "      <td>rs10794743</td>\n",
       "      <td>chr10</td>\n",
       "      <td>1401285</td>\n",
       "      <td>A</td>\n",
       "      <td>C</td>\n",
       "      <td>chr10_1401285_A_C</td>\n",
       "      <td>-0.66898,-2.681439,0.66898,2.681439,-0.506497,...</td>\n",
       "      <td>rs10794743</td>\n",
       "      <td>...</td>\n",
       "      <td>-2.681439</td>\n",
       "      <td>0.66898</td>\n",
       "      <td>2.681439</td>\n",
       "      <td>-0.506497</td>\n",
       "      <td>0.37</td>\n",
       "      <td>0.3</td>\n",
       "      <td>0.29</td>\n",
       "      <td>-3.93</td>\n",
       "      <td>1</td>\n",
       "      <td>chr10_1401285_A_C</td>\n",
       "    </tr>\n",
       "    <tr>\n",
       "      <th>1</th>\n",
       "      <td>1</td>\n",
       "      <td>1.372879</td>\n",
       "      <td>rs34174118</td>\n",
       "      <td>chr10</td>\n",
       "      <td>1442536</td>\n",
       "      <td>A</td>\n",
       "      <td>G</td>\n",
       "      <td>chr10_1442536_A_G</td>\n",
       "      <td>1.372879,0.674,1.372879,0.674,0.02544,0.26,0.2...</td>\n",
       "      <td>rs34174118</td>\n",
       "      <td>...</td>\n",
       "      <td>0.674</td>\n",
       "      <td>1.3728790000000002</td>\n",
       "      <td>0.674</td>\n",
       "      <td>0.02544</td>\n",
       "      <td>0.26</td>\n",
       "      <td>0.27</td>\n",
       "      <td>0.1</td>\n",
       "      <td>0.0465</td>\n",
       "      <td>1</td>\n",
       "      <td>chr10_1442536_A_G</td>\n",
       "    </tr>\n",
       "    <tr>\n",
       "      <th>2</th>\n",
       "      <td>1</td>\n",
       "      <td>5.092465</td>\n",
       "      <td>rs11819695</td>\n",
       "      <td>chr10</td>\n",
       "      <td>5927284</td>\n",
       "      <td>T</td>\n",
       "      <td>C</td>\n",
       "      <td>chr10_5927284_T_C</td>\n",
       "      <td>-5.092465,-4.977196,5.092465,4.977196,-1.16630...</td>\n",
       "      <td>rs11819695</td>\n",
       "      <td>...</td>\n",
       "      <td>-4.977196</td>\n",
       "      <td>5.092465</td>\n",
       "      <td>4.977196</td>\n",
       "      <td>-1.166307</td>\n",
       "      <td>0.34</td>\n",
       "      <td>0.4</td>\n",
       "      <td>0.43</td>\n",
       "      <td>-0.451</td>\n",
       "      <td>1</td>\n",
       "      <td>chr10_5927284_T_C</td>\n",
       "    </tr>\n",
       "    <tr>\n",
       "      <th>3</th>\n",
       "      <td>1</td>\n",
       "      <td>6.876955</td>\n",
       "      <td>rs10905307</td>\n",
       "      <td>chr10</td>\n",
       "      <td>5934505</td>\n",
       "      <td>A</td>\n",
       "      <td>G</td>\n",
       "      <td>chr10_5934505_A_G</td>\n",
       "      <td>6.876955,2.646129,6.876955,2.646129,0.606074,0...</td>\n",
       "      <td>rs10905307</td>\n",
       "      <td>...</td>\n",
       "      <td>2.646129</td>\n",
       "      <td>6.876955000000001</td>\n",
       "      <td>2.646129</td>\n",
       "      <td>0.606074</td>\n",
       "      <td>0.44</td>\n",
       "      <td>0.42</td>\n",
       "      <td>0.48</td>\n",
       "      <td>-0.542</td>\n",
       "      <td>1</td>\n",
       "      <td>chr10_5934505_A_G</td>\n",
       "    </tr>\n",
       "    <tr>\n",
       "      <th>4</th>\n",
       "      <td>1</td>\n",
       "      <td>6.679947</td>\n",
       "      <td>rs141802172</td>\n",
       "      <td>chr10</td>\n",
       "      <td>12506802</td>\n",
       "      <td>A</td>\n",
       "      <td>G</td>\n",
       "      <td>chr10_12506802_A_G</td>\n",
       "      <td>6.679947,13.059399,6.679947,13.059399,-0.66969...</td>\n",
       "      <td>rs141802172</td>\n",
       "      <td>...</td>\n",
       "      <td>13.059399</td>\n",
       "      <td>6.679947</td>\n",
       "      <td>13.059399</td>\n",
       "      <td>-0.669696</td>\n",
       "      <td>0.29</td>\n",
       "      <td>0.12</td>\n",
       "      <td>0.1</td>\n",
       "      <td>0.0</td>\n",
       "      <td>1</td>\n",
       "      <td>chr10_12506802_A_G</td>\n",
       "    </tr>\n",
       "    <tr>\n",
       "      <th>...</th>\n",
       "      <td>...</td>\n",
       "      <td>...</td>\n",
       "      <td>...</td>\n",
       "      <td>...</td>\n",
       "      <td>...</td>\n",
       "      <td>...</td>\n",
       "      <td>...</td>\n",
       "      <td>...</td>\n",
       "      <td>...</td>\n",
       "      <td>...</td>\n",
       "      <td>...</td>\n",
       "      <td>...</td>\n",
       "      <td>...</td>\n",
       "      <td>...</td>\n",
       "      <td>...</td>\n",
       "      <td>...</td>\n",
       "      <td>...</td>\n",
       "      <td>...</td>\n",
       "      <td>...</td>\n",
       "      <td>...</td>\n",
       "      <td>...</td>\n",
       "    </tr>\n",
       "    <tr>\n",
       "      <th>511</th>\n",
       "      <td>1</td>\n",
       "      <td>4.271205</td>\n",
       "      <td>rs3847193</td>\n",
       "      <td>chr9</td>\n",
       "      <td>132758989</td>\n",
       "      <td>G</td>\n",
       "      <td>A</td>\n",
       "      <td>chr9_132758989_G_A</td>\n",
       "      <td>4.271205,-2.073453,4.271205,2.073453,-0.247289...</td>\n",
       "      <td>rs3847193</td>\n",
       "      <td>...</td>\n",
       "      <td>-2.0734529999999998</td>\n",
       "      <td>4.271205</td>\n",
       "      <td>2.0734529999999998</td>\n",
       "      <td>-0.24728899999999998</td>\n",
       "      <td>0.46</td>\n",
       "      <td>0.37</td>\n",
       "      <td>0.49</td>\n",
       "      <td>-0.212</td>\n",
       "      <td>1</td>\n",
       "      <td>chr9_132758989_G_A</td>\n",
       "    </tr>\n",
       "    <tr>\n",
       "      <th>512</th>\n",
       "      <td>1</td>\n",
       "      <td>10.95599</td>\n",
       "      <td>rs74734156</td>\n",
       "      <td>chr9</td>\n",
       "      <td>134981039</td>\n",
       "      <td>G</td>\n",
       "      <td>A</td>\n",
       "      <td>chr9_134981039_G_A</td>\n",
       "      <td>-10.95599,-11.360226,10.95599,11.360226,0.0123...</td>\n",
       "      <td>rs74734156</td>\n",
       "      <td>...</td>\n",
       "      <td>-11.360225999999999</td>\n",
       "      <td>10.95599</td>\n",
       "      <td>11.360225999999999</td>\n",
       "      <td>0.012338</td>\n",
       "      <td>0.44</td>\n",
       "      <td>0.4</td>\n",
       "      <td>0.59</td>\n",
       "      <td>-5.6</td>\n",
       "      <td>1</td>\n",
       "      <td>chr9_134981039_G_A</td>\n",
       "    </tr>\n",
       "    <tr>\n",
       "      <th>513</th>\n",
       "      <td>1</td>\n",
       "      <td>8.944194</td>\n",
       "      <td>rs2519112</td>\n",
       "      <td>chr9</td>\n",
       "      <td>135801567</td>\n",
       "      <td>A</td>\n",
       "      <td>G</td>\n",
       "      <td>chr9_135801567_A_G</td>\n",
       "      <td>-8.944194,-14.98855,8.944194,14.98855,0.272977...</td>\n",
       "      <td>rs2519112</td>\n",
       "      <td>...</td>\n",
       "      <td>-14.98855</td>\n",
       "      <td>8.944194</td>\n",
       "      <td>14.98855</td>\n",
       "      <td>0.272977</td>\n",
       "      <td>0.3</td>\n",
       "      <td>0.27</td>\n",
       "      <td>0.32</td>\n",
       "      <td>1.23</td>\n",
       "      <td>1</td>\n",
       "      <td>chr9_135801567_A_G</td>\n",
       "    </tr>\n",
       "    <tr>\n",
       "      <th>514</th>\n",
       "      <td>1</td>\n",
       "      <td>4.130903</td>\n",
       "      <td>rs10116708</td>\n",
       "      <td>chr9</td>\n",
       "      <td>139496488</td>\n",
       "      <td>G</td>\n",
       "      <td>A</td>\n",
       "      <td>chr9_139496488_G_A</td>\n",
       "      <td>4.130903,8.453805,4.130903,8.453805,-0.389886,...</td>\n",
       "      <td>rs10116708</td>\n",
       "      <td>...</td>\n",
       "      <td>8.453805000000001</td>\n",
       "      <td>4.130903</td>\n",
       "      <td>8.453805000000001</td>\n",
       "      <td>-0.389886</td>\n",
       "      <td>0.53</td>\n",
       "      <td>0.57</td>\n",
       "      <td>0.6</td>\n",
       "      <td>-0.89</td>\n",
       "      <td>1</td>\n",
       "      <td>chr9_139496488_G_A</td>\n",
       "    </tr>\n",
       "    <tr>\n",
       "      <th>515</th>\n",
       "      <td>1</td>\n",
       "      <td>7.858264</td>\n",
       "      <td>rs4494021</td>\n",
       "      <td>chr9</td>\n",
       "      <td>139619466</td>\n",
       "      <td>C</td>\n",
       "      <td>T</td>\n",
       "      <td>chr9_139619466_C_T</td>\n",
       "      <td>7.858264,10.485697,7.858264,10.485697,0.448821...</td>\n",
       "      <td>rs4494021</td>\n",
       "      <td>...</td>\n",
       "      <td>10.485697</td>\n",
       "      <td>7.858264</td>\n",
       "      <td>10.485697</td>\n",
       "      <td>0.448821</td>\n",
       "      <td>0.51</td>\n",
       "      <td>0.39</td>\n",
       "      <td>0.94</td>\n",
       "      <td>-0.348</td>\n",
       "      <td>1</td>\n",
       "      <td>chr9_139619466_C_T</td>\n",
       "    </tr>\n",
       "  </tbody>\n",
       "</table>\n",
       "<p>516 rows × 31 columns</p>\n",
       "</div>"
      ],
      "text/plain": [
       "     label_x abs_gkm_SVM_x       rsid_x    Chr       Pos0 POSTallele  \\\n",
       "0          1       0.66898   rs10794743  chr10    1401285          A   \n",
       "1          1      1.372879   rs34174118  chr10    1442536          A   \n",
       "2          1      5.092465   rs11819695  chr10    5927284          T   \n",
       "3          1      6.876955   rs10905307  chr10    5934505          A   \n",
       "4          1      6.679947  rs141802172  chr10   12506802          A   \n",
       "..       ...           ...          ...    ...        ...        ...   \n",
       "511        1      4.271205    rs3847193   chr9  132758989          G   \n",
       "512        1      10.95599   rs74734156   chr9  134981039          G   \n",
       "513        1      8.944194    rs2519112   chr9  135801567          A   \n",
       "514        1      4.130903   rs10116708   chr9  139496488          G   \n",
       "515        1      7.858264    rs4494021   chr9  139619466          C   \n",
       "\n",
       "    ALTallele               rsid2  \\\n",
       "0           C   chr10_1401285_A_C   \n",
       "1           G   chr10_1442536_A_G   \n",
       "2           C   chr10_5927284_T_C   \n",
       "3           G   chr10_5934505_A_G   \n",
       "4           G  chr10_12506802_A_G   \n",
       "..        ...                 ...   \n",
       "511         A  chr9_132758989_G_A   \n",
       "512         A  chr9_134981039_G_A   \n",
       "513         G  chr9_135801567_A_G   \n",
       "514         A  chr9_139496488_G_A   \n",
       "515         T  chr9_139619466_C_T   \n",
       "\n",
       "                                                  META            0  ...  \\\n",
       "0    -0.66898,-2.681439,0.66898,2.681439,-0.506497,...   rs10794743  ...   \n",
       "1    1.372879,0.674,1.372879,0.674,0.02544,0.26,0.2...   rs34174118  ...   \n",
       "2    -5.092465,-4.977196,5.092465,4.977196,-1.16630...   rs11819695  ...   \n",
       "3    6.876955,2.646129,6.876955,2.646129,0.606074,0...   rs10905307  ...   \n",
       "4    6.679947,13.059399,6.679947,13.059399,-0.66969...  rs141802172  ...   \n",
       "..                                                 ...          ...  ...   \n",
       "511  4.271205,-2.073453,4.271205,2.073453,-0.247289...    rs3847193  ...   \n",
       "512  -10.95599,-11.360226,10.95599,11.360226,0.0123...   rs74734156  ...   \n",
       "513  -8.944194,-14.98855,8.944194,14.98855,0.272977...    rs2519112  ...   \n",
       "514  4.130903,8.453805,4.130903,8.453805,-0.389886,...   rs10116708  ...   \n",
       "515  7.858264,10.485697,7.858264,10.485697,0.448821...    rs4494021  ...   \n",
       "\n",
       "                kmer_SVM       abs_gkm_SVM_y        abs_kmer_SVM  \\\n",
       "0              -2.681439             0.66898            2.681439   \n",
       "1                  0.674  1.3728790000000002               0.674   \n",
       "2              -4.977196            5.092465            4.977196   \n",
       "3               2.646129   6.876955000000001            2.646129   \n",
       "4              13.059399            6.679947           13.059399   \n",
       "..                   ...                 ...                 ...   \n",
       "511  -2.0734529999999998            4.271205  2.0734529999999998   \n",
       "512  -11.360225999999999            10.95599  11.360225999999999   \n",
       "513            -14.98855            8.944194            14.98855   \n",
       "514    8.453805000000001            4.130903   8.453805000000001   \n",
       "515            10.485697            7.858264           10.485697   \n",
       "\n",
       "                     CADD GWAVA_region GWAVA_tss GWAVA_unmatched    GERP  \\\n",
       "0               -0.506497         0.37       0.3            0.29   -3.93   \n",
       "1                 0.02544         0.26      0.27             0.1  0.0465   \n",
       "2               -1.166307         0.34       0.4            0.43  -0.451   \n",
       "3                0.606074         0.44      0.42            0.48  -0.542   \n",
       "4               -0.669696         0.29      0.12             0.1     0.0   \n",
       "..                    ...          ...       ...             ...     ...   \n",
       "511  -0.24728899999999998         0.46      0.37            0.49  -0.212   \n",
       "512              0.012338         0.44       0.4            0.59    -5.6   \n",
       "513              0.272977          0.3      0.27            0.32    1.23   \n",
       "514             -0.389886         0.53      0.57             0.6   -0.89   \n",
       "515              0.448821         0.51      0.39            0.94  -0.348   \n",
       "\n",
       "     label_y              rsid_y  \n",
       "0          1   chr10_1401285_A_C  \n",
       "1          1   chr10_1442536_A_G  \n",
       "2          1   chr10_5927284_T_C  \n",
       "3          1   chr10_5934505_A_G  \n",
       "4          1  chr10_12506802_A_G  \n",
       "..       ...                 ...  \n",
       "511        1  chr9_132758989_G_A  \n",
       "512        1  chr9_134981039_G_A  \n",
       "513        1  chr9_135801567_A_G  \n",
       "514        1  chr9_139496488_G_A  \n",
       "515        1  chr9_139619466_C_T  \n",
       "\n",
       "[516 rows x 31 columns]"
      ]
     },
     "execution_count": 19,
     "metadata": {},
     "output_type": "execute_result"
    }
   ],
   "source": [
    "dsqtls[\"\"]"
   ]
  },
  {
   "cell_type": "code",
   "execution_count": null,
   "metadata": {},
   "outputs": [],
   "source": []
  }
 ],
 "metadata": {
  "kernelspec": {
   "display_name": "Python 3",
   "language": "python",
   "name": "python3"
  },
  "language_info": {
   "codemirror_mode": {
    "name": "ipython",
    "version": 3
   },
   "file_extension": ".py",
   "mimetype": "text/x-python",
   "name": "python",
   "nbconvert_exporter": "python",
   "pygments_lexer": "ipython3",
   "version": "3.7.6"
  }
 },
 "nbformat": 4,
 "nbformat_minor": 4
}
