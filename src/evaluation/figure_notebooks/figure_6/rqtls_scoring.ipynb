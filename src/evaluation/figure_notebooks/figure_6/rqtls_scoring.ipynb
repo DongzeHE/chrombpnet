{
 "cells": [
  {
   "cell_type": "code",
   "execution_count": 19,
   "metadata": {},
   "outputs": [],
   "source": [
    "import pandas as pd\n",
    "\n",
    "snps_all=pd.read_csv(\"/mnt/lab_data2/anusri/chrombpnet/results/variant_data/rqtls/k562.sign.id.LP190708.txt.gz\", sep=\"\\t\", header=0)\n",
    "\n",
    "preds = pd.read_csv(\"/mnt/lab_data2/anusri/chrombpnet/results/variant_data/rqtls/preds_fold0_k562_sig_new/snp_scores.tsv\", sep=\"\\t\", header=0)"
   ]
  },
  {
   "cell_type": "code",
   "execution_count": 20,
   "metadata": {},
   "outputs": [],
   "source": [
    "preds.head()\n",
    "preds[snps_all.columns] = preds[\"META_DATA\"].str.split(\",\", expand=True)\n",
    "preds[\"POS1\"] = preds[\"POS0\"] + 1\n",
    "\n",
    "\n",
    "sig_cols = preds.columns.tolist()\n",
    "\n",
    "preds[sig_cols[0:2]+[sig_cols[-1]]+sig_cols[2:-1]].to_csv(\"/mnt/lab_data2/anusri/chrombpnet/results/variant_data/rqtls/preds_fold0_k562_sig_new/snp_scores_bed_format.bed\", sep=\"\\t\", header=False, index=False)"
   ]
  },
  {
   "cell_type": "code",
   "execution_count": 21,
   "metadata": {},
   "outputs": [],
   "source": [
    "import matplotlib.pyplot as plt"
   ]
  },
  {
   "cell_type": "code",
   "execution_count": 22,
   "metadata": {},
   "outputs": [],
   "source": [
    "preds = pd.read_csv(\"/mnt/lab_data2/anusri/chrombpnet/results/variant_data/rqtls/preds_fold0_k562_sig_new/snp_scores_bed_format_inpeaks.bed\", sep=\"\\t\", header=None)\n",
    "\n"
   ]
  },
  {
   "cell_type": "code",
   "execution_count": 23,
   "metadata": {},
   "outputs": [],
   "source": [
    "preds.columns = sig_cols[0:2]+[sig_cols[-1]]+sig_cols[2:-1]"
   ]
  },
  {
   "cell_type": "code",
   "execution_count": 24,
   "metadata": {},
   "outputs": [
    {
     "data": {
      "text/html": [
       "<div>\n",
       "<style scoped>\n",
       "    .dataframe tbody tr th:only-of-type {\n",
       "        vertical-align: middle;\n",
       "    }\n",
       "\n",
       "    .dataframe tbody tr th {\n",
       "        vertical-align: top;\n",
       "    }\n",
       "\n",
       "    .dataframe thead th {\n",
       "        text-align: right;\n",
       "    }\n",
       "</style>\n",
       "<table border=\"1\" class=\"dataframe\">\n",
       "  <thead>\n",
       "    <tr style=\"text-align: right;\">\n",
       "      <th></th>\n",
       "      <th>CHR</th>\n",
       "      <th>POS0</th>\n",
       "      <th>POS1</th>\n",
       "      <th>REF</th>\n",
       "      <th>ALT</th>\n",
       "      <th>META_DATA</th>\n",
       "      <th>log_counts_diff</th>\n",
       "      <th>log_probs_diff_abs_sum</th>\n",
       "      <th>probs_jsd_diff</th>\n",
       "      <th>chr</th>\n",
       "      <th>SNP_ID</th>\n",
       "      <th>SNPabspos</th>\n",
       "      <th>ref.element.count</th>\n",
       "      <th>alt.element.count</th>\n",
       "      <th>k562.ref.mean</th>\n",
       "      <th>k562.alt.mean</th>\n",
       "      <th>k562.wilcox.p.value</th>\n",
       "      <th>k562.wilcox.p.value.random</th>\n",
       "      <th>ref</th>\n",
       "      <th>alt</th>\n",
       "    </tr>\n",
       "  </thead>\n",
       "  <tbody>\n",
       "    <tr>\n",
       "      <th>0</th>\n",
       "      <td>chr10</td>\n",
       "      <td>100743726</td>\n",
       "      <td>100743727</td>\n",
       "      <td>T</td>\n",
       "      <td>G</td>\n",
       "      <td>chr10,rs56388618,100743727,280,26,4.8840568072...</td>\n",
       "      <td>-0.005992</td>\n",
       "      <td>-10.414602</td>\n",
       "      <td>-0.006427</td>\n",
       "      <td>chr10</td>\n",
       "      <td>rs56388618</td>\n",
       "      <td>100743727</td>\n",
       "      <td>280</td>\n",
       "      <td>26</td>\n",
       "      <td>4.884057</td>\n",
       "      <td>0.480017</td>\n",
       "      <td>5.445846e-04</td>\n",
       "      <td>0.905921</td>\n",
       "      <td>T</td>\n",
       "      <td>G</td>\n",
       "    </tr>\n",
       "    <tr>\n",
       "      <th>1</th>\n",
       "      <td>chr10</td>\n",
       "      <td>100743862</td>\n",
       "      <td>100743863</td>\n",
       "      <td>G</td>\n",
       "      <td>A</td>\n",
       "      <td>chr10,rs72836788,100743863,249,31,5.2643650822...</td>\n",
       "      <td>-0.018527</td>\n",
       "      <td>-13.355741</td>\n",
       "      <td>-0.009208</td>\n",
       "      <td>chr10</td>\n",
       "      <td>rs72836788</td>\n",
       "      <td>100743863</td>\n",
       "      <td>249</td>\n",
       "      <td>31</td>\n",
       "      <td>5.264365</td>\n",
       "      <td>1.078311</td>\n",
       "      <td>3.179459e-03</td>\n",
       "      <td>0.531716</td>\n",
       "      <td>G</td>\n",
       "      <td>A</td>\n",
       "    </tr>\n",
       "    <tr>\n",
       "      <th>2</th>\n",
       "      <td>chr10</td>\n",
       "      <td>106877985</td>\n",
       "      <td>106877986</td>\n",
       "      <td>T</td>\n",
       "      <td>C</td>\n",
       "      <td>chr10,rs12261208,106877986,300,100,1.013868211...</td>\n",
       "      <td>0.362648</td>\n",
       "      <td>204.451080</td>\n",
       "      <td>0.091435</td>\n",
       "      <td>chr10</td>\n",
       "      <td>rs12261208</td>\n",
       "      <td>106877986</td>\n",
       "      <td>300</td>\n",
       "      <td>100</td>\n",
       "      <td>1.013868</td>\n",
       "      <td>4.152651</td>\n",
       "      <td>7.011662e-19</td>\n",
       "      <td>0.419985</td>\n",
       "      <td>T</td>\n",
       "      <td>C</td>\n",
       "    </tr>\n",
       "    <tr>\n",
       "      <th>3</th>\n",
       "      <td>chr10</td>\n",
       "      <td>123102327</td>\n",
       "      <td>123102328</td>\n",
       "      <td>A</td>\n",
       "      <td>G</td>\n",
       "      <td>chr10,rs538962968,123102328,245,48,3.110560927...</td>\n",
       "      <td>0.211769</td>\n",
       "      <td>119.385520</td>\n",
       "      <td>0.052581</td>\n",
       "      <td>chr10</td>\n",
       "      <td>rs538962968</td>\n",
       "      <td>123102328</td>\n",
       "      <td>245</td>\n",
       "      <td>48</td>\n",
       "      <td>3.110561</td>\n",
       "      <td>7.604341</td>\n",
       "      <td>5.229041e-03</td>\n",
       "      <td>0.095112</td>\n",
       "      <td>A</td>\n",
       "      <td>G</td>\n",
       "    </tr>\n",
       "    <tr>\n",
       "      <th>4</th>\n",
       "      <td>chr10</td>\n",
       "      <td>1273019</td>\n",
       "      <td>1273020</td>\n",
       "      <td>T</td>\n",
       "      <td>C</td>\n",
       "      <td>chr10,rs7092481,1273020,115,180,33.34941992340...</td>\n",
       "      <td>-0.368375</td>\n",
       "      <td>-194.754790</td>\n",
       "      <td>-0.087116</td>\n",
       "      <td>chr10</td>\n",
       "      <td>rs7092481</td>\n",
       "      <td>1273020</td>\n",
       "      <td>115</td>\n",
       "      <td>180</td>\n",
       "      <td>33.349420</td>\n",
       "      <td>7.266472</td>\n",
       "      <td>1.742633e-12</td>\n",
       "      <td>0.329079</td>\n",
       "      <td>T</td>\n",
       "      <td>C</td>\n",
       "    </tr>\n",
       "  </tbody>\n",
       "</table>\n",
       "</div>"
      ],
      "text/plain": [
       "     CHR       POS0       POS1 REF ALT  \\\n",
       "0  chr10  100743726  100743727   T   G   \n",
       "1  chr10  100743862  100743863   G   A   \n",
       "2  chr10  106877985  106877986   T   C   \n",
       "3  chr10  123102327  123102328   A   G   \n",
       "4  chr10    1273019    1273020   T   C   \n",
       "\n",
       "                                           META_DATA  log_counts_diff  \\\n",
       "0  chr10,rs56388618,100743727,280,26,4.8840568072...        -0.005992   \n",
       "1  chr10,rs72836788,100743863,249,31,5.2643650822...        -0.018527   \n",
       "2  chr10,rs12261208,106877986,300,100,1.013868211...         0.362648   \n",
       "3  chr10,rs538962968,123102328,245,48,3.110560927...         0.211769   \n",
       "4  chr10,rs7092481,1273020,115,180,33.34941992340...        -0.368375   \n",
       "\n",
       "   log_probs_diff_abs_sum  probs_jsd_diff    chr       SNP_ID  SNPabspos  \\\n",
       "0              -10.414602       -0.006427  chr10   rs56388618  100743727   \n",
       "1              -13.355741       -0.009208  chr10   rs72836788  100743863   \n",
       "2              204.451080        0.091435  chr10   rs12261208  106877986   \n",
       "3              119.385520        0.052581  chr10  rs538962968  123102328   \n",
       "4             -194.754790       -0.087116  chr10    rs7092481    1273020   \n",
       "\n",
       "   ref.element.count  alt.element.count  k562.ref.mean  k562.alt.mean  \\\n",
       "0                280                 26       4.884057       0.480017   \n",
       "1                249                 31       5.264365       1.078311   \n",
       "2                300                100       1.013868       4.152651   \n",
       "3                245                 48       3.110561       7.604341   \n",
       "4                115                180      33.349420       7.266472   \n",
       "\n",
       "   k562.wilcox.p.value  k562.wilcox.p.value.random ref alt  \n",
       "0         5.445846e-04                    0.905921   T   G  \n",
       "1         3.179459e-03                    0.531716   G   A  \n",
       "2         7.011662e-19                    0.419985   T   C  \n",
       "3         5.229041e-03                    0.095112   A   G  \n",
       "4         1.742633e-12                    0.329079   T   C  "
      ]
     },
     "execution_count": 24,
     "metadata": {},
     "output_type": "execute_result"
    }
   ],
   "source": [
    "preds.head()"
   ]
  },
  {
   "cell_type": "code",
   "execution_count": 25,
   "metadata": {},
   "outputs": [
    {
     "data": {
      "text/plain": [
       "(580, 20)"
      ]
     },
     "execution_count": 25,
     "metadata": {},
     "output_type": "execute_result"
    }
   ],
   "source": [
    "preds.shape"
   ]
  },
  {
   "cell_type": "code",
   "execution_count": 26,
   "metadata": {},
   "outputs": [
    {
     "data": {
      "text/plain": [
       "Text(0.5, 1.0, 'Pearsonr = 0.39')"
      ]
     },
     "execution_count": 26,
     "metadata": {},
     "output_type": "execute_result"
    },
    {
     "data": {
      "image/png": "[encoded data removed]",
      "text/plain": [
       "<Figure size 432x288 with 1 Axes>"
      ]
     },
     "metadata": {
      "needs_background": "light"
     },
     "output_type": "display_data"
    }
   ],
   "source": [
    "import numpy as np\n",
    "from scipy.stats import pearsonr\n",
    "\n",
    "preds[\"Z_score_fixed\"] = np.log2((preds[\"k562.alt.mean\"]+1)/(preds[\"k562.ref.mean\"]+1))\n",
    "plt.scatter(preds[\"probs_jsd_diff\"], preds[\"Z_score_fixed\"].astype(float), s=1, c=\"b\", label=\"sig\")\n",
    "\n",
    "\n",
    "plt.xlabel(\"ChromBPNet Predicted Effect sizes\")\n",
    "plt.ylabel(\"Effect sizes\")\n",
    "plt.legend()\n",
    "plt.title(\"Pearsonr = \"+str(np.round(pearsonr(preds[\"probs_jsd_diff\"], preds[\"Z_score_fixed\"].astype(float))[0],2)))\n",
    "\n"
   ]
  },
  {
   "cell_type": "code",
   "execution_count": null,
   "metadata": {},
   "outputs": [],
   "source": []
  }
 ],
 "metadata": {
  "kernelspec": {
   "display_name": "Python 3",
   "language": "python",
   "name": "python3"
  },
  "language_info": {
   "codemirror_mode": {
    "name": "ipython",
    "version": 3
   },
   "file_extension": ".py",
   "mimetype": "text/x-python",
   "name": "python",
   "nbconvert_exporter": "python",
   "pygments_lexer": "ipython3",
   "version": "3.7.6"
  }
 },
 "nbformat": 4,
 "nbformat_minor": 4
}
