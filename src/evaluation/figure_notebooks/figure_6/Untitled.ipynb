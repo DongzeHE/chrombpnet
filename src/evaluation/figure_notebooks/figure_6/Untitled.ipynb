{
 "cells": [
  {
   "cell_type": "code",
   "execution_count": 1,
   "metadata": {},
   "outputs": [],
   "source": [
    "#dnase - 68M\n",
    "#Z = 17.242, p-value < 2.2e-16\n",
    "#atac - 572M\n",
    "#15.266, p-value < 2.2e-16\n",
    "#5M\n",
    "#Z = 10.377, p-value < 2.2e-16\n",
    "#25M\n",
    "#Z = 14.571, p-value < 2.2e-16\n",
    "#50M\n",
    "#Z = 14.64, p-value < 2.2e-16\n",
    "#100M\n",
    "#Z = 13.529, p-value < 2.2e-16\n",
    "#250M\n",
    "#Z = 14.128, p-value < 2.2e-16"
   ]
  },
  {
   "cell_type": "code",
   "execution_count": 2,
   "metadata": {},
   "outputs": [],
   "source": [
    "#ATAC 572M: z-score=15.266, p-value < 2.2e-16\n",
    "#ATAC 250M: z-score = 14.128, p-value < 2.2e-16\n",
    "#ATAC 100M: z-score = 13.529, p-value < 2.2e-16\n",
    "#ATAC 50M: z-score = 14.64, p-value < 2.2e-16\n",
    "#ATAC 25M: z-score = 14.571, p-value < 2.2e-16\n",
    "#ATAC 5M: z-score = 10.377, p-value < 2.2e-16\n",
    "#DNase 68M: z-score = 17.242, p-value < 2.2e-16"
   ]
  },
  {
   "cell_type": "code",
   "execution_count": null,
   "metadata": {},
   "outputs": [],
   "source": [
    "ATAC 572M: pearsonr=(0.70, 5.098456548656002e-30)\n",
    "ATAC 250M: pearsonr=(0.72, 1.4430138532416117e-32)\n",
    "ATAC 100M: pearsonr=(0.71, 2.322404481897675e-32)\n",
    "ATAC 50M: pearsonr=(0.71, 1.164568912468646e-31)\n",
    "ATAC 25M: pearsonr=(0.68, 4.180116226724785e-28)\n",
    "ATAC 5M: pearsonr=(0.68, 7.066187962297228e-29)\n",
    "DNase 68M: pearsonr=(0.71, 4.012924510609293e-32)\n"
   ]
  }
 ],
 "metadata": {
  "kernelspec": {
   "display_name": "Python 3",
   "language": "python",
   "name": "python3"
  },
  "language_info": {
   "codemirror_mode": {
    "name": "ipython",
    "version": 3
   },
   "file_extension": ".py",
   "mimetype": "text/x-python",
   "name": "python",
   "nbconvert_exporter": "python",
   "pygments_lexer": "ipython3",
   "version": "3.7.6"
  }
 },
 "nbformat": 4,
 "nbformat_minor": 4
}
