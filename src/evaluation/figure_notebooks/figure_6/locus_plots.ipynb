{
 "cells": [
  {
   "cell_type": "code",
   "execution_count": 1,
   "metadata": {
    "scrolled": true,
    "tags": []
   },
   "outputs": [
    {
     "name": "stderr",
     "output_type": "stream",
     "text": [
      "Loading required package: GenomicRanges\n",
      "\n",
      "Loading required package: stats4\n",
      "\n",
      "Loading required package: BiocGenerics\n",
      "\n",
      "Loading required package: parallel\n",
      "\n",
      "\n",
      "Attaching package: ‘BiocGenerics’\n",
      "\n",
      "\n",
      "The following objects are masked from ‘package:parallel’:\n",
      "\n",
      "    clusterApply, clusterApplyLB, clusterCall, clusterEvalQ,\n",
      "    clusterExport, clusterMap, parApply, parCapply, parLapply,\n",
      "    parLapplyLB, parRapply, parSapply, parSapplyLB\n",
      "\n",
      "\n",
      "The following objects are masked from ‘package:stats’:\n",
      "\n",
      "    IQR, mad, sd, var, xtabs\n",
      "\n",
      "\n",
      "The following objects are masked from ‘package:base’:\n",
      "\n",
      "    anyDuplicated, append, as.data.frame, basename, cbind, colnames,\n",
      "    dirname, do.call, duplicated, eval, evalq, Filter, Find, get, grep,\n",
      "    grepl, intersect, is.unsorted, lapply, Map, mapply, match, mget,\n",
      "    order, paste, pmax, pmax.int, pmin, pmin.int, Position, rank,\n",
      "    rbind, Reduce, rownames, sapply, setdiff, sort, table, tapply,\n",
      "    union, unique, unsplit, which.max, which.min\n",
      "\n",
      "\n",
      "Loading required package: S4Vectors\n",
      "\n",
      "\n",
      "Attaching package: ‘S4Vectors’\n",
      "\n",
      "\n",
      "The following object is masked from ‘package:base’:\n",
      "\n",
      "    expand.grid\n",
      "\n",
      "\n",
      "Loading required package: IRanges\n",
      "\n",
      "Loading required package: GenomeInfoDb\n",
      "\n",
      "\n",
      "Attaching package: ‘dplyr’\n",
      "\n",
      "\n",
      "The following objects are masked from ‘package:GenomicRanges’:\n",
      "\n",
      "    intersect, setdiff, union\n",
      "\n",
      "\n",
      "The following object is masked from ‘package:GenomeInfoDb’:\n",
      "\n",
      "    intersect\n",
      "\n",
      "\n",
      "The following objects are masked from ‘package:IRanges’:\n",
      "\n",
      "    collapse, desc, intersect, setdiff, slice, union\n",
      "\n",
      "\n",
      "The following objects are masked from ‘package:S4Vectors’:\n",
      "\n",
      "    first, intersect, rename, setdiff, setequal, union\n",
      "\n",
      "\n",
      "The following objects are masked from ‘package:BiocGenerics’:\n",
      "\n",
      "    combine, intersect, setdiff, union\n",
      "\n",
      "\n",
      "The following objects are masked from ‘package:stats’:\n",
      "\n",
      "    filter, lag\n",
      "\n",
      "\n",
      "The following objects are masked from ‘package:base’:\n",
      "\n",
      "    intersect, setdiff, setequal, union\n",
      "\n",
      "\n"
     ]
    }
   ],
   "source": [
    "library(ggplot2)\n",
    "library(ggseqlogo)\n",
    "library(rtracklayer)\n",
    "library(patchwork)\n",
    "\n",
    "library(GenomicRanges)\n",
    "library(readr)\n",
    "library(magrittr)\n",
    "library(dplyr)\n"
   ]
  },
  {
   "cell_type": "code",
   "execution_count": 2,
   "metadata": {
    "tags": []
   },
   "outputs": [
    {
     "name": "stderr",
     "output_type": "stream",
     "text": [
      "Loading required package: BSgenome\n",
      "\n",
      "Loading required package: Biostrings\n",
      "\n",
      "Loading required package: XVector\n",
      "\n",
      "\n",
      "Attaching package: ‘Biostrings’\n",
      "\n",
      "\n",
      "The following object is masked from ‘package:base’:\n",
      "\n",
      "    strsplit\n",
      "\n",
      "\n",
      "\n",
      "Attaching package: ‘BSgenome.Hsapiens.UCSC.hg38’\n",
      "\n",
      "\n",
      "The following object is masked from ‘package:BSgenome.Hsapiens.UCSC.hg19’:\n",
      "\n",
      "    Hsapiens\n",
      "\n",
      "\n"
     ]
    }
   ],
   "source": [
    "library(BSgenome.Hsapiens.UCSC.hg19)\n",
    "library(BSgenome.Hsapiens.UCSC.hg38)\n",
    "\n",
    "genome19 = BSgenome.Hsapiens.UCSC.hg19\n",
    "genome38 = BSgenome.Hsapiens.UCSC.hg38\n",
    "\n"
   ]
  },
  {
   "cell_type": "code",
   "execution_count": 3,
   "metadata": {},
   "outputs": [],
   "source": [
    "#config = read.table(\"./GM12878_corrected_scaled.tsv\", header=T, stringsAsFactors=F, sep='\\t')\n",
    "#config\n",
    "\n",
    "#region_coorda"
   ]
  },
  {
   "cell_type": "markdown",
   "metadata": {},
   "source": [
    "## Load Data"
   ]
  },
  {
   "cell_type": "code",
   "execution_count": 4,
   "metadata": {},
   "outputs": [],
   "source": [
    "# one bigwig at a time, any number of peaks\n",
    "get_matrix_from_bigwig <- function(bigwig_path, peak_set) {\n",
    "    # ensure peak set has fixed width\n",
    "    stopifnot(length(unique(width(peak_set)))==1)\n",
    "    \n",
    "    as.matrix(import(bigwig_path, \n",
    "      which=peak_set, as=\"NumericList\"))\n",
    "}\n",
    "\n",
    "# one bigwig, one peak (GRanges object)\n",
    "get_importance_from_bigwig <- function(bigwig_path, peak, genome) {\n",
    "    stopifnot(length(peak)==1)\n",
    "    \n",
    "    # get DNA sequence\n",
    "    sequence = genome\n",
    "    #sequence = genome[[as.vector(seqnames(peak))]][start(peak):end(peak)]\n",
    "    #sequence = DNAString(\"G\")\n",
    "    m = matrix(0, length(sequence), 4)\n",
    "    colnames(m) = c(\"A\", \"C\", \"G\", \"T\")\n",
    "    m[cbind(seq(length(sequence)), as.vector(matrix(sequence)))] = get_matrix_from_bigwig(bigwig_path, peak)\n",
    "\n",
    "    t(m)\n",
    "}"
   ]
  },
  {
   "cell_type": "code",
   "execution_count": 5,
   "metadata": {},
   "outputs": [],
   "source": [
    "GRangesFromDataFrames<-function(dataframe){with(dataframe,GRanges(IRanges(start=start,end=end),seqnames=seqnames,strand=strand,dataframe%>%dplyr::select(-strand,-start,-end,-seqnames)))}\n",
    "\n",
    "calculate_total_value_and_length <- function(bw_path,region){\n",
    "    total_value = as.integer(sum(as.vector(get_matrix_from_bigwig(bw_path, region))))\n",
    "    length = length(as.vector(get_matrix_from_bigwig(bw_path, region)))\n",
    "    df = data.frame(total_value=total_value,length=length)\n",
    "    df\n",
    "}\n",
    "\n",
    "calculate_normalization_value <- function(bw_path,peaks_path,mc.cores=40){\n",
    "        peaks_df = read_tsv(peaks_path,\n",
    "                         col_names=c(\"seqnames\",\"start\",\"end\",\"name\",\"score\",\"strand\",\"p\",\"q\",\"x\",\"summit\"),\n",
    "                         show_col_types = FALSE)\n",
    "        peaks_df['strand']<-'*'\n",
    "        valid_chrs = c('chr1',\"chr2\",\"chr3\",\"chr4\",\"chr5\",\"chr6\",\"chr7\",\"chr8\",\"chr9\",\"chr10\",\n",
    "                                 \"chr11\",\"chr12\",\"chr13\",\"chr14\",\"chr15\",\"chr16\",\"chr17\",\"chr18\",\"chr19\",\"chr20\",\n",
    "                                 \"chr21\",\"chrX\",\"chrY\")\n",
    "        peaks_df[peaks_df[[\"seqnames\"]] %in% valid_chrs,]\n",
    "        peaks_gr = GRangesFromDataFrames(peaks_df)\n",
    "\n",
    "        peaks_gr = keepSeqlevels(peaks_gr, c('chr1',\"chr2\",\"chr3\",\"chr4\",\"chr5\",\"chr6\",\"chr7\",\"chr8\",\"chr9\",\"chr10\",\n",
    "                                 \"chr11\",\"chr12\",\"chr13\",\"chr14\",\"chr15\",\"chr16\",\"chr17\",\"chr18\",\"chr19\",\"chr20\",\n",
    "                                 \"chr21\",\"chrX\"), pruning.mode=\"coarse\")\n",
    "\n",
    "        print(bw_path)\n",
    "        1:length(peaks_gr) %>% mclapply(function(i){\n",
    "                                        calculate_total_value_and_length(bw_path,peaks_gr[i])\n",
    "                                        },mc.cores=mc.cores\n",
    "                                        ) %>% bind_rows() -> normalization_df\n",
    "\n",
    "        sum(normalization_df[\"total_value\"])/sum(normalization_df[\"length\"])\n",
    "}\n",
    "\n"
   ]
  },
  {
   "cell_type": "markdown",
   "metadata": {},
   "source": [
    "## Plot types"
   ]
  },
  {
   "cell_type": "code",
   "execution_count": 6,
   "metadata": {},
   "outputs": [],
   "source": [
    "TITLE_SZ = 16"
   ]
  },
  {
   "cell_type": "markdown",
   "metadata": {},
   "source": [
    "### Importance"
   ]
  },
  {
   "cell_type": "code",
   "execution_count": 7,
   "metadata": {},
   "outputs": [],
   "source": [
    "plot_seq <- function(m, ymin=NULL, ymax=NULL, clip=F) {\n",
    "    mat = m\n",
    "    \n",
    "#     rownames(mat) = c(\"A\", \"C\", \"G\", \"T\")\n",
    "    \n",
    "    # cap to upper and lower limits\n",
    "    if (clip==T) {\n",
    "        if (!is.null(ymin)) {\n",
    "            mat[mat<ymin] = ymin\n",
    "        }\n",
    "        \n",
    "        if (!is.null(ymax)) {\n",
    "            mat[mat>ymax] = ymax\n",
    "        }\n",
    "    }\n",
    "    \n",
    "\n",
    "    p = ggseqlogo(mat, method='custom', seq_type='dna') \n",
    "    \n",
    "    p = (p + \n",
    "         theme_classic() + \n",
    "         coord_cartesian(ylim=c(ymin, ymax)) + \n",
    "         expand_limits(x=0, y=0) +\n",
    "         #scale_y_continuous(breaks=c(ymin, ymax)) +\n",
    "         theme(axis.ticks.x = element_blank(), axis.text.x = element_blank(),axis.title.x = element_blank(),axis.line.x = element_blank()))\n",
    "    \n",
    "    p = p \n",
    "    #+ theme(axis.ticks.y = element_blank(),axis.text.y = element_blank())\n",
    "\n",
    "    p\n",
    "}\n",
    "\n",
    "plot_importance <- function(bigwig_path, region, genome, ylabel, ymin=NULL, ymax=NULL, clip=F) {\n",
    "    plot_seq(get_importance_from_bigwig(bigwig_path, region, genome), ymin=ymin, ymax=ymax, clip=clip) +\n",
    "        ylab(gsub(\"\\\\\\\\n\", \"\\n\", ylabel)) +\n",
    "        theme(axis.title.y = element_text(angle=0, size=TITLE_SZ, hjust=0.5, vjust=0.5))\n",
    "}"
   ]
  },
  {
   "cell_type": "markdown",
   "metadata": {},
   "source": [
    "### Single Track"
   ]
  },
  {
   "cell_type": "code",
   "execution_count": 8,
   "metadata": {},
   "outputs": [],
   "source": [
    "plot_single_vals <- function(v, ymin=NULL, ymax=NULL, \n",
    "                             clip=F, fill=T, \n",
    "                             col='#37ada2',x_width) {\n",
    "    vals = v\n",
    "    \n",
    "#     rownames(mat) = c(\"A\", \"C\", \"G\", \"T\")\n",
    "    \n",
    "    # cap to upper and lower limits\n",
    "    if (clip==T) {\n",
    "        if (!is.null(ymin)) {\n",
    "            vals[vals<ymin] = ymin\n",
    "        }\n",
    "        \n",
    "        if (!is.null(ymax)) {\n",
    "            vals[vals>ymax] = ymax\n",
    "        }\n",
    "    }\n",
    "    \n",
    "    p = ggplot(data.frame(x=seq(length(vals)), y=vals), aes(x=x,y=y)) \n",
    "    \n",
    "    if (fill==T) {\n",
    "        p = p + geom_area(fill=col)\n",
    "    }\n",
    "    \n",
    "    else {\n",
    "        p = p + geom_line(col=col)\n",
    "    }\n",
    "    \n",
    "    p = (p + \n",
    "         theme_classic() + \n",
    "         coord_cartesian(ylim=c(ymin, ymax)) + \n",
    "         expand_limits(x=0, y=0) +\n",
    "         #scale_y_continuous(breaks=pretty(c(0, max(max(vals1),max(vals2))),n=2,min.n=1)) +\n",
    "         #scale_y_continuous(breaks=c(0, ymax)) +\n",
    "       \n",
    "         #coord_cartesian(ylim=c(0, ceiling(max(vals)))) + \n",
    "         #expand_limits(x=0, y=0) +\n",
    "         #scale_y_continuous(breaks=pretty(c(0, max(vals)),n=2,min.n=1)) +\n",
    "         #scale_y_continuous(breaks=c(0, ceiling(max(vals)))) +\n",
    "         theme(axis.ticks.x = element_blank(), axis.text.x = element_blank(),axis.title.x = element_blank(),axis.line.x = element_blank()))\n",
    "    \n",
    "    p = p + theme(axis.text.y = element_text(size=14))\n",
    "    \n",
    "    p\n",
    "}\n",
    "\n",
    "plot_single <- function(bigwig_path, region, \n",
    "                        ylabel, ymin=NULL, ymax=NULL, \n",
    "                        fill=T, col='#37ada2', clip=F,\n",
    "                        normalize = FALSE,normalization_value=None, normalization_region,normalization_file) {\n",
    "    v1 = as.vector(get_matrix_from_bigwig(bigwig_path, region))\n",
    "    if (normalize){\n",
    "        #normalization_value = calculate_normalization_value(normalization_file,normalization_region)\n",
    "        print(max(v1))\n",
    "        print(normalization_value)\n",
    "        v1=(v1/normalization_value)\n",
    "        print(max(v1))\n",
    "    }\n",
    "    plot_single_vals(v1, ymin=ymin, ymax=ymax, clip=clip, fill=fill, col=col, x_width=width(region)) +\n",
    "        ylab(gsub(\"\\\\\\\\n\", \"\\n\", ylabel)) +\n",
    "        theme(axis.title.y = element_text(angle=0, size=TITLE_SZ, hjust=0.5,  vjust=0.5))\n",
    "}"
   ]
  },
  {
   "cell_type": "code",
   "execution_count": 9,
   "metadata": {},
   "outputs": [],
   "source": [
    "## scale\n"
   ]
  },
  {
   "cell_type": "code",
   "execution_count": 10,
   "metadata": {},
   "outputs": [],
   "source": [
    "plot_scale_vals <- function(v, col='#a9d1ac') {\n",
    "    vals = v\n",
    "    \n",
    "    p = ggplot(data.frame(x=seq(length(vals)), y=0), aes(x=x,y=y)) \n",
    "    \n",
    "   \n",
    "    p = p + geom_line(col=col)\n",
    "\n",
    "    p = (p + \n",
    "         theme_classic() + \n",
    "         expand_limits(x=0, y=0) +\n",
    "         scale_x_continuous(breaks=pretty(c(0, length(vals)/10),n=2,min.n=1)) +\n",
    "         theme(axis.ticks.y = element_blank(), axis.text.y = element_blank(),axis.title = element_blank(),axis.line.y = element_blank())\n",
    "        ) \n",
    "    \n",
    "    p\n",
    "}\n",
    "\n",
    "plot_scale <- function(bigwig_path, region, ylabel, ymin=NULL, ymax=NULL, fill=T, col='#37ada2', clip=F) {\n",
    "    plot_scale_vals(as.vector(get_matrix_from_bigwig(bigwig_path, region)), col=col) +\n",
    "        ylab(ylabel) +\n",
    "        theme(axis.title.y = element_text(angle=0, size=TITLE_SZ, hjust=0.5, vjust=0.5))\n",
    "}"
   ]
  },
  {
   "cell_type": "markdown",
   "metadata": {},
   "source": [
    "### Stranded Track"
   ]
  },
  {
   "cell_type": "code",
   "execution_count": 11,
   "metadata": {},
   "outputs": [],
   "source": [
    "plot_stranded_vals <- function(v1, v2, ymin=NULL, \n",
    "                               ymax=NULL, clip=F, \n",
    "                               col1='blue', col2='orange') {\n",
    "    vals1 = v1\n",
    "    vals2 = v2\n",
    "    \n",
    "#     rownames(mat) = c(\"A\", \"C\", \"G\", \"T\")\n",
    "    \n",
    "    # cap to upper and lower limits\n",
    "    if (clip==T) {\n",
    "        if (!is.null(ymin)) {\n",
    "            vals1[vals1<ymin] = ymin\n",
    "            vals2[vals2<ymin] = ymin\n",
    "        }\n",
    "        \n",
    "        if (!is.null(ymax)) {\n",
    "            vals1[vals1>ymax] = ymax\n",
    "            vals2[vals2>ymax] = ymax\n",
    "        }\n",
    "    }\n",
    "    \n",
    "    p = ggplot(data.frame(x=seq(length(vals1)), y1=vals1, y2=vals2)) +\n",
    "        geom_area(aes(x=x, y=y1), fill=col1, alpha = 0.8) +\n",
    "        geom_area(aes(x=x, y=y2), fill=col2, alpha = 0.8) \n",
    "\n",
    "    p = (p + \n",
    "         theme_classic() + \n",
    "         coord_cartesian(ylim=c(ymin, ymax)) + \n",
    "         expand_limits(x=0, y=0) +\n",
    "         #scale_y_continuous(breaks=pretty(c(0, max(max(vals1),max(vals2))),n=2,min.n=1)) +\n",
    "         scale_y_continuous(breaks=c(0, ymax)) +\n",
    "\n",
    "         theme(axis.ticks.x = element_blank(), axis.text.x = element_blank(),axis.title.x = element_blank(),axis.line.x = element_blank()))\n",
    "    \n",
    "    p\n",
    "\n",
    "}\n",
    "\n",
    "plot_stranded <- function(bigwig_prefix, region, ylabel, ymin=NULL, ymax=NULL,\n",
    "                          clip=F, col1='blue', col2='orange',\n",
    "                          normalize = FALSE,normalization_region,normalization_file_prefix) {\n",
    "    # plus and minus should be bigwig_prefix + \"plus.bw\" and bigwig_prefix + \"minus.bw\"\n",
    "    \n",
    "    v1 = as.vector(get_matrix_from_bigwig(paste(bigwig_prefix, \"_plus.bw\", sep='') , region))\n",
    "    v2 = as.vector(get_matrix_from_bigwig(paste(bigwig_prefix, \"_minus.bw\", sep='') , region))\n",
    "    if (normalize){\n",
    "        normalization_value = calculate_normalization_value(paste(normalization_file_prefix, \"pos.bw\", sep=''),normalization_region)\n",
    "        v1=(v1/normalization_value)\n",
    "    } \n",
    "    if (normalize){\n",
    "        normalization_value = calculate_normalization_value(paste(normalization_file_prefix, \"neg.bw\", sep=''),normalization_region)\n",
    "        v2=(v2/normalization_value)\n",
    "    } \n",
    "    plot_stranded_vals(v1, v2, ymin=ymin, ymax=ymax, clip=clip, col1=col1, col2=col2) + \n",
    "        ylab(ylabel) + \n",
    "        theme(axis.title.y = element_text(angle=0, size=TITLE_SZ, hjust=0)) +\n",
    "        theme(axis.text.y = element_text(size=14))\n",
    "}"
   ]
  },
  {
   "cell_type": "markdown",
   "metadata": {},
   "source": [
    "## Generate plots from config"
   ]
  },
  {
   "cell_type": "code",
   "execution_count": 26,
   "metadata": {},
   "outputs": [],
   "source": [
    "#my_list <- list(\"#E00FEE\", \"#E00FEE\", \"#7B241C\", \"red\", \"#4A235A\", \"#4A235A\", \"#239B56\", \"blue\")\n",
    "#my_list <- list(\"#4A235A\", \"#4A235A\", \"#239B56\", \"blue\")\n",
    "#my_list <- list(\"#E00FEE\", \"#E00FEE\", \"null\", \"#458B00\", \"null\", \"#0000FF\", \"null\", \"#A52A2A\", \"null\", \"#A52A2A\", \"null\", \"#A52A2A\", \"null\")\n",
    "\n",
    "generate_plots <- function(config, region, genome) {\n",
    "    plots = list()\n",
    "    \n",
    "    # configure for different relative heights for single, stranded and dynseq tracks\n",
    "    REL_HEIGHTS = c(single=1, stranded=1, dynseq=1.5, scale =0.5)\n",
    "    \n",
    "    heights = c()\n",
    "    \n",
    "    for (i in seq(nrow(config))) {\n",
    "        print(config$sample[i])\n",
    "        if (config$type[i] == \"dynseq\") {\n",
    "            \n",
    "            sequence = genome[[as.vector(seqnames(region))]][start(region):end(region)]\n",
    "            \n",
    "            if (config$genome[i] == \"hg19\"){\n",
    "            genome = genome19\n",
    "            if (grepl(\"ALT\", config$sample[i], fixed = TRUE)){\n",
    "                print(sequence[44116809-start(region)+2])\n",
    "                sequence[44116809-start(region)+2] = DNAString(\"G\")\n",
    "                }\n",
    "            }\n",
    "            \n",
    "            if (config$genome[i] == \"hg38\"){\n",
    "            genome = genome38\n",
    "            if (grepl(\"ALT\", config$sample[i], fixed = TRUE)){\n",
    "                print(sequence[43720929-start(region)+2])\n",
    "                sequence[43720929-start(region)+2] = DNAString(\"G\")\n",
    "                }\n",
    "            }\n",
    "            plots[[i]] = plot_importance(config$path[i], region, sequence, config$sample[i], ymin=as.double(config$Min[i]), ymax=as.double(config$Max[i]), clip=T)            \n",
    "        }\n",
    "        \n",
    "        else if (config$type[i] == \"single\") {\n",
    "            #print(i)\n",
    "            #print(my_list[i])\n",
    "            #print(paste(\"#\",config$Color[i],sep=\"\"))\n",
    "            plots[[i]] = plot_single(config$path[i], region, \n",
    "                                     config$sample[i],\n",
    "                                     col=paste(\"#\",config$Color[i],sep=\"\"),\n",
    "                                     ymin=as.double(config$Min[i]), ymax=as.double(config$Max[i]),\n",
    "                                     normalization_value=NA,\n",
    "                                     normalize=FALSE,\n",
    "                                     normalization_region=config$normalization_region[i],\n",
    "                                     normalization_file=config$normalization_file[i]\n",
    "                                    )\n",
    "            \n",
    "        }\n",
    "        \n",
    "        else if (config$type[i] == \"stranded\") {\n",
    "            plots[[i]] = plot_stranded(config$path[i], region, config$sample[i],\n",
    "                                     normalize=config$normalize[i],\n",
    "                                     ymin=as.double(config$Min[i]), ymax=as.double(config$Max[i]),\n",
    "                                     normalization_region=config$normalization_region[i],\n",
    "                                     normalization_file=config$normalization_file[i])\n",
    "        }\n",
    "        else if (config$type[i] == \"scale\") {\n",
    "            plots[[i]] = plot_scale(config$path[i], region, config$sample[i])\n",
    "        }\n",
    "        \n",
    "        heights = c(heights, REL_HEIGHTS[config$type[i]])        \n",
    "        \n",
    "    }\n",
    "    \n",
    "    main = wrap_plots(plots, heights=heights)\n",
    "    main\n",
    "}"
   ]
  },
  {
   "cell_type": "markdown",
   "metadata": {},
   "source": [
    "## Plotting\n",
    "    "
   ]
  },
  {
   "cell_type": "code",
   "execution_count": 56,
   "metadata": {},
   "outputs": [
    {
     "data": {
      "text/html": [
       "<table class=\"dataframe\">\n",
       "<caption>A data.frame: 12 × 11</caption>\n",
       "<thead>\n",
       "\t<tr><th scope=col>sample</th><th scope=col>path</th><th scope=col>normalize</th><th scope=col>normalization_region</th><th scope=col>normalization_file</th><th scope=col>type</th><th scope=col>Min</th><th scope=col>Max</th><th scope=col>Scale</th><th scope=col>Color</th><th scope=col>genome</th></tr>\n",
       "\t<tr><th scope=col>&lt;chr&gt;</th><th scope=col>&lt;chr&gt;</th><th scope=col>&lt;lgl&gt;</th><th scope=col>&lt;chr&gt;</th><th scope=col>&lt;chr&gt;</th><th scope=col>&lt;chr&gt;</th><th scope=col>&lt;chr&gt;</th><th scope=col>&lt;chr&gt;</th><th scope=col>&lt;chr&gt;</th><th scope=col>&lt;chr&gt;</th><th scope=col>&lt;chr&gt;</th></tr>\n",
       "</thead>\n",
       "<tbody>\n",
       "\t<tr><td>Chip REF prediction </td><td>/oak/stanford/groups/akundaje/anusri/dynseq-paper/SPI1_bQTL/bigwigs/chip_pred_ref                                                                                              </td><td>FALSE</td><td>None</td><td>None</td><td>stranded</td><td>0   </td><td>0.1 </td><td>None</td><td>E00FEE</td><td>hg38</td></tr>\n",
       "\t<tr><td>Chip ALT prediction </td><td>/oak/stanford/groups/akundaje/anusri/dynseq-paper/SPI1_bQTL/bigwigs/chip_pred_alt                                                                                              </td><td>FALSE</td><td>None</td><td>None</td><td>stranded</td><td>0   </td><td>0.1 </td><td>None</td><td>458B00</td><td>hg38</td></tr>\n",
       "\t<tr><td>Chip REF importance </td><td>/oak/stanford/groups/akundaje/anusri/dynseq-paper/SPI1_bQTL/bigwigs/chip_imp_ref.bw                                                                                            </td><td>FALSE</td><td>None</td><td>None</td><td>dynseq  </td><td>0   </td><td>0.5 </td><td>None</td><td>943126</td><td>hg38</td></tr>\n",
       "\t<tr><td>Chip ALT importance </td><td>/oak/stanford/groups/akundaje/anusri/dynseq-paper/SPI1_bQTL/bigwigs/chip_imp_alt.bw                                                                                            </td><td>FALSE</td><td>None</td><td>None</td><td>dynseq  </td><td>0   </td><td>0.5 </td><td>None</td><td>943126</td><td>hg38</td></tr>\n",
       "\t<tr><td>ATAC REF prediction </td><td>/mnt/lab_data2/anusri/chrombpnet/results/chrombpnet/ATAC_PE/GM12878/nautilus_runs/GM12878_03.01.2022_bias_128_4_1234_0.4_fold_0/bqtls_pu1_interpret//bigwigs/profile_ref.bw    </td><td>FALSE</td><td>None</td><td>None</td><td>single  </td><td>0   </td><td>6   </td><td>None</td><td>0E6655</td><td>hg19</td></tr>\n",
       "\t<tr><td>ATAC ALT prediction </td><td>/mnt/lab_data2/anusri/chrombpnet/results/chrombpnet/ATAC_PE/GM12878/nautilus_runs/GM12878_03.01.2022_bias_128_4_1234_0.4_fold_0/bqtls_pu1_interpret//bigwigs/profile_alt.bw    </td><td>FALSE</td><td>None</td><td>None</td><td>single  </td><td>None</td><td>None</td><td>None</td><td>0E6655</td><td>hg19</td></tr>\n",
       "\t<tr><td>ATAC REF importance </td><td>/mnt/lab_data2/anusri/chrombpnet/results/chrombpnet/ATAC_PE/GM12878/nautilus_runs/GM12878_03.01.2022_bias_128_4_1234_0.4_fold_0/bqtls_pu1_interpret//bigwigs/count_shap_ref.bw </td><td>FALSE</td><td>None</td><td>None</td><td>dynseq  </td><td>0   </td><td>0.2 </td><td>None</td><td>943126</td><td>hg19</td></tr>\n",
       "\t<tr><td>ATAC ALT importance </td><td>/mnt/lab_data2/anusri/chrombpnet/results/chrombpnet/ATAC_PE/GM12878/nautilus_runs/GM12878_03.01.2022_bias_128_4_1234_0.4_fold_0/bqtls_pu1_interpret//bigwigs/count_shap_alt.bw </td><td>FALSE</td><td>None</td><td>None</td><td>dynseq  </td><td>0   </td><td>0.2 </td><td>None</td><td>943126</td><td>hg19</td></tr>\n",
       "\t<tr><td>DNase REF prediction</td><td>/mnt/lab_data2/anusri/chrombpnet/results/chrombpnet/DNASE_SE/GM12878/nautilus_runs/GM12878_03.06.2022_bias_128_4_1234_0.8_fold_0/bqtls_pu1_interpret//bigwigs/profile_ref.bw   </td><td>FALSE</td><td>None</td><td>None</td><td>single  </td><td>0   </td><td>0.6 </td><td>None</td><td>21618C</td><td>hg19</td></tr>\n",
       "\t<tr><td>DNase ALT prediction</td><td>/mnt/lab_data2/anusri/chrombpnet/results/chrombpnet/DNASE_SE/GM12878/nautilus_runs/GM12878_03.06.2022_bias_128_4_1234_0.8_fold_0/bqtls_pu1_interpret//bigwigs//profile_alt.bw  </td><td>FALSE</td><td>None</td><td>None</td><td>single  </td><td>None</td><td>None</td><td>None</td><td>21618C</td><td>hg19</td></tr>\n",
       "\t<tr><td>DNase REF importance</td><td>/mnt/lab_data2/anusri/chrombpnet/results/chrombpnet/DNASE_SE/GM12878/nautilus_runs/GM12878_03.06.2022_bias_128_4_1234_0.8_fold_0/bqtls_pu1_interpret//bigwigs/count_shap_ref.bw</td><td>FALSE</td><td>None</td><td>None</td><td>dynseq  </td><td>0   </td><td>0.15</td><td>None</td><td>943126</td><td>hg19</td></tr>\n",
       "\t<tr><td>DNase ALT importance</td><td>/mnt/lab_data2/anusri/chrombpnet/results/chrombpnet/DNASE_SE/GM12878/nautilus_runs/GM12878_03.06.2022_bias_128_4_1234_0.8_fold_0/bqtls_pu1_interpret//bigwigs/count_shap_alt.bw</td><td>FALSE</td><td>None</td><td>None</td><td>dynseq  </td><td>0   </td><td>0.15</td><td>None</td><td>943126</td><td>hg19</td></tr>\n",
       "</tbody>\n",
       "</table>\n"
      ],
      "text/latex": [
       "A data.frame: 12 × 11\n",
       "\\begin{tabular}{lllllllllll}\n",
       " sample & path & normalize & normalization\\_region & normalization\\_file & type & Min & Max & Scale & Color & genome\\\\\n",
       " <chr> & <chr> & <lgl> & <chr> & <chr> & <chr> & <chr> & <chr> & <chr> & <chr> & <chr>\\\\\n",
       "\\hline\n",
       "\t Chip REF prediction  & /oak/stanford/groups/akundaje/anusri/dynseq-paper/SPI1\\_bQTL/bigwigs/chip\\_pred\\_ref                                                                                               & FALSE & None & None & stranded & 0    & 0.1  & None & E00FEE & hg38\\\\\n",
       "\t Chip ALT prediction  & /oak/stanford/groups/akundaje/anusri/dynseq-paper/SPI1\\_bQTL/bigwigs/chip\\_pred\\_alt                                                                                               & FALSE & None & None & stranded & 0    & 0.1  & None & 458B00 & hg38\\\\\n",
       "\t Chip REF importance  & /oak/stanford/groups/akundaje/anusri/dynseq-paper/SPI1\\_bQTL/bigwigs/chip\\_imp\\_ref.bw                                                                                             & FALSE & None & None & dynseq   & 0    & 0.5  & None & 943126 & hg38\\\\\n",
       "\t Chip ALT importance  & /oak/stanford/groups/akundaje/anusri/dynseq-paper/SPI1\\_bQTL/bigwigs/chip\\_imp\\_alt.bw                                                                                             & FALSE & None & None & dynseq   & 0    & 0.5  & None & 943126 & hg38\\\\\n",
       "\t ATAC REF prediction  & /mnt/lab\\_data2/anusri/chrombpnet/results/chrombpnet/ATAC\\_PE/GM12878/nautilus\\_runs/GM12878\\_03.01.2022\\_bias\\_128\\_4\\_1234\\_0.4\\_fold\\_0/bqtls\\_pu1\\_interpret//bigwigs/profile\\_ref.bw     & FALSE & None & None & single   & 0    & 6    & None & 0E6655 & hg19\\\\\n",
       "\t ATAC ALT prediction  & /mnt/lab\\_data2/anusri/chrombpnet/results/chrombpnet/ATAC\\_PE/GM12878/nautilus\\_runs/GM12878\\_03.01.2022\\_bias\\_128\\_4\\_1234\\_0.4\\_fold\\_0/bqtls\\_pu1\\_interpret//bigwigs/profile\\_alt.bw     & FALSE & None & None & single   & None & None & None & 0E6655 & hg19\\\\\n",
       "\t ATAC REF importance  & /mnt/lab\\_data2/anusri/chrombpnet/results/chrombpnet/ATAC\\_PE/GM12878/nautilus\\_runs/GM12878\\_03.01.2022\\_bias\\_128\\_4\\_1234\\_0.4\\_fold\\_0/bqtls\\_pu1\\_interpret//bigwigs/count\\_shap\\_ref.bw  & FALSE & None & None & dynseq   & 0    & 0.2  & None & 943126 & hg19\\\\\n",
       "\t ATAC ALT importance  & /mnt/lab\\_data2/anusri/chrombpnet/results/chrombpnet/ATAC\\_PE/GM12878/nautilus\\_runs/GM12878\\_03.01.2022\\_bias\\_128\\_4\\_1234\\_0.4\\_fold\\_0/bqtls\\_pu1\\_interpret//bigwigs/count\\_shap\\_alt.bw  & FALSE & None & None & dynseq   & 0    & 0.2  & None & 943126 & hg19\\\\\n",
       "\t DNase REF prediction & /mnt/lab\\_data2/anusri/chrombpnet/results/chrombpnet/DNASE\\_SE/GM12878/nautilus\\_runs/GM12878\\_03.06.2022\\_bias\\_128\\_4\\_1234\\_0.8\\_fold\\_0/bqtls\\_pu1\\_interpret//bigwigs/profile\\_ref.bw    & FALSE & None & None & single   & 0    & 0.6  & None & 21618C & hg19\\\\\n",
       "\t DNase ALT prediction & /mnt/lab\\_data2/anusri/chrombpnet/results/chrombpnet/DNASE\\_SE/GM12878/nautilus\\_runs/GM12878\\_03.06.2022\\_bias\\_128\\_4\\_1234\\_0.8\\_fold\\_0/bqtls\\_pu1\\_interpret//bigwigs//profile\\_alt.bw   & FALSE & None & None & single   & None & None & None & 21618C & hg19\\\\\n",
       "\t DNase REF importance & /mnt/lab\\_data2/anusri/chrombpnet/results/chrombpnet/DNASE\\_SE/GM12878/nautilus\\_runs/GM12878\\_03.06.2022\\_bias\\_128\\_4\\_1234\\_0.8\\_fold\\_0/bqtls\\_pu1\\_interpret//bigwigs/count\\_shap\\_ref.bw & FALSE & None & None & dynseq   & 0    & 0.15 & None & 943126 & hg19\\\\\n",
       "\t DNase ALT importance & /mnt/lab\\_data2/anusri/chrombpnet/results/chrombpnet/DNASE\\_SE/GM12878/nautilus\\_runs/GM12878\\_03.06.2022\\_bias\\_128\\_4\\_1234\\_0.8\\_fold\\_0/bqtls\\_pu1\\_interpret//bigwigs/count\\_shap\\_alt.bw & FALSE & None & None & dynseq   & 0    & 0.15 & None & 943126 & hg19\\\\\n",
       "\\end{tabular}\n"
      ],
      "text/markdown": [
       "\n",
       "A data.frame: 12 × 11\n",
       "\n",
       "| sample &lt;chr&gt; | path &lt;chr&gt; | normalize &lt;lgl&gt; | normalization_region &lt;chr&gt; | normalization_file &lt;chr&gt; | type &lt;chr&gt; | Min &lt;chr&gt; | Max &lt;chr&gt; | Scale &lt;chr&gt; | Color &lt;chr&gt; | genome &lt;chr&gt; |\n",
       "|---|---|---|---|---|---|---|---|---|---|---|\n",
       "| Chip REF prediction  | /oak/stanford/groups/akundaje/anusri/dynseq-paper/SPI1_bQTL/bigwigs/chip_pred_ref                                                                                               | FALSE | None | None | stranded | 0    | 0.1  | None | E00FEE | hg38 |\n",
       "| Chip ALT prediction  | /oak/stanford/groups/akundaje/anusri/dynseq-paper/SPI1_bQTL/bigwigs/chip_pred_alt                                                                                               | FALSE | None | None | stranded | 0    | 0.1  | None | 458B00 | hg38 |\n",
       "| Chip REF importance  | /oak/stanford/groups/akundaje/anusri/dynseq-paper/SPI1_bQTL/bigwigs/chip_imp_ref.bw                                                                                             | FALSE | None | None | dynseq   | 0    | 0.5  | None | 943126 | hg38 |\n",
       "| Chip ALT importance  | /oak/stanford/groups/akundaje/anusri/dynseq-paper/SPI1_bQTL/bigwigs/chip_imp_alt.bw                                                                                             | FALSE | None | None | dynseq   | 0    | 0.5  | None | 943126 | hg38 |\n",
       "| ATAC REF prediction  | /mnt/lab_data2/anusri/chrombpnet/results/chrombpnet/ATAC_PE/GM12878/nautilus_runs/GM12878_03.01.2022_bias_128_4_1234_0.4_fold_0/bqtls_pu1_interpret//bigwigs/profile_ref.bw     | FALSE | None | None | single   | 0    | 6    | None | 0E6655 | hg19 |\n",
       "| ATAC ALT prediction  | /mnt/lab_data2/anusri/chrombpnet/results/chrombpnet/ATAC_PE/GM12878/nautilus_runs/GM12878_03.01.2022_bias_128_4_1234_0.4_fold_0/bqtls_pu1_interpret//bigwigs/profile_alt.bw     | FALSE | None | None | single   | None | None | None | 0E6655 | hg19 |\n",
       "| ATAC REF importance  | /mnt/lab_data2/anusri/chrombpnet/results/chrombpnet/ATAC_PE/GM12878/nautilus_runs/GM12878_03.01.2022_bias_128_4_1234_0.4_fold_0/bqtls_pu1_interpret//bigwigs/count_shap_ref.bw  | FALSE | None | None | dynseq   | 0    | 0.2  | None | 943126 | hg19 |\n",
       "| ATAC ALT importance  | /mnt/lab_data2/anusri/chrombpnet/results/chrombpnet/ATAC_PE/GM12878/nautilus_runs/GM12878_03.01.2022_bias_128_4_1234_0.4_fold_0/bqtls_pu1_interpret//bigwigs/count_shap_alt.bw  | FALSE | None | None | dynseq   | 0    | 0.2  | None | 943126 | hg19 |\n",
       "| DNase REF prediction | /mnt/lab_data2/anusri/chrombpnet/results/chrombpnet/DNASE_SE/GM12878/nautilus_runs/GM12878_03.06.2022_bias_128_4_1234_0.8_fold_0/bqtls_pu1_interpret//bigwigs/profile_ref.bw    | FALSE | None | None | single   | 0    | 0.6  | None | 21618C | hg19 |\n",
       "| DNase ALT prediction | /mnt/lab_data2/anusri/chrombpnet/results/chrombpnet/DNASE_SE/GM12878/nautilus_runs/GM12878_03.06.2022_bias_128_4_1234_0.8_fold_0/bqtls_pu1_interpret//bigwigs//profile_alt.bw   | FALSE | None | None | single   | None | None | None | 21618C | hg19 |\n",
       "| DNase REF importance | /mnt/lab_data2/anusri/chrombpnet/results/chrombpnet/DNASE_SE/GM12878/nautilus_runs/GM12878_03.06.2022_bias_128_4_1234_0.8_fold_0/bqtls_pu1_interpret//bigwigs/count_shap_ref.bw | FALSE | None | None | dynseq   | 0    | 0.15 | None | 943126 | hg19 |\n",
       "| DNase ALT importance | /mnt/lab_data2/anusri/chrombpnet/results/chrombpnet/DNASE_SE/GM12878/nautilus_runs/GM12878_03.06.2022_bias_128_4_1234_0.8_fold_0/bqtls_pu1_interpret//bigwigs/count_shap_alt.bw | FALSE | None | None | dynseq   | 0    | 0.15 | None | 943126 | hg19 |\n",
       "\n"
      ],
      "text/plain": [
       "   sample              \n",
       "1  Chip REF prediction \n",
       "2  Chip ALT prediction \n",
       "3  Chip REF importance \n",
       "4  Chip ALT importance \n",
       "5  ATAC REF prediction \n",
       "6  ATAC ALT prediction \n",
       "7  ATAC REF importance \n",
       "8  ATAC ALT importance \n",
       "9  DNase REF prediction\n",
       "10 DNase ALT prediction\n",
       "11 DNase REF importance\n",
       "12 DNase ALT importance\n",
       "   path                                                                                                                                                                           \n",
       "1  /oak/stanford/groups/akundaje/anusri/dynseq-paper/SPI1_bQTL/bigwigs/chip_pred_ref                                                                                              \n",
       "2  /oak/stanford/groups/akundaje/anusri/dynseq-paper/SPI1_bQTL/bigwigs/chip_pred_alt                                                                                              \n",
       "3  /oak/stanford/groups/akundaje/anusri/dynseq-paper/SPI1_bQTL/bigwigs/chip_imp_ref.bw                                                                                            \n",
       "4  /oak/stanford/groups/akundaje/anusri/dynseq-paper/SPI1_bQTL/bigwigs/chip_imp_alt.bw                                                                                            \n",
       "5  /mnt/lab_data2/anusri/chrombpnet/results/chrombpnet/ATAC_PE/GM12878/nautilus_runs/GM12878_03.01.2022_bias_128_4_1234_0.4_fold_0/bqtls_pu1_interpret//bigwigs/profile_ref.bw    \n",
       "6  /mnt/lab_data2/anusri/chrombpnet/results/chrombpnet/ATAC_PE/GM12878/nautilus_runs/GM12878_03.01.2022_bias_128_4_1234_0.4_fold_0/bqtls_pu1_interpret//bigwigs/profile_alt.bw    \n",
       "7  /mnt/lab_data2/anusri/chrombpnet/results/chrombpnet/ATAC_PE/GM12878/nautilus_runs/GM12878_03.01.2022_bias_128_4_1234_0.4_fold_0/bqtls_pu1_interpret//bigwigs/count_shap_ref.bw \n",
       "8  /mnt/lab_data2/anusri/chrombpnet/results/chrombpnet/ATAC_PE/GM12878/nautilus_runs/GM12878_03.01.2022_bias_128_4_1234_0.4_fold_0/bqtls_pu1_interpret//bigwigs/count_shap_alt.bw \n",
       "9  /mnt/lab_data2/anusri/chrombpnet/results/chrombpnet/DNASE_SE/GM12878/nautilus_runs/GM12878_03.06.2022_bias_128_4_1234_0.8_fold_0/bqtls_pu1_interpret//bigwigs/profile_ref.bw   \n",
       "10 /mnt/lab_data2/anusri/chrombpnet/results/chrombpnet/DNASE_SE/GM12878/nautilus_runs/GM12878_03.06.2022_bias_128_4_1234_0.8_fold_0/bqtls_pu1_interpret//bigwigs//profile_alt.bw  \n",
       "11 /mnt/lab_data2/anusri/chrombpnet/results/chrombpnet/DNASE_SE/GM12878/nautilus_runs/GM12878_03.06.2022_bias_128_4_1234_0.8_fold_0/bqtls_pu1_interpret//bigwigs/count_shap_ref.bw\n",
       "12 /mnt/lab_data2/anusri/chrombpnet/results/chrombpnet/DNASE_SE/GM12878/nautilus_runs/GM12878_03.06.2022_bias_128_4_1234_0.8_fold_0/bqtls_pu1_interpret//bigwigs/count_shap_alt.bw\n",
       "   normalize normalization_region normalization_file type     Min  Max  Scale\n",
       "1  FALSE     None                 None               stranded 0    0.1  None \n",
       "2  FALSE     None                 None               stranded 0    0.1  None \n",
       "3  FALSE     None                 None               dynseq   0    0.5  None \n",
       "4  FALSE     None                 None               dynseq   0    0.5  None \n",
       "5  FALSE     None                 None               single   0    6    None \n",
       "6  FALSE     None                 None               single   None None None \n",
       "7  FALSE     None                 None               dynseq   0    0.2  None \n",
       "8  FALSE     None                 None               dynseq   0    0.2  None \n",
       "9  FALSE     None                 None               single   0    0.6  None \n",
       "10 FALSE     None                 None               single   None None None \n",
       "11 FALSE     None                 None               dynseq   0    0.15 None \n",
       "12 FALSE     None                 None               dynseq   0    0.15 None \n",
       "   Color  genome\n",
       "1  E00FEE hg38  \n",
       "2  458B00 hg38  \n",
       "3  943126 hg38  \n",
       "4  943126 hg38  \n",
       "5  0E6655 hg19  \n",
       "6  0E6655 hg19  \n",
       "7  943126 hg19  \n",
       "8  943126 hg19  \n",
       "9  21618C hg19  \n",
       "10 21618C hg19  \n",
       "11 943126 hg19  \n",
       "12 943126 hg19  "
      ]
     },
     "metadata": {},
     "output_type": "display_data"
    }
   ],
   "source": [
    "#config = read.table(\"configs/chip_bqtls.tsv\", header=T, stringsAsFactors=F, sep='\\t')\n",
    "#config = read.table(\"configs/all_bqtls-unzoom.tsv\", header=T, stringsAsFactors=F, sep='\\t')\n",
    "config = read.table(\"configs/all_bqtls-zoom.tsv\", header=T, stringsAsFactors=F, sep='\\t')\n",
    "\n",
    "#config = read.table(\"./configs/config_supp_gm.tsv\", header=T, stringsAsFactors=F, sep='\\t')\n",
    "\n",
    "#config = read.table(\"configs/atac_bqtls.tsv\", header=T, stringsAsFactors=F, sep='\\t')\n",
    "#config = read.table(\"configs/dnase_bqtls.tsv\", header=T, stringsAsFactors=F, sep='\\t')\n",
    "\n",
    "config"
   ]
  },
  {
   "cell_type": "code",
   "execution_count": 57,
   "metadata": {},
   "outputs": [
    {
     "data": {
      "text/html": [
       "'SPI1_chip_chr22:44116509-44117009.pdf'"
      ],
      "text/latex": [
       "'SPI1\\_chip\\_chr22:44116509-44117009.pdf'"
      ],
      "text/markdown": [
       "'SPI1_chip_chr22:44116509-44117009.pdf'"
      ],
      "text/plain": [
       "[1] \"SPI1_chip_chr22:44116509-44117009.pdf\""
      ]
     },
     "metadata": {},
     "output_type": "display_data"
    }
   ],
   "source": [
    "range=\"chr22:44116509-44117009\"\n",
    "#range=\"chr22:43720729-43721129\"\n",
    "cellline=\"SPI1_chip\"\n",
    "\n",
    "file_name = paste(paste(cellline,range,sep=\"_\"),\".pdf\",sep=\"\")\n",
    "file_name"
   ]
  },
  {
   "cell_type": "code",
   "execution_count": 63,
   "metadata": {
    "scrolled": false
   },
   "outputs": [
    {
     "name": "stdout",
     "output_type": "stream",
     "text": [
      "[1] \"chr22:43720729-43721129\"\n",
      "[1] \"hello\"\n",
      "[1] \"44116609\"\n",
      "[1] \"44117009\"\n",
      "[1] \"Chip REF prediction\"\n",
      "[1] \"Chip ALT prediction\"\n",
      "[1] \"Chip REF importance\"\n"
     ]
    },
    {
     "name": "stderr",
     "output_type": "stream",
     "text": [
      "Warning message:\n",
      "“`guides(<scale> = FALSE)` is deprecated. Please use `guides(<scale> = \"none\")` instead.”\n",
      "Coordinate system already present. Adding new coordinate system, which will replace the existing one.\n",
      "\n"
     ]
    },
    {
     "name": "stdout",
     "output_type": "stream",
     "text": [
      "[1] \"Chip ALT importance\"\n",
      "1-letter DNAString object\n",
      "seq: \u001b[47m\u001b[30mC\u001b[39m\u001b[49m\n"
     ]
    },
    {
     "name": "stderr",
     "output_type": "stream",
     "text": [
      "Warning message:\n",
      "“`guides(<scale> = FALSE)` is deprecated. Please use `guides(<scale> = \"none\")` instead.”\n",
      "Coordinate system already present. Adding new coordinate system, which will replace the existing one.\n",
      "\n"
     ]
    },
    {
     "name": "stdout",
     "output_type": "stream",
     "text": [
      "[1] \"ATAC REF prediction\"\n",
      "[1] \"ATAC ALT prediction\"\n"
     ]
    },
    {
     "name": "stderr",
     "output_type": "stream",
     "text": [
      "Warning message in ggproto(NULL, CoordCartesian, limits = list(x = xlim, y = ylim), :\n",
      "“NAs introduced by coercion”\n",
      "Warning message in ggproto(NULL, CoordCartesian, limits = list(x = xlim, y = ylim), :\n",
      "“NAs introduced by coercion”\n"
     ]
    },
    {
     "name": "stdout",
     "output_type": "stream",
     "text": [
      "[1] \"ATAC REF importance\"\n"
     ]
    },
    {
     "name": "stderr",
     "output_type": "stream",
     "text": [
      "Warning message:\n",
      "“`guides(<scale> = FALSE)` is deprecated. Please use `guides(<scale> = \"none\")` instead.”\n",
      "Coordinate system already present. Adding new coordinate system, which will replace the existing one.\n",
      "\n"
     ]
    },
    {
     "name": "stdout",
     "output_type": "stream",
     "text": [
      "[1] \"ATAC ALT importance\"\n",
      "1-letter DNAString object\n",
      "seq: \u001b[47m\u001b[30mC\u001b[39m\u001b[49m\n"
     ]
    },
    {
     "name": "stderr",
     "output_type": "stream",
     "text": [
      "Warning message:\n",
      "“`guides(<scale> = FALSE)` is deprecated. Please use `guides(<scale> = \"none\")` instead.”\n",
      "Coordinate system already present. Adding new coordinate system, which will replace the existing one.\n",
      "\n"
     ]
    },
    {
     "name": "stdout",
     "output_type": "stream",
     "text": [
      "[1] \"DNase REF prediction\"\n",
      "[1] \"DNase ALT prediction\"\n"
     ]
    },
    {
     "name": "stderr",
     "output_type": "stream",
     "text": [
      "Warning message in ggproto(NULL, CoordCartesian, limits = list(x = xlim, y = ylim), :\n",
      "“NAs introduced by coercion”\n",
      "Warning message in ggproto(NULL, CoordCartesian, limits = list(x = xlim, y = ylim), :\n",
      "“NAs introduced by coercion”\n"
     ]
    },
    {
     "name": "stdout",
     "output_type": "stream",
     "text": [
      "[1] \"DNase REF importance\"\n"
     ]
    },
    {
     "name": "stderr",
     "output_type": "stream",
     "text": [
      "Warning message:\n",
      "“`guides(<scale> = FALSE)` is deprecated. Please use `guides(<scale> = \"none\")` instead.”\n",
      "Coordinate system already present. Adding new coordinate system, which will replace the existing one.\n",
      "\n"
     ]
    },
    {
     "name": "stdout",
     "output_type": "stream",
     "text": [
      "[1] \"DNase ALT importance\"\n",
      "1-letter DNAString object\n",
      "seq: \u001b[47m\u001b[30mC\u001b[39m\u001b[49m\n"
     ]
    },
    {
     "name": "stderr",
     "output_type": "stream",
     "text": [
      "Warning message:\n",
      "“`guides(<scale> = FALSE)` is deprecated. Please use `guides(<scale> = \"none\")` instead.”\n",
      "Coordinate system already present. Adding new coordinate system, which will replace the existing one.\n",
      "\n"
     ]
    }
   ],
   "source": [
    "\n",
    "options(repr.plot.width = 20, repr.plot.height = nrow(config))\n",
    "mid1=43720929\n",
    "mid2=44116809\n",
    "flank1=200\n",
    "flank2=200\n",
    "file_name=\"zoom_bqtl.pdf\"\n",
    "\n",
    "#flank1=200\n",
    "#flank2=200\n",
    "#file_name=\"unzoom_bqtl.pdf\"\n",
    "start1=mid1-flank1\n",
    "end1=mid1+flank2\n",
    "\n",
    "\n",
    "range=paste(\"chr22:\",start1,\"-\",end1, sep=\"\")\n",
    "print(range)\n",
    "print(\"hello\")\n",
    "REGION = GRanges(range)\n",
    "\n",
    "start1=as.character(mid2-flank1)\n",
    "end1=as.character(mid2+flank2)\n",
    "\n",
    "range=paste(\"chr22:\",start1,\"-\",end1, sep=\"\")\n",
    "#range=\"chr22:44116699-44116910\"\n",
    "REGION2 = GRanges(range)\n",
    "\n",
    "print(start1)\n",
    "print(end1)\n",
    "p1 = generate_plots(config[1:4,], REGION, genome38) + geom_vline(xintercept=flank1+2)\n",
    "p2 = generate_plots(config[5:12,], REGION2, genome19)\n",
    "\n"
   ]
  },
  {
   "cell_type": "code",
   "execution_count": 59,
   "metadata": {
    "scrolled": false
   },
   "outputs": [],
   "source": [
    "#p1/p2\n",
    "p=cowplot::plot_grid(p1, p2, ncol = 1, align = \"v\", rel_heights = c(0.5, 1.0))\n",
    "ggsave(paste(\"subfigs/locus_plots/\",file_name,sep=\"\"), p, height=nrow(config), width=20, useDingbats=F)\n"
   ]
  },
  {
   "cell_type": "markdown",
   "metadata": {},
   "source": []
  },
  {
   "cell_type": "code",
   "execution_count": 17,
   "metadata": {},
   "outputs": [],
   "source": [
    "#wrap_plots(ggplot() + theme_void() + annotate(\"segment\", x=0, xend=0, y=0, yend=0.25),p,heights=c(10,10),widths=c(1,20),ncol=2)\n"
   ]
  },
  {
   "cell_type": "code",
   "execution_count": 18,
   "metadata": {},
   "outputs": [],
   "source": [
    "#genome19[[\"chr22\"]][44116810:44116810] + DNAString(\"G\")\n",
    "#genome19[[\"chr22\"]][44116810:44116810]\n",
    "ddp  =DNAString(\"GAA\")"
   ]
  },
  {
   "cell_type": "code",
   "execution_count": 19,
   "metadata": {},
   "outputs": [],
   "source": [
    "ddp[0:1] = DNAString(\"T\")"
   ]
  },
  {
   "cell_type": "code",
   "execution_count": 20,
   "metadata": {},
   "outputs": [
    {
     "data": {
      "text/plain": [
       "3-letter DNAString object\n",
       "seq: \u001b[47m\u001b[30mT\u001b[39m\u001b[49m\u001b[47m\u001b[30mA\u001b[39m\u001b[49m\u001b[47m\u001b[30mA\u001b[39m\u001b[49m"
      ]
     },
     "metadata": {},
     "output_type": "display_data"
    }
   ],
   "source": [
    "ddp"
   ]
  },
  {
   "cell_type": "code",
   "execution_count": 21,
   "metadata": {},
   "outputs": [
    {
     "data": {
      "text/plain": [
       "R version 4.0.3 (2020-10-10)\n",
       "Platform: x86_64-pc-linux-gnu (64-bit)\n",
       "Running under: Ubuntu 18.04.6 LTS\n",
       "\n",
       "Matrix products: default\n",
       "BLAS:   /usr/lib/x86_64-linux-gnu/libf77blas.so.3.10.3\n",
       "LAPACK: /usr/lib/x86_64-linux-gnu/atlas/liblapack.so.3.10.3\n",
       "\n",
       "locale:\n",
       " [1] LC_CTYPE=en_US.UTF-8       LC_NUMERIC=C              \n",
       " [3] LC_TIME=en_US.UTF-8        LC_COLLATE=en_US.UTF-8    \n",
       " [5] LC_MONETARY=en_US.UTF-8    LC_MESSAGES=C             \n",
       " [7] LC_PAPER=en_US.UTF-8       LC_NAME=C                 \n",
       " [9] LC_ADDRESS=C               LC_TELEPHONE=C            \n",
       "[11] LC_MEASUREMENT=en_US.UTF-8 LC_IDENTIFICATION=C       \n",
       "\n",
       "attached base packages:\n",
       "[1] parallel  stats4    stats     graphics  grDevices utils     datasets \n",
       "[8] methods   base     \n",
       "\n",
       "other attached packages:\n",
       " [1] BSgenome.Hsapiens.UCSC.hg38_1.4.3 BSgenome.Hsapiens.UCSC.hg19_1.4.3\n",
       " [3] BSgenome_1.58.0                   Biostrings_2.58.0                \n",
       " [5] XVector_0.30.0                    dplyr_1.0.9                      \n",
       " [7] magrittr_2.0.3                    readr_2.1.2                      \n",
       " [9] patchwork_1.1.1                   rtracklayer_1.50.0               \n",
       "[11] GenomicRanges_1.42.0              GenomeInfoDb_1.26.7              \n",
       "[13] IRanges_2.24.1                    S4Vectors_0.28.1                 \n",
       "[15] BiocGenerics_0.36.1               ggseqlogo_0.1                    \n",
       "[17] ggplot2_3.3.6                    \n",
       "\n",
       "loaded via a namespace (and not attached):\n",
       " [1] lattice_0.20-45             Rsamtools_2.6.0            \n",
       " [3] assertthat_0.2.1            digest_0.6.29              \n",
       " [5] utf8_1.2.2                  IRdisplay_1.1              \n",
       " [7] R6_2.5.1                    repr_1.1.4                 \n",
       " [9] evaluate_0.16               pillar_1.8.1               \n",
       "[11] zlibbioc_1.36.0             rlang_1.0.6                \n",
       "[13] uuid_1.0-4                  Matrix_1.5-1               \n",
       "[15] labeling_0.4.2              BiocParallel_1.24.1        \n",
       "[17] RCurl_1.98-1.9              munsell_0.5.0              \n",
       "[19] DelayedArray_0.16.3         compiler_4.0.3             \n",
       "[21] pkgconfig_2.0.3             base64enc_0.1-3            \n",
       "[23] htmltools_0.5.3             tidyselect_1.1.2           \n",
       "[25] SummarizedExperiment_1.20.0 tibble_3.1.8               \n",
       "[27] GenomeInfoDbData_1.2.4      matrixStats_0.62.0         \n",
       "[29] XML_3.99-0.11               fansi_1.0.3                \n",
       "[31] tzdb_0.3.0                  crayon_1.5.2               \n",
       "[33] withr_2.5.0                 GenomicAlignments_1.26.0   \n",
       "[35] bitops_1.0-7                grid_4.0.3                 \n",
       "[37] jsonlite_1.8.0              gtable_0.3.1               \n",
       "[39] lifecycle_1.0.1             DBI_1.1.3                  \n",
       "[41] scales_1.2.0                cli_3.3.0                  \n",
       "[43] farver_2.1.1                ellipsis_0.3.2             \n",
       "[45] generics_0.1.3              vctrs_0.4.1                \n",
       "[47] cowplot_1.1.1               IRkernel_1.3               \n",
       "[49] Cairo_1.6-0                 tools_4.0.3                \n",
       "[51] Biobase_2.50.0              glue_1.6.2                 \n",
       "[53] purrr_0.3.4                 hms_1.1.1                  \n",
       "[55] MatrixGenerics_1.2.1        fastmap_1.1.0              \n",
       "[57] colorspace_2.0-3            pbdZMQ_0.3-7               "
      ]
     },
     "metadata": {},
     "output_type": "display_data"
    }
   ],
   "source": [
    "sessionInfo()"
   ]
  },
  {
   "cell_type": "code",
   "execution_count": null,
   "metadata": {},
   "outputs": [],
   "source": []
  }
 ],
 "metadata": {
  "kernelspec": {
   "display_name": "R",
   "language": "R",
   "name": "ir"
  },
  "language_info": {
   "codemirror_mode": "r",
   "file_extension": ".r",
   "mimetype": "text/x-r-source",
   "name": "R",
   "pygments_lexer": "r",
   "version": "4.0.3"
  }
 },
 "nbformat": 4,
 "nbformat_minor": 4
}
