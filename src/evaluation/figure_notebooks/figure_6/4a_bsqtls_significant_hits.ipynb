{
 "cells": [
  {
   "cell_type": "code",
   "execution_count": 1,
   "metadata": {},
   "outputs": [],
   "source": [
    "import pandas as pd\n",
    "from sklearn.metrics import precision_recall_curve\n",
    "from sklearn.metrics import roc_curve\n",
    "from sklearn.metrics import RocCurveDisplay\n",
    "import pandas as pd\n",
    "import matplotlib.pyplot as plt\n",
    "import numpy as np\n",
    "from sklearn import metrics\n",
    "import matplotlib.pyplot as plt\n",
    "import matplotlib\n",
    "import random\n",
    "import os\n",
    "import argparse\n",
    "from sklearn.metrics import precision_recall_curve\n",
    "\n",
    "matplotlib.rcParams['pdf.fonttype'] = 42\n",
    "matplotlib.rcParams['ps.fonttype'] = 42 \n",
    "\n",
    "dnase_preds=\"/mnt/lab_data2/anusri/chrombpnet/results/chrombpnet/DNASE_SE/GM12878/nautilus_runs/GM12878_03.06.2022_bias_128_4_1234_0.8_fold_0/bqtls_pu1_preds/snp_scores.tsv\"\n",
    "atac_preds=\"/mnt/lab_data2/anusri/chrombpnet/results/chrombpnet/ATAC_PE/GM12878/nautilus_runs/GM12878_03.01.2022_bias_128_4_1234_0.4_fold_0/bqtls_pu1_preds/snp_scores.tsv\"\n",
    "#atac_preds=\"/mnt/lab_data2/anusri/chrombpnet/results/chrombpnet/ATAC_PE/GM12878/subsampling/GM12878_250M/bqtls_pu1_preds/snp_scores.tsv\"\n"
   ]
  },
  {
   "cell_type": "code",
   "execution_count": 2,
   "metadata": {},
   "outputs": [],
   "source": [
    "bqtls_dnase = pd.read_csv(dnase_preds,sep=\"\\t\", header=0, index_col=False)\n",
    "bqtls_dnase[['Depth', 'ALTdepth', 'REFDepth', 'POSTfreq', 'prechipfreq', 'pvalue']] = bqtls_dnase['META_DATA'].str.split(\",\", expand=True)\n",
    "\n",
    "bqtls_atac = pd.read_csv(atac_preds,sep=\"\\t\", header=0, index_col=False)\n",
    "bqtls_atac[['Depth', 'ALTdepth', 'REFDepth', 'POSTfreq', 'prechipfreq', 'pvalue']] = bqtls_atac['META_DATA'].str.split(\",\", expand=True)\n",
    "\n"
   ]
  },
  {
   "cell_type": "code",
   "execution_count": 3,
   "metadata": {},
   "outputs": [
    {
     "data": {
      "text/plain": [
       "(999799, 14)"
      ]
     },
     "execution_count": 3,
     "metadata": {},
     "output_type": "execute_result"
    }
   ],
   "source": [
    "bqtls_atac.shape"
   ]
  },
  {
   "cell_type": "code",
   "execution_count": 4,
   "metadata": {},
   "outputs": [
    {
     "data": {
      "text/plain": [
       "(999799, 14)"
      ]
     },
     "execution_count": 4,
     "metadata": {},
     "output_type": "execute_result"
    }
   ],
   "source": [
    "bqtls_dnase.shape"
   ]
  },
  {
   "cell_type": "code",
   "execution_count": 5,
   "metadata": {},
   "outputs": [
    {
     "name": "stderr",
     "output_type": "stream",
     "text": [
      "/users/anusri/anaconda3/lib/python3.7/site-packages/ipykernel_launcher.py:11: SettingWithCopyWarning: \n",
      "A value is trying to be set on a copy of a slice from a DataFrame\n",
      "\n",
      "See the caveats in the documentation: https://pandas.pydata.org/pandas-docs/stable/user_guide/indexing.html#returning-a-view-versus-a-copy\n",
      "  # This is added back by InteractiveShellApp.init_path()\n"
     ]
    }
   ],
   "source": [
    "bqtls_dnase['pvalue'] = bqtls_dnase['pvalue'].astype(float)\n",
    "\n",
    "high_sig_index=bqtls_dnase.nsmallest(100,'pvalue').index\n",
    "non_sig=bqtls_dnase.nlargest(1000,'pvalue')\n",
    "non_sig_index = non_sig.sample(100).index\n",
    "\n",
    "\n",
    "snps_dnase=pd.concat((bqtls_dnase.loc[high_sig_index,:],bqtls_dnase.loc[non_sig_index,:]),axis=0)\n",
    "snps_dnase[\"sig\"] = [True]*100+[False]*100\n",
    "snps_dnase['color']='r'\n",
    "snps_dnase['color'][snps_dnase['sig']==True]='b'\n",
    "\n",
    "snps_dnase['logratio']=np.log2((snps_dnase['prechipfreq'].astype(float)+.01)/(snps_dnase['POSTfreq'].astype(float)+0.01))\n"
   ]
  },
  {
   "cell_type": "code",
   "execution_count": 6,
   "metadata": {},
   "outputs": [
    {
     "name": "stderr",
     "output_type": "stream",
     "text": [
      "/users/anusri/anaconda3/lib/python3.7/site-packages/ipykernel_launcher.py:4: SettingWithCopyWarning: \n",
      "A value is trying to be set on a copy of a slice from a DataFrame\n",
      "\n",
      "See the caveats in the documentation: https://pandas.pydata.org/pandas-docs/stable/user_guide/indexing.html#returning-a-view-versus-a-copy\n",
      "  after removing the cwd from sys.path.\n"
     ]
    }
   ],
   "source": [
    "snps_atac=pd.concat((bqtls_atac.loc[high_sig_index,:],bqtls_atac.loc[non_sig_index,:]),axis=0)\n",
    "snps_atac[\"sig\"] = [True]*100+[False]*100\n",
    "snps_atac['color']='r'\n",
    "snps_atac['color'][snps_atac['sig']==True]='b'\n",
    "snps_atac['logratio']=np.log2((snps_atac['prechipfreq'].astype(float)+.01)/(snps_atac['POSTfreq'].astype(float)+0.01))\n"
   ]
  },
  {
   "cell_type": "code",
   "execution_count": 7,
   "metadata": {},
   "outputs": [],
   "source": [
    "from plotnine import * \n"
   ]
  },
  {
   "cell_type": "code",
   "execution_count": 8,
   "metadata": {},
   "outputs": [
    {
     "data": {
      "text/html": [
       "<div>\n",
       "<style scoped>\n",
       "    .dataframe tbody tr th:only-of-type {\n",
       "        vertical-align: middle;\n",
       "    }\n",
       "\n",
       "    .dataframe tbody tr th {\n",
       "        vertical-align: top;\n",
       "    }\n",
       "\n",
       "    .dataframe thead th {\n",
       "        text-align: right;\n",
       "    }\n",
       "</style>\n",
       "<table border=\"1\" class=\"dataframe\">\n",
       "  <thead>\n",
       "    <tr style=\"text-align: right;\">\n",
       "      <th></th>\n",
       "      <th>CHR</th>\n",
       "      <th>POS0</th>\n",
       "      <th>REF</th>\n",
       "      <th>ALT</th>\n",
       "      <th>META_DATA</th>\n",
       "      <th>log_counts_diff</th>\n",
       "      <th>log_probs_diff_abs_sum</th>\n",
       "      <th>probs_jsd_diff</th>\n",
       "      <th>Depth</th>\n",
       "      <th>ALTdepth</th>\n",
       "      <th>REFDepth</th>\n",
       "      <th>POSTfreq</th>\n",
       "      <th>prechipfreq</th>\n",
       "      <th>pvalue</th>\n",
       "      <th>sig</th>\n",
       "      <th>color</th>\n",
       "      <th>logratio</th>\n",
       "    </tr>\n",
       "  </thead>\n",
       "  <tbody>\n",
       "    <tr>\n",
       "      <th>8</th>\n",
       "      <td>chr15</td>\n",
       "      <td>70174408</td>\n",
       "      <td>C</td>\n",
       "      <td>T</td>\n",
       "      <td>264,226,38,0.143939393939394,0.775476361534322...</td>\n",
       "      <td>1.209530</td>\n",
       "      <td>423.35458</td>\n",
       "      <td>0.162867</td>\n",
       "      <td>264</td>\n",
       "      <td>226</td>\n",
       "      <td>38</td>\n",
       "      <td>0.143939393939394</td>\n",
       "      <td>0.775476361534322</td>\n",
       "      <td>0.0</td>\n",
       "      <td>True</td>\n",
       "      <td>b</td>\n",
       "      <td>2.351205</td>\n",
       "    </tr>\n",
       "    <tr>\n",
       "      <th>9</th>\n",
       "      <td>chr12</td>\n",
       "      <td>8608501</td>\n",
       "      <td>T</td>\n",
       "      <td>A</td>\n",
       "      <td>443,16,427,0.963882618510158,0.502999394689219...</td>\n",
       "      <td>0.136118</td>\n",
       "      <td>45.98726</td>\n",
       "      <td>0.018784</td>\n",
       "      <td>443</td>\n",
       "      <td>16</td>\n",
       "      <td>427</td>\n",
       "      <td>0.963882618510158</td>\n",
       "      <td>0.502999394689219</td>\n",
       "      <td>0.0</td>\n",
       "      <td>True</td>\n",
       "      <td>b</td>\n",
       "      <td>-0.924791</td>\n",
       "    </tr>\n",
       "    <tr>\n",
       "      <th>10</th>\n",
       "      <td>chr5</td>\n",
       "      <td>124341258</td>\n",
       "      <td>T</td>\n",
       "      <td>A</td>\n",
       "      <td>433,406,27,0.0623556581986143,0.53645155999153...</td>\n",
       "      <td>0.420469</td>\n",
       "      <td>291.99700</td>\n",
       "      <td>0.138230</td>\n",
       "      <td>433</td>\n",
       "      <td>406</td>\n",
       "      <td>27</td>\n",
       "      <td>0.0623556581986143</td>\n",
       "      <td>0.536451559991531</td>\n",
       "      <td>0.0</td>\n",
       "      <td>True</td>\n",
       "      <td>b</td>\n",
       "      <td>2.916916</td>\n",
       "    </tr>\n",
       "    <tr>\n",
       "      <th>11</th>\n",
       "      <td>chr7</td>\n",
       "      <td>31728179</td>\n",
       "      <td>T</td>\n",
       "      <td>C</td>\n",
       "      <td>533,6,527,0.98874296435272,0.552467614234308,0.0</td>\n",
       "      <td>-0.985941</td>\n",
       "      <td>-213.97040</td>\n",
       "      <td>-0.088698</td>\n",
       "      <td>533</td>\n",
       "      <td>6</td>\n",
       "      <td>527</td>\n",
       "      <td>0.98874296435272</td>\n",
       "      <td>0.552467614234308</td>\n",
       "      <td>0.0</td>\n",
       "      <td>True</td>\n",
       "      <td>b</td>\n",
       "      <td>-0.828343</td>\n",
       "    </tr>\n",
       "    <tr>\n",
       "      <th>12</th>\n",
       "      <td>chr4</td>\n",
       "      <td>116877280</td>\n",
       "      <td>G</td>\n",
       "      <td>C</td>\n",
       "      <td>518,18,500,0.965250965250965,0.543736393143021...</td>\n",
       "      <td>-0.504433</td>\n",
       "      <td>-313.09637</td>\n",
       "      <td>-0.149548</td>\n",
       "      <td>518</td>\n",
       "      <td>18</td>\n",
       "      <td>500</td>\n",
       "      <td>0.965250965250965</td>\n",
       "      <td>0.543736393143021</td>\n",
       "      <td>0.0</td>\n",
       "      <td>True</td>\n",
       "      <td>b</td>\n",
       "      <td>-0.816574</td>\n",
       "    </tr>\n",
       "  </tbody>\n",
       "</table>\n",
       "</div>"
      ],
      "text/plain": [
       "      CHR       POS0 REF ALT  \\\n",
       "8   chr15   70174408   C   T   \n",
       "9   chr12    8608501   T   A   \n",
       "10   chr5  124341258   T   A   \n",
       "11   chr7   31728179   T   C   \n",
       "12   chr4  116877280   G   C   \n",
       "\n",
       "                                            META_DATA  log_counts_diff  \\\n",
       "8   264,226,38,0.143939393939394,0.775476361534322...         1.209530   \n",
       "9   443,16,427,0.963882618510158,0.502999394689219...         0.136118   \n",
       "10  433,406,27,0.0623556581986143,0.53645155999153...         0.420469   \n",
       "11   533,6,527,0.98874296435272,0.552467614234308,0.0        -0.985941   \n",
       "12  518,18,500,0.965250965250965,0.543736393143021...        -0.504433   \n",
       "\n",
       "    log_probs_diff_abs_sum  probs_jsd_diff Depth ALTdepth REFDepth  \\\n",
       "8                423.35458        0.162867   264      226       38   \n",
       "9                 45.98726        0.018784   443       16      427   \n",
       "10               291.99700        0.138230   433      406       27   \n",
       "11              -213.97040       -0.088698   533        6      527   \n",
       "12              -313.09637       -0.149548   518       18      500   \n",
       "\n",
       "              POSTfreq        prechipfreq pvalue   sig color  logratio  \n",
       "8    0.143939393939394  0.775476361534322    0.0  True     b  2.351205  \n",
       "9    0.963882618510158  0.502999394689219    0.0  True     b -0.924791  \n",
       "10  0.0623556581986143  0.536451559991531    0.0  True     b  2.916916  \n",
       "11    0.98874296435272  0.552467614234308    0.0  True     b -0.828343  \n",
       "12   0.965250965250965  0.543736393143021    0.0  True     b -0.816574  "
      ]
     },
     "execution_count": 8,
     "metadata": {},
     "output_type": "execute_result"
    }
   ],
   "source": [
    "snps_atac.head()\n"
   ]
  },
  {
   "cell_type": "code",
   "execution_count": 9,
   "metadata": {},
   "outputs": [
    {
     "name": "stderr",
     "output_type": "stream",
     "text": [
      "/users/anusri/anaconda3/lib/python3.7/site-packages/plotnine/ggplot.py:729: PlotnineWarning: Saving 6.4 x 4.8 in image.\n",
      "/users/anusri/anaconda3/lib/python3.7/site-packages/plotnine/ggplot.py:730: PlotnineWarning: Filename: subfigs/bqtls_atac_significant_hits.pdf\n"
     ]
    }
   ],
   "source": [
    "p = (ggplot(snps_atac, aes('logratio', 'probs_jsd_diff', color='factor(sig)'))\n",
    " + geom_point(alpha=1,size=1)\n",
    " + geom_smooth(method = \"lm\", se = False, color=\"black\", size=0.2)\n",
    " + xlab(\"Observed\")\n",
    " + ylab(\"Predicted\")\n",
    " + scale_color_manual(values=['#e41a1c','#377eb8'],name=\"Significant bQTL?\")\n",
    " + theme_classic() \n",
    ")\n",
    "p.save(\"subfigs/bqtls_atac_significant_hits.pdf\",dpi=\"300\")"
   ]
  },
  {
   "cell_type": "code",
   "execution_count": 10,
   "metadata": {},
   "outputs": [],
   "source": [
    "import scipy\n"
   ]
  },
  {
   "cell_type": "code",
   "execution_count": 11,
   "metadata": {},
   "outputs": [
    {
     "data": {
      "text/plain": [
       "(0.6941713438667948, 4.349137284895023e-30)"
      ]
     },
     "execution_count": 11,
     "metadata": {},
     "output_type": "execute_result"
    }
   ],
   "source": [
    "scipy.stats.pearsonr(snps_atac['logratio'],snps_atac['probs_jsd_diff'])"
   ]
  },
  {
   "cell_type": "code",
   "execution_count": 12,
   "metadata": {},
   "outputs": [
    {
     "data": {
      "text/plain": [
       "SpearmanrResult(correlation=0.6605640141003526, pvalue=1.90862053572891e-26)"
      ]
     },
     "execution_count": 12,
     "metadata": {},
     "output_type": "execute_result"
    }
   ],
   "source": [
    "scipy.stats.spearmanr(snps_atac['logratio'],snps_atac['probs_jsd_diff'])"
   ]
  },
  {
   "cell_type": "code",
   "execution_count": 13,
   "metadata": {},
   "outputs": [
    {
     "data": {
      "text/plain": [
       "(0.7170608646280568, 7.192291112957865e-33)"
      ]
     },
     "execution_count": 13,
     "metadata": {},
     "output_type": "execute_result"
    }
   ],
   "source": [
    "scipy.stats.pearsonr(snps_dnase['logratio'],snps_dnase['probs_jsd_diff'])"
   ]
  },
  {
   "cell_type": "code",
   "execution_count": 14,
   "metadata": {},
   "outputs": [],
   "source": [
    "bqtls_atac['logratio']=np.log2((bqtls_atac['prechipfreq'].astype(float)+.01)/(bqtls_atac['POSTfreq'].astype(float)+0.01))\n"
   ]
  },
  {
   "cell_type": "code",
   "execution_count": 15,
   "metadata": {},
   "outputs": [
    {
     "data": {
      "text/plain": [
       "WilcoxonResult(statistic=221449852835.0, pvalue=0.0)"
      ]
     },
     "execution_count": 15,
     "metadata": {},
     "output_type": "execute_result"
    }
   ],
   "source": [
    "scipy.stats.wilcoxon(bqtls_atac[\"probs_jsd_diff\"],bqtls_atac[\"logratio\"])\n"
   ]
  },
  {
   "cell_type": "code",
   "execution_count": 16,
   "metadata": {},
   "outputs": [
    {
     "data": {
      "text/plain": [
       "WilcoxonResult(statistic=221823985398.0, pvalue=0.0)"
      ]
     },
     "execution_count": 16,
     "metadata": {},
     "output_type": "execute_result"
    }
   ],
   "source": [
    "bqtls_dnase['logratio']=np.log2((bqtls_dnase['prechipfreq'].astype(float)+.01)/(bqtls_dnase['POSTfreq'].astype(float)+0.01))\n",
    "\n",
    "scipy.stats.wilcoxon(bqtls_dnase[\"probs_jsd_diff\"],bqtls_dnase[\"logratio\"])\n"
   ]
  },
  {
   "cell_type": "code",
   "execution_count": 17,
   "metadata": {},
   "outputs": [],
   "source": [
    "bqtls_atac[\"label\"] = bqtls_atac[\"pvalue\"].astype(float)<5e-8\n",
    "\n",
    "bqtls_dnase[\"label\"] = bqtls_dnase[\"pvalue\"].astype(float)<5e-8\n"
   ]
  },
  {
   "cell_type": "code",
   "execution_count": 18,
   "metadata": {},
   "outputs": [
    {
     "data": {
      "text/plain": [
       "WilcoxonResult(statistic=959336160.0, pvalue=0.0)"
      ]
     },
     "execution_count": 18,
     "metadata": {},
     "output_type": "execute_result"
    }
   ],
   "source": [
    "scipy.stats.wilcoxon(abs(bqtls_dnase[\"probs_jsd_diff\"]),bqtls_dnase[\"label\"])\n"
   ]
  },
  {
   "cell_type": "code",
   "execution_count": null,
   "metadata": {},
   "outputs": [],
   "source": []
  },
  {
   "cell_type": "code",
   "execution_count": 19,
   "metadata": {},
   "outputs": [
    {
     "name": "stdout",
     "output_type": "stream",
     "text": [
      "999799 960\n"
     ]
    },
    {
     "data": {
      "text/plain": [
       "Text(0, 0.5, 'Precision')"
      ]
     },
     "execution_count": 19,
     "metadata": {},
     "output_type": "execute_result"
    },
    {
     "data": {
      "image/png": "[encoded data removed]",
      "text/plain": [
       "<Figure size 432x288 with 1 Axes>"
      ]
     },
     "metadata": {
      "needs_background": "light"
     },
     "output_type": "display_data"
    }
   ],
   "source": [
    "dsqtl=bqtls_dnase\n",
    "\n",
    "fpr_chrombpnet, tpr_chrombpnet, _ = precision_recall_curve(dsqtl[\"label\"], abs(dsqtl[\"log_probs_diff_abs_sum\"]))\n",
    "roc_auc = metrics.average_precision_score(dsqtl[\"label\"], abs(dsqtl[\"log_probs_diff_abs_sum\"]))\n",
    "plt.plot(tpr_chrombpnet,fpr_chrombpnet,  linewidth=2, label=\"ChromBPnet profile VarScore, AP=\"+str(round(roc_auc,2)))\n",
    "\n",
    "fpr_chrombpnet, tpr_chrombpnet, _ = precision_recall_curve(dsqtl[\"label\"], abs(dsqtl[\"log_counts_diff\"]))\n",
    "roc_auc = metrics.average_precision_score(dsqtl[\"label\"], abs(dsqtl[\"log_counts_diff\"]))\n",
    "plt.plot(tpr_chrombpnet,fpr_chrombpnet,  linewidth=2, label=\"Chrom-BPnet counts VarScore, AP=\"+str(round(roc_auc,2)))\n",
    "\n",
    "fpr_gkm, tpr_gkm, _ = precision_recall_curve(dsqtl[\"label\"],abs(dsqtl[\"logratio\"]))\n",
    "roc_auc = metrics.average_precision_score(dsqtl[\"label\"], abs(dsqtl[\"logratio\"]))\n",
    "plt.plot(tpr_gkm, fpr_gkm, linewidth=2, label=\"observed, AP=\"+str(round(roc_auc,2)))\n",
    "\n",
    "in1 = list(dsqtl[\"label\"])\n",
    "random.shuffle(in1)\n",
    "in1=np.array(in1)\n",
    "\n",
    "fpr_random, tpr_random, _ = precision_recall_curve(dsqtl[\"label\"], in1)\n",
    "roc_auc = metrics.average_precision_score(dsqtl[\"label\"], in1)\n",
    "plt.plot(tpr_random, [sum(dsqtl[\"label\"]==1)/len(dsqtl[\"label\"])]*len(fpr_random), linewidth=2, label=\"random baseline, AP=\"+str(round(roc_auc,2)))\n",
    "\n",
    "print(len(dsqtl[\"label\"]), sum(dsqtl[\"label\"]==1))\n",
    "plt.legend(loc='upper right')\n",
    "plt.xlabel(\"Recall\")\n",
    "plt.ylabel(\"Precision\")\n",
    "\n",
    "#plt.savefig(\"pr_curve_atac_dsqtls_gm.pdf\")\n",
    "\n"
   ]
  },
  {
   "cell_type": "code",
   "execution_count": 20,
   "metadata": {},
   "outputs": [],
   "source": [
    " #plt.hist(bqtls_atac[\"pvalue\"])"
   ]
  },
  {
   "cell_type": "code",
   "execution_count": 21,
   "metadata": {},
   "outputs": [
    {
     "data": {
      "text/plain": [
       "1.0"
      ]
     },
     "execution_count": 21,
     "metadata": {},
     "output_type": "execute_result"
    }
   ],
   "source": [
    "np.max(bqtls_atac[\"pvalue\"].astype(np.float64))"
   ]
  },
  {
   "cell_type": "code",
   "execution_count": 22,
   "metadata": {},
   "outputs": [
    {
     "name": "stdout",
     "output_type": "stream",
     "text": [
      "[1e-06, 2e-06, 3e-06, 4e-06, 5e-06, 5e-06, 7e-06, 8e-06, 9e-06, 1e-05, 1]\n"
     ]
    },
    {
     "name": "stderr",
     "output_type": "stream",
     "text": [
      "/users/anusri/anaconda3/lib/python3.7/site-packages/numpy/core/fromnumeric.py:3441: RuntimeWarning: Mean of empty slice.\n",
      "/users/anusri/anaconda3/lib/python3.7/site-packages/numpy/core/_methods.py:189: RuntimeWarning: invalid value encountered in double_scalars\n"
     ]
    }
   ],
   "source": [
    "bins = [1e-6, 2e-6, 3e-6, 4e-6, 5e-6, 5e-6, 7e-6, 8e-6, 9e-6, 10e-6, 1]\n",
    "\n",
    "digitized = np.digitize(bqtls_atac[\"pvalue\"].astype(np.float64), bins)\n",
    "bin_means = [np.mean(np.abs(np.array(bqtls_atac[\"log_probs_diff_abs_sum\"]))[digitized == i]) for i in range(0, len(bins)-1)]\n",
    "print(bins)"
   ]
  },
  {
   "cell_type": "code",
   "execution_count": 23,
   "metadata": {},
   "outputs": [
    {
     "name": "stderr",
     "output_type": "stream",
     "text": [
      "/users/anusri/anaconda3/lib/python3.7/site-packages/numpy/core/_methods.py:263: RuntimeWarning: Degrees of freedom <= 0 for slice\n",
      "/users/anusri/anaconda3/lib/python3.7/site-packages/numpy/core/_methods.py:223: RuntimeWarning: invalid value encountered in true_divide\n",
      "/users/anusri/anaconda3/lib/python3.7/site-packages/numpy/core/_methods.py:254: RuntimeWarning: invalid value encountered in double_scalars\n",
      "/users/anusri/anaconda3/lib/python3.7/site-packages/numpy/core/_methods.py:44: RuntimeWarning: invalid value encountered in reduce\n",
      "/users/anusri/anaconda3/lib/python3.7/site-packages/numpy/core/_methods.py:40: RuntimeWarning: invalid value encountered in reduce\n"
     ]
    },
    {
     "data": {
      "text/plain": [
       "<ErrorbarContainer object of 3 artists>"
      ]
     },
     "execution_count": 23,
     "metadata": {},
     "output_type": "execute_result"
    },
    {
     "data": {
      "image/png": "[encoded data removed]",
      "text/plain": [
       "<Figure size 432x288 with 1 Axes>"
      ]
     },
     "metadata": {
      "needs_background": "light"
     },
     "output_type": "display_data"
    }
   ],
   "source": [
    "pval_means = [np.mean(bqtls_atac[\"pvalue\"].astype(np.float64)[digitized == i]) for i in range(0, len(bins)-1)]\n",
    "bin_std = [np.std(np.abs(np.array(bqtls_atac[\"log_probs_diff_abs_sum\"]))[digitized == i]) for i in range(0, len(bins)-1)]\n",
    "plt.errorbar(pval_means, bin_means, yerr=bin_std, fmt='o')\n"
   ]
  },
  {
   "cell_type": "code",
   "execution_count": 24,
   "metadata": {},
   "outputs": [],
   "source": [
    "bins = np.arange(0, 1e-5, 10)\n"
   ]
  },
  {
   "cell_type": "code",
   "execution_count": 25,
   "metadata": {},
   "outputs": [
    {
     "data": {
      "text/html": [
       "<div>\n",
       "<style scoped>\n",
       "    .dataframe tbody tr th:only-of-type {\n",
       "        vertical-align: middle;\n",
       "    }\n",
       "\n",
       "    .dataframe tbody tr th {\n",
       "        vertical-align: top;\n",
       "    }\n",
       "\n",
       "    .dataframe thead th {\n",
       "        text-align: right;\n",
       "    }\n",
       "</style>\n",
       "<table border=\"1\" class=\"dataframe\">\n",
       "  <thead>\n",
       "    <tr style=\"text-align: right;\">\n",
       "      <th></th>\n",
       "      <th>CHR</th>\n",
       "      <th>POS0</th>\n",
       "      <th>REF</th>\n",
       "      <th>ALT</th>\n",
       "      <th>META_DATA</th>\n",
       "      <th>log_counts_diff</th>\n",
       "      <th>log_probs_diff_abs_sum</th>\n",
       "      <th>probs_jsd_diff</th>\n",
       "      <th>Depth</th>\n",
       "      <th>ALTdepth</th>\n",
       "      <th>REFDepth</th>\n",
       "      <th>POSTfreq</th>\n",
       "      <th>prechipfreq</th>\n",
       "      <th>pvalue</th>\n",
       "      <th>logratio</th>\n",
       "      <th>label</th>\n",
       "    </tr>\n",
       "  </thead>\n",
       "  <tbody>\n",
       "    <tr>\n",
       "      <th>0</th>\n",
       "      <td>chr17</td>\n",
       "      <td>18967175</td>\n",
       "      <td>A</td>\n",
       "      <td>G</td>\n",
       "      <td>538,418,120,0.223048327137546,0.86669872611129...</td>\n",
       "      <td>0.136641</td>\n",
       "      <td>92.031660</td>\n",
       "      <td>0.048009</td>\n",
       "      <td>538</td>\n",
       "      <td>418</td>\n",
       "      <td>120</td>\n",
       "      <td>0.223048327137546</td>\n",
       "      <td>0.866698726111294</td>\n",
       "      <td>2.33185325022481e-251</td>\n",
       "      <td>1.911452</td>\n",
       "      <td>True</td>\n",
       "    </tr>\n",
       "    <tr>\n",
       "      <th>1</th>\n",
       "      <td>chr4</td>\n",
       "      <td>176935912</td>\n",
       "      <td>C</td>\n",
       "      <td>A</td>\n",
       "      <td>626,597,29,0.0463258785942492,0.54394889615233...</td>\n",
       "      <td>0.818362</td>\n",
       "      <td>566.367250</td>\n",
       "      <td>0.214546</td>\n",
       "      <td>626</td>\n",
       "      <td>597</td>\n",
       "      <td>29</td>\n",
       "      <td>0.0463258785942492</td>\n",
       "      <td>0.543948896152333</td>\n",
       "      <td>4.44964286369012e-162</td>\n",
       "      <td>3.297883</td>\n",
       "      <td>True</td>\n",
       "    </tr>\n",
       "    <tr>\n",
       "      <th>2</th>\n",
       "      <td>chr1</td>\n",
       "      <td>144534082</td>\n",
       "      <td>C</td>\n",
       "      <td>T</td>\n",
       "      <td>618,368,250,0.40453074433657,0.057294963055923...</td>\n",
       "      <td>-0.051241</td>\n",
       "      <td>-64.966080</td>\n",
       "      <td>-0.030030</td>\n",
       "      <td>618</td>\n",
       "      <td>368</td>\n",
       "      <td>250</td>\n",
       "      <td>0.40453074433657</td>\n",
       "      <td>0.057294963055923</td>\n",
       "      <td>5.86306511316874e-141</td>\n",
       "      <td>-2.622909</td>\n",
       "      <td>True</td>\n",
       "    </tr>\n",
       "    <tr>\n",
       "      <th>3</th>\n",
       "      <td>chr17</td>\n",
       "      <td>19015380</td>\n",
       "      <td>T</td>\n",
       "      <td>A</td>\n",
       "      <td>144,143,1,0.0069444444444444,0.87284967970842,...</td>\n",
       "      <td>-0.009036</td>\n",
       "      <td>-11.302584</td>\n",
       "      <td>-0.005146</td>\n",
       "      <td>144</td>\n",
       "      <td>143</td>\n",
       "      <td>1</td>\n",
       "      <td>0.0069444444444444</td>\n",
       "      <td>0.87284967970842</td>\n",
       "      <td>1.04024977748099e-126</td>\n",
       "      <td>5.703284</td>\n",
       "      <td>True</td>\n",
       "    </tr>\n",
       "    <tr>\n",
       "      <th>4</th>\n",
       "      <td>chr1</td>\n",
       "      <td>17231723</td>\n",
       "      <td>A</td>\n",
       "      <td>G</td>\n",
       "      <td>2477,1321,1156,0.466693580944691,0.25519490670...</td>\n",
       "      <td>0.097229</td>\n",
       "      <td>22.168715</td>\n",
       "      <td>0.009661</td>\n",
       "      <td>2477</td>\n",
       "      <td>1321</td>\n",
       "      <td>1156</td>\n",
       "      <td>0.466693580944691</td>\n",
       "      <td>0.255194906706241</td>\n",
       "      <td>9.915947779278119e-114</td>\n",
       "      <td>-0.846009</td>\n",
       "      <td>True</td>\n",
       "    </tr>\n",
       "    <tr>\n",
       "      <th>...</th>\n",
       "      <td>...</td>\n",
       "      <td>...</td>\n",
       "      <td>...</td>\n",
       "      <td>...</td>\n",
       "      <td>...</td>\n",
       "      <td>...</td>\n",
       "      <td>...</td>\n",
       "      <td>...</td>\n",
       "      <td>...</td>\n",
       "      <td>...</td>\n",
       "      <td>...</td>\n",
       "      <td>...</td>\n",
       "      <td>...</td>\n",
       "      <td>...</td>\n",
       "      <td>...</td>\n",
       "      <td>...</td>\n",
       "    </tr>\n",
       "    <tr>\n",
       "      <th>999794</th>\n",
       "      <td>chr7</td>\n",
       "      <td>72298788</td>\n",
       "      <td>C</td>\n",
       "      <td>T</td>\n",
       "      <td>214,4,210,0.981308411214953,0.979511969595166,1.0</td>\n",
       "      <td>-0.049607</td>\n",
       "      <td>-45.878242</td>\n",
       "      <td>-0.026703</td>\n",
       "      <td>214</td>\n",
       "      <td>4</td>\n",
       "      <td>210</td>\n",
       "      <td>0.981308411214953</td>\n",
       "      <td>0.979511969595166</td>\n",
       "      <td>1.0</td>\n",
       "      <td>-0.002617</td>\n",
       "      <td>False</td>\n",
       "    </tr>\n",
       "    <tr>\n",
       "      <th>999795</th>\n",
       "      <td>chr18</td>\n",
       "      <td>46347287</td>\n",
       "      <td>A</td>\n",
       "      <td>G</td>\n",
       "      <td>109,3,106,0.972477064220184,0.972420838814261,1.0</td>\n",
       "      <td>0.020571</td>\n",
       "      <td>11.059257</td>\n",
       "      <td>0.006015</td>\n",
       "      <td>109</td>\n",
       "      <td>3</td>\n",
       "      <td>106</td>\n",
       "      <td>0.972477064220184</td>\n",
       "      <td>0.972420838814261</td>\n",
       "      <td>1.0</td>\n",
       "      <td>-0.000083</td>\n",
       "      <td>False</td>\n",
       "    </tr>\n",
       "    <tr>\n",
       "      <th>999796</th>\n",
       "      <td>chr18</td>\n",
       "      <td>55508742</td>\n",
       "      <td>A</td>\n",
       "      <td>G</td>\n",
       "      <td>65,2,63,0.969230769230769,0.975831745803566,1.0</td>\n",
       "      <td>-0.007517</td>\n",
       "      <td>-21.021800</td>\n",
       "      <td>-0.011692</td>\n",
       "      <td>65</td>\n",
       "      <td>2</td>\n",
       "      <td>63</td>\n",
       "      <td>0.969230769230769</td>\n",
       "      <td>0.975831745803566</td>\n",
       "      <td>1.0</td>\n",
       "      <td>0.009693</td>\n",
       "      <td>False</td>\n",
       "    </tr>\n",
       "    <tr>\n",
       "      <th>999797</th>\n",
       "      <td>chr19</td>\n",
       "      <td>16245696</td>\n",
       "      <td>A</td>\n",
       "      <td>G</td>\n",
       "      <td>109,3,106,0.972477064220184,0.976196339907924,1.0</td>\n",
       "      <td>0.025445</td>\n",
       "      <td>32.208073</td>\n",
       "      <td>0.017349</td>\n",
       "      <td>109</td>\n",
       "      <td>3</td>\n",
       "      <td>106</td>\n",
       "      <td>0.972477064220184</td>\n",
       "      <td>0.976196339907924</td>\n",
       "      <td>1.0</td>\n",
       "      <td>0.005451</td>\n",
       "      <td>False</td>\n",
       "    </tr>\n",
       "    <tr>\n",
       "      <th>999798</th>\n",
       "      <td>chr5</td>\n",
       "      <td>96271115</td>\n",
       "      <td>T</td>\n",
       "      <td>C</td>\n",
       "      <td>154,3,151,0.980519480519481,0.981439645896871,1.0</td>\n",
       "      <td>0.001447</td>\n",
       "      <td>19.908878</td>\n",
       "      <td>0.011999</td>\n",
       "      <td>154</td>\n",
       "      <td>3</td>\n",
       "      <td>151</td>\n",
       "      <td>0.980519480519481</td>\n",
       "      <td>0.981439645896871</td>\n",
       "      <td>1.0</td>\n",
       "      <td>0.001340</td>\n",
       "      <td>False</td>\n",
       "    </tr>\n",
       "  </tbody>\n",
       "</table>\n",
       "<p>999799 rows × 16 columns</p>\n",
       "</div>"
      ],
      "text/plain": [
       "          CHR       POS0 REF ALT  \\\n",
       "0       chr17   18967175   A   G   \n",
       "1        chr4  176935912   C   A   \n",
       "2        chr1  144534082   C   T   \n",
       "3       chr17   19015380   T   A   \n",
       "4        chr1   17231723   A   G   \n",
       "...       ...        ...  ..  ..   \n",
       "999794   chr7   72298788   C   T   \n",
       "999795  chr18   46347287   A   G   \n",
       "999796  chr18   55508742   A   G   \n",
       "999797  chr19   16245696   A   G   \n",
       "999798   chr5   96271115   T   C   \n",
       "\n",
       "                                                META_DATA  log_counts_diff  \\\n",
       "0       538,418,120,0.223048327137546,0.86669872611129...         0.136641   \n",
       "1       626,597,29,0.0463258785942492,0.54394889615233...         0.818362   \n",
       "2       618,368,250,0.40453074433657,0.057294963055923...        -0.051241   \n",
       "3       144,143,1,0.0069444444444444,0.87284967970842,...        -0.009036   \n",
       "4       2477,1321,1156,0.466693580944691,0.25519490670...         0.097229   \n",
       "...                                                   ...              ...   \n",
       "999794  214,4,210,0.981308411214953,0.979511969595166,1.0        -0.049607   \n",
       "999795  109,3,106,0.972477064220184,0.972420838814261,1.0         0.020571   \n",
       "999796    65,2,63,0.969230769230769,0.975831745803566,1.0        -0.007517   \n",
       "999797  109,3,106,0.972477064220184,0.976196339907924,1.0         0.025445   \n",
       "999798  154,3,151,0.980519480519481,0.981439645896871,1.0         0.001447   \n",
       "\n",
       "        log_probs_diff_abs_sum  probs_jsd_diff Depth ALTdepth REFDepth  \\\n",
       "0                    92.031660        0.048009   538      418      120   \n",
       "1                   566.367250        0.214546   626      597       29   \n",
       "2                   -64.966080       -0.030030   618      368      250   \n",
       "3                   -11.302584       -0.005146   144      143        1   \n",
       "4                    22.168715        0.009661  2477     1321     1156   \n",
       "...                        ...             ...   ...      ...      ...   \n",
       "999794              -45.878242       -0.026703   214        4      210   \n",
       "999795               11.059257        0.006015   109        3      106   \n",
       "999796              -21.021800       -0.011692    65        2       63   \n",
       "999797               32.208073        0.017349   109        3      106   \n",
       "999798               19.908878        0.011999   154        3      151   \n",
       "\n",
       "                  POSTfreq        prechipfreq                  pvalue  \\\n",
       "0        0.223048327137546  0.866698726111294   2.33185325022481e-251   \n",
       "1       0.0463258785942492  0.543948896152333   4.44964286369012e-162   \n",
       "2         0.40453074433657  0.057294963055923   5.86306511316874e-141   \n",
       "3       0.0069444444444444   0.87284967970842   1.04024977748099e-126   \n",
       "4        0.466693580944691  0.255194906706241  9.915947779278119e-114   \n",
       "...                    ...                ...                     ...   \n",
       "999794   0.981308411214953  0.979511969595166                     1.0   \n",
       "999795   0.972477064220184  0.972420838814261                     1.0   \n",
       "999796   0.969230769230769  0.975831745803566                     1.0   \n",
       "999797   0.972477064220184  0.976196339907924                     1.0   \n",
       "999798   0.980519480519481  0.981439645896871                     1.0   \n",
       "\n",
       "        logratio  label  \n",
       "0       1.911452   True  \n",
       "1       3.297883   True  \n",
       "2      -2.622909   True  \n",
       "3       5.703284   True  \n",
       "4      -0.846009   True  \n",
       "...          ...    ...  \n",
       "999794 -0.002617  False  \n",
       "999795 -0.000083  False  \n",
       "999796  0.009693  False  \n",
       "999797  0.005451  False  \n",
       "999798  0.001340  False  \n",
       "\n",
       "[999799 rows x 16 columns]"
      ]
     },
     "execution_count": 25,
     "metadata": {},
     "output_type": "execute_result"
    }
   ],
   "source": [
    "bqtls_atac"
   ]
  },
  {
   "cell_type": "code",
   "execution_count": 81,
   "metadata": {},
   "outputs": [],
   "source": [
    "import seaborn as sns\n",
    "import matplotlib\n",
    "matplotlib.rcParams['pdf.fonttype'] = 42\n",
    "matplotlib.rcParams['ps.fonttype'] = 42 \n"
   ]
  },
  {
   "cell_type": "code",
   "execution_count": 85,
   "metadata": {},
   "outputs": [
    {
     "name": "stdout",
     "output_type": "stream",
     "text": [
      "['n: 191', 'n: 196', 'n: 408', 'n: 1374', 'n: 9765', 'n: 139245', 'n: 200408', 'n: 319347', 'n: 328619']\n"
     ]
    },
    {
     "data": {
      "image/png": "[encoded data removed]",
      "text/plain": [
       "<Figure size 432x288 with 1 Axes>"
      ]
     },
     "metadata": {
      "needs_background": "light"
     },
     "output_type": "display_data"
    }
   ],
   "source": [
    "bins = np.array(np.arange(0,5e-9,5e-8).tolist() + [1e-2,0.1,1.0])\n",
    "bins = [0,1e-11,1e-9, 1e-7, 1e-5,1e-3,1e-1,0.5,0.9,1.0 ]\n",
    "bqtls_atac['value_group'] = pd.cut(bqtls_atac[\"pvalue\"].astype(np.float64), bins=bins)\n",
    "bqtls_atac['abs_log_probs_diff_abs_sum'] = np.abs(bqtls_atac['probs_jsd_diff'])\n",
    "ax = sns.boxplot(x=\"value_group\", y=\"abs_log_probs_diff_abs_sum\", data=bqtls_atac, showfliers=False)\n",
    "plt.xticks(rotation=45)\n",
    "medians = bqtls_atac.groupby(['value_group'])['abs_log_probs_diff_abs_sum'].median().values\n",
    "nobs= bqtls_atac['value_group'].value_counts().values[::-1]\n",
    "nobs = [str(x) for x in nobs.tolist()]\n",
    "nobs = [\"n: \" + i for i in nobs] \n",
    "print(nobs)\n",
    "pos = range(len(nobs))\n",
    "for tick,label in zip(pos,ax.get_yticklabels()):\n",
    "    ax.text(tick+0.1,medians[tick]+0.07,nobs[tick],color='black', verticalalignment = \"bottom\",rotation=90)\n",
    "sns.despine()\n",
    "ax.set(xlabel='p-value intervals', ylabel='Predicted')\n",
    "\n",
    "plt.savefig(\"subfigs/bqtls_with_pval_predicted.pdf\", transparent=True, dpi=300)\n"
   ]
  },
  {
   "cell_type": "code",
   "execution_count": 86,
   "metadata": {},
   "outputs": [
    {
     "data": {
      "image/png": "[encoded data removed]",
      "text/plain": [
       "<Figure size 432x288 with 1 Axes>"
      ]
     },
     "metadata": {
      "needs_background": "light"
     },
     "output_type": "display_data"
    }
   ],
   "source": [
    "bins = np.array(np.arange(0,5e-9,5e-8).tolist() + [1e-2,0.1,1.0])\n",
    "bins = [0,1e-11,1e-9, 1e-7, 1e-5,1e-3,1e-1,0.5,0.9,1.0 ]\n",
    "bqtls_atac['value_group'] = pd.cut(bqtls_atac[\"pvalue\"].astype(np.float64), bins=bins)\n",
    "bqtls_atac['abs_log_probs_diff_abs_sum'] = np.abs(bqtls_atac['abs_logratio'])\n",
    "ax = sns.boxplot(x=\"value_group\", y=\"abs_log_probs_diff_abs_sum\", data=bqtls_atac, showfliers=False)\n",
    "plt.xticks(rotation=45)\n",
    "ax.set(xlabel='p-value intervals', ylabel='Observed')\n",
    "\n",
    "plt.savefig(\"subfigs/bqtls_with_pval_observed.pdf\", transparent=True, dpi=300)\n"
   ]
  },
  {
   "cell_type": "code",
   "execution_count": 48,
   "metadata": {},
   "outputs": [
    {
     "data": {
      "text/plain": [
       "(array([0, 1, 2, 3, 4, 5]),\n",
       " [Text(0, 0, '(0, 1]'),\n",
       "  Text(1, 0, '(1, 2]'),\n",
       "  Text(2, 0, '(2, 3]'),\n",
       "  Text(3, 0, '(3, 4]'),\n",
       "  Text(4, 0, '(4, 5]'),\n",
       "  Text(5, 0, '(5, 6]')])"
      ]
     },
     "execution_count": 48,
     "metadata": {},
     "output_type": "execute_result"
    },
    {
     "data": {
      "image/png": "[encoded data removed]",
      "text/plain": [
       "<Figure size 432x288 with 1 Axes>"
      ]
     },
     "metadata": {
      "needs_background": "light"
     },
     "output_type": "display_data"
    }
   ],
   "source": [
    "bins = np.array(np.arange(0,5e-9,5e-8).tolist() + [1e-2,0.1,1.0])\n",
    "bins = [0,1,2,3,4,5,6]\n",
    "bqtls_atac[\"abs_logratio\"] = np.abs(bqtls_atac[\"logratio\"].astype(np.float64))\n",
    "bqtls_atac['value_group'] = pd.cut(bqtls_atac[\"abs_logratio\"].astype(np.float64), bins=bins)\n",
    "bqtls_atac['abs_log_probs_diff_abs_sum'] = np.abs(bqtls_atac['probs_jsd_diff'])\n",
    "ax = sns.boxplot(x=\"value_group\", y=\"abs_log_probs_diff_abs_sum\", data=bqtls_atac, showfliers=False)\n",
    "plt.xticks(rotation=45)\n"
   ]
  },
  {
   "cell_type": "code",
   "execution_count": 46,
   "metadata": {},
   "outputs": [
    {
     "data": {
      "text/plain": [
       "5.986749586517562"
      ]
     },
     "execution_count": 46,
     "metadata": {},
     "output_type": "execute_result"
    }
   ],
   "source": [
    "np.max(bqtls_atac[\"abs_logratio\"])"
   ]
  },
  {
   "cell_type": "code",
   "execution_count": 68,
   "metadata": {},
   "outputs": [
    {
     "data": {
      "text/plain": [
       "<pandas.core.groupby.generic.SeriesGroupBy object at 0x7f13f89c24d0>"
      ]
     },
     "execution_count": 68,
     "metadata": {},
     "output_type": "execute_result"
    }
   ],
   "source": [
    "bqtls_atac.groupby(['value_group'])['abs_log_probs_diff_abs_sum']"
   ]
  },
  {
   "cell_type": "code",
   "execution_count": 75,
   "metadata": {},
   "outputs": [
    {
     "data": {
      "text/plain": [
       "(0.1, 0.5]        328619\n",
       "(0.5, 0.9]        319347\n",
       "(0.9, 1.0]        200408\n",
       "(0.001, 0.1]      139245\n",
       "(1e-05, 0.001]      9765\n",
       "(1e-07, 1e-05]      1374\n",
       "(1e-09, 1e-07]       408\n",
       "(1e-11, 1e-09]       196\n",
       "(0.0, 1e-11]         191\n",
       "Name: value_group, dtype: int64"
      ]
     },
     "execution_count": 75,
     "metadata": {},
     "output_type": "execute_result"
    }
   ],
   "source": [
    "bqtls_atac['value_group'].value_counts()"
   ]
  },
  {
   "cell_type": "code",
   "execution_count": null,
   "metadata": {},
   "outputs": [],
   "source": []
  }
 ],
 "metadata": {
  "kernelspec": {
   "display_name": "Python 3",
   "language": "python",
   "name": "python3"
  },
  "language_info": {
   "codemirror_mode": {
    "name": "ipython",
    "version": 3
   },
   "file_extension": ".py",
   "mimetype": "text/x-python",
   "name": "python",
   "nbconvert_exporter": "python",
   "pygments_lexer": "ipython3",
   "version": "3.7.6"
  }
 },
 "nbformat": 4,
 "nbformat_minor": 4
}
