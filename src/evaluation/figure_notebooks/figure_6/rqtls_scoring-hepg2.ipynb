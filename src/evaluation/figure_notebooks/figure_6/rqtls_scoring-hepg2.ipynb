{
 "cells": [
  {
   "cell_type": "code",
   "execution_count": 1,
   "metadata": {},
   "outputs": [],
   "source": [
    "import pandas as pd\n",
    "\n",
    "snps_all=pd.read_csv(\"/mnt/lab_data2/anusri/chrombpnet/results/variant_data/rqtls/hepg2.sign.id.LP190708.txt.gz\", sep=\"\\t\", header=0)\n",
    "\n",
    "preds = pd.read_csv(\"/mnt/lab_data2/anusri/chrombpnet/results/variant_data/rqtls/preds_fold0_hepg2_sig/snp_scores.tsv\", sep=\"\\t\", header=0)"
   ]
  },
  {
   "cell_type": "code",
   "execution_count": 3,
   "metadata": {},
   "outputs": [],
   "source": [
    "preds.head()\n",
    "preds[snps_all.columns] = preds[\"META_DATA\"].str.split(\",\", expand=True)\n",
    "preds[\"POS1\"] = preds[\"POS0\"] + 1\n",
    "\n",
    "\n",
    "sig_cols = preds.columns.tolist()\n",
    "\n",
    "preds[sig_cols[0:2]+[sig_cols[-1]]+sig_cols[2:-1]].to_csv(\"/mnt/lab_data2/anusri/chrombpnet/results/variant_data/rqtls/preds_fold0_hepg2_sig/snp_scores_bed_format.bed\", sep=\"\\t\", header=False, index=False)"
   ]
  },
  {
   "cell_type": "code",
   "execution_count": 4,
   "metadata": {},
   "outputs": [],
   "source": [
    "import matplotlib.pyplot as plt"
   ]
  },
  {
   "cell_type": "code",
   "execution_count": 6,
   "metadata": {},
   "outputs": [],
   "source": [
    "preds = pd.read_csv(\"/mnt/lab_data2/anusri/chrombpnet/results/variant_data/rqtls/preds_fold0_hepg2_sig/snp_scores_bed_format_inpeaks.bed\", sep=\"\\t\", header=None)\n",
    "\n"
   ]
  },
  {
   "cell_type": "code",
   "execution_count": 7,
   "metadata": {},
   "outputs": [],
   "source": [
    "preds.columns = sig_cols[0:2]+[sig_cols[-1]]+sig_cols[2:-1]"
   ]
  },
  {
   "cell_type": "code",
   "execution_count": 8,
   "metadata": {},
   "outputs": [
    {
     "data": {
      "text/html": [
       "<div>\n",
       "<style scoped>\n",
       "    .dataframe tbody tr th:only-of-type {\n",
       "        vertical-align: middle;\n",
       "    }\n",
       "\n",
       "    .dataframe tbody tr th {\n",
       "        vertical-align: top;\n",
       "    }\n",
       "\n",
       "    .dataframe thead th {\n",
       "        text-align: right;\n",
       "    }\n",
       "</style>\n",
       "<table border=\"1\" class=\"dataframe\">\n",
       "  <thead>\n",
       "    <tr style=\"text-align: right;\">\n",
       "      <th></th>\n",
       "      <th>CHR</th>\n",
       "      <th>POS0</th>\n",
       "      <th>POS1</th>\n",
       "      <th>REF</th>\n",
       "      <th>ALT</th>\n",
       "      <th>META_DATA</th>\n",
       "      <th>log_counts_diff</th>\n",
       "      <th>log_probs_diff_abs_sum</th>\n",
       "      <th>probs_jsd_diff</th>\n",
       "      <th>chr</th>\n",
       "      <th>SNP_ID</th>\n",
       "      <th>SNPabspos</th>\n",
       "      <th>ref.element.count</th>\n",
       "      <th>alt.element.count</th>\n",
       "      <th>hepg2.ref.mean</th>\n",
       "      <th>hepg2.alt.mean</th>\n",
       "      <th>hepg2.wilcox.p.value</th>\n",
       "      <th>hepg2.wilcox.p.value.random</th>\n",
       "      <th>ref</th>\n",
       "      <th>alt</th>\n",
       "    </tr>\n",
       "  </thead>\n",
       "  <tbody>\n",
       "    <tr>\n",
       "      <th>0</th>\n",
       "      <td>chr10</td>\n",
       "      <td>101093161</td>\n",
       "      <td>101093162</td>\n",
       "      <td>C</td>\n",
       "      <td>T</td>\n",
       "      <td>chr10,rs11190058,101093162,226,117,4.629646879...</td>\n",
       "      <td>-0.039395</td>\n",
       "      <td>-41.353477</td>\n",
       "      <td>-0.021602</td>\n",
       "      <td>chr10</td>\n",
       "      <td>rs11190058</td>\n",
       "      <td>101093162</td>\n",
       "      <td>226</td>\n",
       "      <td>117</td>\n",
       "      <td>4.629647</td>\n",
       "      <td>0.787731</td>\n",
       "      <td>8.508169e-04</td>\n",
       "      <td>0.310018</td>\n",
       "      <td>C</td>\n",
       "      <td>T</td>\n",
       "    </tr>\n",
       "    <tr>\n",
       "      <th>1</th>\n",
       "      <td>chr10</td>\n",
       "      <td>102120533</td>\n",
       "      <td>102120534</td>\n",
       "      <td>C</td>\n",
       "      <td>T</td>\n",
       "      <td>chr10,rs61732512,102120534,378,38,10.808207143...</td>\n",
       "      <td>-0.019208</td>\n",
       "      <td>-14.768434</td>\n",
       "      <td>-0.008199</td>\n",
       "      <td>chr10</td>\n",
       "      <td>rs61732512</td>\n",
       "      <td>102120534</td>\n",
       "      <td>378</td>\n",
       "      <td>38</td>\n",
       "      <td>10.808207</td>\n",
       "      <td>3.306092</td>\n",
       "      <td>9.870135e-04</td>\n",
       "      <td>0.963738</td>\n",
       "      <td>C</td>\n",
       "      <td>T</td>\n",
       "    </tr>\n",
       "    <tr>\n",
       "      <th>2</th>\n",
       "      <td>chr10</td>\n",
       "      <td>18620949</td>\n",
       "      <td>18620950</td>\n",
       "      <td>G</td>\n",
       "      <td>A</td>\n",
       "      <td>chr10,rs9645525,18620950,87,268,1.666940970549...</td>\n",
       "      <td>-0.010940</td>\n",
       "      <td>-21.038605</td>\n",
       "      <td>-0.010441</td>\n",
       "      <td>chr10</td>\n",
       "      <td>rs9645525</td>\n",
       "      <td>18620950</td>\n",
       "      <td>87</td>\n",
       "      <td>268</td>\n",
       "      <td>1.666941</td>\n",
       "      <td>5.493459</td>\n",
       "      <td>4.738338e-05</td>\n",
       "      <td>0.723860</td>\n",
       "      <td>G</td>\n",
       "      <td>A</td>\n",
       "    </tr>\n",
       "    <tr>\n",
       "      <th>3</th>\n",
       "      <td>chr10</td>\n",
       "      <td>67884566</td>\n",
       "      <td>67884567</td>\n",
       "      <td>A</td>\n",
       "      <td>G</td>\n",
       "      <td>chr10,rs1960622,67884567,51,309,0.576512391993...</td>\n",
       "      <td>0.025003</td>\n",
       "      <td>24.381012</td>\n",
       "      <td>0.012914</td>\n",
       "      <td>chr10</td>\n",
       "      <td>rs1960622</td>\n",
       "      <td>67884567</td>\n",
       "      <td>51</td>\n",
       "      <td>309</td>\n",
       "      <td>0.576512</td>\n",
       "      <td>6.081183</td>\n",
       "      <td>3.657079e-06</td>\n",
       "      <td>0.249040</td>\n",
       "      <td>A</td>\n",
       "      <td>G</td>\n",
       "    </tr>\n",
       "    <tr>\n",
       "      <th>4</th>\n",
       "      <td>chr10</td>\n",
       "      <td>71392494</td>\n",
       "      <td>71392495</td>\n",
       "      <td>T</td>\n",
       "      <td>A</td>\n",
       "      <td>chr10,rs2616089,71392495,129,102,6.52026656330...</td>\n",
       "      <td>-0.176760</td>\n",
       "      <td>-48.019270</td>\n",
       "      <td>-0.022547</td>\n",
       "      <td>chr10</td>\n",
       "      <td>rs2616089</td>\n",
       "      <td>71392495</td>\n",
       "      <td>129</td>\n",
       "      <td>102</td>\n",
       "      <td>6.520267</td>\n",
       "      <td>0.181656</td>\n",
       "      <td>2.606949e-10</td>\n",
       "      <td>0.754321</td>\n",
       "      <td>T</td>\n",
       "      <td>A</td>\n",
       "    </tr>\n",
       "  </tbody>\n",
       "</table>\n",
       "</div>"
      ],
      "text/plain": [
       "     CHR       POS0       POS1 REF ALT  \\\n",
       "0  chr10  101093161  101093162   C   T   \n",
       "1  chr10  102120533  102120534   C   T   \n",
       "2  chr10   18620949   18620950   G   A   \n",
       "3  chr10   67884566   67884567   A   G   \n",
       "4  chr10   71392494   71392495   T   A   \n",
       "\n",
       "                                           META_DATA  log_counts_diff  \\\n",
       "0  chr10,rs11190058,101093162,226,117,4.629646879...        -0.039395   \n",
       "1  chr10,rs61732512,102120534,378,38,10.808207143...        -0.019208   \n",
       "2  chr10,rs9645525,18620950,87,268,1.666940970549...        -0.010940   \n",
       "3  chr10,rs1960622,67884567,51,309,0.576512391993...         0.025003   \n",
       "4  chr10,rs2616089,71392495,129,102,6.52026656330...        -0.176760   \n",
       "\n",
       "   log_probs_diff_abs_sum  probs_jsd_diff    chr      SNP_ID  SNPabspos  \\\n",
       "0              -41.353477       -0.021602  chr10  rs11190058  101093162   \n",
       "1              -14.768434       -0.008199  chr10  rs61732512  102120534   \n",
       "2              -21.038605       -0.010441  chr10   rs9645525   18620950   \n",
       "3               24.381012        0.012914  chr10   rs1960622   67884567   \n",
       "4              -48.019270       -0.022547  chr10   rs2616089   71392495   \n",
       "\n",
       "   ref.element.count  alt.element.count  hepg2.ref.mean  hepg2.alt.mean  \\\n",
       "0                226                117        4.629647        0.787731   \n",
       "1                378                 38       10.808207        3.306092   \n",
       "2                 87                268        1.666941        5.493459   \n",
       "3                 51                309        0.576512        6.081183   \n",
       "4                129                102        6.520267        0.181656   \n",
       "\n",
       "   hepg2.wilcox.p.value  hepg2.wilcox.p.value.random ref alt  \n",
       "0          8.508169e-04                     0.310018   C   T  \n",
       "1          9.870135e-04                     0.963738   C   T  \n",
       "2          4.738338e-05                     0.723860   G   A  \n",
       "3          3.657079e-06                     0.249040   A   G  \n",
       "4          2.606949e-10                     0.754321   T   A  "
      ]
     },
     "execution_count": 8,
     "metadata": {},
     "output_type": "execute_result"
    }
   ],
   "source": [
    "preds.head()"
   ]
  },
  {
   "cell_type": "code",
   "execution_count": 9,
   "metadata": {},
   "outputs": [
    {
     "data": {
      "text/plain": [
       "(355, 20)"
      ]
     },
     "execution_count": 9,
     "metadata": {},
     "output_type": "execute_result"
    }
   ],
   "source": [
    "preds.shape"
   ]
  },
  {
   "cell_type": "code",
   "execution_count": 22,
   "metadata": {},
   "outputs": [
    {
     "data": {
      "text/plain": [
       "Text(0.5, 1.0, 'Pearsonr = 0.47')"
      ]
     },
     "execution_count": 22,
     "metadata": {},
     "output_type": "execute_result"
    },
    {
     "data": {
      "image/png": "[encoded data removed]",
      "text/plain": [
       "<Figure size 432x288 with 1 Axes>"
      ]
     },
     "metadata": {
      "needs_background": "light"
     },
     "output_type": "display_data"
    }
   ],
   "source": [
    "import numpy as np\n",
    "from scipy.stats import pearsonr\n",
    "\n",
    "preds[\"Z_score_fixed\"] = np.log2((preds[\"hepg2.alt.mean\"]+1)/(preds[\"hepg2.ref.mean\"]+1))\n",
    "#preds[\"Z_score_fixed\"] = np.log2((preds[\"hepg2.alt.mean\"]+1)/(preds[\"hepg2.ref.mean\"]+1)/ (preds[\"alt.element.count\"])/(preds[\"alt.element.count\"]+1))\n",
    "\n",
    "plt.scatter(preds[\"probs_jsd_diff\"], preds[\"Z_score_fixed\"].astype(float), s=1, c=\"b\", label=\"sig\")\n",
    "\n",
    "\n",
    "plt.xlabel(\"ChromBPNet Predicted Effect sizes\")\n",
    "plt.ylabel(\"Effect sizes\")\n",
    "plt.legend()\n",
    "plt.title(\"Pearsonr = \"+str(np.round(pearsonr(preds[\"probs_jsd_diff\"], preds[\"Z_score_fixed\"].astype(float))[0],2)))\n",
    "\n"
   ]
  },
  {
   "cell_type": "code",
   "execution_count": null,
   "metadata": {},
   "outputs": [],
   "source": []
  }
 ],
 "metadata": {
  "kernelspec": {
   "display_name": "Python 3",
   "language": "python",
   "name": "python3"
  },
  "language_info": {
   "codemirror_mode": {
    "name": "ipython",
    "version": 3
   },
   "file_extension": ".py",
   "mimetype": "text/x-python",
   "name": "python",
   "nbconvert_exporter": "python",
   "pygments_lexer": "ipython3",
   "version": "3.7.6"
  }
 },
 "nbformat": 4,
 "nbformat_minor": 4
}
