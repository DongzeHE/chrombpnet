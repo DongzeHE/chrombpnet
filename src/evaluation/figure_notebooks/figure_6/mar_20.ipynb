{
 "cells": [
  {
   "cell_type": "code",
   "execution_count": 1,
   "metadata": {},
   "outputs": [],
   "source": [
    "import pandas as pd\n",
    "enformer_preds = \"/mnt/lab_data2/anusri/chrombpnet/results/variant_data/dsqtls/process/enformer_preds_all.csv\""
   ]
  },
  {
   "cell_type": "code",
   "execution_count": 2,
   "metadata": {},
   "outputs": [],
   "source": [
    "scores = pd.read_csv(enformer_preds,header=None)\n",
    "scores[0] = scores[0].str.replace(\"b'\",\"\").str.replace(\"'\",\"\")\n",
    "enformer_preds = scores"
   ]
  },
  {
   "cell_type": "code",
   "execution_count": 3,
   "metadata": {},
   "outputs": [],
   "source": [
    "dnase_preds=\"/mnt/lab_data2/anusri/chrombpnet/results/chrombpnet/DNASE_SE/GM12878/nautilus_runs/GM12878_03.06.2022_bias_128_4_1234_0.8_fold_0/dsqtl_preds/snp_scores.tsv\"\n",
    "dsqtls_dnase = pd.read_csv(dnase_preds,sep=\"\\t\", header=0, index_col=False)\n",
    "dsqtls_dnase[['gkm_SVM','kmer_SVM','abs_gkm_SVM','abs_kmer_SVM','CADD','GWAVA_region','GWAVA_tss','GWAVA_unmatched','GERP','label']] = dsqtls_dnase['META_DATA'].str.split(\",\", expand=True)\n"
   ]
  },
  {
   "cell_type": "code",
   "execution_count": 4,
   "metadata": {},
   "outputs": [],
   "source": [
    "atac_preds=\"/mnt/lab_data2/anusri/chrombpnet/results/chrombpnet/ATAC_PE/GM12878/nautilus_runs/GM12878_03.01.2022_bias_128_4_1234_0.4_fold_0/dsqtl_preds/snp_scores.tsv\"\n",
    "dsqtls_atac = pd.read_csv(atac_preds,sep=\"\\t\", header=0, index_col=False)\n",
    "dsqtls_atac[['gkm_SVM','kmer_SVM','abs_gkm_SVM','abs_kmer_SVM','CADD','GWAVA_region','GWAVA_tss','GWAVA_unmatched','GERP','label']] = dsqtls_dnase['META_DATA'].str.split(\",\", expand=True)\n"
   ]
  },
  {
   "cell_type": "code",
   "execution_count": 5,
   "metadata": {},
   "outputs": [],
   "source": [
    "dsqtls_dnase[\"rsid\"] = dsqtls_dnase[\"CHR\"] + \"_\" + dsqtls_dnase[\"POS0\"].astype(str) + \"_\" + dsqtls_dnase[\"REF\"] + \"_\" + dsqtls_dnase[\"ALT\"]"
   ]
  },
  {
   "cell_type": "code",
   "execution_count": 6,
   "metadata": {},
   "outputs": [
    {
     "data": {
      "text/plain": [
       "0           chr1_846445_A_G\n",
       "1           chr1_901457_G_A\n",
       "2          chr1_1176364_T_A\n",
       "3          chr1_1217274_A_G\n",
       "4          chr1_1580437_A_G\n",
       "                ...        \n",
       "28303    chr9_140155406_T_C\n",
       "28304    chr9_140181120_T_C\n",
       "28305    chr9_140213800_A_G\n",
       "28306    chr9_140219483_G_C\n",
       "28307    chr9_140229799_A_T\n",
       "Name: rsid, Length: 28308, dtype: object"
      ]
     },
     "execution_count": 6,
     "metadata": {},
     "output_type": "execute_result"
    }
   ],
   "source": [
    "dsqtls_dnase[\"rsid\"]"
   ]
  },
  {
   "cell_type": "code",
   "execution_count": 7,
   "metadata": {},
   "outputs": [],
   "source": [
    "snps=pd.read_csv(\"/mnt/lab_data3/anusri/histone_expts/all_qtl_analysis/gm12878_sequence_sets/test_set/deltasv,/41588_2015_BFng3331_MOESM26_ESM.csv\",header=0,sep=',')\n",
    "df = pd.DataFrame()\n",
    "df['label'] = snps[\"label\"].astype(int)\n",
    "df['abs_gkm_SVM'] = snps[\"abs_gkm_SVM\"].astype(str)\n",
    "df['rsid'] = snps[\"SNPname2\"].astype(str)\n",
    "df[\"Chr\"] = snps[\"chrom_hg18\"].astype(str) \n",
    "df[\"Pos0\"] = snps[\"pos_hg18\"].astype(int) - 1\n",
    "df['POSTallele']= snps[\"allele1\"].astype(str)\n",
    "df['ALTallele']= snps[\"allele2\"].astype(str)\n",
    "df['rsid2'] = df[\"Chr\"] + \"_\" + df[\"Pos0\"].astype(str) + \"_\" + df[\"POSTallele\"] + \"_\" + df[\"ALTallele\"] \n",
    "df['META']=snps[['gkm_SVM','kmer_SVM','abs_gkm_SVM','abs_kmer_SVM','CADD','GWAVA_region','GWAVA_tss','GWAVA_unmatched','GERP','label']].astype(str).agg(','.join, axis=1)\n"
   ]
  },
  {
   "cell_type": "code",
   "execution_count": 8,
   "metadata": {},
   "outputs": [],
   "source": [
    "merged = df.merge(enformer_preds,left_on=\"rsid\",right_on=0, how=\"inner\")"
   ]
  },
  {
   "cell_type": "code",
   "execution_count": 9,
   "metadata": {},
   "outputs": [
    {
     "data": {
      "text/plain": [
       "(27390, 12)"
      ]
     },
     "execution_count": 9,
     "metadata": {},
     "output_type": "execute_result"
    }
   ],
   "source": [
    "merged.shape"
   ]
  },
  {
   "cell_type": "code",
   "execution_count": 12,
   "metadata": {},
   "outputs": [
    {
     "data": {
      "text/html": [
       "<div>\n",
       "<style scoped>\n",
       "    .dataframe tbody tr th:only-of-type {\n",
       "        vertical-align: middle;\n",
       "    }\n",
       "\n",
       "    .dataframe tbody tr th {\n",
       "        vertical-align: top;\n",
       "    }\n",
       "\n",
       "    .dataframe thead th {\n",
       "        text-align: right;\n",
       "    }\n",
       "</style>\n",
       "<table border=\"1\" class=\"dataframe\">\n",
       "  <thead>\n",
       "    <tr style=\"text-align: right;\">\n",
       "      <th></th>\n",
       "      <th>label</th>\n",
       "      <th>abs_gkm_SVM</th>\n",
       "      <th>rsid</th>\n",
       "      <th>Chr</th>\n",
       "      <th>Pos0</th>\n",
       "      <th>POSTallele</th>\n",
       "      <th>ALTallele</th>\n",
       "      <th>rsid2</th>\n",
       "      <th>META</th>\n",
       "      <th>0</th>\n",
       "      <th>1</th>\n",
       "      <th>2</th>\n",
       "    </tr>\n",
       "  </thead>\n",
       "  <tbody>\n",
       "    <tr>\n",
       "      <th>0</th>\n",
       "      <td>1</td>\n",
       "      <td>2.653531</td>\n",
       "      <td>rs141671872</td>\n",
       "      <td>chr1</td>\n",
       "      <td>846445</td>\n",
       "      <td>A</td>\n",
       "      <td>G</td>\n",
       "      <td>chr1_846445_A_G</td>\n",
       "      <td>2.653531,7.938784,2.653531,7.938784,-1.522533,...</td>\n",
       "      <td>rs141671872</td>\n",
       "      <td>0.000342</td>\n",
       "      <td>0.0004501</td>\n",
       "    </tr>\n",
       "    <tr>\n",
       "      <th>1</th>\n",
       "      <td>1</td>\n",
       "      <td>2.821422</td>\n",
       "      <td>rs7417106</td>\n",
       "      <td>chr1</td>\n",
       "      <td>901457</td>\n",
       "      <td>G</td>\n",
       "      <td>A</td>\n",
       "      <td>chr1_901457_G_A</td>\n",
       "      <td>2.821422,6.027648,2.821422,6.027648,1.739152,0...</td>\n",
       "      <td>rs7417106</td>\n",
       "      <td>0.001241</td>\n",
       "      <td>0.001526</td>\n",
       "    </tr>\n",
       "    <tr>\n",
       "      <th>2</th>\n",
       "      <td>1</td>\n",
       "      <td>7.167236</td>\n",
       "      <td>rs6603785</td>\n",
       "      <td>chr1</td>\n",
       "      <td>1176364</td>\n",
       "      <td>T</td>\n",
       "      <td>A</td>\n",
       "      <td>chr1_1176364_T_A</td>\n",
       "      <td>-7.167236,-10.870018,7.167236,10.870018,-0.091...</td>\n",
       "      <td>rs6603785</td>\n",
       "      <td>-0.00653</td>\n",
       "      <td>-0.00784</td>\n",
       "    </tr>\n",
       "    <tr>\n",
       "      <th>3</th>\n",
       "      <td>1</td>\n",
       "      <td>3.957382</td>\n",
       "      <td>rs112571439</td>\n",
       "      <td>chr1</td>\n",
       "      <td>1217274</td>\n",
       "      <td>A</td>\n",
       "      <td>G</td>\n",
       "      <td>chr1_1217274_A_G</td>\n",
       "      <td>-3.957382,2.387491,3.957382,2.387491,1.127472,...</td>\n",
       "      <td>rs112571439</td>\n",
       "      <td>-0.001878</td>\n",
       "      <td>-0.00229</td>\n",
       "    </tr>\n",
       "    <tr>\n",
       "      <th>4</th>\n",
       "      <td>1</td>\n",
       "      <td>4.785596</td>\n",
       "      <td>rs9661285</td>\n",
       "      <td>chr1</td>\n",
       "      <td>1580437</td>\n",
       "      <td>A</td>\n",
       "      <td>G</td>\n",
       "      <td>chr1_1580437_A_G</td>\n",
       "      <td>-4.785596,-6.827102,4.785596,6.827102,0.665464...</td>\n",
       "      <td>rs9661285</td>\n",
       "      <td>0.008736</td>\n",
       "      <td>0.01023</td>\n",
       "    </tr>\n",
       "    <tr>\n",
       "      <th>...</th>\n",
       "      <td>...</td>\n",
       "      <td>...</td>\n",
       "      <td>...</td>\n",
       "      <td>...</td>\n",
       "      <td>...</td>\n",
       "      <td>...</td>\n",
       "      <td>...</td>\n",
       "      <td>...</td>\n",
       "      <td>...</td>\n",
       "      <td>...</td>\n",
       "      <td>...</td>\n",
       "      <td>...</td>\n",
       "    </tr>\n",
       "    <tr>\n",
       "      <th>27385</th>\n",
       "      <td>-1</td>\n",
       "      <td>0.487228</td>\n",
       "      <td>rs3750506</td>\n",
       "      <td>chr9</td>\n",
       "      <td>140058003</td>\n",
       "      <td>A</td>\n",
       "      <td>G</td>\n",
       "      <td>chr9_140058003_A_G</td>\n",
       "      <td>0.487228,1.529274,0.487228,1.529274,-0.580919,...</td>\n",
       "      <td>rs3750506</td>\n",
       "      <td>-4.5e-06</td>\n",
       "      <td>-6.26e-06</td>\n",
       "    </tr>\n",
       "    <tr>\n",
       "      <th>27386</th>\n",
       "      <td>-1</td>\n",
       "      <td>2.804388</td>\n",
       "      <td>rs10780199</td>\n",
       "      <td>chr9</td>\n",
       "      <td>140073117</td>\n",
       "      <td>G</td>\n",
       "      <td>A</td>\n",
       "      <td>chr9_140073117_G_A</td>\n",
       "      <td>2.804388,5.312007,2.804388,5.312007,0.245404,0...</td>\n",
       "      <td>rs10780199</td>\n",
       "      <td>3.34e-06</td>\n",
       "      <td>4.6e-06</td>\n",
       "    </tr>\n",
       "    <tr>\n",
       "      <th>27387</th>\n",
       "      <td>-1</td>\n",
       "      <td>0.444036</td>\n",
       "      <td>rs7852209</td>\n",
       "      <td>chr9</td>\n",
       "      <td>140155406</td>\n",
       "      <td>T</td>\n",
       "      <td>C</td>\n",
       "      <td>chr9_140155406_T_C</td>\n",
       "      <td>0.444036,-1.583811,0.444036,1.583811,-0.606667...</td>\n",
       "      <td>rs7852209</td>\n",
       "      <td>1.13e-06</td>\n",
       "      <td>1.5e-06</td>\n",
       "    </tr>\n",
       "    <tr>\n",
       "      <th>27388</th>\n",
       "      <td>-1</td>\n",
       "      <td>1.363332</td>\n",
       "      <td>rs4066694</td>\n",
       "      <td>chr9</td>\n",
       "      <td>140181120</td>\n",
       "      <td>T</td>\n",
       "      <td>C</td>\n",
       "      <td>chr9_140181120_T_C</td>\n",
       "      <td>1.363332,1.703144,1.363332,1.703144,0.489617,0...</td>\n",
       "      <td>rs4066694</td>\n",
       "      <td>4.9e-06</td>\n",
       "      <td>6.85e-06</td>\n",
       "    </tr>\n",
       "    <tr>\n",
       "      <th>27389</th>\n",
       "      <td>-1</td>\n",
       "      <td>4.628759</td>\n",
       "      <td>rs12340415</td>\n",
       "      <td>chr9</td>\n",
       "      <td>140219483</td>\n",
       "      <td>G</td>\n",
       "      <td>C</td>\n",
       "      <td>chr9_140219483_G_C</td>\n",
       "      <td>-4.628759,-2.087131,4.628759,2.087131,-0.80951...</td>\n",
       "      <td>rs12340415</td>\n",
       "      <td>5.42e-05</td>\n",
       "      <td>7.6e-05</td>\n",
       "    </tr>\n",
       "  </tbody>\n",
       "</table>\n",
       "<p>27390 rows × 12 columns</p>\n",
       "</div>"
      ],
      "text/plain": [
       "       label abs_gkm_SVM         rsid   Chr       Pos0 POSTallele ALTallele  \\\n",
       "0          1    2.653531  rs141671872  chr1     846445          A         G   \n",
       "1          1    2.821422    rs7417106  chr1     901457          G         A   \n",
       "2          1    7.167236    rs6603785  chr1    1176364          T         A   \n",
       "3          1    3.957382  rs112571439  chr1    1217274          A         G   \n",
       "4          1    4.785596    rs9661285  chr1    1580437          A         G   \n",
       "...      ...         ...          ...   ...        ...        ...       ...   \n",
       "27385     -1    0.487228    rs3750506  chr9  140058003          A         G   \n",
       "27386     -1    2.804388   rs10780199  chr9  140073117          G         A   \n",
       "27387     -1    0.444036    rs7852209  chr9  140155406          T         C   \n",
       "27388     -1    1.363332    rs4066694  chr9  140181120          T         C   \n",
       "27389     -1    4.628759   rs12340415  chr9  140219483          G         C   \n",
       "\n",
       "                    rsid2                                               META  \\\n",
       "0         chr1_846445_A_G  2.653531,7.938784,2.653531,7.938784,-1.522533,...   \n",
       "1         chr1_901457_G_A  2.821422,6.027648,2.821422,6.027648,1.739152,0...   \n",
       "2        chr1_1176364_T_A  -7.167236,-10.870018,7.167236,10.870018,-0.091...   \n",
       "3        chr1_1217274_A_G  -3.957382,2.387491,3.957382,2.387491,1.127472,...   \n",
       "4        chr1_1580437_A_G  -4.785596,-6.827102,4.785596,6.827102,0.665464...   \n",
       "...                   ...                                                ...   \n",
       "27385  chr9_140058003_A_G  0.487228,1.529274,0.487228,1.529274,-0.580919,...   \n",
       "27386  chr9_140073117_G_A  2.804388,5.312007,2.804388,5.312007,0.245404,0...   \n",
       "27387  chr9_140155406_T_C  0.444036,-1.583811,0.444036,1.583811,-0.606667...   \n",
       "27388  chr9_140181120_T_C  1.363332,1.703144,1.363332,1.703144,0.489617,0...   \n",
       "27389  chr9_140219483_G_C  -4.628759,-2.087131,4.628759,2.087131,-0.80951...   \n",
       "\n",
       "                 0          1          2  \n",
       "0      rs141671872   0.000342  0.0004501  \n",
       "1        rs7417106   0.001241   0.001526  \n",
       "2        rs6603785   -0.00653   -0.00784  \n",
       "3      rs112571439  -0.001878   -0.00229  \n",
       "4        rs9661285   0.008736    0.01023  \n",
       "...            ...        ...        ...  \n",
       "27385    rs3750506   -4.5e-06  -6.26e-06  \n",
       "27386   rs10780199   3.34e-06    4.6e-06  \n",
       "27387    rs7852209   1.13e-06    1.5e-06  \n",
       "27388    rs4066694    4.9e-06   6.85e-06  \n",
       "27389   rs12340415   5.42e-05    7.6e-05  \n",
       "\n",
       "[27390 rows x 12 columns]"
      ]
     },
     "execution_count": 12,
     "metadata": {},
     "output_type": "execute_result"
    }
   ],
   "source": [
    "merged"
   ]
  },
  {
   "cell_type": "code",
   "execution_count": 15,
   "metadata": {},
   "outputs": [],
   "source": [
    "merged[2] = merged[2].astype(float)\n",
    "merged[1] = merged[1].astype(float)"
   ]
  },
  {
   "cell_type": "code",
   "execution_count": 16,
   "metadata": {},
   "outputs": [
    {
     "data": {
      "text/plain": [
       "Text(0, 0.5, 'Precision')"
      ]
     },
     "execution_count": 16,
     "metadata": {},
     "output_type": "execute_result"
    },
    {
     "data": {
      "image/png": "[encoded data removed]",
      "text/plain": [
       "<Figure size 432x288 with 1 Axes>"
      ]
     },
     "metadata": {
      "needs_background": "light"
     },
     "output_type": "display_data"
    }
   ],
   "source": [
    "import matplotlib.pyplot as plt\n",
    "import pandas as pd\n",
    "from sklearn.metrics import precision_recall_curve\n",
    "from sklearn.metrics import roc_curve\n",
    "from sklearn.metrics import RocCurveDisplay\n",
    "import pandas as pd\n",
    "import matplotlib.pyplot as plt\n",
    "import numpy as np\n",
    "from sklearn import metrics\n",
    "import matplotlib.pyplot as plt\n",
    "import matplotlib\n",
    "\n",
    "matplotlib.rcParams['pdf.fonttype'] = 42\n",
    "matplotlib.rcParams['ps.fonttype'] = 42 \n",
    "\n",
    "import random\n",
    "import os\n",
    "import argparse\n",
    "from sklearn.metrics import precision_recall_curve\n",
    "\n",
    "fpr_chrombpnet, tpr_chrombpnet, _ = precision_recall_curve(merged[\"label\"], abs(merged[2]))\n",
    "roc_auc = metrics.average_precision_score(merged[\"label\"], abs(merged[2]))\n",
    "plt.plot(tpr_chrombpnet,fpr_chrombpnet,  linewidth=2, label=\"Enformer SAR effect sizes w/ DNASE, AP=\"+str(round(roc_auc,2)))\n",
    "\n",
    "\n",
    "fpr_chrombpnet, tpr_chrombpnet, _ = precision_recall_curve(merged[\"label\"], abs(merged[1]))\n",
    "roc_auc = metrics.average_precision_score(merged[\"label\"], abs(merged[1]))\n",
    "plt.plot(tpr_chrombpnet,fpr_chrombpnet,  linewidth=2, label=\"Enformer SAD effect sizes w/ DNASE, AP=\"+str(round(roc_auc,2)))\n",
    "\n",
    "plt.legend(loc='upper right')\n",
    "plt.xlabel(\"Recall\")\n",
    "plt.ylabel(\"Precision\")\n"
   ]
  },
  {
   "cell_type": "code",
   "execution_count": null,
   "metadata": {},
   "outputs": [],
   "source": []
  }
 ],
 "metadata": {
  "kernelspec": {
   "display_name": "Python 3",
   "language": "python",
   "name": "python3"
  },
  "language_info": {
   "codemirror_mode": {
    "name": "ipython",
    "version": 3
   },
   "file_extension": ".py",
   "mimetype": "text/x-python",
   "name": "python",
   "nbconvert_exporter": "python",
   "pygments_lexer": "ipython3",
   "version": "3.7.6"
  }
 },
 "nbformat": 4,
 "nbformat_minor": 4
}
