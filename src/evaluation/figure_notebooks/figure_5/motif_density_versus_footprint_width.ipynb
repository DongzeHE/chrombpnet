{
 "cells": [
  {
   "cell_type": "code",
   "execution_count": 96,
   "metadata": {},
   "outputs": [],
   "source": [
    "import pandas as pd"
   ]
  },
  {
   "cell_type": "code",
   "execution_count": 97,
   "metadata": {},
   "outputs": [],
   "source": [
    "#filen=\"/mnt/lab_data3/anusri/chrombpnet/results/chrombpnet/ATAC_PE/HEPG2/HEPG2_05.09.2022_bias_128_4_1234_0.8_fold_0/09_06_2022_motif_scanning/mooods_run/clustered_overlaps_resolved_based_on_cwm_activations_normed.bed\"\n",
    "#filen=\"/mnt/lab_data3/anusri/chrombpnet/results/chrombpnet/ATAC_PE/K562/K562_02.17.2022_bias_128_4_1234_0.5_fold_0/09_06_2022_motif_scanning/clustered_overlaps_resolved_based_on_cwm_activations_normed.bed\"\n",
    "filen=\"/mnt/lab_data3/anusri/chrombpnet/results/chrombpnet/DNASE_PE/K562/K562_05.13.2022_bias_128_4_1234_0.5_fold_0/09_06_2022_motif_scanning/mooods_dir_eith_atac/clustered_overlaps_resolved_based_on_cwm_activations_normed.bed\" \n",
    "\n"
   ]
  },
  {
   "cell_type": "code",
   "execution_count": 98,
   "metadata": {},
   "outputs": [],
   "source": [
    "data = pd.read_csv(filen,sep=\"\\t\",header=None)\n",
    "#print(data.head())\n",
    "cluster_sizes = data.groupby([10]).size()"
   ]
  },
  {
   "cell_type": "code",
   "execution_count": 99,
   "metadata": {},
   "outputs": [],
   "source": [
    "import matplotlib.pyplot as plt"
   ]
  },
  {
   "cell_type": "code",
   "execution_count": 100,
   "metadata": {},
   "outputs": [
    {
     "data": {
      "text/plain": [
       "(array([8.06657346e-01, 2.10888090e-01, 6.58644564e-02, 1.99121230e-02,\n",
       "        5.77191931e-03, 1.53118967e-03, 3.82797417e-04, 8.65455030e-05,\n",
       "        1.33146928e-05, 3.32867319e-06]),\n",
       " array([ 1. ,  1.9,  2.8,  3.7,  4.6,  5.5,  6.4,  7.3,  8.2,  9.1, 10. ]),\n",
       " <BarContainer object of 10 artists>)"
      ]
     },
     "execution_count": 100,
     "metadata": {},
     "output_type": "execute_result"
    },
    {
     "data": {
      "image/png": "[encoded data removed]",
      "text/plain": [
       "<Figure size 432x288 with 1 Axes>"
      ]
     },
     "metadata": {
      "needs_background": "light"
     },
     "output_type": "display_data"
    }
   ],
   "source": [
    "plt.hist(cluster_sizes,bins=10,cumulative=False,density=True)"
   ]
  },
  {
   "cell_type": "code",
   "execution_count": 101,
   "metadata": {},
   "outputs": [
    {
     "data": {
      "text/plain": [
       "1.0"
      ]
     },
     "execution_count": 101,
     "metadata": {},
     "output_type": "execute_result"
    }
   ],
   "source": [
    "import numpy as np\n",
    "np.median(cluster_sizes)"
   ]
  },
  {
   "cell_type": "code",
   "execution_count": 102,
   "metadata": {},
   "outputs": [],
   "source": [
    "data[\"index\"] = data[0]+\"_\"+data[1].astype(str)+\"_\"+data[2].astype(str)+\"_\"+data[3].astype(str)"
   ]
  },
  {
   "cell_type": "code",
   "execution_count": 103,
   "metadata": {},
   "outputs": [],
   "source": [
    "data_n = data[[10,\"index\"]]"
   ]
  },
  {
   "cell_type": "code",
   "execution_count": 104,
   "metadata": {},
   "outputs": [
    {
     "data": {
      "text/plain": [
       "(464824, 2)"
      ]
     },
     "execution_count": 104,
     "metadata": {},
     "output_type": "execute_result"
    }
   ],
   "source": [
    "data_n.shape"
   ]
  },
  {
   "cell_type": "code",
   "execution_count": 105,
   "metadata": {},
   "outputs": [
    {
     "name": "stderr",
     "output_type": "stream",
     "text": [
      "/users/anusri/anaconda3/lib/python3.7/site-packages/ipykernel_launcher.py:1: SettingWithCopyWarning: \n",
      "A value is trying to be set on a copy of a slice from a DataFrame.\n",
      "Try using .loc[row_indexer,col_indexer] = value instead\n",
      "\n",
      "See the caveats in the documentation: https://pandas.pydata.org/pandas-docs/stable/user_guide/indexing.html#returning-a-view-versus-a-copy\n",
      "  \"\"\"Entry point for launching an IPython kernel.\n"
     ]
    },
    {
     "data": {
      "text/html": [
       "<div>\n",
       "<style scoped>\n",
       "    .dataframe tbody tr th:only-of-type {\n",
       "        vertical-align: middle;\n",
       "    }\n",
       "\n",
       "    .dataframe tbody tr th {\n",
       "        vertical-align: top;\n",
       "    }\n",
       "\n",
       "    .dataframe thead th {\n",
       "        text-align: right;\n",
       "    }\n",
       "</style>\n",
       "<table border=\"1\" class=\"dataframe\">\n",
       "  <thead>\n",
       "    <tr style=\"text-align: right;\">\n",
       "      <th></th>\n",
       "      <th>10</th>\n",
       "      <th>index</th>\n",
       "    </tr>\n",
       "  </thead>\n",
       "  <tbody>\n",
       "    <tr>\n",
       "      <th>0</th>\n",
       "      <td>1</td>\n",
       "      <td>chr1_40751_40758_0_5_NFYB_HUMAN.H11MO.0.A</td>\n",
       "    </tr>\n",
       "    <tr>\n",
       "      <th>1</th>\n",
       "      <td>2</td>\n",
       "      <td>chr1_42236_42241_0_0_GATA3_GATA_1</td>\n",
       "    </tr>\n",
       "    <tr>\n",
       "      <th>2</th>\n",
       "      <td>3</td>\n",
       "      <td>chr1_42279_42289_0_3_BACH2_HUMAN.H11MO.0.A</td>\n",
       "    </tr>\n",
       "    <tr>\n",
       "      <th>3</th>\n",
       "      <td>4</td>\n",
       "      <td>chr1_42334_42339_0_0_GATA3_GATA_1</td>\n",
       "    </tr>\n",
       "    <tr>\n",
       "      <th>4</th>\n",
       "      <td>5</td>\n",
       "      <td>chr1_46905_46912_0_4_ELK1_ETS_1</td>\n",
       "    </tr>\n",
       "    <tr>\n",
       "      <th>...</th>\n",
       "      <td>...</td>\n",
       "      <td>...</td>\n",
       "    </tr>\n",
       "    <tr>\n",
       "      <th>464818</th>\n",
       "      <td>333796</td>\n",
       "      <td>chrX_156016598_156016606_0_6_ETV4_MOUSE.H11MO.0.B</td>\n",
       "    </tr>\n",
       "    <tr>\n",
       "      <th>464819</th>\n",
       "      <td>333797</td>\n",
       "      <td>chrX_156016890_156016904_0_1_CTCF_MA0139.1,chr...</td>\n",
       "    </tr>\n",
       "    <tr>\n",
       "      <th>464821</th>\n",
       "      <td>333798</td>\n",
       "      <td>chrX_156025544_156025553_0_2_KLF3_HUMAN.H11MO.0.B</td>\n",
       "    </tr>\n",
       "    <tr>\n",
       "      <th>464822</th>\n",
       "      <td>333799</td>\n",
       "      <td>chrX_156026007_156026022_0_14_NFIC_HUMAN.H11MO...</td>\n",
       "    </tr>\n",
       "    <tr>\n",
       "      <th>464823</th>\n",
       "      <td>333800</td>\n",
       "      <td>chrX_156026077_156026087_0_3_BACH2_HUMAN.H11MO...</td>\n",
       "    </tr>\n",
       "  </tbody>\n",
       "</table>\n",
       "<p>333800 rows × 2 columns</p>\n",
       "</div>"
      ],
      "text/plain": [
       "            10                                              index\n",
       "0            1          chr1_40751_40758_0_5_NFYB_HUMAN.H11MO.0.A\n",
       "1            2                  chr1_42236_42241_0_0_GATA3_GATA_1\n",
       "2            3         chr1_42279_42289_0_3_BACH2_HUMAN.H11MO.0.A\n",
       "3            4                  chr1_42334_42339_0_0_GATA3_GATA_1\n",
       "4            5                    chr1_46905_46912_0_4_ELK1_ETS_1\n",
       "...        ...                                                ...\n",
       "464818  333796  chrX_156016598_156016606_0_6_ETV4_MOUSE.H11MO.0.B\n",
       "464819  333797  chrX_156016890_156016904_0_1_CTCF_MA0139.1,chr...\n",
       "464821  333798  chrX_156025544_156025553_0_2_KLF3_HUMAN.H11MO.0.B\n",
       "464822  333799  chrX_156026007_156026022_0_14_NFIC_HUMAN.H11MO...\n",
       "464823  333800  chrX_156026077_156026087_0_3_BACH2_HUMAN.H11MO...\n",
       "\n",
       "[333800 rows x 2 columns]"
      ]
     },
     "execution_count": 105,
     "metadata": {},
     "output_type": "execute_result"
    }
   ],
   "source": [
    "data_n[\"index\"] = data_n[[10,\"index\"]].groupby([10])[\"index\"].transform(lambda x: ','.join(x))\n",
    "data_n[[10,\"index\"]].drop_duplicates()"
   ]
  },
  {
   "cell_type": "code",
   "execution_count": 106,
   "metadata": {},
   "outputs": [],
   "source": [
    "dictionary_f = {}\n",
    "for i,r in data_n.iterrows():\n",
    "    footprints = r[\"index\"].split(\",\")\n",
    "    if len(footprints) < 5:\n",
    "        footprint_len = len(footprints)\n",
    "    else:\n",
    "        footprint_len = 5\n",
    "    if footprint_len not in dictionary_f:\n",
    "        dictionary_f[footprint_len] = []\n",
    "    dictionary_f[footprint_len].append(r[\"index\"])"
   ]
  },
  {
   "cell_type": "code",
   "execution_count": 107,
   "metadata": {},
   "outputs": [
    {
     "data": {
      "text/plain": [
       "dict_keys([1, 2, 5, 3, 4])"
      ]
     },
     "execution_count": 107,
     "metadata": {},
     "output_type": "execute_result"
    }
   ],
   "source": [
    "dictionary_f.keys()"
   ]
  },
  {
   "cell_type": "code",
   "execution_count": 108,
   "metadata": {},
   "outputs": [],
   "source": [
    "import pyBigWig\n",
    "\n",
    "#cts_bw_file=\"/mnt/lab_data2/anusri/chrombpnet/results/chrombpnet/ATAC_PE/K562/nautilus_runs/K562_02.17.2022_bias_128_4_1234_0.5_fold_0/interpret/K562_wo_bias.bw\"\n",
    "cts_bw_file=\"/mnt/lab_data2/anusri/chrombpnet/results/chrombpnet/DNASE_PE/K562/nautilus_runs_may18/K562_05.13.2022_bias_128_4_1234_0.5_fold_0/interpret/K562_wo_bias.bw\"\n",
    "#cts_bw_file=\"/mnt/lab_data2/anusri/chrombpnet/results/chrombpnet/ATAC_PE/HEPG2/nautilus_runs_jun16/HEPG2_05.09.2022_bias_128_4_1234_0.8_fold_0/interpret/HEPG2_wo_bias.bw\"\n",
    "bias_corrected_bw = pyBigWig.open(cts_bw_file)\n",
    "\n"
   ]
  },
  {
   "cell_type": "code",
   "execution_count": 109,
   "metadata": {},
   "outputs": [
    {
     "name": "stdout",
     "output_type": "stream",
     "text": [
      "chr16 89241060 89241277\n",
      "chr16 89241060 89241277\n",
      "chr16 89241060 89241277\n",
      "chr16 89241060 89241277\n",
      "chr16 89241060 89241277\n",
      "chr16 89241060 89241277\n",
      "chr16 89241060 89241277\n",
      "chr16 89241060 89241277\n",
      "chr19 35305972 35306188\n",
      "chr19 35305972 35306188\n",
      "chr19 35305972 35306188\n",
      "chr19 35305972 35306188\n",
      "chr19 35305972 35306188\n",
      "chr19 35305972 35306188\n",
      "chr20 58542201 58542463\n",
      "chr20 58542201 58542463\n",
      "chr20 58542201 58542463\n",
      "chr20 58542201 58542463\n",
      "chr20 58542201 58542463\n",
      "chr20 58542201 58542463\n",
      "chr20 58542201 58542463\n",
      "chr20 58542201 58542463\n",
      "chr20 63751610 63751856\n",
      "chr20 63751610 63751856\n",
      "chr20 63751610 63751856\n",
      "chr20 63751610 63751856\n",
      "chr20 63751610 63751856\n",
      "chr20 63751610 63751856\n",
      "chr20 63751610 63751856\n",
      "chr20 63751610 63751856\n",
      "chr20 63751610 63751856\n",
      "chr21 31947146 31947384\n",
      "chr21 31947146 31947384\n",
      "chr21 31947146 31947384\n",
      "chr21 31947146 31947384\n",
      "chr21 31947146 31947384\n",
      "chr21 31947146 31947384\n",
      "chr21 31947146 31947384\n",
      "chr6 6687034 6687262\n",
      "chr6 6687034 6687262\n",
      "chr6 6687034 6687262\n",
      "chr6 6687034 6687262\n",
      "chr6 6687034 6687262\n",
      "chr6 6687034 6687262\n",
      "chr6 6687034 6687262\n"
     ]
    }
   ],
   "source": [
    "import scipy.stats as stats\n",
    "footprint_bins = {}\n",
    "for key in  dictionary_f:\n",
    "    if key not in footprint_bins:\n",
    "        footprint_bins[key] = []\n",
    "    for value in dictionary_f[key]:\n",
    "        motif_locs = value.split(\",\")\n",
    "        mins=10e100\n",
    "        maxs=-1\n",
    "        for x in motif_locs:\n",
    "            start = int(x.split(\"_\")[1])\n",
    "            end = int(x.split(\"_\")[2])\n",
    "            chrm = x.split(\"_\")[0]\n",
    "            \n",
    "            if start<mins:\n",
    "                mins=start\n",
    "                \n",
    "            if end>maxs:\n",
    "                maxs=end\n",
    "            \n",
    "        midpoint = int((maxs+mins)/2)\n",
    "        if (maxs-mins) > 200:\n",
    "            print(chrm,mins,maxs)\n",
    "        footprint_val = np.nan_to_num(bias_corrected_bw.values(chrm,midpoint-500,midpoint+500))\n",
    "        footprint_val = footprint_val\n",
    "        zdval = stats.zscore(footprint_val)\n",
    "        footprint_bins[key].append(zdval[400:600])\n"
   ]
  },
  {
   "cell_type": "code",
   "execution_count": 110,
   "metadata": {},
   "outputs": [
    {
     "data": {
      "text/plain": [
       "dict_keys([1, 2, 5, 3, 4])"
      ]
     },
     "execution_count": 110,
     "metadata": {},
     "output_type": "execute_result"
    }
   ],
   "source": [
    "footprint_bins.keys()"
   ]
  },
  {
   "cell_type": "code",
   "execution_count": 111,
   "metadata": {
    "scrolled": false
   },
   "outputs": [
    {
     "name": "stdout",
     "output_type": "stream",
     "text": [
      "26\n",
      "52\n",
      "68\n",
      "3\n",
      "2\n"
     ]
    },
    {
     "data": {
      "image/png": "[encoded data removed]",
      "text/plain": [
       "<Figure size 432x288 with 2 Axes>"
      ]
     },
     "metadata": {
      "needs_background": "light"
     },
     "output_type": "display_data"
    }
   ],
   "source": [
    "import matplotlib\n",
    "\n",
    "matplotlib.rcParams['pdf.fonttype'] = 42\n",
    "matplotlib.rcParams['ps.fonttype'] = 42 \n",
    "\n",
    "import matplotlib.pyplot as plt \n",
    "import seaborn as sns\n",
    "\n",
    "\n",
    "outputs = []\n",
    "for key in [1, 2, 3, 4, 5]:\n",
    "    output = np.mean(np.array(footprint_bins[key]),axis=0)\n",
    "    left = np.argmax(output[0:100])\n",
    "    right = np.argmax(output[100:200])\n",
    "    \n",
    "    print(100+right-left)\n",
    "    #indsl = np.where(output[0:100]>(output[left]*0.5))[0]\n",
    "    #indsr = np.where(output[100:200]>(output[right]*0.5))[0]\n",
    "        \n",
    "    #print(-np.min(indsl)+(100+np.max(indsr)))\n",
    "    #print(-np.max(indsl)+(100+np.min(indsr)))\n",
    "\n",
    "    outputs.append(output)\n",
    "plt.figure()\n",
    "ax = sns.heatmap(outputs,cmap=\"YlGnBu\",yticklabels=[1, 2, 3, 4, \"5+\"], xticklabels=10, cbar_kws={'label': 'mean z-score'})\n",
    "plt.xlabel('100bp around footprint center')\n",
    "plt.ylabel('Motif density')\n",
    "plt.savefig(\"subfigs/footprint_width_motif_density_dnase_k562.pdf\", dpi=300, transparent=True)\n",
    "\n",
    "plt.show()\n",
    "    \n",
    "    \n",
    "    "
   ]
  },
  {
   "cell_type": "code",
   "execution_count": null,
   "metadata": {},
   "outputs": [],
   "source": [
    "#data.groupby(by=[10]).sum()"
   ]
  },
  {
   "cell_type": "code",
   "execution_count": null,
   "metadata": {},
   "outputs": [],
   "source": []
  },
  {
   "cell_type": "code",
   "execution_count": null,
   "metadata": {},
   "outputs": [],
   "source": []
  }
 ],
 "metadata": {
  "kernelspec": {
   "display_name": "Python 3",
   "language": "python",
   "name": "python3"
  },
  "language_info": {
   "codemirror_mode": {
    "name": "ipython",
    "version": 3
   },
   "file_extension": ".py",
   "mimetype": "text/x-python",
   "name": "python",
   "nbconvert_exporter": "python",
   "pygments_lexer": "ipython3",
   "version": "3.7.6"
  }
 },
 "nbformat": 4,
 "nbformat_minor": 4
}
