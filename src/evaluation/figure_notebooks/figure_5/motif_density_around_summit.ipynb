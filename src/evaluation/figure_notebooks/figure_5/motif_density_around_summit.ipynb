{
 "cells": [
  {
   "cell_type": "code",
   "execution_count": 1,
   "metadata": {},
   "outputs": [],
   "source": [
    "import pandas as pd"
   ]
  },
  {
   "cell_type": "code",
   "execution_count": 2,
   "metadata": {},
   "outputs": [],
   "source": [
    "filen=\"/mnt/lab_data3/anusri/chrombpnet/results/chrombpnet/ATAC_PE/K562/K562_02.17.2022_bias_128_4_1234_0.5_fold_0/08_01_2023_motif_scanning/mooods_run/clustered_overlaps_resolved_based_on_cwm_activations_normed.bed\"\n",
    "peak_bed_path=\"/oak/stanford/groups/akundaje/projects/chrombpnet/model_inputs/ENCODE_ATAC_downloads/K562/idr1.bed.gz\"\n",
    "bwp = \"/mnt/lab_data2/anusri/chrombpnet/results/chrombpnet/ATAC_PE/K562/data/K562_unstranded.bw\"\n",
    "scale = 2.148851624974651\n",
    "inputs = []\n",
    "inputs.append([filen,peak_bed_path,bwp, scale])\n",
    "\n",
    "filen=\"/mnt/lab_data3/anusri/chrombpnet/results/chrombpnet/ATAC_PE/IMR90/IMR90_04.09.2022_bias_128_4_1234_0.4_fold_0/08_01_2023_motif_scanning/mooods_run/clustered_overlaps_resolved_based_on_cwm_activations_normed.bed\"\n",
    "peak_bed_path=\"/oak/stanford/groups/akundaje/projects/chrombpnet/model_inputs/ENCODE_ATAC_downloads/IMR90/idr1.bed.gz\"\n",
    "bwp = \"/mnt/lab_data2/anusri/chrombpnet/results/chrombpnet/ATAC_PE/IMR90/data/IMR90_unstranded.bw\"\n",
    "scale = 0.5309343825662685\n",
    "inputs.append([filen,peak_bed_path,bwp, scale])\n",
    "\n",
    "filen=\"/mnt/lab_data3/anusri/chrombpnet/results/chrombpnet/ATAC_PE/HEPG2/HEPG2_05.09.2022_bias_128_4_1234_0.8_fold_0/08_01_2023_motif_scanning/mooods_run/clustered_overlaps_resolved_based_on_cwm_activations_normed.bed\"\n",
    "peak_bed_path=\"/oak/stanford/groups/akundaje/projects/chrombpnet/model_inputs/ENCODE_ATAC_downloads/HEPG2/idr1.bed.gz\"\n",
    "bwp = \"/mnt/lab_data2/anusri/chrombpnet/results/chrombpnet/ATAC_PE/HEPG2/data/HEPG2_unstranded.bw\"\n",
    "scale=2.3092462701201955\n",
    "inputs.append([filen,peak_bed_path,bwp, scale])\n",
    "\n",
    "filen=\"/mnt/lab_data3/anusri/chrombpnet/results/chrombpnet/ATAC_PE/H1ESC/H1ESC_05.09.2022_bias_128_4_1234_0.8_fold_0/08_01_2023_motif_scanning/mooods_run/clustered_overlaps_resolved_based_on_cwm_activations_normed.bed\"\n",
    "peak_bed_path=\"/oak/stanford/groups/akundaje/projects/chrombpnet/model_inputs/ATAC/croo/H1ESC/peak/idr_reproducibility/idr.optimal_peak.narrowPeak.gz\"\n",
    "bwp = \"/mnt/lab_data2/anusri/chrombpnet/results/chrombpnet/ATAC_PE/H1ESC/data/H1ESC_unstranded.bw\"\n",
    "scale = 0.4310586420145473\n",
    "inputs.append([filen,peak_bed_path,bwp, scale])\n",
    "\n",
    "filen=\"/mnt/lab_data3/anusri/chrombpnet/results/chrombpnet/ATAC_PE/GM12878/GM12878_03.01.2022_bias_128_4_1234_0.4_fold_0/08_01_2023_motif_scanning/mooods_run/clustered_overlaps_resolved_based_on_cwm_activations_normed.bed\"\n",
    "peak_bed_path=\"/oak/stanford/groups/akundaje/projects/chrombpnet/model_inputs/ENCODE_ATAC_downloads/GM12878/idr1.bed.gz\"\n",
    "bwp = \"/mnt/lab_data2/anusri/chrombpnet/results/chrombpnet/ATAC_PE/GM12878/data/GM12878_unstranded.bw\"\n",
    "scale = 2.6455171206660832\n",
    "inputs.append([filen,peak_bed_path,bwp, scale])\n",
    "\n",
    "\n"
   ]
  },
  {
   "cell_type": "code",
   "execution_count": 3,
   "metadata": {},
   "outputs": [],
   "source": [
    "#data = pd.read_csv(filen,sep=\"\\t\",header=None)\n",
    "#inputs"
   ]
  },
  {
   "cell_type": "code",
   "execution_count": null,
   "metadata": {},
   "outputs": [],
   "source": []
  },
  {
   "cell_type": "code",
   "execution_count": null,
   "metadata": {},
   "outputs": [],
   "source": []
  },
  {
   "cell_type": "code",
   "execution_count": 28,
   "metadata": {},
   "outputs": [],
   "source": [
    "import os\n",
    "import subprocess\n",
    "import numpy as np\n",
    "import pandas as pd\n",
    "import tempfile\n",
    "import pyBigWig\n",
    "\n",
    "def get_hits_from_dataset(filen,peak_bed_path,bigwig_path, scale, data_id):\n",
    "    def filter_hits_for_peaks(\n",
    "        moods_out_bed_path, peak_bed_path, bw, scale, data_id\n",
    "    ):\n",
    "        \"\"\"\n",
    "        Filters MOODS hits for only those that (fully) overlap a particular set of\n",
    "        peaks. `peak_bed_path` must be a BED file; only the first 3 columns are\n",
    "        used. A new column is added to the resulting hits: the index of the peak in\n",
    "        `peak_bed_path`. If `peak_bed_path` has repeats, the later index is kept.\n",
    "        \"\"\"\n",
    "        # First filter using bedtools intersect, keeping track of matches\n",
    "        temp_file = \"addons/hits_filtered_bed_k562_atac.tmp\"\n",
    "        filtered_hits_path = \"addons/hits_filtered_bed_k562_atac.bed\"\n",
    "        comm = [\"bedtools\", \"intersect\"]\n",
    "        comm += [\"-wa\", \"-wb\"]\n",
    "        comm += [\"-f\", \"1\"]  # Require the entire hit to overlap with peak\n",
    "        comm += [\"-a\", moods_out_bed_path]\n",
    "        comm += [\"-b\", peak_bed_path]\n",
    "        with open(temp_file, \"w\") as f:\n",
    "            print(comm)\n",
    "            proc = subprocess.Popen(comm, stdout=f)\n",
    "            proc.wait()\n",
    "\n",
    "        # Create mapping of peaks to indices in `peak_bed_path`\n",
    "        peak_table = pd.read_csv(\n",
    "            peak_bed_path, sep=\"\\t\", header=None, index_col=False,\n",
    "            usecols=[0, 1, 2, 8], names=[\"chrom\", \"start\", \"end\", \"1\", \"2\", \"3\", \"4\", \"5\", \"6\", \"summit\"]\n",
    "        )\n",
    "        peak_keys = (\n",
    "            peak_table[\"chrom\"] + \":\" + peak_table[\"start\"].astype(str) + \"-\" + \\\n",
    "            peak_table[\"end\"].astype(str)\n",
    "        ).values\n",
    "        peak_index_map = {k : str(i) for i, k in enumerate(peak_keys)}\n",
    "\n",
    "        # Convert last three columns to peak index\n",
    "        f = open(temp_file, \"r\")\n",
    "        g = open(filtered_hits_path, \"w\")\n",
    "        for line in f:\n",
    "            tokens = line.strip().split(\"\\t\")\n",
    "            #print(tokens)\n",
    "            g.write(\"\\t\".join((tokens[0:4])))\n",
    "            peak_index = peak_index_map[\"%s:%s-%s\" % tuple(tokens[11:14])]\n",
    "            peak_index = peak_index + \"_\" + str(data_id)\n",
    "            #print(tokens[0],tokens[1],int(tokens[2]))\n",
    "            #print(tokens[11],tokens[12],int(tokens[13]))\n",
    "\n",
    "            peak_summit_dist = ((int(tokens[1])+int(tokens[2]))/2) - ((int(tokens[12])+int(tokens[13]))/2)\n",
    "\n",
    "            peak_signal = np.sum(np.nan_to_num(bw.values(tokens[11],int(tokens[12]),int(tokens[13]))))/scale\n",
    "            g.write(\"\\t\" + peak_index + \"\\t\" + str(np.round(peak_summit_dist,2)) + \"\\t\" + str(peak_signal) + \"\\n\")\n",
    "        f.close()\n",
    "        g.close()\n",
    "\n",
    "    peak_table = pd.read_csv(\n",
    "        peak_bed_path, sep=\"\\t\", header=None, index_col=False\n",
    "    )\n",
    "\n",
    "    peak_table[2] = peak_table[1]+peak_table[9]+500\n",
    "    peak_table[1] = peak_table[1]+peak_table[9]-500\n",
    "\n",
    "    peak_table.to_csv(\"addons/summit_centered_peak_k562_atac.bed\",sep=\"\\t\",header=False, index=False)\n",
    "    bwin = pyBigWig.open(bigwig_path)\n",
    "    filter_hits_for_peaks(\n",
    "        filen, 'addons/summit_centered_peak_k562_atac.bed', bwin, scale, data_id\n",
    "    )\n",
    "\n",
    "    data = pd.read_csv(\"addons/hits_filtered_bed_k562_atac.bed\",sep=\"\\t\",header=None)\n",
    "    \n",
    "    return data"
   ]
  },
  {
   "cell_type": "code",
   "execution_count": 29,
   "metadata": {},
   "outputs": [
    {
     "name": "stdout",
     "output_type": "stream",
     "text": [
      "0\n",
      "['bedtools', 'intersect', '-wa', '-wb', '-f', '1', '-a', '/mnt/lab_data3/anusri/chrombpnet/results/chrombpnet/ATAC_PE/K562/K562_02.17.2022_bias_128_4_1234_0.5_fold_0/08_01_2023_motif_scanning/mooods_run/clustered_overlaps_resolved_based_on_cwm_activations_normed.bed', '-b', 'addons/summit_centered_peak_k562_atac.bed']\n",
      "1\n",
      "['bedtools', 'intersect', '-wa', '-wb', '-f', '1', '-a', '/mnt/lab_data3/anusri/chrombpnet/results/chrombpnet/ATAC_PE/IMR90/IMR90_04.09.2022_bias_128_4_1234_0.4_fold_0/08_01_2023_motif_scanning/mooods_run/clustered_overlaps_resolved_based_on_cwm_activations_normed.bed', '-b', 'addons/summit_centered_peak_k562_atac.bed']\n",
      "2\n",
      "['bedtools', 'intersect', '-wa', '-wb', '-f', '1', '-a', '/mnt/lab_data3/anusri/chrombpnet/results/chrombpnet/ATAC_PE/HEPG2/HEPG2_05.09.2022_bias_128_4_1234_0.8_fold_0/08_01_2023_motif_scanning/mooods_run/clustered_overlaps_resolved_based_on_cwm_activations_normed.bed', '-b', 'addons/summit_centered_peak_k562_atac.bed']\n",
      "3\n",
      "['bedtools', 'intersect', '-wa', '-wb', '-f', '1', '-a', '/mnt/lab_data3/anusri/chrombpnet/results/chrombpnet/ATAC_PE/H1ESC/H1ESC_05.09.2022_bias_128_4_1234_0.8_fold_0/08_01_2023_motif_scanning/mooods_run/clustered_overlaps_resolved_based_on_cwm_activations_normed.bed', '-b', 'addons/summit_centered_peak_k562_atac.bed']\n",
      "4\n",
      "['bedtools', 'intersect', '-wa', '-wb', '-f', '1', '-a', '/mnt/lab_data3/anusri/chrombpnet/results/chrombpnet/ATAC_PE/GM12878/GM12878_03.01.2022_bias_128_4_1234_0.4_fold_0/08_01_2023_motif_scanning/mooods_run/clustered_overlaps_resolved_based_on_cwm_activations_normed.bed', '-b', 'addons/summit_centered_peak_k562_atac.bed']\n"
     ]
    }
   ],
   "source": [
    "dataframes = []\n",
    "for idx in range(len(inputs)):\n",
    "    print(idx)\n",
    "    data = get_hits_from_dataset(inputs[idx][0],inputs[idx][1],inputs[idx][2],inputs[idx][3],idx)\n",
    "    dataframes.append(data)"
   ]
  },
  {
   "cell_type": "code",
   "execution_count": 30,
   "metadata": {},
   "outputs": [],
   "source": [
    "data = pd.concat(dataframes)"
   ]
  },
  {
   "cell_type": "code",
   "execution_count": 31,
   "metadata": {},
   "outputs": [
    {
     "data": {
      "text/plain": [
       "(2341850, 7)"
      ]
     },
     "execution_count": 31,
     "metadata": {},
     "output_type": "execute_result"
    }
   ],
   "source": [
    "data.shape"
   ]
  },
  {
   "cell_type": "code",
   "execution_count": 32,
   "metadata": {},
   "outputs": [
    {
     "data": {
      "text/html": [
       "<div>\n",
       "<style scoped>\n",
       "    .dataframe tbody tr th:only-of-type {\n",
       "        vertical-align: middle;\n",
       "    }\n",
       "\n",
       "    .dataframe tbody tr th {\n",
       "        vertical-align: top;\n",
       "    }\n",
       "\n",
       "    .dataframe thead th {\n",
       "        text-align: right;\n",
       "    }\n",
       "</style>\n",
       "<table border=\"1\" class=\"dataframe\">\n",
       "  <thead>\n",
       "    <tr style=\"text-align: right;\">\n",
       "      <th></th>\n",
       "      <th>0</th>\n",
       "      <th>1</th>\n",
       "      <th>2</th>\n",
       "      <th>3</th>\n",
       "      <th>4</th>\n",
       "      <th>5</th>\n",
       "      <th>6</th>\n",
       "      <th>index</th>\n",
       "    </tr>\n",
       "  </thead>\n",
       "  <tbody>\n",
       "    <tr>\n",
       "      <th>0</th>\n",
       "      <td>chr1</td>\n",
       "      <td>69355</td>\n",
       "      <td>69369</td>\n",
       "      <td>0_23_ZN350_HUMAN.H11MO.0.C</td>\n",
       "      <td>66705_0</td>\n",
       "      <td>74.0</td>\n",
       "      <td>426.274197</td>\n",
       "      <td>chr1_69355_69369_0_23_ZN350_HUMAN.H11MO.0.C</td>\n",
       "    </tr>\n",
       "    <tr>\n",
       "      <th>1</th>\n",
       "      <td>chr1</td>\n",
       "      <td>69355</td>\n",
       "      <td>69369</td>\n",
       "      <td>0_23_ZN350_HUMAN.H11MO.0.C</td>\n",
       "      <td>92955_0</td>\n",
       "      <td>-361.0</td>\n",
       "      <td>391.837198</td>\n",
       "      <td>chr1_69355_69369_0_23_ZN350_HUMAN.H11MO.0.C</td>\n",
       "    </tr>\n",
       "    <tr>\n",
       "      <th>2</th>\n",
       "      <td>chr1</td>\n",
       "      <td>69355</td>\n",
       "      <td>69369</td>\n",
       "      <td>0_23_ZN350_HUMAN.H11MO.0.C</td>\n",
       "      <td>141439_0</td>\n",
       "      <td>284.0</td>\n",
       "      <td>337.389511</td>\n",
       "      <td>chr1_69355_69369_0_23_ZN350_HUMAN.H11MO.0.C</td>\n",
       "    </tr>\n",
       "    <tr>\n",
       "      <th>3</th>\n",
       "      <td>chr1</td>\n",
       "      <td>69759</td>\n",
       "      <td>69764</td>\n",
       "      <td>0_0_GATA3_GATA_1</td>\n",
       "      <td>66705_0</td>\n",
       "      <td>473.5</td>\n",
       "      <td>426.274197</td>\n",
       "      <td>chr1_69759_69764_0_0_GATA3_GATA_1</td>\n",
       "    </tr>\n",
       "    <tr>\n",
       "      <th>4</th>\n",
       "      <td>chr1</td>\n",
       "      <td>69759</td>\n",
       "      <td>69764</td>\n",
       "      <td>0_0_GATA3_GATA_1</td>\n",
       "      <td>92955_0</td>\n",
       "      <td>38.5</td>\n",
       "      <td>391.837198</td>\n",
       "      <td>chr1_69759_69764_0_0_GATA3_GATA_1</td>\n",
       "    </tr>\n",
       "  </tbody>\n",
       "</table>\n",
       "</div>"
      ],
      "text/plain": [
       "      0      1      2                           3         4      5  \\\n",
       "0  chr1  69355  69369  0_23_ZN350_HUMAN.H11MO.0.C   66705_0   74.0   \n",
       "1  chr1  69355  69369  0_23_ZN350_HUMAN.H11MO.0.C   92955_0 -361.0   \n",
       "2  chr1  69355  69369  0_23_ZN350_HUMAN.H11MO.0.C  141439_0  284.0   \n",
       "3  chr1  69759  69764            0_0_GATA3_GATA_1   66705_0  473.5   \n",
       "4  chr1  69759  69764            0_0_GATA3_GATA_1   92955_0   38.5   \n",
       "\n",
       "            6                                        index  \n",
       "0  426.274197  chr1_69355_69369_0_23_ZN350_HUMAN.H11MO.0.C  \n",
       "1  391.837198  chr1_69355_69369_0_23_ZN350_HUMAN.H11MO.0.C  \n",
       "2  337.389511  chr1_69355_69369_0_23_ZN350_HUMAN.H11MO.0.C  \n",
       "3  426.274197            chr1_69759_69764_0_0_GATA3_GATA_1  \n",
       "4  391.837198            chr1_69759_69764_0_0_GATA3_GATA_1  "
      ]
     },
     "execution_count": 32,
     "metadata": {},
     "output_type": "execute_result"
    }
   ],
   "source": [
    "data[\"index\"] = data[0] + \"_\" + data[1].astype(str) + \"_\" + data[2].astype(str) + \"_\" + data[3].astype(str) \n",
    "data.head()"
   ]
  },
  {
   "cell_type": "code",
   "execution_count": 33,
   "metadata": {},
   "outputs": [],
   "source": [
    "data_n = data.groupby([\"index\"], group_keys=False).apply(lambda x: x.loc[x[5].abs().idxmin()])"
   ]
  },
  {
   "cell_type": "code",
   "execution_count": 34,
   "metadata": {},
   "outputs": [
    {
     "data": {
      "text/plain": [
       "(2341850, 8)"
      ]
     },
     "execution_count": 34,
     "metadata": {},
     "output_type": "execute_result"
    }
   ],
   "source": [
    "data.shape\n"
   ]
  },
  {
   "cell_type": "code",
   "execution_count": 35,
   "metadata": {},
   "outputs": [
    {
     "data": {
      "text/plain": [
       "(1285535, 8)"
      ]
     },
     "execution_count": 35,
     "metadata": {},
     "output_type": "execute_result"
    }
   ],
   "source": [
    "data_n.shape"
   ]
  },
  {
   "cell_type": "code",
   "execution_count": 36,
   "metadata": {},
   "outputs": [
    {
     "data": {
      "text/html": [
       "<div>\n",
       "<style scoped>\n",
       "    .dataframe tbody tr th:only-of-type {\n",
       "        vertical-align: middle;\n",
       "    }\n",
       "\n",
       "    .dataframe tbody tr th {\n",
       "        vertical-align: top;\n",
       "    }\n",
       "\n",
       "    .dataframe thead th {\n",
       "        text-align: right;\n",
       "    }\n",
       "</style>\n",
       "<table border=\"1\" class=\"dataframe\">\n",
       "  <thead>\n",
       "    <tr style=\"text-align: right;\">\n",
       "      <th></th>\n",
       "      <th>0</th>\n",
       "      <th>1</th>\n",
       "      <th>2</th>\n",
       "      <th>3</th>\n",
       "      <th>4</th>\n",
       "      <th>5</th>\n",
       "      <th>6</th>\n",
       "      <th>index</th>\n",
       "    </tr>\n",
       "    <tr>\n",
       "      <th>index</th>\n",
       "      <th></th>\n",
       "      <th></th>\n",
       "      <th></th>\n",
       "      <th></th>\n",
       "      <th></th>\n",
       "      <th></th>\n",
       "      <th></th>\n",
       "      <th></th>\n",
       "    </tr>\n",
       "  </thead>\n",
       "  <tbody>\n",
       "    <tr>\n",
       "      <th>chr10_100005969_100005976_0_2_TEAD1_MOUSE.H11MO.0.A</th>\n",
       "      <td>chr10</td>\n",
       "      <td>100005969</td>\n",
       "      <td>100005976</td>\n",
       "      <td>0_2_TEAD1_MOUSE.H11MO.0.A</td>\n",
       "      <td>33165_1</td>\n",
       "      <td>-487.5</td>\n",
       "      <td>1373.051028</td>\n",
       "      <td>chr10_100005969_100005976_0_2_TEAD1_MOUSE.H11M...</td>\n",
       "    </tr>\n",
       "    <tr>\n",
       "      <th>chr10_100006013_100006019_0_3_FOXI1_MA0042.2</th>\n",
       "      <td>chr10</td>\n",
       "      <td>100006013</td>\n",
       "      <td>100006019</td>\n",
       "      <td>0_3_FOXI1_MA0042.2</td>\n",
       "      <td>33165_1</td>\n",
       "      <td>-444.0</td>\n",
       "      <td>1373.051028</td>\n",
       "      <td>chr10_100006013_100006019_0_3_FOXI1_MA0042.2</td>\n",
       "    </tr>\n",
       "    <tr>\n",
       "      <th>chr10_100006092_100006099_0_0_FOS+JUN_MA0099.3</th>\n",
       "      <td>chr10</td>\n",
       "      <td>100006092</td>\n",
       "      <td>100006099</td>\n",
       "      <td>0_0_FOS+JUN_MA0099.3</td>\n",
       "      <td>33165_1</td>\n",
       "      <td>-364.5</td>\n",
       "      <td>1373.051028</td>\n",
       "      <td>chr10_100006092_100006099_0_0_FOS+JUN_MA0099.3</td>\n",
       "    </tr>\n",
       "    <tr>\n",
       "      <th>chr10_100006305_100006313_0_0_IRF4_HUMAN.H11MO.0.A</th>\n",
       "      <td>chr10</td>\n",
       "      <td>100006305</td>\n",
       "      <td>100006313</td>\n",
       "      <td>0_0_IRF4_HUMAN.H11MO.0.A</td>\n",
       "      <td>73824_4</td>\n",
       "      <td>-155.0</td>\n",
       "      <td>1003.962507</td>\n",
       "      <td>chr10_100006305_100006313_0_0_IRF4_HUMAN.H11MO...</td>\n",
       "    </tr>\n",
       "    <tr>\n",
       "      <th>chr10_100006422_100006434_1_1_FOSL2+JUNB_MA1138.1</th>\n",
       "      <td>chr10</td>\n",
       "      <td>100006422</td>\n",
       "      <td>100006434</td>\n",
       "      <td>1_1_FOSL2+JUNB_MA1138.1</td>\n",
       "      <td>33165_1</td>\n",
       "      <td>-32.0</td>\n",
       "      <td>1373.051028</td>\n",
       "      <td>chr10_100006422_100006434_1_1_FOSL2+JUNB_MA1138.1</td>\n",
       "    </tr>\n",
       "  </tbody>\n",
       "</table>\n",
       "</div>"
      ],
      "text/plain": [
       "                                                        0          1  \\\n",
       "index                                                                  \n",
       "chr10_100005969_100005976_0_2_TEAD1_MOUSE.H11MO...  chr10  100005969   \n",
       "chr10_100006013_100006019_0_3_FOXI1_MA0042.2        chr10  100006013   \n",
       "chr10_100006092_100006099_0_0_FOS+JUN_MA0099.3      chr10  100006092   \n",
       "chr10_100006305_100006313_0_0_IRF4_HUMAN.H11MO.0.A  chr10  100006305   \n",
       "chr10_100006422_100006434_1_1_FOSL2+JUNB_MA1138.1   chr10  100006422   \n",
       "\n",
       "                                                            2  \\\n",
       "index                                                           \n",
       "chr10_100005969_100005976_0_2_TEAD1_MOUSE.H11MO...  100005976   \n",
       "chr10_100006013_100006019_0_3_FOXI1_MA0042.2        100006019   \n",
       "chr10_100006092_100006099_0_0_FOS+JUN_MA0099.3      100006099   \n",
       "chr10_100006305_100006313_0_0_IRF4_HUMAN.H11MO.0.A  100006313   \n",
       "chr10_100006422_100006434_1_1_FOSL2+JUNB_MA1138.1   100006434   \n",
       "\n",
       "                                                                            3  \\\n",
       "index                                                                           \n",
       "chr10_100005969_100005976_0_2_TEAD1_MOUSE.H11MO...  0_2_TEAD1_MOUSE.H11MO.0.A   \n",
       "chr10_100006013_100006019_0_3_FOXI1_MA0042.2               0_3_FOXI1_MA0042.2   \n",
       "chr10_100006092_100006099_0_0_FOS+JUN_MA0099.3           0_0_FOS+JUN_MA0099.3   \n",
       "chr10_100006305_100006313_0_0_IRF4_HUMAN.H11MO.0.A   0_0_IRF4_HUMAN.H11MO.0.A   \n",
       "chr10_100006422_100006434_1_1_FOSL2+JUNB_MA1138.1     1_1_FOSL2+JUNB_MA1138.1   \n",
       "\n",
       "                                                          4      5  \\\n",
       "index                                                                \n",
       "chr10_100005969_100005976_0_2_TEAD1_MOUSE.H11MO...  33165_1 -487.5   \n",
       "chr10_100006013_100006019_0_3_FOXI1_MA0042.2        33165_1 -444.0   \n",
       "chr10_100006092_100006099_0_0_FOS+JUN_MA0099.3      33165_1 -364.5   \n",
       "chr10_100006305_100006313_0_0_IRF4_HUMAN.H11MO.0.A  73824_4 -155.0   \n",
       "chr10_100006422_100006434_1_1_FOSL2+JUNB_MA1138.1   33165_1  -32.0   \n",
       "\n",
       "                                                              6  \\\n",
       "index                                                             \n",
       "chr10_100005969_100005976_0_2_TEAD1_MOUSE.H11MO...  1373.051028   \n",
       "chr10_100006013_100006019_0_3_FOXI1_MA0042.2        1373.051028   \n",
       "chr10_100006092_100006099_0_0_FOS+JUN_MA0099.3      1373.051028   \n",
       "chr10_100006305_100006313_0_0_IRF4_HUMAN.H11MO.0.A  1003.962507   \n",
       "chr10_100006422_100006434_1_1_FOSL2+JUNB_MA1138.1   1373.051028   \n",
       "\n",
       "                                                                                                index  \n",
       "index                                                                                                  \n",
       "chr10_100005969_100005976_0_2_TEAD1_MOUSE.H11MO...  chr10_100005969_100005976_0_2_TEAD1_MOUSE.H11M...  \n",
       "chr10_100006013_100006019_0_3_FOXI1_MA0042.2             chr10_100006013_100006019_0_3_FOXI1_MA0042.2  \n",
       "chr10_100006092_100006099_0_0_FOS+JUN_MA0099.3         chr10_100006092_100006099_0_0_FOS+JUN_MA0099.3  \n",
       "chr10_100006305_100006313_0_0_IRF4_HUMAN.H11MO.0.A  chr10_100006305_100006313_0_0_IRF4_HUMAN.H11MO...  \n",
       "chr10_100006422_100006434_1_1_FOSL2+JUNB_MA1138.1   chr10_100006422_100006434_1_1_FOSL2+JUNB_MA1138.1  "
      ]
     },
     "execution_count": 36,
     "metadata": {},
     "output_type": "execute_result"
    }
   ],
   "source": [
    "data_n.head()"
   ]
  },
  {
   "cell_type": "code",
   "execution_count": 37,
   "metadata": {},
   "outputs": [
    {
     "name": "stdout",
     "output_type": "stream",
     "text": [
      "183.0\n"
     ]
    },
    {
     "data": {
      "text/plain": [
       "Text(0.5, 1.0, '')"
      ]
     },
     "execution_count": 37,
     "metadata": {},
     "output_type": "execute_result"
    },
    {
     "data": {
      "image/png": "[encoded data removed]",
      "text/plain": [
       "<Figure size 432x288 with 1 Axes>"
      ]
     },
     "metadata": {
      "needs_background": "light"
     },
     "output_type": "display_data"
    }
   ],
   "source": [
    "import matplotlib\n",
    "import matplotlib.pyplot as plt\n",
    "\n",
    "matplotlib.rcParams['pdf.fonttype'] = 42\n",
    "matplotlib.rcParams['ps.fonttype'] = 42 \n",
    "\n",
    "data_n.hist(column=5,bins=50,grid=False)\n",
    "plt.axvline(x=np.quantile(data_n[5],0.90), color='r', linestyle='-')\n",
    "plt.axvline(x=np.quantile(data_n[5],0.10), color='r', linestyle='-')\n",
    "print(np.quantile(data_n[5],0.90)-np.quantile(data_n[5],0.10))\n",
    "\n",
    "plt.xlabel(\"Distance from ATAC-seq peak summit\")\n",
    "plt.ylabel(\"Number of motifs\")\n",
    "plt.title(\"\")\n",
    "\n",
    "#plt.savefig(\"subfigs/motif_density_around_summit_k562_atac.pdf\", dpi=300, transparent=True)\n"
   ]
  },
  {
   "cell_type": "code",
   "execution_count": 38,
   "metadata": {},
   "outputs": [],
   "source": [
    "peak_table_orig = pd.read_csv(\n",
    "        peak_bed_path, sep=\"\\t\", header=None, index_col=False\n",
    "    )"
   ]
  },
  {
   "cell_type": "code",
   "execution_count": 39,
   "metadata": {},
   "outputs": [
    {
     "data": {
      "text/plain": [
       "954.321409500902"
      ]
     },
     "execution_count": 39,
     "metadata": {},
     "output_type": "execute_result"
    }
   ],
   "source": [
    "np.mean((peak_table_orig[2]-peak_table_orig[1]))"
   ]
  },
  {
   "cell_type": "code",
   "execution_count": 40,
   "metadata": {},
   "outputs": [],
   "source": [
    "motif_density = data.groupby([4]).size()"
   ]
  },
  {
   "cell_type": "code",
   "execution_count": 41,
   "metadata": {},
   "outputs": [],
   "source": [
    "accessibility = data.groupby([4])[6].mean()"
   ]
  },
  {
   "cell_type": "code",
   "execution_count": 42,
   "metadata": {},
   "outputs": [],
   "source": [
    "merged = accessibility.to_frame().join(motif_density.to_frame())\n"
   ]
  },
  {
   "cell_type": "code",
   "execution_count": 43,
   "metadata": {},
   "outputs": [
    {
     "data": {
      "text/html": [
       "<div>\n",
       "<style scoped>\n",
       "    .dataframe tbody tr th:only-of-type {\n",
       "        vertical-align: middle;\n",
       "    }\n",
       "\n",
       "    .dataframe tbody tr th {\n",
       "        vertical-align: top;\n",
       "    }\n",
       "\n",
       "    .dataframe thead th {\n",
       "        text-align: right;\n",
       "    }\n",
       "</style>\n",
       "<table border=\"1\" class=\"dataframe\">\n",
       "  <thead>\n",
       "    <tr style=\"text-align: right;\">\n",
       "      <th></th>\n",
       "      <th>0</th>\n",
       "      <th>1</th>\n",
       "      <th>2</th>\n",
       "      <th>3</th>\n",
       "      <th>4</th>\n",
       "      <th>5</th>\n",
       "      <th>6</th>\n",
       "      <th>index</th>\n",
       "    </tr>\n",
       "  </thead>\n",
       "  <tbody>\n",
       "    <tr>\n",
       "      <th>0</th>\n",
       "      <td>chr1</td>\n",
       "      <td>69355</td>\n",
       "      <td>69369</td>\n",
       "      <td>0_23_ZN350_HUMAN.H11MO.0.C</td>\n",
       "      <td>66705_0</td>\n",
       "      <td>74.0</td>\n",
       "      <td>426.274197</td>\n",
       "      <td>chr1_69355_69369_0_23_ZN350_HUMAN.H11MO.0.C</td>\n",
       "    </tr>\n",
       "    <tr>\n",
       "      <th>1</th>\n",
       "      <td>chr1</td>\n",
       "      <td>69355</td>\n",
       "      <td>69369</td>\n",
       "      <td>0_23_ZN350_HUMAN.H11MO.0.C</td>\n",
       "      <td>92955_0</td>\n",
       "      <td>-361.0</td>\n",
       "      <td>391.837198</td>\n",
       "      <td>chr1_69355_69369_0_23_ZN350_HUMAN.H11MO.0.C</td>\n",
       "    </tr>\n",
       "    <tr>\n",
       "      <th>2</th>\n",
       "      <td>chr1</td>\n",
       "      <td>69355</td>\n",
       "      <td>69369</td>\n",
       "      <td>0_23_ZN350_HUMAN.H11MO.0.C</td>\n",
       "      <td>141439_0</td>\n",
       "      <td>284.0</td>\n",
       "      <td>337.389511</td>\n",
       "      <td>chr1_69355_69369_0_23_ZN350_HUMAN.H11MO.0.C</td>\n",
       "    </tr>\n",
       "    <tr>\n",
       "      <th>3</th>\n",
       "      <td>chr1</td>\n",
       "      <td>69759</td>\n",
       "      <td>69764</td>\n",
       "      <td>0_0_GATA3_GATA_1</td>\n",
       "      <td>66705_0</td>\n",
       "      <td>473.5</td>\n",
       "      <td>426.274197</td>\n",
       "      <td>chr1_69759_69764_0_0_GATA3_GATA_1</td>\n",
       "    </tr>\n",
       "    <tr>\n",
       "      <th>4</th>\n",
       "      <td>chr1</td>\n",
       "      <td>69759</td>\n",
       "      <td>69764</td>\n",
       "      <td>0_0_GATA3_GATA_1</td>\n",
       "      <td>92955_0</td>\n",
       "      <td>38.5</td>\n",
       "      <td>391.837198</td>\n",
       "      <td>chr1_69759_69764_0_0_GATA3_GATA_1</td>\n",
       "    </tr>\n",
       "    <tr>\n",
       "      <th>...</th>\n",
       "      <td>...</td>\n",
       "      <td>...</td>\n",
       "      <td>...</td>\n",
       "      <td>...</td>\n",
       "      <td>...</td>\n",
       "      <td>...</td>\n",
       "      <td>...</td>\n",
       "      <td>...</td>\n",
       "    </tr>\n",
       "    <tr>\n",
       "      <th>603350</th>\n",
       "      <td>chrX</td>\n",
       "      <td>156013491</td>\n",
       "      <td>156013499</td>\n",
       "      <td>0_2_ELF5_HUMAN.H11MO.0.A</td>\n",
       "      <td>90446_4</td>\n",
       "      <td>-256.0</td>\n",
       "      <td>642.596484</td>\n",
       "      <td>chrX_156013491_156013499_0_2_ELF5_HUMAN.H11MO.0.A</td>\n",
       "    </tr>\n",
       "    <tr>\n",
       "      <th>603351</th>\n",
       "      <td>chrX</td>\n",
       "      <td>156013511</td>\n",
       "      <td>156013521</td>\n",
       "      <td>0_5_REL_MA0101.1</td>\n",
       "      <td>54781_4</td>\n",
       "      <td>37.0</td>\n",
       "      <td>692.870209</td>\n",
       "      <td>chrX_156013511_156013521_0_5_REL_MA0101.1</td>\n",
       "    </tr>\n",
       "    <tr>\n",
       "      <th>603352</th>\n",
       "      <td>chrX</td>\n",
       "      <td>156013511</td>\n",
       "      <td>156013521</td>\n",
       "      <td>0_5_REL_MA0101.1</td>\n",
       "      <td>90446_4</td>\n",
       "      <td>-235.0</td>\n",
       "      <td>642.596484</td>\n",
       "      <td>chrX_156013511_156013521_0_5_REL_MA0101.1</td>\n",
       "    </tr>\n",
       "    <tr>\n",
       "      <th>603353</th>\n",
       "      <td>chrX</td>\n",
       "      <td>156016598</td>\n",
       "      <td>156016606</td>\n",
       "      <td>0_2_ELF5_HUMAN.H11MO.0.A</td>\n",
       "      <td>84856_4</td>\n",
       "      <td>-242.0</td>\n",
       "      <td>308.068314</td>\n",
       "      <td>chrX_156016598_156016606_0_2_ELF5_HUMAN.H11MO.0.A</td>\n",
       "    </tr>\n",
       "    <tr>\n",
       "      <th>603354</th>\n",
       "      <td>chrX</td>\n",
       "      <td>156016891</td>\n",
       "      <td>156016904</td>\n",
       "      <td>0_1_CTCF_MA0139.1</td>\n",
       "      <td>84856_4</td>\n",
       "      <td>53.5</td>\n",
       "      <td>308.068314</td>\n",
       "      <td>chrX_156016891_156016904_0_1_CTCF_MA0139.1</td>\n",
       "    </tr>\n",
       "  </tbody>\n",
       "</table>\n",
       "<p>2341850 rows × 8 columns</p>\n",
       "</div>"
      ],
      "text/plain": [
       "           0          1          2                           3         4  \\\n",
       "0       chr1      69355      69369  0_23_ZN350_HUMAN.H11MO.0.C   66705_0   \n",
       "1       chr1      69355      69369  0_23_ZN350_HUMAN.H11MO.0.C   92955_0   \n",
       "2       chr1      69355      69369  0_23_ZN350_HUMAN.H11MO.0.C  141439_0   \n",
       "3       chr1      69759      69764            0_0_GATA3_GATA_1   66705_0   \n",
       "4       chr1      69759      69764            0_0_GATA3_GATA_1   92955_0   \n",
       "...      ...        ...        ...                         ...       ...   \n",
       "603350  chrX  156013491  156013499    0_2_ELF5_HUMAN.H11MO.0.A   90446_4   \n",
       "603351  chrX  156013511  156013521            0_5_REL_MA0101.1   54781_4   \n",
       "603352  chrX  156013511  156013521            0_5_REL_MA0101.1   90446_4   \n",
       "603353  chrX  156016598  156016606    0_2_ELF5_HUMAN.H11MO.0.A   84856_4   \n",
       "603354  chrX  156016891  156016904           0_1_CTCF_MA0139.1   84856_4   \n",
       "\n",
       "            5           6                                              index  \n",
       "0        74.0  426.274197        chr1_69355_69369_0_23_ZN350_HUMAN.H11MO.0.C  \n",
       "1      -361.0  391.837198        chr1_69355_69369_0_23_ZN350_HUMAN.H11MO.0.C  \n",
       "2       284.0  337.389511        chr1_69355_69369_0_23_ZN350_HUMAN.H11MO.0.C  \n",
       "3       473.5  426.274197                  chr1_69759_69764_0_0_GATA3_GATA_1  \n",
       "4        38.5  391.837198                  chr1_69759_69764_0_0_GATA3_GATA_1  \n",
       "...       ...         ...                                                ...  \n",
       "603350 -256.0  642.596484  chrX_156013491_156013499_0_2_ELF5_HUMAN.H11MO.0.A  \n",
       "603351   37.0  692.870209          chrX_156013511_156013521_0_5_REL_MA0101.1  \n",
       "603352 -235.0  642.596484          chrX_156013511_156013521_0_5_REL_MA0101.1  \n",
       "603353 -242.0  308.068314  chrX_156016598_156016606_0_2_ELF5_HUMAN.H11MO.0.A  \n",
       "603354   53.5  308.068314         chrX_156016891_156016904_0_1_CTCF_MA0139.1  \n",
       "\n",
       "[2341850 rows x 8 columns]"
      ]
     },
     "execution_count": 43,
     "metadata": {},
     "output_type": "execute_result"
    }
   ],
   "source": [
    "data"
   ]
  },
  {
   "cell_type": "code",
   "execution_count": 44,
   "metadata": {},
   "outputs": [
    {
     "data": {
      "text/plain": [
       "<matplotlib.collections.PathCollection at 0x7f5f91b93c50>"
      ]
     },
     "execution_count": 44,
     "metadata": {},
     "output_type": "execute_result"
    },
    {
     "data": {
      "image/png": "[encoded data removed]",
      "text/plain": [
       "<Figure size 432x288 with 1 Axes>"
      ]
     },
     "metadata": {
      "needs_background": "light"
     },
     "output_type": "display_data"
    }
   ],
   "source": [
    "import matplotlib.pyplot as plt\n",
    "plt.scatter(np.log(merged[6]),merged[0])"
   ]
  },
  {
   "cell_type": "code",
   "execution_count": 45,
   "metadata": {},
   "outputs": [
    {
     "name": "stdout",
     "output_type": "stream",
     "text": [
      "271\n",
      "11662\n",
      "66181\n",
      "147941\n",
      "180647\n",
      "154852\n",
      "121130\n",
      "89562\n",
      "45562\n",
      "10141\n",
      "820\n",
      "[1.988929889298893, 2.0962956611215917, 2.34163883894169, 2.550753340858856, 2.6669858896079095, 2.7849042957146177, 2.9539750681086434, 3.311102923114714, 3.7755146832887054, 4.106399763336949, 4.014634146341463]\n"
     ]
    },
    {
     "data": {
      "image/png": "[encoded data removed]",
      "text/plain": [
       "<Figure size 432x288 with 1 Axes>"
      ]
     },
     "metadata": {
      "needs_background": "light"
     },
     "output_type": "display_data"
    }
   ],
   "source": [
    "import matplotlib\n",
    "import matplotlib.pyplot as plt\n",
    "\n",
    "matplotlib.rcParams['pdf.fonttype'] = 42\n",
    "matplotlib.rcParams['ps.fonttype'] = 42 \n",
    "\n",
    "def equal_bin_v2(N, m):\n",
    "    idx = np.linspace(0,m,N.size, endpoint=0).astype(int)\n",
    "    return idx[N.argsort().argsort()]  \n",
    "\n",
    "#bins = np.linspace(0, 12, 10)\n",
    "#digitized = np.digitize(np.log(pval_signal), bins)\n",
    "#bin_means = [np.mean(np.array(jaccard_scores)[digitized == i]) for i in range(1, len(bins))]\n",
    "\n",
    "#idxs = equal_bin_v2(np.log(merged[6]), 10)\n",
    "bins = np.linspace(4, 11, 15)\n",
    "idxs = np.digitize(np.log(merged[6]), bins)\n",
    "\n",
    "bin_vals = [np.mean(np.array(merged[0])[idxs == i]) for i in range(1, max(idxs))]\n",
    "bin_means = [np.mean(np.array(merged[0])[idxs == i]) for i in range(1, max(idxs))]\n",
    "bin_vals = [np.array(merged[0])[idxs == i] for i in range(1, max(idxs))]\n",
    "\n",
    "pval_means = [np.mean(np.log(merged[6])[idxs == i]) for i in range(1, max(idxs))]\n",
    "bin_std = [np.std(np.array(merged[0])[idxs == i]) for i in range(1, max(idxs))]\n",
    "\n",
    "#bin_std1 = [np.quantile(np.array(merged[0])[idxs == i],0.11) for i in range(2, max(idxs))]\n",
    "#bin_std2 = [np.quantile(np.array(merged[0])[idxs == i],0.99) for i in range(2, max(idxs))]\n",
    "\n",
    "#plt.boxplot(bin_vals,showfliers=False,showmeans=True)\n",
    "#plt.ylim((0,6))\n",
    "#plt.errorbar(pval_means, bin_means, yerr=bin_std, fmt='o')\n",
    "#len(pval_means)\n",
    "\n",
    "import seaborn as sns\n",
    "import pandas as pd\n",
    "#for i in range(len(pval_means)):\n",
    "#print(bin_vals)\n",
    "#print(pval_means)\n",
    "parts = plt.violinplot(bin_vals[1:],positions=pval_means[1:], showmeans=False)\n",
    "for pc in parts['bodies']:\n",
    "    pc.set_facecolor('#ADD8E6')\n",
    "    pc.set_edgecolor('#ADD8E6')\n",
    "    pc.set_alpha(0.5)\n",
    "    \n",
    "#for pc in parts['cmaxes']:\n",
    "    #pc.set_edgecolor('#ADD8E6')\n",
    "parts['cmaxes'].set_linewidth(0.1)\n",
    "parts['cmins'].set_linewidth(0.1)\n",
    "parts['cbars'].set_linewidth(0.1)\n",
    "\n",
    "#parts['cmaxes'].set_alpha(0.8)\n",
    "    \n",
    "       \n",
    "#    tips = pd.DataFrame([[pval_means[i]]*len(bin_vals[i]),bin_vals[i]])\n",
    "#    sns.stripplot(data=tips)\n",
    "for i in range(len(bin_vals)):\n",
    "    print(len(bin_vals[i]))\n",
    "#plt.scatter(np.log(merged[6]),merged[0],alpha=0.1)\n",
    "plt.plot(pval_means, bin_means, 'r-')\n",
    "#plt.fill_between(pval_means, bin_std1, bin_std2,alpha=0.2)\n",
    "#plt.xlabel(\"Total logcounts signal in peaks\")\n",
    "#plt.ylabel(\"Total number of motifs\")\n",
    "print(bin_means)\n",
    "#plt.savefig(\"subfigs/motif_density_with_accessibility_k562_atac_box_plots.pdf\", dpi=300, transparent=True)\n",
    "\n",
    "plt.show()\n"
   ]
  },
  {
   "cell_type": "code",
   "execution_count": null,
   "metadata": {},
   "outputs": [],
   "source": []
  },
  {
   "cell_type": "code",
   "execution_count": 159,
   "metadata": {},
   "outputs": [
    {
     "data": {
      "text/html": [
       "<div>\n",
       "<style scoped>\n",
       "    .dataframe tbody tr th:only-of-type {\n",
       "        vertical-align: middle;\n",
       "    }\n",
       "\n",
       "    .dataframe tbody tr th {\n",
       "        vertical-align: top;\n",
       "    }\n",
       "\n",
       "    .dataframe thead th {\n",
       "        text-align: right;\n",
       "    }\n",
       "</style>\n",
       "<table border=\"1\" class=\"dataframe\">\n",
       "  <thead>\n",
       "    <tr style=\"text-align: right;\">\n",
       "      <th></th>\n",
       "      <th>0</th>\n",
       "      <th>1</th>\n",
       "      <th>2</th>\n",
       "      <th>3</th>\n",
       "      <th>4</th>\n",
       "      <th>5</th>\n",
       "      <th>6</th>\n",
       "      <th>7</th>\n",
       "    </tr>\n",
       "  </thead>\n",
       "  <tbody>\n",
       "    <tr>\n",
       "      <th>0</th>\n",
       "      <td>chr1</td>\n",
       "      <td>41372</td>\n",
       "      <td>41377</td>\n",
       "      <td>0_0_GATA3_GATA_1</td>\n",
       "      <td>24261</td>\n",
       "      <td>-227.5</td>\n",
       "      <td>322.0</td>\n",
       "      <td>1</td>\n",
       "    </tr>\n",
       "    <tr>\n",
       "      <th>1</th>\n",
       "      <td>chr1</td>\n",
       "      <td>41372</td>\n",
       "      <td>41377</td>\n",
       "      <td>0_0_GATA3_GATA_1</td>\n",
       "      <td>24082</td>\n",
       "      <td>283.5</td>\n",
       "      <td>425.0</td>\n",
       "      <td>1</td>\n",
       "    </tr>\n",
       "    <tr>\n",
       "      <th>2</th>\n",
       "      <td>chr1</td>\n",
       "      <td>42187</td>\n",
       "      <td>42192</td>\n",
       "      <td>0_0_GATA3_GATA_1</td>\n",
       "      <td>24322</td>\n",
       "      <td>-90.5</td>\n",
       "      <td>326.0</td>\n",
       "      <td>2</td>\n",
       "    </tr>\n",
       "    <tr>\n",
       "      <th>3</th>\n",
       "      <td>chr1</td>\n",
       "      <td>42279</td>\n",
       "      <td>42289</td>\n",
       "      <td>0_3_BACH2_HUMAN.H11MO.0.A</td>\n",
       "      <td>24322</td>\n",
       "      <td>4.0</td>\n",
       "      <td>326.0</td>\n",
       "      <td>3</td>\n",
       "    </tr>\n",
       "    <tr>\n",
       "      <th>4</th>\n",
       "      <td>chr1</td>\n",
       "      <td>42334</td>\n",
       "      <td>42339</td>\n",
       "      <td>0_0_GATA3_GATA_1</td>\n",
       "      <td>24322</td>\n",
       "      <td>56.5</td>\n",
       "      <td>326.0</td>\n",
       "      <td>4</td>\n",
       "    </tr>\n",
       "  </tbody>\n",
       "</table>\n",
       "</div>"
      ],
      "text/plain": [
       "      0      1      2                          3      4      5      6  7\n",
       "0  chr1  41372  41377           0_0_GATA3_GATA_1  24261 -227.5  322.0  1\n",
       "1  chr1  41372  41377           0_0_GATA3_GATA_1  24082  283.5  425.0  1\n",
       "2  chr1  42187  42192           0_0_GATA3_GATA_1  24322  -90.5  326.0  2\n",
       "3  chr1  42279  42289  0_3_BACH2_HUMAN.H11MO.0.A  24322    4.0  326.0  3\n",
       "4  chr1  42334  42339           0_0_GATA3_GATA_1  24322   56.5  326.0  4"
      ]
     },
     "execution_count": 159,
     "metadata": {},
     "output_type": "execute_result"
    }
   ],
   "source": [
    "\n",
    "data = pd.read_csv(\"addons/hits_filtered_bed_k562_atac.clustered.bed\",sep=\"\\t\",header=None)\n",
    "\n",
    "data.head()"
   ]
  },
  {
   "cell_type": "code",
   "execution_count": 189,
   "metadata": {},
   "outputs": [],
   "source": [
    "peaks_signal = []\n",
    "motifs_in_peaks_distance = []\n",
    "peaks_ids = []\n",
    "for i,r in data.iterrows():\n",
    "    if r[4] in peaks_ids:\n",
    "        continue\n",
    "    peaks_ids.append(r[4])\n",
    "    peaks_signal.append(r[6])\n",
    "    motifs_distances = list(set(data[data[4]==r[4]][5]))\n",
    "    sorted_dist = np.sort(motifs_distances)\n",
    "    values = []\n",
    "    \n",
    "    if len(sorted_dist) == 1:\n",
    "        right_clust = data[data[7]==r[7]-1]\n",
    "        left_clust = data[data[7]==r[7]+1]\n",
    "\n",
    "        motifs_in_peaks_distance.append(values)\n",
    "        continue\n",
    "        #if len(right_clust[0].values) > 0:\n",
    "        #    if right_clust[0].values[0] == r[0]:\n",
    "        #        values.append(np.abs(((right_clust[1].values[0]+right_clust[2].values[0])/2)-((r[1]+r[2])/2)))\n",
    "        #if len(left_clust[0].values) > 0:\n",
    "        #    if left_clust[0].values[0] == r[0]:\n",
    "        #        values.append(np.abs(((left_clust[1].values[0]+left_clust[2].values[0])/2)-((r[1]+r[2])/2)))\n",
    "                #print(values[-1])\n",
    "    \n",
    "    for jd in range(1,len(sorted_dist)):\n",
    "        values.append(sorted_dist[jd] - sorted_dist[jd-1])\n",
    "        if (sorted_dist[jd] - sorted_dist[jd-1]) <0:\n",
    "            print(sorted_dist)\n",
    "        #print(values[-1])\n",
    "    motifs_in_peaks_distance.append(np.mean(values))\n",
    "        \n",
    "        "
   ]
  },
  {
   "cell_type": "code",
   "execution_count": 190,
   "metadata": {},
   "outputs": [
    {
     "name": "stderr",
     "output_type": "stream",
     "text": [
      "/users/anusri/anaconda3/lib/python3.7/site-packages/ipykernel_launcher.py:20: VisibleDeprecationWarning: Creating an ndarray from ragged nested sequences (which is a list-or-tuple of lists-or-tuples-or ndarrays with different lengths or shapes) is deprecated. If you meant to do this, you must specify 'dtype=object' when creating the ndarray.\n",
      "/users/anusri/anaconda3/lib/python3.7/site-packages/ipykernel_launcher.py:21: VisibleDeprecationWarning: Creating an ndarray from ragged nested sequences (which is a list-or-tuple of lists-or-tuples-or ndarrays with different lengths or shapes) is deprecated. If you meant to do this, you must specify 'dtype=object' when creating the ndarray.\n",
      "/users/anusri/anaconda3/lib/python3.7/site-packages/ipykernel_launcher.py:24: VisibleDeprecationWarning: Creating an ndarray from ragged nested sequences (which is a list-or-tuple of lists-or-tuples-or ndarrays with different lengths or shapes) is deprecated. If you meant to do this, you must specify 'dtype=object' when creating the ndarray.\n"
     ]
    },
    {
     "data": {
      "image/png": "[encoded data removed]",
      "text/plain": [
       "<Figure size 432x288 with 1 Axes>"
      ]
     },
     "metadata": {
      "needs_background": "light"
     },
     "output_type": "display_data"
    }
   ],
   "source": [
    "import matplotlib\n",
    "import matplotlib.pyplot as plt\n",
    "from itertools import chain\n",
    "\n",
    "matplotlib.rcParams['pdf.fonttype'] = 42\n",
    "matplotlib.rcParams['ps.fonttype'] = 42 \n",
    "\n",
    "def equal_bin_v2(N, m):\n",
    "    idx = np.linspace(0,m,N.size, endpoint=0).astype(int)\n",
    "    return idx[N.argsort().argsort()]  \n",
    "\n",
    "#bins = np.linspace(0, 12, 10)\n",
    "#digitized = np.digitize(np.log(pval_signal), bins)\n",
    "#bin_means = [np.mean(np.array(jaccard_scores)[digitized == i]) for i in range(1, len(bins))]\n",
    "\n",
    "#idxs = equal_bin_v2(np.log(merged[6]), 10)\n",
    "bins = np.linspace(4, 11, 15)\n",
    "idxs = np.digitize(np.log(peaks_signal), bins)\n",
    "\n",
    "bin_vals = [np.mean(list(chain.from_iterable(np.array(motifs_in_peaks_distance)[idxs == i].tolist()))) for i in range(2, max(idxs))]\n",
    "bin_means = [np.median(list(chain.from_iterable(np.array(motifs_in_peaks_distance)[idxs == i].tolist()))) for i in range(2, max(idxs))]\n",
    "\n",
    "pval_means = [np.mean(np.log(peaks_signal)[idxs == i]) for i in range(2, max(idxs))]\n",
    "bin_std = [np.std(list(chain.from_iterable(np.array(motifs_in_peaks_distance)[idxs == i].tolist()))) for i in range(2, max(idxs))]\n",
    "\n",
    "\n",
    "#bin_std1 = [np.quantile(np.array(merged[0])[idxs == i],0.25) for i in range(2, max(idxs))]\n",
    "#bin_std2 = [np.quantile(np.array(merged[0])[idxs == i],0.75) for i in range(2, max(idxs))]\n",
    "\n",
    "#plt.boxplot(bin_vals,showfliers=False,showmeans=True)\n",
    "#plt.ylim((0,6))\n",
    "#plt.errorbar(pval_means, bin_means, yerr=bin_std, fmt='o')\n",
    "#len(pval_means)\n",
    "\n",
    "plt.plot(pval_means, bin_means, 'r-')\n",
    "plt.fill_between(pval_means, bin_means, bin_means+(np.array(bin_std)/2),alpha=0.2)\n",
    "plt.xlabel(\"Total logcounts signal in peaks\")\n",
    "plt.ylabel(\"Average inter-motif spacing\")\n",
    "\n",
    "#plt.savefig(\"subfigs/motif_density_with_accessibility_k562_atac.pdf\", dpi=300, transparent=True)\n",
    "\n",
    "plt.show()\n"
   ]
  },
  {
   "cell_type": "code",
   "execution_count": null,
   "metadata": {},
   "outputs": [],
   "source": [
    "data"
   ]
  },
  {
   "cell_type": "code",
   "execution_count": 170,
   "metadata": {},
   "outputs": [
    {
     "data": {
      "text/plain": [
       "[1774.0, 9570.0]"
      ]
     },
     "execution_count": 170,
     "metadata": {},
     "output_type": "execute_result"
    }
   ],
   "source": [
    "motifs_in_peaks_distance[5]"
   ]
  },
  {
   "cell_type": "code",
   "execution_count": 235,
   "metadata": {},
   "outputs": [
    {
     "name": "stderr",
     "output_type": "stream",
     "text": [
      "/users/anusri/anaconda3/lib/python3.7/site-packages/ipykernel_launcher.py:2: VisibleDeprecationWarning: Creating an ndarray from ragged nested sequences (which is a list-or-tuple of lists-or-tuples-or ndarrays with different lengths or shapes) is deprecated. If you meant to do this, you must specify 'dtype=object' when creating the ndarray.\n",
      "  \n",
      "/users/anusri/anaconda3/lib/python3.7/site-packages/numpy/core/fromnumeric.py:3441: RuntimeWarning: Mean of empty slice.\n",
      "  out=out, **kwargs)\n",
      "/users/anusri/anaconda3/lib/python3.7/site-packages/numpy/core/_methods.py:189: RuntimeWarning: invalid value encountered in double_scalars\n",
      "  ret = ret.dtype.type(ret / rcount)\n"
     ]
    }
   ],
   "source": [
    "#output = list(chain.from_iterable(np.array(motifs_in_peaks_distance)))\n",
    "output = list([np.median(x) for x in np.array(motifs_in_peaks_distance)])"
   ]
  },
  {
   "cell_type": "code",
   "execution_count": 249,
   "metadata": {},
   "outputs": [
    {
     "data": {
      "text/plain": [
       "[<matplotlib.lines.Line2D at 0x7f97d1920590>]"
      ]
     },
     "execution_count": 249,
     "metadata": {},
     "output_type": "execute_result"
    },
    {
     "data": {
      "image/png": "[encoded data removed]",
      "text/plain": [
       "<Figure size 432x288 with 1 Axes>"
      ]
     },
     "metadata": {
      "needs_background": "light"
     },
     "output_type": "display_data"
    }
   ],
   "source": [
    "plt.hist(output,bins=100)\n",
    "plt.plot(bin_edges[peaks],hist[peaks],\"x\")"
   ]
  },
  {
   "cell_type": "code",
   "execution_count": 246,
   "metadata": {},
   "outputs": [],
   "source": [
    "output=np.array(output)\n",
    "output = output[~np.isnan(output)]\n",
    "\n",
    "hist, bin_edges = np.histogram(output, 100)\n"
   ]
  },
  {
   "cell_type": "code",
   "execution_count": 247,
   "metadata": {},
   "outputs": [],
   "source": [
    "import scipy.signal\n",
    "peaks, _ = scipy.signal.find_peaks(hist)\n"
   ]
  },
  {
   "cell_type": "code",
   "execution_count": 248,
   "metadata": {},
   "outputs": [
    {
     "data": {
      "text/plain": [
       "array([ 14.84, 162.44, 191.96, 231.32, 251.  , 290.36, 319.88, 349.4 ,\n",
       "       408.44, 437.96, 516.68, 565.88, 595.4 , 624.92, 654.44, 683.96,\n",
       "       723.32, 772.52, 792.2 , 841.4 , 870.92, 900.44, 949.64])"
      ]
     },
     "execution_count": 248,
     "metadata": {},
     "output_type": "execute_result"
    }
   ],
   "source": [
    "bin_edges[peaks]"
   ]
  },
  {
   "cell_type": "code",
   "execution_count": null,
   "metadata": {},
   "outputs": [],
   "source": []
  }
 ],
 "metadata": {
  "kernelspec": {
   "display_name": "Python 3",
   "language": "python",
   "name": "python3"
  },
  "language_info": {
   "codemirror_mode": {
    "name": "ipython",
    "version": 3
   },
   "file_extension": ".py",
   "mimetype": "text/x-python",
   "name": "python",
   "nbconvert_exporter": "python",
   "pygments_lexer": "ipython3",
   "version": "3.7.6"
  }
 },
 "nbformat": 4,
 "nbformat_minor": 4
}
