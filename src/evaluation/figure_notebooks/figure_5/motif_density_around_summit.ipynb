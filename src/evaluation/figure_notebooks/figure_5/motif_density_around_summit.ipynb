{
 "cells": [
  {
   "cell_type": "code",
   "execution_count": 1,
   "metadata": {},
   "outputs": [],
   "source": [
    "import pandas as pd"
   ]
  },
  {
   "cell_type": "code",
   "execution_count": 2,
   "metadata": {},
   "outputs": [],
   "source": [
    "filen=\"/mnt/lab_data3/anusri/chrombpnet/results/chrombpnet/ATAC_PE/K562/K562_02.17.2022_bias_128_4_1234_0.5_fold_0/09_06_2022_motif_scanning/clustered_overlaps_resolved_based_on_cwm_activations_normed.bed\"\n",
    "#filen=\"/mnt/lab_data3/anusri/chrombpnet/results/chrombpnet/DNASE_PE/K562/K562_05.13.2022_bias_128_4_1234_0.5_fold_0/09_06_2022_motif_scanning/mooods_dir_eith_atac/clustered_overlaps_resolved_based_on_cwm_activations_normed.bed\"\n",
    "peak_bed_path=\"/mnt/lab_data2/anusri/chrombpnet/results/chrombpnet/ATAC_PE/K562/data/peaks_no_blacklist.bed\"\n"
   ]
  },
  {
   "cell_type": "code",
   "execution_count": 3,
   "metadata": {},
   "outputs": [],
   "source": [
    "data = pd.read_csv(filen,sep=\"\\t\",header=None)\n"
   ]
  },
  {
   "cell_type": "code",
   "execution_count": 4,
   "metadata": {},
   "outputs": [],
   "source": [
    "import pyBigWig\n",
    "\n",
    "bw = pyBigWig.open(\"/mnt/lab_data2/anusri/chrombpnet/results/chrombpnet/ATAC_PE/K562/data/K562_unstranded.bw\")"
   ]
  },
  {
   "cell_type": "code",
   "execution_count": 5,
   "metadata": {},
   "outputs": [],
   "source": [
    "peak_table = pd.read_csv(\n",
    "        peak_bed_path, sep=\"\\t\", header=None, index_col=False\n",
    "    )\n",
    "\n",
    "peak_table[2] = peak_table[1]+peak_table[9]+500\n",
    "peak_table[1] = peak_table[1]+peak_table[9]-500\n",
    "\n",
    "peak_table.to_csv(\"addons/summit_centered_peak_k562_atac.bed\",sep=\"\\t\",header=False, index=False)"
   ]
  },
  {
   "cell_type": "code",
   "execution_count": 6,
   "metadata": {},
   "outputs": [],
   "source": [
    "import os\n",
    "import subprocess\n",
    "import numpy as np\n",
    "import pandas as pd\n",
    "import tempfile\n",
    "\n",
    "def filter_hits_for_peaks(\n",
    "    moods_out_bed_path, peak_bed_path\n",
    "):\n",
    "    \"\"\"\n",
    "    Filters MOODS hits for only those that (fully) overlap a particular set of\n",
    "    peaks. `peak_bed_path` must be a BED file; only the first 3 columns are\n",
    "    used. A new column is added to the resulting hits: the index of the peak in\n",
    "    `peak_bed_path`. If `peak_bed_path` has repeats, the later index is kept.\n",
    "    \"\"\"\n",
    "    # First filter using bedtools intersect, keeping track of matches\n",
    "    temp_file = \"addons/hits_filtered_bed_k562_atac.tmp\"\n",
    "    filtered_hits_path = \"addons/hits_filtered_bed_k562_atac.bed\"\n",
    "    comm = [\"bedtools\", \"intersect\"]\n",
    "    comm += [\"-wa\", \"-wb\"]\n",
    "    comm += [\"-f\", \"1\"]  # Require the entire hit to overlap with peak\n",
    "    comm += [\"-a\", moods_out_bed_path]\n",
    "    comm += [\"-b\", peak_bed_path]\n",
    "    with open(temp_file, \"w\") as f:\n",
    "        print(comm)\n",
    "        proc = subprocess.Popen(comm, stdout=f)\n",
    "        proc.wait()\n",
    "\n",
    "    # Create mapping of peaks to indices in `peak_bed_path`\n",
    "    peak_table = pd.read_csv(\n",
    "        peak_bed_path, sep=\"\\t\", header=None, index_col=False,\n",
    "        usecols=[0, 1, 2], names=[\"chrom\", \"start\", \"end\"]\n",
    "    )\n",
    "    peak_keys = (\n",
    "        peak_table[\"chrom\"] + \":\" + peak_table[\"start\"].astype(str) + \"-\" + \\\n",
    "        peak_table[\"end\"].astype(str)\n",
    "    ).values\n",
    "    peak_index_map = {k : str(i) for i, k in enumerate(peak_keys)}\n",
    "\n",
    "    # Convert last three columns to peak index\n",
    "    f = open(temp_file, \"r\")\n",
    "    g = open(filtered_hits_path, \"w\")\n",
    "    for line in f:\n",
    "        tokens = line.strip().split(\"\\t\")\n",
    "        #print(tokens)\n",
    "        g.write(\"\\t\".join((tokens[0:4])))\n",
    "        peak_index = peak_index_map[\"%s:%s-%s\" % tuple(tokens[11:14])]\n",
    "        #print(tokens[0],tokens[1],int(tokens[2]))\n",
    "        #print(tokens[11],tokens[12],int(tokens[13]))\n",
    "\n",
    "        peak_summit_dist = ((int(tokens[1])+int(tokens[2]))/2) - ((int(tokens[12])+int(tokens[13]))/2)\n",
    "\n",
    "        peak_signal = np.sum(np.nan_to_num(bw.values(tokens[11],int(tokens[12]),int(tokens[13]))))\n",
    "        g.write(\"\\t\" + peak_index + \"\\t\" + str(np.round(peak_summit_dist,2)) + \"\\t\" + str(peak_signal) + \"\\n\")\n",
    "    f.close()\n",
    "    g.close()\n"
   ]
  },
  {
   "cell_type": "code",
   "execution_count": 7,
   "metadata": {},
   "outputs": [
    {
     "name": "stdout",
     "output_type": "stream",
     "text": [
      "['bedtools', 'intersect', '-wa', '-wb', '-f', '1', '-a', '/mnt/lab_data3/anusri/chrombpnet/results/chrombpnet/ATAC_PE/K562/K562_02.17.2022_bias_128_4_1234_0.5_fold_0/09_06_2022_motif_scanning/clustered_overlaps_resolved_based_on_cwm_activations_normed.bed', '-b', 'addons/summit_centered_peak_k562_atac.bed']\n"
     ]
    }
   ],
   "source": [
    "filter_hits_for_peaks(\n",
    "    filen, 'addons/summit_centered_peak_k562_atac.bed'\n",
    ")"
   ]
  },
  {
   "cell_type": "code",
   "execution_count": 8,
   "metadata": {},
   "outputs": [],
   "source": [
    "data = pd.read_csv(\"addons/hits_filtered_bed_k562_atac.bed\",sep=\"\\t\",header=None)"
   ]
  },
  {
   "cell_type": "code",
   "execution_count": 9,
   "metadata": {},
   "outputs": [
    {
     "data": {
      "text/html": [
       "<div>\n",
       "<style scoped>\n",
       "    .dataframe tbody tr th:only-of-type {\n",
       "        vertical-align: middle;\n",
       "    }\n",
       "\n",
       "    .dataframe tbody tr th {\n",
       "        vertical-align: top;\n",
       "    }\n",
       "\n",
       "    .dataframe thead th {\n",
       "        text-align: right;\n",
       "    }\n",
       "</style>\n",
       "<table border=\"1\" class=\"dataframe\">\n",
       "  <thead>\n",
       "    <tr style=\"text-align: right;\">\n",
       "      <th></th>\n",
       "      <th>0</th>\n",
       "      <th>1</th>\n",
       "      <th>2</th>\n",
       "      <th>3</th>\n",
       "      <th>4</th>\n",
       "      <th>5</th>\n",
       "      <th>6</th>\n",
       "      <th>index</th>\n",
       "    </tr>\n",
       "  </thead>\n",
       "  <tbody>\n",
       "    <tr>\n",
       "      <th>0</th>\n",
       "      <td>chr1</td>\n",
       "      <td>41372</td>\n",
       "      <td>41377</td>\n",
       "      <td>0_0_GATA3_GATA_1</td>\n",
       "      <td>24082</td>\n",
       "      <td>283.5</td>\n",
       "      <td>425.0</td>\n",
       "      <td>chr1_41372_41377_0_0_GATA3_GATA_1</td>\n",
       "    </tr>\n",
       "    <tr>\n",
       "      <th>1</th>\n",
       "      <td>chr1</td>\n",
       "      <td>41372</td>\n",
       "      <td>41377</td>\n",
       "      <td>0_0_GATA3_GATA_1</td>\n",
       "      <td>24261</td>\n",
       "      <td>-227.5</td>\n",
       "      <td>322.0</td>\n",
       "      <td>chr1_41372_41377_0_0_GATA3_GATA_1</td>\n",
       "    </tr>\n",
       "    <tr>\n",
       "      <th>2</th>\n",
       "      <td>chr1</td>\n",
       "      <td>42187</td>\n",
       "      <td>42192</td>\n",
       "      <td>0_0_GATA3_GATA_1</td>\n",
       "      <td>24322</td>\n",
       "      <td>-90.5</td>\n",
       "      <td>326.0</td>\n",
       "      <td>chr1_42187_42192_0_0_GATA3_GATA_1</td>\n",
       "    </tr>\n",
       "    <tr>\n",
       "      <th>3</th>\n",
       "      <td>chr1</td>\n",
       "      <td>42279</td>\n",
       "      <td>42289</td>\n",
       "      <td>0_3_BACH2_HUMAN.H11MO.0.A</td>\n",
       "      <td>24322</td>\n",
       "      <td>4.0</td>\n",
       "      <td>326.0</td>\n",
       "      <td>chr1_42279_42289_0_3_BACH2_HUMAN.H11MO.0.A</td>\n",
       "    </tr>\n",
       "    <tr>\n",
       "      <th>4</th>\n",
       "      <td>chr1</td>\n",
       "      <td>42334</td>\n",
       "      <td>42339</td>\n",
       "      <td>0_0_GATA3_GATA_1</td>\n",
       "      <td>24322</td>\n",
       "      <td>56.5</td>\n",
       "      <td>326.0</td>\n",
       "      <td>chr1_42334_42339_0_0_GATA3_GATA_1</td>\n",
       "    </tr>\n",
       "  </tbody>\n",
       "</table>\n",
       "</div>"
      ],
      "text/plain": [
       "      0      1      2                          3      4      5      6  \\\n",
       "0  chr1  41372  41377           0_0_GATA3_GATA_1  24082  283.5  425.0   \n",
       "1  chr1  41372  41377           0_0_GATA3_GATA_1  24261 -227.5  322.0   \n",
       "2  chr1  42187  42192           0_0_GATA3_GATA_1  24322  -90.5  326.0   \n",
       "3  chr1  42279  42289  0_3_BACH2_HUMAN.H11MO.0.A  24322    4.0  326.0   \n",
       "4  chr1  42334  42339           0_0_GATA3_GATA_1  24322   56.5  326.0   \n",
       "\n",
       "                                        index  \n",
       "0           chr1_41372_41377_0_0_GATA3_GATA_1  \n",
       "1           chr1_41372_41377_0_0_GATA3_GATA_1  \n",
       "2           chr1_42187_42192_0_0_GATA3_GATA_1  \n",
       "3  chr1_42279_42289_0_3_BACH2_HUMAN.H11MO.0.A  \n",
       "4           chr1_42334_42339_0_0_GATA3_GATA_1  "
      ]
     },
     "execution_count": 9,
     "metadata": {},
     "output_type": "execute_result"
    }
   ],
   "source": [
    "data[\"index\"] = data[0] + \"_\" + data[1].astype(str) + \"_\" + data[2].astype(str) + \"_\" + data[3].astype(str) \n",
    "data.head()"
   ]
  },
  {
   "cell_type": "code",
   "execution_count": 217,
   "metadata": {},
   "outputs": [],
   "source": [
    "data_n = data.groupby([\"index\"], group_keys=False).apply(lambda x: x.loc[x[5].abs().idxmin()])"
   ]
  },
  {
   "cell_type": "code",
   "execution_count": 218,
   "metadata": {},
   "outputs": [
    {
     "data": {
      "text/plain": [
       "(445408, 8)"
      ]
     },
     "execution_count": 218,
     "metadata": {},
     "output_type": "execute_result"
    }
   ],
   "source": [
    "data.shape\n"
   ]
  },
  {
   "cell_type": "code",
   "execution_count": 219,
   "metadata": {},
   "outputs": [
    {
     "data": {
      "text/plain": [
       "(265114, 8)"
      ]
     },
     "execution_count": 219,
     "metadata": {},
     "output_type": "execute_result"
    }
   ],
   "source": [
    "data_n.shape"
   ]
  },
  {
   "cell_type": "code",
   "execution_count": 220,
   "metadata": {},
   "outputs": [
    {
     "data": {
      "text/html": [
       "<div>\n",
       "<style scoped>\n",
       "    .dataframe tbody tr th:only-of-type {\n",
       "        vertical-align: middle;\n",
       "    }\n",
       "\n",
       "    .dataframe tbody tr th {\n",
       "        vertical-align: top;\n",
       "    }\n",
       "\n",
       "    .dataframe thead th {\n",
       "        text-align: right;\n",
       "    }\n",
       "</style>\n",
       "<table border=\"1\" class=\"dataframe\">\n",
       "  <thead>\n",
       "    <tr style=\"text-align: right;\">\n",
       "      <th></th>\n",
       "      <th>0</th>\n",
       "      <th>1</th>\n",
       "      <th>2</th>\n",
       "      <th>3</th>\n",
       "      <th>4</th>\n",
       "      <th>5</th>\n",
       "      <th>6</th>\n",
       "      <th>index</th>\n",
       "    </tr>\n",
       "    <tr>\n",
       "      <th>index</th>\n",
       "      <th></th>\n",
       "      <th></th>\n",
       "      <th></th>\n",
       "      <th></th>\n",
       "      <th></th>\n",
       "      <th></th>\n",
       "      <th></th>\n",
       "      <th></th>\n",
       "    </tr>\n",
       "  </thead>\n",
       "  <tbody>\n",
       "    <tr>\n",
       "      <th>chr10_100006448_100006458_0_3_BACH2_HUMAN.H11MO.0.A</th>\n",
       "      <td>chr10</td>\n",
       "      <td>100006448</td>\n",
       "      <td>100006458</td>\n",
       "      <td>0_3_BACH2_HUMAN.H11MO.0.A</td>\n",
       "      <td>31165</td>\n",
       "      <td>-31.0</td>\n",
       "      <td>644.0</td>\n",
       "      <td>chr10_100006448_100006458_0_3_BACH2_HUMAN.H11M...</td>\n",
       "    </tr>\n",
       "    <tr>\n",
       "      <th>chr10_100006483_100006493_0_3_BACH2_HUMAN.H11MO.0.A</th>\n",
       "      <td>chr10</td>\n",
       "      <td>100006483</td>\n",
       "      <td>100006493</td>\n",
       "      <td>0_3_BACH2_HUMAN.H11MO.0.A</td>\n",
       "      <td>31165</td>\n",
       "      <td>4.0</td>\n",
       "      <td>644.0</td>\n",
       "      <td>chr10_100006483_100006493_0_3_BACH2_HUMAN.H11M...</td>\n",
       "    </tr>\n",
       "    <tr>\n",
       "      <th>chr10_100006532_100006537_0_0_GATA3_GATA_1</th>\n",
       "      <td>chr10</td>\n",
       "      <td>100006532</td>\n",
       "      <td>100006537</td>\n",
       "      <td>0_0_GATA3_GATA_1</td>\n",
       "      <td>31165</td>\n",
       "      <td>50.5</td>\n",
       "      <td>644.0</td>\n",
       "      <td>chr10_100006532_100006537_0_0_GATA3_GATA_1</td>\n",
       "    </tr>\n",
       "    <tr>\n",
       "      <th>chr10_100009960_100009969_0_2_KLF3_HUMAN.H11MO.0.B</th>\n",
       "      <td>chr10</td>\n",
       "      <td>100009960</td>\n",
       "      <td>100009969</td>\n",
       "      <td>0_2_KLF3_HUMAN.H11MO.0.B</td>\n",
       "      <td>31166</td>\n",
       "      <td>-9.5</td>\n",
       "      <td>2903.0</td>\n",
       "      <td>chr10_100009960_100009969_0_2_KLF3_HUMAN.H11MO...</td>\n",
       "    </tr>\n",
       "    <tr>\n",
       "      <th>chr10_100010070_100010084_0_1_CTCF_MA0139.1</th>\n",
       "      <td>chr10</td>\n",
       "      <td>100010070</td>\n",
       "      <td>100010084</td>\n",
       "      <td>0_1_CTCF_MA0139.1</td>\n",
       "      <td>31166</td>\n",
       "      <td>103.0</td>\n",
       "      <td>2903.0</td>\n",
       "      <td>chr10_100010070_100010084_0_1_CTCF_MA0139.1</td>\n",
       "    </tr>\n",
       "  </tbody>\n",
       "</table>\n",
       "</div>"
      ],
      "text/plain": [
       "                                                        0          1  \\\n",
       "index                                                                  \n",
       "chr10_100006448_100006458_0_3_BACH2_HUMAN.H11MO...  chr10  100006448   \n",
       "chr10_100006483_100006493_0_3_BACH2_HUMAN.H11MO...  chr10  100006483   \n",
       "chr10_100006532_100006537_0_0_GATA3_GATA_1          chr10  100006532   \n",
       "chr10_100009960_100009969_0_2_KLF3_HUMAN.H11MO.0.B  chr10  100009960   \n",
       "chr10_100010070_100010084_0_1_CTCF_MA0139.1         chr10  100010070   \n",
       "\n",
       "                                                            2  \\\n",
       "index                                                           \n",
       "chr10_100006448_100006458_0_3_BACH2_HUMAN.H11MO...  100006458   \n",
       "chr10_100006483_100006493_0_3_BACH2_HUMAN.H11MO...  100006493   \n",
       "chr10_100006532_100006537_0_0_GATA3_GATA_1          100006537   \n",
       "chr10_100009960_100009969_0_2_KLF3_HUMAN.H11MO.0.B  100009969   \n",
       "chr10_100010070_100010084_0_1_CTCF_MA0139.1         100010084   \n",
       "\n",
       "                                                                            3  \\\n",
       "index                                                                           \n",
       "chr10_100006448_100006458_0_3_BACH2_HUMAN.H11MO...  0_3_BACH2_HUMAN.H11MO.0.A   \n",
       "chr10_100006483_100006493_0_3_BACH2_HUMAN.H11MO...  0_3_BACH2_HUMAN.H11MO.0.A   \n",
       "chr10_100006532_100006537_0_0_GATA3_GATA_1                   0_0_GATA3_GATA_1   \n",
       "chr10_100009960_100009969_0_2_KLF3_HUMAN.H11MO.0.B   0_2_KLF3_HUMAN.H11MO.0.B   \n",
       "chr10_100010070_100010084_0_1_CTCF_MA0139.1                 0_1_CTCF_MA0139.1   \n",
       "\n",
       "                                                        4      5       6  \\\n",
       "index                                                                      \n",
       "chr10_100006448_100006458_0_3_BACH2_HUMAN.H11MO...  31165  -31.0   644.0   \n",
       "chr10_100006483_100006493_0_3_BACH2_HUMAN.H11MO...  31165    4.0   644.0   \n",
       "chr10_100006532_100006537_0_0_GATA3_GATA_1          31165   50.5   644.0   \n",
       "chr10_100009960_100009969_0_2_KLF3_HUMAN.H11MO.0.B  31166   -9.5  2903.0   \n",
       "chr10_100010070_100010084_0_1_CTCF_MA0139.1         31166  103.0  2903.0   \n",
       "\n",
       "                                                                                                index  \n",
       "index                                                                                                  \n",
       "chr10_100006448_100006458_0_3_BACH2_HUMAN.H11MO...  chr10_100006448_100006458_0_3_BACH2_HUMAN.H11M...  \n",
       "chr10_100006483_100006493_0_3_BACH2_HUMAN.H11MO...  chr10_100006483_100006493_0_3_BACH2_HUMAN.H11M...  \n",
       "chr10_100006532_100006537_0_0_GATA3_GATA_1                 chr10_100006532_100006537_0_0_GATA3_GATA_1  \n",
       "chr10_100009960_100009969_0_2_KLF3_HUMAN.H11MO.0.B  chr10_100009960_100009969_0_2_KLF3_HUMAN.H11MO...  \n",
       "chr10_100010070_100010084_0_1_CTCF_MA0139.1               chr10_100010070_100010084_0_1_CTCF_MA0139.1  "
      ]
     },
     "execution_count": 220,
     "metadata": {},
     "output_type": "execute_result"
    }
   ],
   "source": [
    "data_n.head()"
   ]
  },
  {
   "cell_type": "code",
   "execution_count": 221,
   "metadata": {},
   "outputs": [
    {
     "data": {
      "image/png": "[encoded data removed]",
      "text/plain": [
       "<Figure size 432x288 with 1 Axes>"
      ]
     },
     "metadata": {
      "needs_background": "light"
     },
     "output_type": "display_data"
    }
   ],
   "source": [
    "import matplotlib\n",
    "import matplotlib.pyplot as plt\n",
    "\n",
    "matplotlib.rcParams['pdf.fonttype'] = 42\n",
    "matplotlib.rcParams['ps.fonttype'] = 42 \n",
    "\n",
    "data_n.hist(column=5,bins=50,grid=False)\n",
    "#plt.axvline(x=-846//2, color='r', linestyle='-')\n",
    "#plt.axvline(x=846//2, color='r', linestyle='-')\n",
    "\n",
    "plt.xlabel(\"Distance from ATAC-seq peak summit\")\n",
    "plt.ylabel(\"Number of motifs\")\n",
    "plt.title(\"\")\n",
    "\n",
    "plt.savefig(\"subfigs/motif_density_around_summit_k562_atac.pdf\", dpi=300, transparent=True)\n"
   ]
  },
  {
   "cell_type": "code",
   "execution_count": null,
   "metadata": {},
   "outputs": [],
   "source": [
    "peak_table_orig = pd.read_csv(\n",
    "        peak_bed_path, sep=\"\\t\", header=None, index_col=False\n",
    "    )"
   ]
  },
  {
   "cell_type": "code",
   "execution_count": null,
   "metadata": {},
   "outputs": [],
   "source": [
    "np.mean((peak_table_orig[2]-peak_table_orig[1]))"
   ]
  },
  {
   "cell_type": "code",
   "execution_count": null,
   "metadata": {},
   "outputs": [],
   "source": [
    "motif_density = data.groupby([4]).size()"
   ]
  },
  {
   "cell_type": "code",
   "execution_count": null,
   "metadata": {},
   "outputs": [],
   "source": [
    "accessibility = data.groupby([4])[6].mean()"
   ]
  },
  {
   "cell_type": "code",
   "execution_count": null,
   "metadata": {},
   "outputs": [],
   "source": [
    "merged = accessibility.to_frame().join(motif_density.to_frame())\n"
   ]
  },
  {
   "cell_type": "code",
   "execution_count": null,
   "metadata": {},
   "outputs": [],
   "source": [
    "import matplotlib.pyplot as plt\n",
    "plt.scatter(np.log(merged[6]),merged[0])"
   ]
  },
  {
   "cell_type": "code",
   "execution_count": 158,
   "metadata": {},
   "outputs": [
    {
     "data": {
      "image/png": "[encoded data removed]",
      "text/plain": [
       "<Figure size 432x288 with 1 Axes>"
      ]
     },
     "metadata": {
      "needs_background": "light"
     },
     "output_type": "display_data"
    }
   ],
   "source": [
    "import matplotlib\n",
    "import matplotlib.pyplot as plt\n",
    "\n",
    "matplotlib.rcParams['pdf.fonttype'] = 42\n",
    "matplotlib.rcParams['ps.fonttype'] = 42 \n",
    "\n",
    "def equal_bin_v2(N, m):\n",
    "    idx = np.linspace(0,m,N.size, endpoint=0).astype(int)\n",
    "    return idx[N.argsort().argsort()]  \n",
    "\n",
    "#bins = np.linspace(0, 12, 10)\n",
    "#digitized = np.digitize(np.log(pval_signal), bins)\n",
    "#bin_means = [np.mean(np.array(jaccard_scores)[digitized == i]) for i in range(1, len(bins))]\n",
    "\n",
    "#idxs = equal_bin_v2(np.log(merged[6]), 10)\n",
    "bins = np.linspace(4, 11, 15)\n",
    "idxs = np.digitize(np.log(merged[6]), bins)\n",
    "\n",
    "bin_vals = [np.mean(np.array(merged[0])[idxs == i]) for i in range(2, max(idxs))]\n",
    "bin_means = [np.mean(np.array(merged[0])[idxs == i]) for i in range(2, max(idxs))]\n",
    "\n",
    "pval_means = [np.mean(np.log(merged[6])[idxs == i]) for i in range(2, max(idxs))]\n",
    "bin_std = [np.std(np.array(merged[0])[idxs == i]) for i in range(2, max(idxs))]\n",
    "\n",
    "#bin_std1 = [np.quantile(np.array(merged[0])[idxs == i],0.25) for i in range(2, max(idxs))]\n",
    "#bin_std2 = [np.quantile(np.array(merged[0])[idxs == i],0.75) for i in range(2, max(idxs))]\n",
    "\n",
    "#plt.boxplot(bin_vals,showfliers=False,showmeans=True)\n",
    "#plt.ylim((0,6))\n",
    "#plt.errorbar(pval_means, bin_means, yerr=bin_std, fmt='o')\n",
    "#len(pval_means)\n",
    "\n",
    "plt.plot(pval_means, bin_means, 'r-')\n",
    "plt.fill_between(pval_means, bin_means-(np.array(bin_std)/2), bin_means+(np.array(bin_std)/2),alpha=0.2)\n",
    "plt.xlabel(\"Total logcounts signal in peaks\")\n",
    "plt.ylabel(\"Total number of motifs\")\n",
    "\n",
    "plt.savefig(\"subfigs/motif_density_with_accessibility_k562_atac.pdf\", dpi=300, transparent=True)\n",
    "\n",
    "plt.show()\n"
   ]
  },
  {
   "cell_type": "code",
   "execution_count": 159,
   "metadata": {},
   "outputs": [
    {
     "data": {
      "text/html": [
       "<div>\n",
       "<style scoped>\n",
       "    .dataframe tbody tr th:only-of-type {\n",
       "        vertical-align: middle;\n",
       "    }\n",
       "\n",
       "    .dataframe tbody tr th {\n",
       "        vertical-align: top;\n",
       "    }\n",
       "\n",
       "    .dataframe thead th {\n",
       "        text-align: right;\n",
       "    }\n",
       "</style>\n",
       "<table border=\"1\" class=\"dataframe\">\n",
       "  <thead>\n",
       "    <tr style=\"text-align: right;\">\n",
       "      <th></th>\n",
       "      <th>0</th>\n",
       "      <th>1</th>\n",
       "      <th>2</th>\n",
       "      <th>3</th>\n",
       "      <th>4</th>\n",
       "      <th>5</th>\n",
       "      <th>6</th>\n",
       "      <th>7</th>\n",
       "    </tr>\n",
       "  </thead>\n",
       "  <tbody>\n",
       "    <tr>\n",
       "      <th>0</th>\n",
       "      <td>chr1</td>\n",
       "      <td>41372</td>\n",
       "      <td>41377</td>\n",
       "      <td>0_0_GATA3_GATA_1</td>\n",
       "      <td>24261</td>\n",
       "      <td>-227.5</td>\n",
       "      <td>322.0</td>\n",
       "      <td>1</td>\n",
       "    </tr>\n",
       "    <tr>\n",
       "      <th>1</th>\n",
       "      <td>chr1</td>\n",
       "      <td>41372</td>\n",
       "      <td>41377</td>\n",
       "      <td>0_0_GATA3_GATA_1</td>\n",
       "      <td>24082</td>\n",
       "      <td>283.5</td>\n",
       "      <td>425.0</td>\n",
       "      <td>1</td>\n",
       "    </tr>\n",
       "    <tr>\n",
       "      <th>2</th>\n",
       "      <td>chr1</td>\n",
       "      <td>42187</td>\n",
       "      <td>42192</td>\n",
       "      <td>0_0_GATA3_GATA_1</td>\n",
       "      <td>24322</td>\n",
       "      <td>-90.5</td>\n",
       "      <td>326.0</td>\n",
       "      <td>2</td>\n",
       "    </tr>\n",
       "    <tr>\n",
       "      <th>3</th>\n",
       "      <td>chr1</td>\n",
       "      <td>42279</td>\n",
       "      <td>42289</td>\n",
       "      <td>0_3_BACH2_HUMAN.H11MO.0.A</td>\n",
       "      <td>24322</td>\n",
       "      <td>4.0</td>\n",
       "      <td>326.0</td>\n",
       "      <td>3</td>\n",
       "    </tr>\n",
       "    <tr>\n",
       "      <th>4</th>\n",
       "      <td>chr1</td>\n",
       "      <td>42334</td>\n",
       "      <td>42339</td>\n",
       "      <td>0_0_GATA3_GATA_1</td>\n",
       "      <td>24322</td>\n",
       "      <td>56.5</td>\n",
       "      <td>326.0</td>\n",
       "      <td>4</td>\n",
       "    </tr>\n",
       "  </tbody>\n",
       "</table>\n",
       "</div>"
      ],
      "text/plain": [
       "      0      1      2                          3      4      5      6  7\n",
       "0  chr1  41372  41377           0_0_GATA3_GATA_1  24261 -227.5  322.0  1\n",
       "1  chr1  41372  41377           0_0_GATA3_GATA_1  24082  283.5  425.0  1\n",
       "2  chr1  42187  42192           0_0_GATA3_GATA_1  24322  -90.5  326.0  2\n",
       "3  chr1  42279  42289  0_3_BACH2_HUMAN.H11MO.0.A  24322    4.0  326.0  3\n",
       "4  chr1  42334  42339           0_0_GATA3_GATA_1  24322   56.5  326.0  4"
      ]
     },
     "execution_count": 159,
     "metadata": {},
     "output_type": "execute_result"
    }
   ],
   "source": [
    "\n",
    "data = pd.read_csv(\"addons/hits_filtered_bed_k562_atac.clustered.bed\",sep=\"\\t\",header=None)\n",
    "\n",
    "data.head()"
   ]
  },
  {
   "cell_type": "code",
   "execution_count": 189,
   "metadata": {},
   "outputs": [],
   "source": [
    "peaks_signal = []\n",
    "motifs_in_peaks_distance = []\n",
    "peaks_ids = []\n",
    "for i,r in data.iterrows():\n",
    "    if r[4] in peaks_ids:\n",
    "        continue\n",
    "    peaks_ids.append(r[4])\n",
    "    peaks_signal.append(r[6])\n",
    "    motifs_distances = list(set(data[data[4]==r[4]][5]))\n",
    "    sorted_dist = np.sort(motifs_distances)\n",
    "    values = []\n",
    "    \n",
    "    if len(sorted_dist) == 1:\n",
    "        right_clust = data[data[7]==r[7]-1]\n",
    "        left_clust = data[data[7]==r[7]+1]\n",
    "\n",
    "        motifs_in_peaks_distance.append(values)\n",
    "        continue\n",
    "        #if len(right_clust[0].values) > 0:\n",
    "        #    if right_clust[0].values[0] == r[0]:\n",
    "        #        values.append(np.abs(((right_clust[1].values[0]+right_clust[2].values[0])/2)-((r[1]+r[2])/2)))\n",
    "        #if len(left_clust[0].values) > 0:\n",
    "        #    if left_clust[0].values[0] == r[0]:\n",
    "        #        values.append(np.abs(((left_clust[1].values[0]+left_clust[2].values[0])/2)-((r[1]+r[2])/2)))\n",
    "                #print(values[-1])\n",
    "    \n",
    "    for jd in range(1,len(sorted_dist)):\n",
    "        values.append(sorted_dist[jd] - sorted_dist[jd-1])\n",
    "        if (sorted_dist[jd] - sorted_dist[jd-1]) <0:\n",
    "            print(sorted_dist)\n",
    "        #print(values[-1])\n",
    "    motifs_in_peaks_distance.append(np.mean(values))\n",
    "        \n",
    "        "
   ]
  },
  {
   "cell_type": "code",
   "execution_count": 190,
   "metadata": {},
   "outputs": [
    {
     "name": "stderr",
     "output_type": "stream",
     "text": [
      "/users/anusri/anaconda3/lib/python3.7/site-packages/ipykernel_launcher.py:20: VisibleDeprecationWarning: Creating an ndarray from ragged nested sequences (which is a list-or-tuple of lists-or-tuples-or ndarrays with different lengths or shapes) is deprecated. If you meant to do this, you must specify 'dtype=object' when creating the ndarray.\n",
      "/users/anusri/anaconda3/lib/python3.7/site-packages/ipykernel_launcher.py:21: VisibleDeprecationWarning: Creating an ndarray from ragged nested sequences (which is a list-or-tuple of lists-or-tuples-or ndarrays with different lengths or shapes) is deprecated. If you meant to do this, you must specify 'dtype=object' when creating the ndarray.\n",
      "/users/anusri/anaconda3/lib/python3.7/site-packages/ipykernel_launcher.py:24: VisibleDeprecationWarning: Creating an ndarray from ragged nested sequences (which is a list-or-tuple of lists-or-tuples-or ndarrays with different lengths or shapes) is deprecated. If you meant to do this, you must specify 'dtype=object' when creating the ndarray.\n"
     ]
    },
    {
     "data": {
      "image/png": "[encoded data removed]",
      "text/plain": [
       "<Figure size 432x288 with 1 Axes>"
      ]
     },
     "metadata": {
      "needs_background": "light"
     },
     "output_type": "display_data"
    }
   ],
   "source": [
    "import matplotlib\n",
    "import matplotlib.pyplot as plt\n",
    "from itertools import chain\n",
    "\n",
    "matplotlib.rcParams['pdf.fonttype'] = 42\n",
    "matplotlib.rcParams['ps.fonttype'] = 42 \n",
    "\n",
    "def equal_bin_v2(N, m):\n",
    "    idx = np.linspace(0,m,N.size, endpoint=0).astype(int)\n",
    "    return idx[N.argsort().argsort()]  \n",
    "\n",
    "#bins = np.linspace(0, 12, 10)\n",
    "#digitized = np.digitize(np.log(pval_signal), bins)\n",
    "#bin_means = [np.mean(np.array(jaccard_scores)[digitized == i]) for i in range(1, len(bins))]\n",
    "\n",
    "#idxs = equal_bin_v2(np.log(merged[6]), 10)\n",
    "bins = np.linspace(4, 11, 15)\n",
    "idxs = np.digitize(np.log(peaks_signal), bins)\n",
    "\n",
    "bin_vals = [np.mean(list(chain.from_iterable(np.array(motifs_in_peaks_distance)[idxs == i].tolist()))) for i in range(2, max(idxs))]\n",
    "bin_means = [np.median(list(chain.from_iterable(np.array(motifs_in_peaks_distance)[idxs == i].tolist()))) for i in range(2, max(idxs))]\n",
    "\n",
    "pval_means = [np.mean(np.log(peaks_signal)[idxs == i]) for i in range(2, max(idxs))]\n",
    "bin_std = [np.std(list(chain.from_iterable(np.array(motifs_in_peaks_distance)[idxs == i].tolist()))) for i in range(2, max(idxs))]\n",
    "\n",
    "\n",
    "#bin_std1 = [np.quantile(np.array(merged[0])[idxs == i],0.25) for i in range(2, max(idxs))]\n",
    "#bin_std2 = [np.quantile(np.array(merged[0])[idxs == i],0.75) for i in range(2, max(idxs))]\n",
    "\n",
    "#plt.boxplot(bin_vals,showfliers=False,showmeans=True)\n",
    "#plt.ylim((0,6))\n",
    "#plt.errorbar(pval_means, bin_means, yerr=bin_std, fmt='o')\n",
    "#len(pval_means)\n",
    "\n",
    "plt.plot(pval_means, bin_means, 'r-')\n",
    "plt.fill_between(pval_means, bin_means, bin_means+(np.array(bin_std)/2),alpha=0.2)\n",
    "plt.xlabel(\"Total logcounts signal in peaks\")\n",
    "plt.ylabel(\"Average inter-motif spacing\")\n",
    "\n",
    "#plt.savefig(\"subfigs/motif_density_with_accessibility_k562_atac.pdf\", dpi=300, transparent=True)\n",
    "\n",
    "plt.show()\n"
   ]
  },
  {
   "cell_type": "code",
   "execution_count": null,
   "metadata": {},
   "outputs": [],
   "source": [
    "data"
   ]
  },
  {
   "cell_type": "code",
   "execution_count": 170,
   "metadata": {},
   "outputs": [
    {
     "data": {
      "text/plain": [
       "[1774.0, 9570.0]"
      ]
     },
     "execution_count": 170,
     "metadata": {},
     "output_type": "execute_result"
    }
   ],
   "source": [
    "motifs_in_peaks_distance[5]"
   ]
  },
  {
   "cell_type": "code",
   "execution_count": 235,
   "metadata": {},
   "outputs": [
    {
     "name": "stderr",
     "output_type": "stream",
     "text": [
      "/users/anusri/anaconda3/lib/python3.7/site-packages/ipykernel_launcher.py:2: VisibleDeprecationWarning: Creating an ndarray from ragged nested sequences (which is a list-or-tuple of lists-or-tuples-or ndarrays with different lengths or shapes) is deprecated. If you meant to do this, you must specify 'dtype=object' when creating the ndarray.\n",
      "  \n",
      "/users/anusri/anaconda3/lib/python3.7/site-packages/numpy/core/fromnumeric.py:3441: RuntimeWarning: Mean of empty slice.\n",
      "  out=out, **kwargs)\n",
      "/users/anusri/anaconda3/lib/python3.7/site-packages/numpy/core/_methods.py:189: RuntimeWarning: invalid value encountered in double_scalars\n",
      "  ret = ret.dtype.type(ret / rcount)\n"
     ]
    }
   ],
   "source": [
    "#output = list(chain.from_iterable(np.array(motifs_in_peaks_distance)))\n",
    "output = list([np.median(x) for x in np.array(motifs_in_peaks_distance)])"
   ]
  },
  {
   "cell_type": "code",
   "execution_count": 249,
   "metadata": {},
   "outputs": [
    {
     "data": {
      "text/plain": [
       "[<matplotlib.lines.Line2D at 0x7f97d1920590>]"
      ]
     },
     "execution_count": 249,
     "metadata": {},
     "output_type": "execute_result"
    },
    {
     "data": {
      "image/png": "[encoded data removed]",
      "text/plain": [
       "<Figure size 432x288 with 1 Axes>"
      ]
     },
     "metadata": {
      "needs_background": "light"
     },
     "output_type": "display_data"
    }
   ],
   "source": [
    "plt.hist(output,bins=100)\n",
    "plt.plot(bin_edges[peaks],hist[peaks],\"x\")"
   ]
  },
  {
   "cell_type": "code",
   "execution_count": 246,
   "metadata": {},
   "outputs": [],
   "source": [
    "output=np.array(output)\n",
    "output = output[~np.isnan(output)]\n",
    "\n",
    "hist, bin_edges = np.histogram(output, 100)\n"
   ]
  },
  {
   "cell_type": "code",
   "execution_count": 247,
   "metadata": {},
   "outputs": [],
   "source": [
    "import scipy.signal\n",
    "peaks, _ = scipy.signal.find_peaks(hist)\n"
   ]
  },
  {
   "cell_type": "code",
   "execution_count": 248,
   "metadata": {},
   "outputs": [
    {
     "data": {
      "text/plain": [
       "array([ 14.84, 162.44, 191.96, 231.32, 251.  , 290.36, 319.88, 349.4 ,\n",
       "       408.44, 437.96, 516.68, 565.88, 595.4 , 624.92, 654.44, 683.96,\n",
       "       723.32, 772.52, 792.2 , 841.4 , 870.92, 900.44, 949.64])"
      ]
     },
     "execution_count": 248,
     "metadata": {},
     "output_type": "execute_result"
    }
   ],
   "source": [
    "bin_edges[peaks]"
   ]
  },
  {
   "cell_type": "code",
   "execution_count": null,
   "metadata": {},
   "outputs": [],
   "source": []
  }
 ],
 "metadata": {
  "kernelspec": {
   "display_name": "Python 3",
   "language": "python",
   "name": "python3"
  },
  "language_info": {
   "codemirror_mode": {
    "name": "ipython",
    "version": 3
   },
   "file_extension": ".py",
   "mimetype": "text/x-python",
   "name": "python",
   "nbconvert_exporter": "python",
   "pygments_lexer": "ipython3",
   "version": "3.7.6"
  }
 },
 "nbformat": 4,
 "nbformat_minor": 4
}
