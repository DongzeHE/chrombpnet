{
 "cells": [
  {
   "cell_type": "code",
   "execution_count": 68,
   "metadata": {},
   "outputs": [],
   "source": [
    "import pandas as pd\n",
    "peak_bed_path=\"/oak/stanford/groups/akundaje/projects/chrombpnet/model_inputs/ENCODE_ATAC_downloads/IMR90/idr1.bed.gz\"\n"
   ]
  },
  {
   "cell_type": "code",
   "execution_count": 96,
   "metadata": {},
   "outputs": [],
   "source": [
    "peaks_in = pd.read_csv(peak_bed_path, sep=\"\\t\", header=None)\n",
    "peaks_in[\"start\"] = peaks_in[1]+peaks_in[9]-50\n",
    "peaks_in[\"end\"] = peaks_in[1]+peaks_in[9]+50\n",
    "\n",
    "peaks_in[\"index\"] = peaks_in[0]+peaks_in[\"start\"].astype(str)+peaks_in[\"end\"].astype(str)\n",
    "\n",
    "peaks_in[\"rindex\"] = peaks_in[0]+peaks_in[1].astype(str)+peaks_in[2].astype(str)+peaks_in[9].astype(str)\n"
   ]
  },
  {
   "cell_type": "code",
   "execution_count": 70,
   "metadata": {},
   "outputs": [],
   "source": [
    "datatt = pd.read_csv(\"/oak/stanford/groups/akundaje/projects/chrombpnet/model_inputs/ENCODE_ATAC_downloads/IMR90/cell_type_idr_specficity.bed\", sep=\"\\t\", header=None)\n",
    "datatt[\"index\"] = datatt[0]+datatt[1].astype(str)+datatt[2].astype(str)\n",
    "\n"
   ]
  },
  {
   "cell_type": "code",
   "execution_count": 71,
   "metadata": {},
   "outputs": [
    {
     "data": {
      "text/html": [
       "<div>\n",
       "<style scoped>\n",
       "    .dataframe tbody tr th:only-of-type {\n",
       "        vertical-align: middle;\n",
       "    }\n",
       "\n",
       "    .dataframe tbody tr th {\n",
       "        vertical-align: top;\n",
       "    }\n",
       "\n",
       "    .dataframe thead th {\n",
       "        text-align: right;\n",
       "    }\n",
       "</style>\n",
       "<table border=\"1\" class=\"dataframe\">\n",
       "  <thead>\n",
       "    <tr style=\"text-align: right;\">\n",
       "      <th></th>\n",
       "      <th>0</th>\n",
       "      <th>1</th>\n",
       "      <th>2</th>\n",
       "      <th>3</th>\n",
       "      <th>4</th>\n",
       "      <th>5</th>\n",
       "      <th>6</th>\n",
       "      <th>7</th>\n",
       "      <th>8</th>\n",
       "      <th>9</th>\n",
       "      <th>10</th>\n",
       "      <th>11</th>\n",
       "      <th>index</th>\n",
       "    </tr>\n",
       "  </thead>\n",
       "  <tbody>\n",
       "    <tr>\n",
       "      <th>0</th>\n",
       "      <td>chr1</td>\n",
       "      <td>16613549</td>\n",
       "      <td>16613649</td>\n",
       "      <td>.</td>\n",
       "      <td>1000</td>\n",
       "      <td>.</td>\n",
       "      <td>21.84548</td>\n",
       "      <td>1935.95679</td>\n",
       "      <td>1929.76306</td>\n",
       "      <td>1015</td>\n",
       "      <td>H1ESC</td>\n",
       "      <td>1</td>\n",
       "      <td>chr11661354916613649</td>\n",
       "    </tr>\n",
       "    <tr>\n",
       "      <th>1</th>\n",
       "      <td>chr1</td>\n",
       "      <td>16613549</td>\n",
       "      <td>16613649</td>\n",
       "      <td>.</td>\n",
       "      <td>1000</td>\n",
       "      <td>.</td>\n",
       "      <td>21.84548</td>\n",
       "      <td>1935.95679</td>\n",
       "      <td>1929.76306</td>\n",
       "      <td>1015</td>\n",
       "      <td>GM12878</td>\n",
       "      <td>1</td>\n",
       "      <td>chr11661354916613649</td>\n",
       "    </tr>\n",
       "    <tr>\n",
       "      <th>2</th>\n",
       "      <td>chr1</td>\n",
       "      <td>16613549</td>\n",
       "      <td>16613649</td>\n",
       "      <td>.</td>\n",
       "      <td>1000</td>\n",
       "      <td>.</td>\n",
       "      <td>21.84548</td>\n",
       "      <td>1935.95679</td>\n",
       "      <td>1929.76306</td>\n",
       "      <td>1015</td>\n",
       "      <td>K562</td>\n",
       "      <td>1</td>\n",
       "      <td>chr11661354916613649</td>\n",
       "    </tr>\n",
       "    <tr>\n",
       "      <th>3</th>\n",
       "      <td>chr1</td>\n",
       "      <td>16613549</td>\n",
       "      <td>16613649</td>\n",
       "      <td>.</td>\n",
       "      <td>1000</td>\n",
       "      <td>.</td>\n",
       "      <td>21.84548</td>\n",
       "      <td>1935.95679</td>\n",
       "      <td>1929.76306</td>\n",
       "      <td>1015</td>\n",
       "      <td>HEPG2</td>\n",
       "      <td>1</td>\n",
       "      <td>chr11661354916613649</td>\n",
       "    </tr>\n",
       "    <tr>\n",
       "      <th>4</th>\n",
       "      <td>chr1</td>\n",
       "      <td>16913954</td>\n",
       "      <td>16914054</td>\n",
       "      <td>.</td>\n",
       "      <td>1000</td>\n",
       "      <td>.</td>\n",
       "      <td>22.25548</td>\n",
       "      <td>1745.11194</td>\n",
       "      <td>1738.98975</td>\n",
       "      <td>342</td>\n",
       "      <td>H1ESC</td>\n",
       "      <td>1</td>\n",
       "      <td>chr11691395416914054</td>\n",
       "    </tr>\n",
       "  </tbody>\n",
       "</table>\n",
       "</div>"
      ],
      "text/plain": [
       "      0         1         2  3     4  5         6           7           8  \\\n",
       "0  chr1  16613549  16613649  .  1000  .  21.84548  1935.95679  1929.76306   \n",
       "1  chr1  16613549  16613649  .  1000  .  21.84548  1935.95679  1929.76306   \n",
       "2  chr1  16613549  16613649  .  1000  .  21.84548  1935.95679  1929.76306   \n",
       "3  chr1  16613549  16613649  .  1000  .  21.84548  1935.95679  1929.76306   \n",
       "4  chr1  16913954  16914054  .  1000  .  22.25548  1745.11194  1738.98975   \n",
       "\n",
       "      9       10  11                 index  \n",
       "0  1015    H1ESC   1  chr11661354916613649  \n",
       "1  1015  GM12878   1  chr11661354916613649  \n",
       "2  1015     K562   1  chr11661354916613649  \n",
       "3  1015    HEPG2   1  chr11661354916613649  \n",
       "4   342    H1ESC   1  chr11691395416914054  "
      ]
     },
     "execution_count": 71,
     "metadata": {},
     "output_type": "execute_result"
    }
   ],
   "source": [
    "datatt.head()"
   ]
  },
  {
   "cell_type": "code",
   "execution_count": 72,
   "metadata": {},
   "outputs": [],
   "source": [
    "datatt[\"contributing\"] = datatt[11]>0"
   ]
  },
  {
   "cell_type": "code",
   "execution_count": null,
   "metadata": {},
   "outputs": [],
   "source": []
  },
  {
   "cell_type": "code",
   "execution_count": 73,
   "metadata": {},
   "outputs": [
    {
     "data": {
      "text/plain": [
       "index\n",
       "chr10100006410100006510    1\n",
       "chr10100009633100009733    4\n",
       "chr10100009933100010033    4\n",
       "chr10100010227100010327    1\n",
       "chr10100010508100010608    0\n",
       "Name: contributing, dtype: int64"
      ]
     },
     "execution_count": 73,
     "metadata": {},
     "output_type": "execute_result"
    }
   ],
   "source": [
    "final = datatt.groupby([\"index\"])[\"contributing\"].agg(\"sum\")\n",
    "final.head()"
   ]
  },
  {
   "cell_type": "code",
   "execution_count": 74,
   "metadata": {},
   "outputs": [],
   "source": [
    "#final[\"chr10100006279100006805181\"]"
   ]
  },
  {
   "cell_type": "code",
   "execution_count": 75,
   "metadata": {},
   "outputs": [],
   "source": [
    "peaks_index_to_density = []\n",
    "for i,r in peaks_in.iterrows():\n",
    "    peaks_index_to_density.append(final[r[\"index\"]])"
   ]
  },
  {
   "cell_type": "code",
   "execution_count": 76,
   "metadata": {},
   "outputs": [
    {
     "data": {
      "text/plain": [
       "31814"
      ]
     },
     "execution_count": 76,
     "metadata": {},
     "output_type": "execute_result"
    }
   ],
   "source": [
    "import numpy as np\n",
    "sum(np.array(peaks_index_to_density)==4)"
   ]
  },
  {
   "cell_type": "code",
   "execution_count": 77,
   "metadata": {},
   "outputs": [
    {
     "data": {
      "text/plain": [
       "77251"
      ]
     },
     "execution_count": 77,
     "metadata": {},
     "output_type": "execute_result"
    }
   ],
   "source": [
    "sum(np.array(peaks_index_to_density)==0)"
   ]
  },
  {
   "cell_type": "code",
   "execution_count": 78,
   "metadata": {},
   "outputs": [
    {
     "data": {
      "text/plain": [
       "28369"
      ]
     },
     "execution_count": 78,
     "metadata": {},
     "output_type": "execute_result"
    }
   ],
   "source": [
    "sum(np.array(peaks_index_to_density)==1)"
   ]
  },
  {
   "cell_type": "code",
   "execution_count": 79,
   "metadata": {},
   "outputs": [
    {
     "data": {
      "text/plain": [
       "18003"
      ]
     },
     "execution_count": 79,
     "metadata": {},
     "output_type": "execute_result"
    }
   ],
   "source": [
    "sum(np.array(peaks_index_to_density)==2)"
   ]
  },
  {
   "cell_type": "code",
   "execution_count": null,
   "metadata": {},
   "outputs": [],
   "source": []
  },
  {
   "cell_type": "code",
   "execution_count": 80,
   "metadata": {},
   "outputs": [],
   "source": [
    "per_peak_density = pd.read_csv(\"imr90_per_peak_density_temp.csv\", header=None)"
   ]
  },
  {
   "cell_type": "code",
   "execution_count": 81,
   "metadata": {},
   "outputs": [],
   "source": [
    "per_peak_density_df = per_peak_density.sort_values(0).reset_index(drop=True)"
   ]
  },
  {
   "cell_type": "code",
   "execution_count": 82,
   "metadata": {},
   "outputs": [],
   "source": [
    "#per_peak_density_df"
   ]
  },
  {
   "cell_type": "code",
   "execution_count": 83,
   "metadata": {},
   "outputs": [],
   "source": [
    "#len(peaks_index_to_density)"
   ]
  },
  {
   "cell_type": "code",
   "execution_count": 84,
   "metadata": {},
   "outputs": [],
   "source": [
    "specficity = []\n",
    "for i,r in per_peak_density_df.iterrows():\n",
    "    specficity.append(peaks_index_to_density[r[0]])\n",
    "    "
   ]
  },
  {
   "cell_type": "code",
   "execution_count": 85,
   "metadata": {},
   "outputs": [],
   "source": [
    "per_peak_density_df[\"specficity\"] = specficity\n",
    "per_peak_density_df  = per_peak_density_df.rename({0:\"pi\", 1:\"density\"}, axis='columns')"
   ]
  },
  {
   "cell_type": "code",
   "execution_count": 86,
   "metadata": {},
   "outputs": [],
   "source": [
    "per_peak_density_df.head()\n",
    "per_peak_density_df.loc[per_peak_density_df[\"specficity\"]==1,\"specficity\"] = 4\n",
    "per_peak_density_df.loc[per_peak_density_df[\"specficity\"]==3,\"specficity\"] = 4\n",
    "per_peak_density_df.loc[per_peak_density_df[\"specficity\"]==2,\"specficity\"] = 4"
   ]
  },
  {
   "cell_type": "code",
   "execution_count": 87,
   "metadata": {},
   "outputs": [
    {
     "data": {
      "text/plain": [
       "<AxesSubplot:xlabel='specficity', ylabel='density'>"
      ]
     },
     "execution_count": 87,
     "metadata": {},
     "output_type": "execute_result"
    },
    {
     "data": {
      "image/png": "[encoded data removed]",
      "text/plain": [
       "<Figure size 432x288 with 1 Axes>"
      ]
     },
     "metadata": {
      "needs_background": "light"
     },
     "output_type": "display_data"
    }
   ],
   "source": [
    "import matplotlib.pyplot as plt\n",
    "import seaborn as sns\n",
    "\n",
    "sns.boxplot(data=per_peak_density_df, x=\"specficity\", y=\"density\")\n"
   ]
  },
  {
   "cell_type": "code",
   "execution_count": 88,
   "metadata": {},
   "outputs": [
    {
     "data": {
      "text/plain": [
       "<AxesSubplot:xlabel='density', ylabel='Proportion'>"
      ]
     },
     "execution_count": 88,
     "metadata": {},
     "output_type": "execute_result"
    },
    {
     "data": {
      "image/png": "[encoded data removed]",
      "text/plain": [
       "<Figure size 432x288 with 1 Axes>"
      ]
     },
     "metadata": {
      "needs_background": "light"
     },
     "output_type": "display_data"
    }
   ],
   "source": [
    "sns.ecdfplot(data=per_peak_density_df, x=\"density\", hue=\"specficity\")\n"
   ]
  },
  {
   "cell_type": "code",
   "execution_count": 89,
   "metadata": {},
   "outputs": [
    {
     "data": {
      "text/html": [
       "<div>\n",
       "<style scoped>\n",
       "    .dataframe tbody tr th:only-of-type {\n",
       "        vertical-align: middle;\n",
       "    }\n",
       "\n",
       "    .dataframe tbody tr th {\n",
       "        vertical-align: top;\n",
       "    }\n",
       "\n",
       "    .dataframe thead th {\n",
       "        text-align: right;\n",
       "    }\n",
       "</style>\n",
       "<table border=\"1\" class=\"dataframe\">\n",
       "  <thead>\n",
       "    <tr style=\"text-align: right;\">\n",
       "      <th></th>\n",
       "      <th>pi</th>\n",
       "      <th>density</th>\n",
       "      <th>specficity</th>\n",
       "    </tr>\n",
       "  </thead>\n",
       "  <tbody>\n",
       "    <tr>\n",
       "      <th>0</th>\n",
       "      <td>0</td>\n",
       "      <td>5</td>\n",
       "      <td>4</td>\n",
       "    </tr>\n",
       "    <tr>\n",
       "      <th>1</th>\n",
       "      <td>1</td>\n",
       "      <td>5</td>\n",
       "      <td>4</td>\n",
       "    </tr>\n",
       "    <tr>\n",
       "      <th>2</th>\n",
       "      <td>2</td>\n",
       "      <td>6</td>\n",
       "      <td>4</td>\n",
       "    </tr>\n",
       "    <tr>\n",
       "      <th>3</th>\n",
       "      <td>3</td>\n",
       "      <td>2</td>\n",
       "      <td>4</td>\n",
       "    </tr>\n",
       "    <tr>\n",
       "      <th>4</th>\n",
       "      <td>4</td>\n",
       "      <td>4</td>\n",
       "      <td>4</td>\n",
       "    </tr>\n",
       "    <tr>\n",
       "      <th>...</th>\n",
       "      <td>...</td>\n",
       "      <td>...</td>\n",
       "      <td>...</td>\n",
       "    </tr>\n",
       "    <tr>\n",
       "      <th>172631</th>\n",
       "      <td>174975</td>\n",
       "      <td>5</td>\n",
       "      <td>0</td>\n",
       "    </tr>\n",
       "    <tr>\n",
       "      <th>172632</th>\n",
       "      <td>174976</td>\n",
       "      <td>4</td>\n",
       "      <td>0</td>\n",
       "    </tr>\n",
       "    <tr>\n",
       "      <th>172633</th>\n",
       "      <td>174977</td>\n",
       "      <td>2</td>\n",
       "      <td>4</td>\n",
       "    </tr>\n",
       "    <tr>\n",
       "      <th>172634</th>\n",
       "      <td>174978</td>\n",
       "      <td>3</td>\n",
       "      <td>0</td>\n",
       "    </tr>\n",
       "    <tr>\n",
       "      <th>172635</th>\n",
       "      <td>174979</td>\n",
       "      <td>6</td>\n",
       "      <td>0</td>\n",
       "    </tr>\n",
       "  </tbody>\n",
       "</table>\n",
       "<p>172636 rows × 3 columns</p>\n",
       "</div>"
      ],
      "text/plain": [
       "            pi  density  specficity\n",
       "0            0        5           4\n",
       "1            1        5           4\n",
       "2            2        6           4\n",
       "3            3        2           4\n",
       "4            4        4           4\n",
       "...        ...      ...         ...\n",
       "172631  174975        5           0\n",
       "172632  174976        4           0\n",
       "172633  174977        2           4\n",
       "172634  174978        3           0\n",
       "172635  174979        6           0\n",
       "\n",
       "[172636 rows x 3 columns]"
      ]
     },
     "execution_count": 89,
     "metadata": {},
     "output_type": "execute_result"
    }
   ],
   "source": [
    "per_peak_density_df"
   ]
  },
  {
   "cell_type": "code",
   "execution_count": 182,
   "metadata": {},
   "outputs": [
    {
     "name": "stdout",
     "output_type": "stream",
     "text": [
      "(444292, 22)\n"
     ]
    }
   ],
   "source": [
    "intersect_bed = pd.read_csv(\"/oak/stanford/groups/akundaje/projects/chrombpnet/model_inputs/ENCODE_ATAC_downloads/IMR90/ccre_intersect.bed\", sep=\"\\t\", header=None)\n",
    "\n",
    "print(intersect_bed.shape)\n"
   ]
  },
  {
   "cell_type": "code",
   "execution_count": 183,
   "metadata": {},
   "outputs": [
    {
     "name": "stdout",
     "output_type": "stream",
     "text": [
      "     0         1         2  3     4  5         6           7           8   \\\n",
      "0  chr1  16612584  16614029  .  1000  .  21.84548  1935.95679  1929.76306   \n",
      "1  chr1  16612584  16614029  .  1000  .  21.84548  1935.95679  1929.76306   \n",
      "2  chr1  16612584  16614029  .  1000  .  21.84548  1935.95679  1929.76306   \n",
      "3  chr1  16612584  16614029  .  1000  .  21.84548  1935.95679  1929.76306   \n",
      "4  chr1  16612584  16614029  .  1000  .  21.84548  1935.95679  1929.76306   \n",
      "\n",
      "     9   ...        12            13  14 15        16        17           18  \\\n",
      "0  1015  ...  16612872  EH38E2789636   0  .  16612522  16612872  255,170,170   \n",
      "1  1015  ...  16613098  EH38E2789637   0  .  16612927  16613098    255,167,0   \n",
      "2  1015  ...  16613748  EH38E3955878   0  .  16613398  16613748      255,0,0   \n",
      "3  1015  ...  16613932  EH38E2789640   0  .  16613756  16613932    255,167,0   \n",
      "4  1015  ...  16613385  EH38E3955877   0  .  16613114  16613385    255,167,0   \n",
      "\n",
      "           19                            20   21  \n",
      "0  CA-H3K4me3  All-data/Full-classification  288  \n",
      "1        pELS  All-data/Full-classification  171  \n",
      "2         PLS  All-data/Full-classification  350  \n",
      "3        pELS  All-data/Full-classification  176  \n",
      "4        pELS  All-data/Full-classification  271  \n",
      "\n",
      "[5 rows x 22 columns]\n"
     ]
    }
   ],
   "source": [
    "print(intersect_bed.head())"
   ]
  },
  {
   "cell_type": "code",
   "execution_count": 184,
   "metadata": {},
   "outputs": [],
   "source": [
    "intersect_bed[\"rindex\"] = intersect_bed[0]+intersect_bed[1].astype(str)+intersect_bed[2].astype(str)+intersect_bed[9].astype(str)\n"
   ]
  },
  {
   "cell_type": "code",
   "execution_count": 185,
   "metadata": {},
   "outputs": [],
   "source": [
    "intersect_bed[\"pels\"] = intersect_bed[19]==\"PLS\"\n",
    "intersect_bed[\"dels\"] = intersect_bed[19]==\"dELS\""
   ]
  },
  {
   "cell_type": "code",
   "execution_count": 186,
   "metadata": {},
   "outputs": [],
   "source": [
    "final_pels = intersect_bed.groupby([\"rindex\"])[\"pels\"].agg(\"sum\")\n",
    "final_dels = intersect_bed.groupby([\"rindex\"])[\"dels\"].agg(\"sum\")\n"
   ]
  },
  {
   "cell_type": "code",
   "execution_count": 187,
   "metadata": {},
   "outputs": [
    {
     "data": {
      "text/plain": [
       "(174980,)"
      ]
     },
     "execution_count": 187,
     "metadata": {},
     "output_type": "execute_result"
    }
   ],
   "source": [
    "final_pels.shape"
   ]
  },
  {
   "cell_type": "code",
   "execution_count": 188,
   "metadata": {},
   "outputs": [],
   "source": [
    "is_pels = []\n",
    "for i,r in peaks_in.iterrows():\n",
    "    is_pels.append((final_pels[r[\"rindex\"]]>=1)) "
   ]
  },
  {
   "cell_type": "code",
   "execution_count": 189,
   "metadata": {},
   "outputs": [],
   "source": [
    "is_dels = []\n",
    "for i,r in peaks_in.iterrows():\n",
    "    is_dels.append((final_dels[r[\"rindex\"]]>=1)) "
   ]
  },
  {
   "cell_type": "code",
   "execution_count": null,
   "metadata": {},
   "outputs": [],
   "source": []
  },
  {
   "cell_type": "code",
   "execution_count": 190,
   "metadata": {},
   "outputs": [],
   "source": [
    "tt_is_pels = []\n",
    "for i,r in per_peak_density_df.iterrows():\n",
    "    tt_is_pels.append(is_pels[r[\"pi\"]])\n",
    "\n",
    "tt_is_dels = []\n",
    "for i,r in per_peak_density_df.iterrows():\n",
    "    tt_is_dels.append(is_dels[r[\"pi\"]])\n",
    "\n"
   ]
  },
  {
   "cell_type": "code",
   "execution_count": 191,
   "metadata": {},
   "outputs": [],
   "source": [
    "per_peak_density_df[\"is_pels\"] = tt_is_pels\n",
    "per_peak_density_df[\"is_dels\"] = tt_is_dels\n",
    "#per_peak_density_df.shape"
   ]
  },
  {
   "cell_type": "code",
   "execution_count": 192,
   "metadata": {},
   "outputs": [
    {
     "data": {
      "text/html": [
       "<div>\n",
       "<style scoped>\n",
       "    .dataframe tbody tr th:only-of-type {\n",
       "        vertical-align: middle;\n",
       "    }\n",
       "\n",
       "    .dataframe tbody tr th {\n",
       "        vertical-align: top;\n",
       "    }\n",
       "\n",
       "    .dataframe thead th {\n",
       "        text-align: right;\n",
       "    }\n",
       "</style>\n",
       "<table border=\"1\" class=\"dataframe\">\n",
       "  <thead>\n",
       "    <tr style=\"text-align: right;\">\n",
       "      <th></th>\n",
       "      <th>pi</th>\n",
       "      <th>density</th>\n",
       "      <th>specficity</th>\n",
       "      <th>is_pels</th>\n",
       "      <th>is_dels</th>\n",
       "    </tr>\n",
       "  </thead>\n",
       "  <tbody>\n",
       "    <tr>\n",
       "      <th>0</th>\n",
       "      <td>0</td>\n",
       "      <td>5</td>\n",
       "      <td>4</td>\n",
       "      <td>True</td>\n",
       "      <td>False</td>\n",
       "    </tr>\n",
       "    <tr>\n",
       "      <th>1</th>\n",
       "      <td>1</td>\n",
       "      <td>5</td>\n",
       "      <td>4</td>\n",
       "      <td>False</td>\n",
       "      <td>True</td>\n",
       "    </tr>\n",
       "    <tr>\n",
       "      <th>2</th>\n",
       "      <td>2</td>\n",
       "      <td>6</td>\n",
       "      <td>4</td>\n",
       "      <td>False</td>\n",
       "      <td>True</td>\n",
       "    </tr>\n",
       "    <tr>\n",
       "      <th>3</th>\n",
       "      <td>3</td>\n",
       "      <td>2</td>\n",
       "      <td>4</td>\n",
       "      <td>False</td>\n",
       "      <td>False</td>\n",
       "    </tr>\n",
       "    <tr>\n",
       "      <th>4</th>\n",
       "      <td>4</td>\n",
       "      <td>4</td>\n",
       "      <td>4</td>\n",
       "      <td>True</td>\n",
       "      <td>False</td>\n",
       "    </tr>\n",
       "    <tr>\n",
       "      <th>...</th>\n",
       "      <td>...</td>\n",
       "      <td>...</td>\n",
       "      <td>...</td>\n",
       "      <td>...</td>\n",
       "      <td>...</td>\n",
       "    </tr>\n",
       "    <tr>\n",
       "      <th>172631</th>\n",
       "      <td>174975</td>\n",
       "      <td>5</td>\n",
       "      <td>0</td>\n",
       "      <td>False</td>\n",
       "      <td>False</td>\n",
       "    </tr>\n",
       "    <tr>\n",
       "      <th>172632</th>\n",
       "      <td>174976</td>\n",
       "      <td>4</td>\n",
       "      <td>0</td>\n",
       "      <td>False</td>\n",
       "      <td>False</td>\n",
       "    </tr>\n",
       "    <tr>\n",
       "      <th>172633</th>\n",
       "      <td>174977</td>\n",
       "      <td>2</td>\n",
       "      <td>4</td>\n",
       "      <td>False</td>\n",
       "      <td>False</td>\n",
       "    </tr>\n",
       "    <tr>\n",
       "      <th>172634</th>\n",
       "      <td>174978</td>\n",
       "      <td>3</td>\n",
       "      <td>0</td>\n",
       "      <td>False</td>\n",
       "      <td>False</td>\n",
       "    </tr>\n",
       "    <tr>\n",
       "      <th>172635</th>\n",
       "      <td>174979</td>\n",
       "      <td>6</td>\n",
       "      <td>0</td>\n",
       "      <td>False</td>\n",
       "      <td>False</td>\n",
       "    </tr>\n",
       "  </tbody>\n",
       "</table>\n",
       "<p>172636 rows × 5 columns</p>\n",
       "</div>"
      ],
      "text/plain": [
       "            pi  density  specficity  is_pels  is_dels\n",
       "0            0        5           4     True    False\n",
       "1            1        5           4    False     True\n",
       "2            2        6           4    False     True\n",
       "3            3        2           4    False    False\n",
       "4            4        4           4     True    False\n",
       "...        ...      ...         ...      ...      ...\n",
       "172631  174975        5           0    False    False\n",
       "172632  174976        4           0    False    False\n",
       "172633  174977        2           4    False    False\n",
       "172634  174978        3           0    False    False\n",
       "172635  174979        6           0    False    False\n",
       "\n",
       "[172636 rows x 5 columns]"
      ]
     },
     "execution_count": 192,
     "metadata": {},
     "output_type": "execute_result"
    }
   ],
   "source": [
    "per_peak_density_df"
   ]
  },
  {
   "cell_type": "code",
   "execution_count": 193,
   "metadata": {},
   "outputs": [
    {
     "data": {
      "image/png": "[encoded data removed]",
      "text/plain": [
       "<Figure size 432x288 with 1 Axes>"
      ]
     },
     "metadata": {
      "needs_background": "light"
     },
     "output_type": "display_data"
    }
   ],
   "source": [
    "\n",
    "import seaborn as sns\n",
    "\n",
    "sns.kdeplot(data = per_peak_density_df[per_peak_density_df[\"is_pels\"]==True][\"density\"], cumulative = True, label = \"pELS\")\n",
    "sns.kdeplot(data = per_peak_density_df[per_peak_density_df[\"is_dels\"]==True][\"density\"], cumulative = True, label = \"dELS\")\n",
    "plt.legend()\n",
    "plt.show()\n"
   ]
  },
  {
   "cell_type": "code",
   "execution_count": 196,
   "metadata": {},
   "outputs": [
    {
     "name": "stderr",
     "output_type": "stream",
     "text": [
      "No artists with labels found to put in legend.  Note that artists whose label start with an underscore are ignored when legend() is called with no argument.\n"
     ]
    },
    {
     "data": {
      "image/png": "[encoded data removed]",
      "text/plain": [
       "<Figure size 432x288 with 1 Axes>"
      ]
     },
     "metadata": {
      "needs_background": "light"
     },
     "output_type": "display_data"
    }
   ],
   "source": [
    "sns.boxplot(data = [per_peak_density_df[per_peak_density_df[\"is_pels\"]==True][\"density\"], per_peak_density_df[per_peak_density_df[\"is_dels\"]==True][\"density\"]])\n",
    "plt.legend()\n",
    "plt.show()"
   ]
  },
  {
   "cell_type": "code",
   "execution_count": null,
   "metadata": {},
   "outputs": [],
   "source": []
  }
 ],
 "metadata": {
  "kernelspec": {
   "display_name": "Python 3",
   "language": "python",
   "name": "python3"
  },
  "language_info": {
   "codemirror_mode": {
    "name": "ipython",
    "version": 3
   },
   "file_extension": ".py",
   "mimetype": "text/x-python",
   "name": "python",
   "nbconvert_exporter": "python",
   "pygments_lexer": "ipython3",
   "version": "3.7.6"
  }
 },
 "nbformat": 4,
 "nbformat_minor": 4
}
