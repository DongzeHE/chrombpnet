{
 "cells": [
  {
   "cell_type": "code",
   "execution_count": 1,
   "metadata": {},
   "outputs": [],
   "source": [
    "import pyBigWig\n",
    "import pandas as pd\n",
    "import numpy as np\n",
    "import deepdish as dd\n",
    "import os\n",
    "import pyfaidx\n",
    "import random\n",
    "import pickle as pkl\n",
    "import matplotlib\n",
    "matplotlib.use('Agg')\n",
    "import matplotlib.pyplot as plt\n",
    "import tensorflow as tf\n",
    "import argparse\n",
    "import json\n",
    "import one_hot as dinuc_shuffle_main\n",
    "from tensorflow.keras.utils import get_custom_objects\n",
    "from tensorflow.keras.models import load_model\n",
    "import tensorflow as tf\n",
    "import os\n",
    "os.environ[\"CUDA_DEVICE_ORDER\"]=\"PCI_BUS_ID\"   # see issue #152\n",
    "os.environ[\"CUDA_VISIBLE_DEVICES\"]=\"0\"\n",
    "%matplotlib inline\n",
    "matplotlib.rcParams['pdf.fonttype'] = 42\n",
    "matplotlib.rcParams['ps.fonttype'] = 42 "
   ]
  },
  {
   "cell_type": "code",
   "execution_count": 2,
   "metadata": {},
   "outputs": [],
   "source": [
    "#regions = \"/mnt/lab_data2/anusri/chrombpnet/results/chrombpnet/ATAC_PE/GM12878/negatives_data/negatives_with_summit.bed\"\n",
    "#regions = \"/mnt/lab_data2/anusri/chrombpnet/results/chrombpnet/DNASE_SE/IMR90/negatives_data/negatives_with_summit.bed\"\n",
    "regions = \"/mnt/lab_data2/anusri/chrombpnet/results/chrombpnet/ATAC_PE/K562/negatives_data/negatives_with_summit.bed\"\n",
    "\n",
    "genome = \"/mnt/lab_data2/anusri/chrombpnet/reference/hg38.genome.fa\"\n",
    "#model_h5 = \"/mnt/lab_data2/anusri/chrombpnet/results/chrombpnet/DNASE_PE/K562/nautilus_runs_may18/K562_05.13.2022_bias_128_4_1234_0.5_fold_0/chrombpnet_model/chrombpnet_wo_bias.h5\"\n",
    "model_h5 = \"/mnt/lab_data2/anusri/chrombpnet/results/chrombpnet/ATAC_PE/K562/nautilus_runs/K562_02.17.2022_bias_128_4_1234_0.5_fold_0/chrombpnet_model/chrombpnet_wo_bias.h5\"\n",
    "#model_h5=\"/mnt/lab_data2/anusri/chrombpnet/results/chrombpnet/DNASE_SE/IMR90/nautilus_runs_apr12/IMR90_04.09.2022_bias_128_4_1234_0.8_fold_0/chrombpnet_model/chrombpnet_wo_bias.h5\"\n",
    "#model_h5=\"/mnt/lab_data2/anusri/chrombpnet/results/chrombpnet/ATAC_PE/IMR90/nautilus_runs_apr12/IMR90_04.09.2022_bias_128_4_1234_0.4_fold_0/chrombpnet_model/chrombpnet_wo_bias.h5\"\n",
    "#model_h5 =\"/mnt/lab_data2/anusri/chrombpnet/results/chrombpnet/DNASE_SE/GM12878/nautilus_runs/GM12878_03.06.2022_bias_128_4_1234_0.8_fold_0/chrombpnet_model/chrombpnet_wo_bias.h5\"\n",
    "#model_h5 = \"/mnt/lab_data2/anusri/chrombpnet/results/chrombpnet/ATAC_PE/GM12878/nautilus_runs/GM12878_03.01.2022_bias_128_4_1234_0.4_fold_0/chrombpnet_model/chrombpnet_wo_bias.h5\""
   ]
  },
  {
   "cell_type": "code",
   "execution_count": 3,
   "metadata": {},
   "outputs": [],
   "source": [
    "def softmax(x, temp=1):\n",
    "    norm_x = x - np.mean(x,axis=1, keepdims=True)\n",
    "    return np.exp(temp*norm_x)/np.sum(np.exp(temp*norm_x), axis=1, keepdims=True)\n",
    "\n",
    "\n",
    "def get_footprint_for_motif(seqs, motif, model, inputlen, batch_size):\n",
    "    '''\n",
    "    Returns footprints for a given motif. Motif is inserted in both the actual sequence and reverse complemented version.\n",
    "    seqs input is already assumed to be one-hot encoded. motif is in sequence format.\n",
    "    '''\n",
    "    midpoint=inputlen//2\n",
    "\n",
    "    w_mot_seqs = seqs.copy()\n",
    "    w_mot_seqs[:, midpoint-len(motif)//2:midpoint-len(motif)//2+len(motif)] =dinuc_shuffle_main.dna_to_one_hot([motif])\n",
    "\n",
    "    # midpoint of motif is the midpoint of sequence\n",
    "    pred_output=model.predict(w_mot_seqs, batch_size=batch_size, verbose=True)\n",
    "    footprint_for_motif_fwd = softmax(pred_output[0])*(np.exp(pred_output[1])-1)\n",
    "\n",
    "    # reverse complement the sequence\n",
    "    w_mot_seqs_revc = w_mot_seqs[:, ::-1, ::-1]\n",
    "    pred_output_rev=model.predict(w_mot_seqs_revc, batch_size=batch_size, verbose=True)\n",
    "    footprint_for_motif_rev = softmax(pred_output_rev[0])*(np.exp(pred_output_rev[1])-1)\n",
    "\n",
    "    # add fwd sequence predictions and reverse sesquence predictions (not we flip the rev predictions)\n",
    "    counts_for_motif = np.exp(pred_output_rev[1]) - 1 + np.exp(pred_output[1]) - 1\n",
    "    footprint_for_motif_tot = footprint_for_motif_fwd+footprint_for_motif_rev[:,::-1]\n",
    "    footprint_for_motif =  footprint_for_motif_tot / footprint_for_motif_tot.sum(axis=1)[:, np.newaxis]\n",
    "\n",
    "    return footprint_for_motif_tot.mean(0), counts_for_motif.mean(0)\n",
    "\n",
    "def get_footprint_for_two_motifs(seqs, motifs, model, inputlen, batch_size, spacing):\n",
    "    '''\n",
    "    Returns footprints for a given motif. Motif is inserted in both the actual sequence and reverse complemented version.\n",
    "    seqs input is already assumed to be one-hot encoded. motif is in sequence format.\n",
    "    '''\n",
    "    midpoint=inputlen//2\n",
    "\n",
    "    spacing_per_motif = spacing // 2\n",
    "    \n",
    "    w_mot_seqs = seqs.copy()\n",
    "    \n",
    "    motif = motifs[0]\n",
    "    start = midpoint-(len(motif)//2)\n",
    "    w_mot_seqs[:, start:start+len(motif)] = dinuc_shuffle_main.dna_to_one_hot([motif])\n",
    "    print(motif,start,start+len(motif))\n",
    "    if spacing > 0:\n",
    "        spacing_per_motif = spacing \n",
    "        motif = motifs[1]\n",
    "        start = start+len(motifs[0])+spacing_per_motif \n",
    "        w_mot_seqs[:, start:start+len(motif)] = dinuc_shuffle_main.dna_to_one_hot([motif])\n",
    "    else:\n",
    "        spacing_per_motif = spacing \n",
    "        motif = motifs[1]\n",
    "        start = start + spacing_per_motif - len(motif)\n",
    "        w_mot_seqs[:, start:start+len(motif)] = dinuc_shuffle_main.dna_to_one_hot([motif])\n",
    "    \n",
    "    print(motif,start,start+len(motif))\n",
    "    \n",
    "    # midpoint of motif is the midpoint of sequence\n",
    "    pred_output=model.predict(w_mot_seqs, batch_size=batch_size, verbose=True)\n",
    "    footprint_for_motif_fwd = softmax(pred_output[0])*(np.exp(pred_output[1])-1)\n",
    "\n",
    "    # reverse complement the sequence\n",
    "    w_mot_seqs_revc = w_mot_seqs[:, ::-1, ::-1]\n",
    "    pred_output_rev=model.predict(w_mot_seqs_revc, batch_size=batch_size, verbose=True)\n",
    "    footprint_for_motif_rev = softmax(pred_output_rev[0])*(np.exp(pred_output_rev[1])-1)\n",
    "\n",
    "    # add fwd sequence predictions and reverse sesquence predictions (not we flip the rev predictions)\n",
    "    counts_for_motif = np.exp(pred_output_rev[1]) - 1 + np.exp(pred_output[1]) - 1\n",
    "    footprint_for_motif_tot = footprint_for_motif_fwd+footprint_for_motif_rev[:,::-1]\n",
    "    footprint_for_motif =  footprint_for_motif_tot / footprint_for_motif_tot.sum(axis=1)[:, np.newaxis]\n",
    "\n",
    "    return footprint_for_motif_tot.mean(0), counts_for_motif.mean(0)"
   ]
  },
  {
   "cell_type": "code",
   "execution_count": 4,
   "metadata": {},
   "outputs": [],
   "source": [
    "def get_seq(peaks_df, genome, width, shuffle=False):\n",
    "    \"\"\"\n",
    "    fetches sequence from a given genome.\n",
    "    \"\"\"\n",
    "    vals = []\n",
    "\n",
    "    for i, r in peaks_df.iterrows():\n",
    "        sequence = str(genome[r['chr']][(r['start']+r['summit'] - width//2):(r['start'] + r['summit'] + width//2)])\n",
    "        if len(sequence) == width:\n",
    "                vals.append(sequence)\n",
    "\n",
    "    return dinuc_shuffle_main.dna_to_one_hot(vals)"
   ]
  },
  {
   "cell_type": "code",
   "execution_count": 5,
   "metadata": {},
   "outputs": [
    {
     "name": "stdout",
     "output_type": "stream",
     "text": [
      "WARNING:tensorflow:No training configuration found in the save file, so the model was *not* compiled. Compile it manually.\n"
     ]
    }
   ],
   "source": [
    "model=load_model(model_h5)"
   ]
  },
  {
   "cell_type": "code",
   "execution_count": 6,
   "metadata": {},
   "outputs": [],
   "source": [
    "NARROWPEAK_SCHEMA = [\"chr\", \"start\", \"end\", \"1\", \"2\", \"3\", \"4\", \"5\", \"6\", \"summit\"]\n",
    "inputlen = 2114\n",
    "regions_df = pd.read_csv(regions, sep='\\t', names=NARROWPEAK_SCHEMA)\n",
    "chroms_to_keep = [\"chr1\"]\n",
    "regions_subsample = regions_df[(regions_df[\"chr\"].isin(chroms_to_keep))].sample(1000, random_state=0)\n",
    "genome_fasta = pyfaidx.Fasta(genome)\n",
    "regions_seqs = get_seq(regions_subsample, genome_fasta, inputlen)"
   ]
  },
  {
   "cell_type": "code",
   "execution_count": 7,
   "metadata": {},
   "outputs": [
    {
     "name": "stdout",
     "output_type": "stream",
     "text": [
      "8/8 [==============================] - 10s 653ms/step\n",
      "8/8 [==============================] - 3s 390ms/step\n"
     ]
    }
   ],
   "source": [
    "motif =  \"\"\n",
    "batch_size=128\n",
    "full_footprint_control = get_footprint_for_motif(regions_seqs, motif, model, inputlen, batch_size)"
   ]
  },
  {
   "cell_type": "code",
   "execution_count": 8,
   "metadata": {},
   "outputs": [
    {
     "name": "stdout",
     "output_type": "stream",
     "text": [
      "CAGATAAGG 1053 1062\n",
      "CTG 1049 1052\n",
      "8/8 [==============================] - 3s 393ms/step\n",
      "8/8 [==============================] - 3s 390ms/step\n",
      "CAGATAAGG 1053 1062\n",
      "CTG 1048 1051\n",
      "8/8 [==============================] - 3s 390ms/step\n",
      "8/8 [==============================] - 3s 391ms/step\n",
      "CAGATAAGG 1053 1062\n",
      "CTG 1047 1050\n",
      "8/8 [==============================] - 3s 390ms/step\n",
      "8/8 [==============================] - 3s 390ms/step\n",
      "CAGATAAGG 1053 1062\n",
      "CTG 1046 1049\n",
      "8/8 [==============================] - 3s 390ms/step\n",
      "8/8 [==============================] - 3s 390ms/step\n",
      "CAGATAAGG 1053 1062\n",
      "CTG 1045 1048\n",
      "8/8 [==============================] - 3s 390ms/step\n",
      "8/8 [==============================] - 3s 390ms/step\n",
      "CAGATAAGG 1053 1062\n",
      "CTG 1044 1047\n",
      "8/8 [==============================] - 3s 390ms/step\n",
      "8/8 [==============================] - 3s 390ms/step\n",
      "CAGATAAGG 1053 1062\n",
      "CTG 1043 1046\n",
      "8/8 [==============================] - 3s 390ms/step\n",
      "8/8 [==============================] - 3s 390ms/step\n",
      "CAGATAAGG 1053 1062\n",
      "CTG 1042 1045\n",
      "8/8 [==============================] - 3s 390ms/step\n",
      "8/8 [==============================] - 3s 390ms/step\n",
      "CAGATAAGG 1053 1062\n",
      "CTG 1041 1044\n",
      "8/8 [==============================] - 3s 390ms/step\n",
      "8/8 [==============================] - 3s 390ms/step\n",
      "CAGATAAGG 1053 1062\n",
      "CTG 1040 1043\n",
      "8/8 [==============================] - 3s 390ms/step\n",
      "8/8 [==============================] - 3s 390ms/step\n",
      "CAGATAAGG 1053 1062\n",
      "CTG 1039 1042\n",
      "8/8 [==============================] - 3s 390ms/step\n",
      "8/8 [==============================] - 3s 390ms/step\n",
      "CAGATAAGG 1053 1062\n",
      "CTG 1038 1041\n",
      "8/8 [==============================] - 3s 390ms/step\n",
      "8/8 [==============================] - 3s 390ms/step\n",
      "CAGATAAGG 1053 1062\n",
      "CTG 1037 1040\n",
      "8/8 [==============================] - 3s 390ms/step\n",
      "8/8 [==============================] - 3s 390ms/step\n",
      "CAGATAAGG 1053 1062\n",
      "CTG 1036 1039\n",
      "8/8 [==============================] - 3s 390ms/step\n",
      "8/8 [==============================] - 3s 390ms/step\n",
      "CAGATAAGG 1053 1062\n",
      "CTG 1035 1038\n",
      "8/8 [==============================] - 3s 390ms/step\n",
      "8/8 [==============================] - 3s 390ms/step\n",
      "CAGATAAGG 1053 1062\n",
      "CTG 1030 1033\n",
      "8/8 [==============================] - 3s 390ms/step\n",
      "8/8 [==============================] - 3s 390ms/step\n",
      "CAGATAAGG 1053 1062\n",
      "CTG 1010 1013\n",
      "8/8 [==============================] - 3s 389ms/step\n",
      "8/8 [==============================] - 3s 390ms/step\n"
     ]
    }
   ],
   "source": [
    "motifs = [\"CAGATAAGG\",\"CTG\"]\n",
    "\n",
    "data_in_spacings = []\n",
    "for spacing in [1,2,3,4,5,6,7,8,9,10,11,12,13,14,15,20,40]:\n",
    "    puu_runx_footprint = get_footprint_for_two_motifs(regions_seqs, motifs, model, inputlen, batch_size, spacing=-1*spacing)\n",
    "    data_in_spacings.append(puu_runx_footprint)"
   ]
  },
  {
   "cell_type": "code",
   "execution_count": 9,
   "metadata": {},
   "outputs": [
    {
     "name": "stdout",
     "output_type": "stream",
     "text": [
      "CAGATAAGG 1053 1062\n",
      "CTG 1063 1066\n",
      "8/8 [==============================] - 3s 390ms/step\n",
      "8/8 [==============================] - 3s 390ms/step\n",
      "CAGATAAGG 1053 1062\n",
      "CTG 1064 1067\n",
      "8/8 [==============================] - 3s 390ms/step\n",
      "8/8 [==============================] - 3s 390ms/step\n",
      "CAGATAAGG 1053 1062\n",
      "CTG 1065 1068\n",
      "8/8 [==============================] - 3s 390ms/step\n",
      "8/8 [==============================] - 3s 390ms/step\n",
      "CAGATAAGG 1053 1062\n",
      "CTG 1066 1069\n",
      "8/8 [==============================] - 3s 390ms/step\n",
      "8/8 [==============================] - 3s 390ms/step\n",
      "CAGATAAGG 1053 1062\n",
      "CTG 1067 1070\n",
      "8/8 [==============================] - 3s 390ms/step\n",
      "8/8 [==============================] - 3s 390ms/step\n",
      "CAGATAAGG 1053 1062\n",
      "CTG 1068 1071\n",
      "8/8 [==============================] - 3s 390ms/step\n",
      "8/8 [==============================] - 3s 390ms/step\n",
      "CAGATAAGG 1053 1062\n",
      "CTG 1069 1072\n",
      "8/8 [==============================] - 3s 390ms/step\n",
      "8/8 [==============================] - 3s 390ms/step\n",
      "CAGATAAGG 1053 1062\n",
      "CTG 1070 1073\n",
      "8/8 [==============================] - 3s 390ms/step\n",
      "8/8 [==============================] - 3s 391ms/step\n",
      "CAGATAAGG 1053 1062\n",
      "CTG 1071 1074\n",
      "8/8 [==============================] - 3s 390ms/step\n",
      "8/8 [==============================] - 3s 390ms/step\n",
      "CAGATAAGG 1053 1062\n",
      "CTG 1072 1075\n",
      "8/8 [==============================] - 3s 390ms/step\n",
      "8/8 [==============================] - 3s 390ms/step\n",
      "CAGATAAGG 1053 1062\n",
      "CTG 1073 1076\n",
      "8/8 [==============================] - 3s 390ms/step\n",
      "8/8 [==============================] - 3s 390ms/step\n",
      "CAGATAAGG 1053 1062\n",
      "CTG 1074 1077\n",
      "8/8 [==============================] - 3s 390ms/step\n",
      "8/8 [==============================] - 3s 390ms/step\n",
      "CAGATAAGG 1053 1062\n",
      "CTG 1075 1078\n",
      "8/8 [==============================] - 3s 390ms/step\n",
      "8/8 [==============================] - 3s 390ms/step\n",
      "CAGATAAGG 1053 1062\n",
      "CTG 1076 1079\n",
      "8/8 [==============================] - 3s 390ms/step\n",
      "8/8 [==============================] - 3s 390ms/step\n",
      "CAGATAAGG 1053 1062\n",
      "CTG 1077 1080\n",
      "8/8 [==============================] - 3s 390ms/step\n",
      "8/8 [==============================] - 3s 390ms/step\n",
      "CAGATAAGG 1053 1062\n",
      "CTG 1082 1085\n",
      "8/8 [==============================] - 3s 390ms/step\n",
      "8/8 [==============================] - 3s 390ms/step\n",
      "CAGATAAGG 1053 1062\n",
      "CTG 1102 1105\n",
      "8/8 [==============================] - 3s 391ms/step\n",
      "8/8 [==============================] - 3s 390ms/step\n"
     ]
    }
   ],
   "source": [
    "motifs = [\"CAGATAAGG\",\"CTG\"]\n",
    "\n",
    "data_in_spacings_rev = []\n",
    "for spacing in [1,2,3,4,5,6,7,8,9,10,11,12,13,14,15,20,40]:\n",
    "    puu_runx_footprint = get_footprint_for_two_motifs(regions_seqs, motifs, model, inputlen, batch_size, spacing=spacing)\n",
    "    data_in_spacings_rev.append(puu_runx_footprint)"
   ]
  },
  {
   "cell_type": "code",
   "execution_count": 11,
   "metadata": {},
   "outputs": [
    {
     "data": {
      "text/plain": [
       "<matplotlib.collections.PathCollection at 0x7fb2d511e290>"
      ]
     },
     "execution_count": 11,
     "metadata": {},
     "output_type": "execute_result"
    },
    {
     "data": {
      "image/png": "[encoded data removed]",
      "text/plain": [
       "<Figure size 432x288 with 1 Axes>"
      ]
     },
     "metadata": {
      "needs_background": "light"
     },
     "output_type": "display_data"
    }
   ],
   "source": [
    "all_counts = [x[1] for x in data_in_spacings]\n",
    "all_counts_rev = [x[1] for x in data_in_spacings_rev]\n",
    "\n",
    "\n",
    "plt.scatter([1,2,3,4,5,6,7,8,9,10,11,12,13,14,15,20,40]+[-1,-2,-3,-4,-5,-6,-7,-8,-9,-10,-11,-12,-13,-14,-15,-20,-40],all_counts_rev+all_counts)\n"
   ]
  },
  {
   "cell_type": "code",
   "execution_count": 35,
   "metadata": {},
   "outputs": [
    {
     "data": {
      "image/png": "[encoded data removed]",
      "text/plain": [
       "<Figure size 432x288 with 1 Axes>"
      ]
     },
     "metadata": {},
     "output_type": "display_data"
    }
   ],
   "source": [
    "\n",
    "from scipy.interpolate import make_interp_spline\n",
    "import matplotlib.pyplot as plt\n",
    "import seaborn as sns\n",
    "sns.set()\n",
    "sns.set_style(\"ticks\", {'axes.grid' : False})\n",
    "\n",
    "plt.scatter([1,2,3,4,5,6,7,8,9,10,11,12,13,14,15,20,40]+[-1,-2,-3,-4,-5,-6,-7,-8,-9,-10,-11,-12,-13,-14,-15,-20,-40],all_counts_rev[0:]+all_counts[0:], linewidths=0.5, edgecolors=None,s=5)\n",
    "plt.plot([1,2,3,4,5,6,7,8,9,10,11,12,13,14,15,20,40]+[-1,-2,-3,-4,-5,-6,-7,-8,-9,-10,-11,-12,-13,-14,-15,-20,-40],all_counts_rev[0:]+all_counts[0:], alpha=0.5 )\n",
    "\n",
    "# Dataset\n",
    "x = np.array([-1,-2,-3,-4,-5,-6,-7,-8,-9,-10,-11,-12,-13,-14,-15,-20,-40][::-1]+[1,2,3,4,5,6,7,8,9,10,11,12,13,14,15,20,40])\n",
    "y = np.array(all_counts[::-1]+all_counts_rev)\n",
    "\n",
    "X_Y_Spline = make_interp_spline(x, y)\n",
    " \n",
    "# Returns evenly spaced numbers\n",
    "# over a specified interval.\n",
    "X_ = np.linspace(x.min(), x.max(), 500)\n",
    "#Y_ = X_Y_Spline(X_)\n",
    "\n",
    "plt.axvline(-7, color=\"orange\", linestyle=\"-\")  #vertical line\n",
    "#plt.plot(X_,Y_)\n",
    "plt.ylabel(\"counts\")\n",
    "plt.xlabel(\"TAL spacing from GATA\")\n",
    "\n",
    "plt.savefig(\"subfigs/gata_tal_syntax.pdf\", transparent=True, dpi=300)\n",
    "\n"
   ]
  },
  {
   "cell_type": "code",
   "execution_count": null,
   "metadata": {},
   "outputs": [],
   "source": []
  }
 ],
 "metadata": {
  "kernelspec": {
   "display_name": "Python 3",
   "language": "python",
   "name": "python3"
  },
  "language_info": {
   "codemirror_mode": {
    "name": "ipython",
    "version": 3
   },
   "file_extension": ".py",
   "mimetype": "text/x-python",
   "name": "python",
   "nbconvert_exporter": "python",
   "pygments_lexer": "ipython3",
   "version": "3.7.6"
  }
 },
 "nbformat": 4,
 "nbformat_minor": 4
}
