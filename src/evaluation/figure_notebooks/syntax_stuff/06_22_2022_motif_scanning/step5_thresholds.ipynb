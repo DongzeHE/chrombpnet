{
 "cells": [
  {
   "cell_type": "code",
   "execution_count": 1,
   "metadata": {},
   "outputs": [],
   "source": [
    "import deepdish\n",
    "from statsmodels.distributions.empirical_distribution import ECDF\n",
    "import matplotlib.pyplot as plt\n",
    "import pandas as pd\n",
    "import pyBigWig\n",
    "import numpy as np\n",
    "from tqdm import tqdm\n",
    "\n",
    "\n",
    "cell_type=\"HEPG2\"\n",
    "#model_name=\"HEPG2_06.08.2022_bias_128_4_1234_0.8_fold_0\"\n",
    "model_name=\"HEPG2_05.09.2022_bias_128_4_1234_0.8_fold_0\"\n",
    "dtype=\"profile\"\n",
    "#dtype=\"counts\"\n",
    "\n",
    "#data_type=\"DNASE_PE\"\n",
    "data_type=\"ATAC_PE\"\n",
    "\n",
    "idir=\"/mnt/lab_data3/anusri/chrombpnet/results/chrombpnet/\"+data_type+\"/\"+cell_type+\"/\"+model_name+\"/06_22_2022_motif_scanning/\"\n",
    "hdf5 = idir+\"/interpret/5K.negatives.\"+dtype+\"_scores.h5\"\n",
    "\n",
    "file_id=\"HEPG2_mean_\"+dtype+\"_\"+data_type\n",
    "moods_dir = \"/mnt/lab_data2/anusri/chrombpnet/src/evaluation/figure_notebooks/syntax_stuff/06_25_2022_motif_scanning_tobias_toolkit/output/\"+file_id+\"/HNF4G_MA0484.1_HNF4G_MA0484.1/beds/\"\n",
    "moods_hits = pd.read_csv(moods_dir+\"HNF4G_MA0484.1_HNF4G_MA0484.1_all.bed\", sep=\"\\t\", header=None)\n"
   ]
  },
  {
   "cell_type": "code",
   "execution_count": 2,
   "metadata": {},
   "outputs": [
    {
     "name": "stdout",
     "output_type": "stream",
     "text": [
      "      0       1       2                              3        4  5     6  \\\n",
      "0  chr1  599009  599021  HNF4G_MA0484.1_HNF4G_MA0484.1  9.05549  +  chr1   \n",
      "1  chr1  599226  599238  HNF4G_MA0484.1_HNF4G_MA0484.1  9.34209  +  chr1   \n",
      "2  chr1  675570  675582  HNF4G_MA0484.1_HNF4G_MA0484.1  8.27880  +  chr1   \n",
      "3  chr1  726761  726773  HNF4G_MA0484.1_HNF4G_MA0484.1  7.83106  -  chr1   \n",
      "4  chr1  727203  727215  HNF4G_MA0484.1_HNF4G_MA0484.1  8.10028  +  chr1   \n",
      "\n",
      "        7       8        9  \n",
      "0  598441  599441  0.00188  \n",
      "1  598441  599441  0.00014  \n",
      "2  675043  676043  0.00384  \n",
      "3  726735  727735  0.00018  \n",
      "4  726735  727735  0.00000  \n",
      "quantile 0.95:  4.6971957313530756e-05\n",
      "quantile 0.05:  -6.257871537115989e-05\n"
     ]
    }
   ],
   "source": [
    "print(moods_hits.head())\n",
    "\n",
    "d = deepdish.io.load(hdf5, '/projected_shap/seq')\n",
    "deepshaps_in_neg = d.flatten()\n",
    "\n",
    "print(\"quantile 0.95: \",np.quantile(deepshaps_in_neg, 0.95))\n",
    "print(\"quantile 0.05: \", np.quantile(deepshaps_in_neg, 0.05))\n"
   ]
  },
  {
   "cell_type": "code",
   "execution_count": 3,
   "metadata": {},
   "outputs": [
    {
     "name": "stdout",
     "output_type": "stream",
     "text": [
      "quantile 0.95:  0.0004146334059479387\n",
      "quantile 0.05:  -0.0007999679291719985\n"
     ]
    }
   ],
   "source": [
    "\n",
    "print(\"quantile 0.95: \",np.quantile(deepshaps_in_neg, 0.995))\n",
    "print(\"quantile 0.05: \", np.quantile(deepshaps_in_neg, 0.001))\n"
   ]
  },
  {
   "cell_type": "code",
   "execution_count": 4,
   "metadata": {},
   "outputs": [],
   "source": [
    "ecdf = ECDF(deepshaps_in_neg)\n"
   ]
  },
  {
   "cell_type": "code",
   "execution_count": 5,
   "metadata": {},
   "outputs": [],
   "source": [
    "pvalues = ecdf(moods_hits[9])"
   ]
  },
  {
   "cell_type": "code",
   "execution_count": 6,
   "metadata": {},
   "outputs": [],
   "source": [
    "moods_hits[10] = pvalues"
   ]
  },
  {
   "cell_type": "code",
   "execution_count": 7,
   "metadata": {},
   "outputs": [
    {
     "data": {
      "text/html": [
       "<div>\n",
       "<style scoped>\n",
       "    .dataframe tbody tr th:only-of-type {\n",
       "        vertical-align: middle;\n",
       "    }\n",
       "\n",
       "    .dataframe tbody tr th {\n",
       "        vertical-align: top;\n",
       "    }\n",
       "\n",
       "    .dataframe thead th {\n",
       "        text-align: right;\n",
       "    }\n",
       "</style>\n",
       "<table border=\"1\" class=\"dataframe\">\n",
       "  <thead>\n",
       "    <tr style=\"text-align: right;\">\n",
       "      <th></th>\n",
       "      <th>0</th>\n",
       "      <th>1</th>\n",
       "      <th>2</th>\n",
       "      <th>3</th>\n",
       "      <th>4</th>\n",
       "      <th>5</th>\n",
       "      <th>6</th>\n",
       "      <th>7</th>\n",
       "      <th>8</th>\n",
       "      <th>9</th>\n",
       "      <th>10</th>\n",
       "    </tr>\n",
       "  </thead>\n",
       "  <tbody>\n",
       "    <tr>\n",
       "      <th>0</th>\n",
       "      <td>chr1</td>\n",
       "      <td>599009</td>\n",
       "      <td>599021</td>\n",
       "      <td>HNF4G_MA0484.1_HNF4G_MA0484.1</td>\n",
       "      <td>9.05549</td>\n",
       "      <td>+</td>\n",
       "      <td>chr1</td>\n",
       "      <td>598441</td>\n",
       "      <td>599441</td>\n",
       "      <td>0.00188</td>\n",
       "      <td>0.999645</td>\n",
       "    </tr>\n",
       "    <tr>\n",
       "      <th>1</th>\n",
       "      <td>chr1</td>\n",
       "      <td>599226</td>\n",
       "      <td>599238</td>\n",
       "      <td>HNF4G_MA0484.1_HNF4G_MA0484.1</td>\n",
       "      <td>9.34209</td>\n",
       "      <td>+</td>\n",
       "      <td>chr1</td>\n",
       "      <td>598441</td>\n",
       "      <td>599441</td>\n",
       "      <td>0.00014</td>\n",
       "      <td>0.978791</td>\n",
       "    </tr>\n",
       "    <tr>\n",
       "      <th>2</th>\n",
       "      <td>chr1</td>\n",
       "      <td>675570</td>\n",
       "      <td>675582</td>\n",
       "      <td>HNF4G_MA0484.1_HNF4G_MA0484.1</td>\n",
       "      <td>8.27880</td>\n",
       "      <td>+</td>\n",
       "      <td>chr1</td>\n",
       "      <td>675043</td>\n",
       "      <td>676043</td>\n",
       "      <td>0.00384</td>\n",
       "      <td>0.999903</td>\n",
       "    </tr>\n",
       "    <tr>\n",
       "      <th>3</th>\n",
       "      <td>chr1</td>\n",
       "      <td>726761</td>\n",
       "      <td>726773</td>\n",
       "      <td>HNF4G_MA0484.1_HNF4G_MA0484.1</td>\n",
       "      <td>7.83106</td>\n",
       "      <td>-</td>\n",
       "      <td>chr1</td>\n",
       "      <td>726735</td>\n",
       "      <td>727735</td>\n",
       "      <td>0.00018</td>\n",
       "      <td>0.983979</td>\n",
       "    </tr>\n",
       "    <tr>\n",
       "      <th>4</th>\n",
       "      <td>chr1</td>\n",
       "      <td>727203</td>\n",
       "      <td>727215</td>\n",
       "      <td>HNF4G_MA0484.1_HNF4G_MA0484.1</td>\n",
       "      <td>8.10028</td>\n",
       "      <td>+</td>\n",
       "      <td>chr1</td>\n",
       "      <td>726735</td>\n",
       "      <td>727735</td>\n",
       "      <td>0.00000</td>\n",
       "      <td>0.881485</td>\n",
       "    </tr>\n",
       "  </tbody>\n",
       "</table>\n",
       "</div>"
      ],
      "text/plain": [
       "     0       1       2                              3        4  5     6   \\\n",
       "0  chr1  599009  599021  HNF4G_MA0484.1_HNF4G_MA0484.1  9.05549  +  chr1   \n",
       "1  chr1  599226  599238  HNF4G_MA0484.1_HNF4G_MA0484.1  9.34209  +  chr1   \n",
       "2  chr1  675570  675582  HNF4G_MA0484.1_HNF4G_MA0484.1  8.27880  +  chr1   \n",
       "3  chr1  726761  726773  HNF4G_MA0484.1_HNF4G_MA0484.1  7.83106  -  chr1   \n",
       "4  chr1  727203  727215  HNF4G_MA0484.1_HNF4G_MA0484.1  8.10028  +  chr1   \n",
       "\n",
       "       7       8        9         10  \n",
       "0  598441  599441  0.00188  0.999645  \n",
       "1  598441  599441  0.00014  0.978791  \n",
       "2  675043  676043  0.00384  0.999903  \n",
       "3  726735  727735  0.00018  0.983979  \n",
       "4  726735  727735  0.00000  0.881485  "
      ]
     },
     "execution_count": 7,
     "metadata": {},
     "output_type": "execute_result"
    }
   ],
   "source": [
    "moods_hits.head()"
   ]
  },
  {
   "cell_type": "code",
   "execution_count": 8,
   "metadata": {},
   "outputs": [],
   "source": [
    "moods_hits.to_csv(moods_dir+\"HNF4G_MA0484.1_HNF4G_MA0484.1_all_with_pvalues.bed\", sep=\"\\t\", header=False, index=False)"
   ]
  },
  {
   "cell_type": "code",
   "execution_count": null,
   "metadata": {},
   "outputs": [],
   "source": []
  }
 ],
 "metadata": {
  "kernelspec": {
   "display_name": "Python 3",
   "language": "python",
   "name": "python3"
  },
  "language_info": {
   "codemirror_mode": {
    "name": "ipython",
    "version": 3
   },
   "file_extension": ".py",
   "mimetype": "text/x-python",
   "name": "python",
   "nbconvert_exporter": "python",
   "pygments_lexer": "ipython3",
   "version": "3.7.6"
  }
 },
 "nbformat": 4,
 "nbformat_minor": 4
}
