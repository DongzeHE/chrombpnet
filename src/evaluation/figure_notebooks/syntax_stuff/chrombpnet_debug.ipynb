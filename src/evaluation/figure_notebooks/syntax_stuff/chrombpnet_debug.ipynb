{
 "cells": [
  {
   "cell_type": "markdown",
   "metadata": {},
   "source": [
    "# Debug GM model "
   ]
  },
  {
   "cell_type": "code",
   "execution_count": 1,
   "metadata": {},
   "outputs": [],
   "source": [
    "import pandas as pd\n",
    "import pyfaidx\n",
    "import pyBigWig\n",
    "import sklearn.metrics\n",
    "import numpy as np\n",
    "import matplotlib.pyplot as plt\n",
    "import scipy\n",
    "from collections import Counter\n",
    "import os\n",
    "os.environ[\"CUDA_DEVICE_ORDER\"]=\"PCI_BUS_ID\"   # see issue #152\n",
    "os.environ[\"CUDA_VISIBLE_DEVICES\"]=\"2\""
   ]
  },
  {
   "cell_type": "code",
   "execution_count": 2,
   "metadata": {},
   "outputs": [],
   "source": [
    "import sys\n",
    "sys.path.append(\"/users/surag/kundajelab/chrombpnet-lite/src/\")\n",
    "from utils import data_utils, one_hot"
   ]
  },
  {
   "cell_type": "code",
   "execution_count": 3,
   "metadata": {},
   "outputs": [],
   "source": [
    "def softmax(x):\n",
    "    norm_x = x - np.mean(x,axis=1, keepdims=True)\n",
    "    return np.exp(norm_x)/np.sum(np.exp(norm_x), axis=1, keepdims=True)"
   ]
  },
  {
   "cell_type": "code",
   "execution_count": 6,
   "metadata": {},
   "outputs": [],
   "source": [
    "import tensorflow as tf\n",
    "import keras\n",
    "model = keras.models.load_model('my_model.h5', custom_objects={'tf': tf})"
   ]
  },
  {
   "cell_type": "code",
   "execution_count": 24,
   "metadata": {},
   "outputs": [
    {
     "name": "stderr",
     "output_type": "stream",
     "text": [
      "/users/anusri/anaconda3/lib/python3.7/site-packages/tensorflow/python/keras/layers/core.py:1059: UserWarning:  is not loaded, but a Lambda layer uses it. It may cause errors.\n",
      "  , UserWarning)\n"
     ]
    }
   ],
   "source": [
    "gm_fold1_bias_model = tf.keras.models.load_model(\"/oak/stanford/groups/akundaje/projects/chromatin-atlas-2022/chrombpnet/folds/ATAC/GM12878/GM12878_07.08.2022_bias_128_4_1234_0.4_fold_1_data_type_ATAC_PE_try_2/chrombpnet_model/bias_model_scaled.h5\",\n",
    "                                compile=False,  custom_objects={'tf': tf})\n",
    "gm_fold1_cbp_w_bias_model = tf.keras.models.load_model(\"/oak/stanford/groups/akundaje/projects/chromatin-atlas-2022/chrombpnet/folds/ATAC/GM12878/GM12878_07.08.2022_bias_128_4_1234_0.4_fold_1_data_type_ATAC_PE_try_2/chrombpnet_model/chrombpnet.h5\",\n",
    "                                compile=False,  custom_objects={'tf': tf})\n",
    "gm_fold1_cbp_wo_bias_model = tf.keras.models.load_model(\"/oak/stanford/groups/akundaje/projects/chromatin-atlas-2022/chrombpnet/folds/ATAC/GM12878/GM12878_07.08.2022_bias_128_4_1234_0.4_fold_1_data_type_ATAC_PE_try_2/chrombpnet_model/chrombpnet_wo_bias.h5\",\n",
    "                                compile=False,  custom_objects={'tf': tf})"
   ]
  },
  {
   "cell_type": "code",
   "execution_count": 38,
   "metadata": {},
   "outputs": [
    {
     "ename": "OSError",
     "evalue": "SavedModel file does not exist at: /oak/stanford/groups/akundaje/projects/chromatin-atlas-2022/chrombpnet/folds/ATAC/GM12878/GM12878_07.14.2022_bias_128_4_1234_0.4_fold_2_data_type_ATAC_PE/chrombpnet_model/bias_model_scaled.h5/{saved_model.pbtxt|saved_model.pb}",
     "output_type": "error",
     "traceback": [
      "\u001b[0;31m---------------------------------------------------------------------------\u001b[0m",
      "\u001b[0;31mOSError\u001b[0m                                   Traceback (most recent call last)",
      "\u001b[0;32m<ipython-input-38-48d44a06d0b1>\u001b[0m in \u001b[0;36m<module>\u001b[0;34m\u001b[0m\n\u001b[1;32m      1\u001b[0m other_bias_model = tf.keras.models.load_model(\"/oak/stanford/groups/akundaje/projects/chromatin-atlas-2022/chrombpnet/folds/ATAC/GM12878/GM12878_07.14.2022_bias_128_4_1234_0.4_fold_2_data_type_ATAC_PE/chrombpnet_model/bias_model_scaled.h5\",\n\u001b[0;32m----> 2\u001b[0;31m                                 compile=False,  custom_objects={'tf': tf})\n\u001b[0m\u001b[1;32m      3\u001b[0m other_cbp_w_bias_model = tf.keras.models.load_model(\"/oak/stanford/groups/akundaje/projects/chromatin-atlas-2022/chrombpnet/folds/ATAC/GM12878/GM12878_07.14.2022_bias_128_4_1234_0.4_fold_2_data_type_ATAC_PE/chrombpnet_model/chrombpnet.h5\",\n\u001b[1;32m      4\u001b[0m                                 compile=False,  custom_objects={'tf': tf})\n\u001b[1;32m      5\u001b[0m other_cbp_wo_bias_model = tf.keras.models.load_model(\"/oak/stanford/groups/akundaje/projects/chromatin-atlas-2022/chrombpnet/folds/ATAC/GM12878/GM12878_07.14.2022_bias_128_4_1234_0.4_fold_2_data_type_ATAC_PE/chrombpnet_model/chrombpnet_wo_bias.h5\",\n",
      "\u001b[0;32m~/anaconda3/lib/python3.7/site-packages/tensorflow/python/keras/saving/save.py\u001b[0m in \u001b[0;36mload_model\u001b[0;34m(filepath, custom_objects, compile, options)\u001b[0m\n\u001b[1;32m    209\u001b[0m       \u001b[0mfilepath\u001b[0m \u001b[0;34m=\u001b[0m \u001b[0mpath_to_string\u001b[0m\u001b[0;34m(\u001b[0m\u001b[0mfilepath\u001b[0m\u001b[0;34m)\u001b[0m\u001b[0;34m\u001b[0m\u001b[0;34m\u001b[0m\u001b[0m\n\u001b[1;32m    210\u001b[0m       \u001b[0;32mif\u001b[0m \u001b[0misinstance\u001b[0m\u001b[0;34m(\u001b[0m\u001b[0mfilepath\u001b[0m\u001b[0;34m,\u001b[0m \u001b[0msix\u001b[0m\u001b[0;34m.\u001b[0m\u001b[0mstring_types\u001b[0m\u001b[0;34m)\u001b[0m\u001b[0;34m:\u001b[0m\u001b[0;34m\u001b[0m\u001b[0;34m\u001b[0m\u001b[0m\n\u001b[0;32m--> 211\u001b[0;31m         \u001b[0mloader_impl\u001b[0m\u001b[0;34m.\u001b[0m\u001b[0mparse_saved_model\u001b[0m\u001b[0;34m(\u001b[0m\u001b[0mfilepath\u001b[0m\u001b[0;34m)\u001b[0m\u001b[0;34m\u001b[0m\u001b[0;34m\u001b[0m\u001b[0m\n\u001b[0m\u001b[1;32m    212\u001b[0m         \u001b[0;32mreturn\u001b[0m \u001b[0msaved_model_load\u001b[0m\u001b[0;34m.\u001b[0m\u001b[0mload\u001b[0m\u001b[0;34m(\u001b[0m\u001b[0mfilepath\u001b[0m\u001b[0;34m,\u001b[0m \u001b[0mcompile\u001b[0m\u001b[0;34m,\u001b[0m \u001b[0moptions\u001b[0m\u001b[0;34m)\u001b[0m\u001b[0;34m\u001b[0m\u001b[0;34m\u001b[0m\u001b[0m\n\u001b[1;32m    213\u001b[0m \u001b[0;34m\u001b[0m\u001b[0m\n",
      "\u001b[0;32m~/anaconda3/lib/python3.7/site-packages/tensorflow/python/saved_model/loader_impl.py\u001b[0m in \u001b[0;36mparse_saved_model\u001b[0;34m(export_dir)\u001b[0m\n\u001b[1;32m    112\u001b[0m                   (export_dir,\n\u001b[1;32m    113\u001b[0m                    \u001b[0mconstants\u001b[0m\u001b[0;34m.\u001b[0m\u001b[0mSAVED_MODEL_FILENAME_PBTXT\u001b[0m\u001b[0;34m,\u001b[0m\u001b[0;34m\u001b[0m\u001b[0;34m\u001b[0m\u001b[0m\n\u001b[0;32m--> 114\u001b[0;31m                    constants.SAVED_MODEL_FILENAME_PB))\n\u001b[0m\u001b[1;32m    115\u001b[0m \u001b[0;34m\u001b[0m\u001b[0m\n\u001b[1;32m    116\u001b[0m \u001b[0;34m\u001b[0m\u001b[0m\n",
      "\u001b[0;31mOSError\u001b[0m: SavedModel file does not exist at: /oak/stanford/groups/akundaje/projects/chromatin-atlas-2022/chrombpnet/folds/ATAC/GM12878/GM12878_07.14.2022_bias_128_4_1234_0.4_fold_2_data_type_ATAC_PE/chrombpnet_model/bias_model_scaled.h5/{saved_model.pbtxt|saved_model.pb}"
     ]
    }
   ],
   "source": [
    "other_bias_model = tf.keras.models.load_model(\"/oak/stanford/groups/akundaje/projects/chromatin-atlas-2022/chrombpnet/folds/ATAC/GM12878/GM12878_07.14.2022_bias_128_4_1234_0.4_fold_2_data_type_ATAC_PE/chrombpnet_model/bias_model_scaled.h5\",\n",
    "                                compile=False,  custom_objects={'tf': tf})\n",
    "other_cbp_w_bias_model = tf.keras.models.load_model(\"/oak/stanford/groups/akundaje/projects/chromatin-atlas-2022/chrombpnet/folds/ATAC/GM12878/GM12878_07.14.2022_bias_128_4_1234_0.4_fold_2_data_type_ATAC_PE/chrombpnet_model/chrombpnet.h5\",\n",
    "                                compile=False,  custom_objects={'tf': tf})\n",
    "other_cbp_wo_bias_model = tf.keras.models.load_model(\"/oak/stanford/groups/akundaje/projects/chromatin-atlas-2022/chrombpnet/folds/ATAC/GM12878/GM12878_07.14.2022_bias_128_4_1234_0.4_fold_2_data_type_ATAC_PE/chrombpnet_model/chrombpnet_wo_bias.h5\",\n",
    "                                compile=False,  custom_objects={'tf': tf})"
   ]
  },
  {
   "cell_type": "code",
   "execution_count": 39,
   "metadata": {},
   "outputs": [
    {
     "data": {
      "text/plain": [
       "((None, 2114, 4), [(None, 1000), (None, 1)])"
      ]
     },
     "execution_count": 39,
     "metadata": {},
     "output_type": "execute_result"
    }
   ],
   "source": [
    "gm_fold1_cbp_wo_bias_model.input_shape, gm_fold1_cbp_wo_bias_model.output_shape"
   ]
  },
  {
   "cell_type": "code",
   "execution_count": null,
   "metadata": {},
   "outputs": [],
   "source": []
  },
  {
   "cell_type": "code",
   "execution_count": 40,
   "metadata": {},
   "outputs": [
    {
     "data": {
      "text/plain": [
       "(2114, 1000)"
      ]
     },
     "execution_count": 40,
     "metadata": {},
     "output_type": "execute_result"
    }
   ],
   "source": [
    "INP_LEN = gm_fold1_cbp_wo_bias_model.input_shape[1]\n",
    "OUT_LEN = gm_fold1_cbp_wo_bias_model.output_shape[0][1]\n",
    "INP_LEN, OUT_LEN"
   ]
  },
  {
   "cell_type": "code",
   "execution_count": null,
   "metadata": {},
   "outputs": [],
   "source": []
  },
  {
   "cell_type": "code",
   "execution_count": 41,
   "metadata": {},
   "outputs": [],
   "source": [
    "hg38 = pyfaidx.Fasta(\"/users/surag/genomes/hg38/GRCh38_no_alt_analysis_set_GCA_000001405.15.fasta\")"
   ]
  },
  {
   "cell_type": "code",
   "execution_count": 42,
   "metadata": {},
   "outputs": [
    {
     "data": {
      "text/html": [
       "<div>\n",
       "<style scoped>\n",
       "    .dataframe tbody tr th:only-of-type {\n",
       "        vertical-align: middle;\n",
       "    }\n",
       "\n",
       "    .dataframe tbody tr th {\n",
       "        vertical-align: top;\n",
       "    }\n",
       "\n",
       "    .dataframe thead th {\n",
       "        text-align: right;\n",
       "    }\n",
       "</style>\n",
       "<table border=\"1\" class=\"dataframe\">\n",
       "  <thead>\n",
       "    <tr style=\"text-align: right;\">\n",
       "      <th></th>\n",
       "      <th>chr</th>\n",
       "      <th>start</th>\n",
       "      <th>end</th>\n",
       "      <th>x1</th>\n",
       "      <th>x2</th>\n",
       "      <th>x3</th>\n",
       "      <th>x4</th>\n",
       "      <th>x5</th>\n",
       "      <th>x6</th>\n",
       "      <th>summit</th>\n",
       "    </tr>\n",
       "  </thead>\n",
       "  <tbody>\n",
       "    <tr>\n",
       "      <th>0</th>\n",
       "      <td>chr1</td>\n",
       "      <td>9950</td>\n",
       "      <td>10279</td>\n",
       "      <td>Peak_220339</td>\n",
       "      <td>282</td>\n",
       "      <td>.</td>\n",
       "      <td>3.44359</td>\n",
       "      <td>28.22707</td>\n",
       "      <td>26.44250</td>\n",
       "      <td>102</td>\n",
       "    </tr>\n",
       "    <tr>\n",
       "      <th>1</th>\n",
       "      <td>chr1</td>\n",
       "      <td>778328</td>\n",
       "      <td>779291</td>\n",
       "      <td>Peak_10908</td>\n",
       "      <td>1000</td>\n",
       "      <td>.</td>\n",
       "      <td>20.10530</td>\n",
       "      <td>1455.80566</td>\n",
       "      <td>1452.52356</td>\n",
       "      <td>339</td>\n",
       "    </tr>\n",
       "    <tr>\n",
       "      <th>2</th>\n",
       "      <td>chr1</td>\n",
       "      <td>778328</td>\n",
       "      <td>779291</td>\n",
       "      <td>Peak_254156</td>\n",
       "      <td>196</td>\n",
       "      <td>.</td>\n",
       "      <td>2.16906</td>\n",
       "      <td>19.65923</td>\n",
       "      <td>17.94029</td>\n",
       "      <td>75</td>\n",
       "    </tr>\n",
       "    <tr>\n",
       "      <th>3</th>\n",
       "      <td>chr1</td>\n",
       "      <td>778328</td>\n",
       "      <td>779291</td>\n",
       "      <td>Peak_5531</td>\n",
       "      <td>1000</td>\n",
       "      <td>.</td>\n",
       "      <td>25.44734</td>\n",
       "      <td>2043.91614</td>\n",
       "      <td>2040.29407</td>\n",
       "      <td>484</td>\n",
       "    </tr>\n",
       "    <tr>\n",
       "      <th>4</th>\n",
       "      <td>chr1</td>\n",
       "      <td>778328</td>\n",
       "      <td>779291</td>\n",
       "      <td>Peak_80077</td>\n",
       "      <td>1000</td>\n",
       "      <td>.</td>\n",
       "      <td>6.36257</td>\n",
       "      <td>228.95192</td>\n",
       "      <td>226.65889</td>\n",
       "      <td>791</td>\n",
       "    </tr>\n",
       "  </tbody>\n",
       "</table>\n",
       "</div>"
      ],
      "text/plain": [
       "    chr   start     end           x1    x2 x3        x4          x5  \\\n",
       "0  chr1    9950   10279  Peak_220339   282  .   3.44359    28.22707   \n",
       "1  chr1  778328  779291   Peak_10908  1000  .  20.10530  1455.80566   \n",
       "2  chr1  778328  779291  Peak_254156   196  .   2.16906    19.65923   \n",
       "3  chr1  778328  779291    Peak_5531  1000  .  25.44734  2043.91614   \n",
       "4  chr1  778328  779291   Peak_80077  1000  .   6.36257   228.95192   \n",
       "\n",
       "           x6  summit  \n",
       "0    26.44250     102  \n",
       "1  1452.52356     339  \n",
       "2    17.94029      75  \n",
       "3  2040.29407     484  \n",
       "4   226.65889     791  "
      ]
     },
     "execution_count": 42,
     "metadata": {},
     "output_type": "execute_result"
    }
   ],
   "source": [
    "regions = pd.read_csv(\"/oak/stanford/groups/akundaje/projects/chromatin-atlas-2022/chrombpnet/ATAC/GM12878/GM12878.interpreted_regions.sorted.bed.gz\",\n",
    "                      sep='\\t',\n",
    "                     names=['chr','start','end','x1','x2','x3','x4','x5','x6', 'summit'])\n",
    "regions.head()"
   ]
  },
  {
   "cell_type": "code",
   "execution_count": 43,
   "metadata": {},
   "outputs": [],
   "source": [
    "sampled_regions = regions.sample(100)"
   ]
  },
  {
   "cell_type": "code",
   "execution_count": 44,
   "metadata": {},
   "outputs": [],
   "source": [
    "seqs = data_utils.get_seq(sampled_regions, hg38, INP_LEN)"
   ]
  },
  {
   "cell_type": "code",
   "execution_count": 45,
   "metadata": {},
   "outputs": [
    {
     "data": {
      "text/plain": [
       "(100, 2114, 4)"
      ]
     },
     "execution_count": 45,
     "metadata": {},
     "output_type": "execute_result"
    }
   ],
   "source": [
    "seqs.shape"
   ]
  },
  {
   "cell_type": "code",
   "execution_count": null,
   "metadata": {},
   "outputs": [],
   "source": []
  },
  {
   "cell_type": "code",
   "execution_count": 46,
   "metadata": {},
   "outputs": [],
   "source": [
    "gm_fold1_bias_pred_prof, gm_fold1_bias_pred_cts = gm_fold1_bias_model.predict(seqs)\n",
    "other_bias_pred_prof, other_bias_pred_cts = other_bias_model.predict(seqs)"
   ]
  },
  {
   "cell_type": "code",
   "execution_count": 47,
   "metadata": {},
   "outputs": [],
   "source": [
    "gm_fold1_cbp_wo_bias_pred_prof, gm_fold1_cbp_wo_bias_pred_cts = gm_fold1_cbp_wo_bias_model.predict(seqs)\n",
    "other_cbp_wo_bias_pred_prof, other_cbp_wo_bias_pred_cts = other_cbp_wo_bias_model.predict(seqs)"
   ]
  },
  {
   "cell_type": "code",
   "execution_count": 48,
   "metadata": {},
   "outputs": [],
   "source": [
    "gm_fold1_cbp_w_bias_pred_prof, gm_fold1_cbp_w_bias_pred_cts = gm_fold1_cbp_w_bias_model.predict(seqs)\n",
    "other_cbp_w_bias_pred_prof, other_cbp_w_bias_pred_cts = other_cbp_w_bias_model.predict(seqs)"
   ]
  },
  {
   "cell_type": "code",
   "execution_count": 49,
   "metadata": {},
   "outputs": [
    {
     "data": {
      "text/plain": [
       "<matplotlib.collections.PathCollection at 0x7fcf1c490f50>"
      ]
     },
     "execution_count": 49,
     "metadata": {},
     "output_type": "execute_result"
    },
    {
     "data": {
      "image/png": "[encoded data removed]",
      "text/plain": [
       "<Figure size 432x288 with 1 Axes>"
      ]
     },
     "metadata": {
      "needs_background": "light"
     },
     "output_type": "display_data"
    }
   ],
   "source": [
    "plt.scatter(gm_fold1_cbp_w_bias_pred_cts,\n",
    "            np.log(np.exp(gm_fold1_cbp_wo_bias_pred_cts)+np.exp(gm_fold1_bias_pred_cts)))"
   ]
  },
  {
   "cell_type": "code",
   "execution_count": 50,
   "metadata": {},
   "outputs": [
    {
     "data": {
      "text/plain": [
       "<matplotlib.collections.PathCollection at 0x7fd129e193d0>"
      ]
     },
     "execution_count": 50,
     "metadata": {},
     "output_type": "execute_result"
    },
    {
     "data": {
      "image/png": "[encoded data removed]",
      "text/plain": [
       "<Figure size 432x288 with 1 Axes>"
      ]
     },
     "metadata": {
      "needs_background": "light"
     },
     "output_type": "display_data"
    }
   ],
   "source": [
    "plt.scatter(other_cbp_w_bias_pred_cts,\n",
    "            np.log(np.exp(other_cbp_wo_bias_pred_cts)+np.exp(other_bias_pred_cts)))"
   ]
  },
  {
   "cell_type": "code",
   "execution_count": null,
   "metadata": {},
   "outputs": [],
   "source": []
  },
  {
   "cell_type": "code",
   "execution_count": null,
   "metadata": {},
   "outputs": [],
   "source": []
  }
 ],
 "metadata": {
  "kernelspec": {
   "display_name": "Python 3",
   "language": "python",
   "name": "python3"
  },
  "language_info": {
   "codemirror_mode": {
    "name": "ipython",
    "version": 3
   },
   "file_extension": ".py",
   "mimetype": "text/x-python",
   "name": "python",
   "nbconvert_exporter": "python",
   "pygments_lexer": "ipython3",
   "version": "3.7.6"
  }
 },
 "nbformat": 4,
 "nbformat_minor": 4
}
