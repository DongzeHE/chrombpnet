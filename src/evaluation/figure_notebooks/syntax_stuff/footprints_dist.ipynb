{
 "cells": [
  {
   "cell_type": "code",
   "execution_count": 1,
   "metadata": {},
   "outputs": [],
   "source": [
    "import pandas as pd"
   ]
  },
  {
   "cell_type": "code",
   "execution_count": 12,
   "metadata": {},
   "outputs": [],
   "source": [
    "footprints = pd.read_csv(\"output/k562_dnase_footprint_sig_100K.bed\", sep=\"\\t\", header=None)"
   ]
  },
  {
   "cell_type": "code",
   "execution_count": 13,
   "metadata": {},
   "outputs": [],
   "source": [
    "width = footprints[2] - footprints[1]"
   ]
  },
  {
   "cell_type": "code",
   "execution_count": 14,
   "metadata": {},
   "outputs": [],
   "source": [
    "import matplotlib.pyplot as plt"
   ]
  },
  {
   "cell_type": "code",
   "execution_count": 15,
   "metadata": {},
   "outputs": [
    {
     "data": {
      "text/plain": [
       "(array([0.2425432 , 0.34342946, 0.42189106, 0.5085036 , 0.56233524,\n",
       "        0.58339397, 0.61832909, 0.64656856, 0.67129107, 0.69266894,\n",
       "        0.70213635, 0.7189744 , 0.73478001, 0.75021383, 0.76498382,\n",
       "        0.77912989, 0.78588457, 0.79880353, 0.81096611, 0.82288455,\n",
       "        0.83429874, 0.83966675, 0.84959213, 0.85772552, 0.86420575,\n",
       "        0.86932163, 0.87355667, 0.87541569, 0.87891191, 0.88199644,\n",
       "        0.88471714, 0.88722402, 0.88847826, 0.89078088, 0.89298138,\n",
       "        0.89507497, 0.89699941, 0.89880895, 0.89969139, 0.90139083,\n",
       "        0.9030057 , 0.90459663, 0.90611576, 0.90682426, 0.90823807,\n",
       "        0.90967262, 0.91099547, 0.91221141, 0.91340023, 0.91398107,\n",
       "        0.9150885 , 0.91619593, 0.91734006, 0.91838526, 0.91890227,\n",
       "        0.9199714 , 0.92092086, 0.92182244, 0.92268892, 0.92365114,\n",
       "        0.92410592, 0.92496761, 0.9257527 , 0.92652184, 0.92731491,\n",
       "        0.92769629, 0.92849255, 0.92927127, 0.92999253, 0.93072976,\n",
       "        0.93149091, 0.93186112, 0.93258079, 0.93327014, 0.93394992,\n",
       "        0.93465523, 0.93499831, 0.93571   , 0.93641052, 0.93705519,\n",
       "        0.9377222 , 0.93832698, 0.93866528, 0.93933388, 0.94002483,\n",
       "        0.94071099, 0.94133811, 0.94164449, 0.9422732 , 0.94287319,\n",
       "        0.9434652 , 0.94408275, 0.94465242, 0.94500507, 0.94559709,\n",
       "        0.94619548, 0.9467843 , 0.94742259, 0.94772737, 0.94828907,\n",
       "        0.94893693, 0.94949224, 0.95013532, 0.95071935, 0.95095871,\n",
       "        0.9515603 , 0.95217784, 0.95281932, 0.95345601, 0.9537608 ,\n",
       "        0.95436717, 0.95503897, 0.95565492, 0.95628682, 0.95694107,\n",
       "        0.95727617, 0.95788414, 0.95859423, 0.95933624, 0.96008145,\n",
       "        0.9604341 , 0.96122079, 0.96191333, 0.96260268, 0.96335906,\n",
       "        0.96407873, 0.96446649, 0.96521967, 0.96596327, 0.96676432,\n",
       "        0.96751591, 0.96788612, 0.96866323, 0.96934301, 0.97008183,\n",
       "        0.97085256, 0.97165361, 0.97204297, 0.97280094, 0.97350625,\n",
       "        0.97424826, 0.97497112, 0.9753493 , 0.97603706, 0.97673758,\n",
       "        0.97741736, 0.97805724, 0.97863011, 0.9789317 , 0.97953169,\n",
       "        0.9800854 , 0.98062157, 0.98117049, 0.98140347, 0.98190293,\n",
       "        0.9823992 , 0.98283962, 0.98329599, 0.98371567, 0.98393428,\n",
       "        0.98431885, 0.98476406, 0.9851215 , 0.98551085, 0.98567202,\n",
       "        0.9860151 , 0.98632946, 0.98665818, 0.98699168, 0.98733317,\n",
       "        0.98747838, 0.98779274, 0.98809273, 0.98839273, 0.98870868,\n",
       "        0.98881719, 0.98909963, 0.98937569, 0.9896342 , 0.98988632,\n",
       "        0.99014642, 0.99027089, 0.99051982, 0.99077833, 0.99107354,\n",
       "        0.99137194, 0.99152832, 0.99179161, 0.99206927, 0.99232777,\n",
       "        0.99262617, 0.99289266, 0.99302351, 0.9932884 , 0.9935852 ,\n",
       "        0.9938102 , 0.9940336 , 0.99415328, 0.99437668, 0.99463199,\n",
       "        0.99488891, 0.99509635, 0.9953006 , 0.99542826, 0.99564049,\n",
       "        0.99583357, 0.99599474, 0.99619101, 0.99628835, 0.99642399,\n",
       "        0.99658994, 0.9967176 , 0.99685324, 0.99700483, 0.99707185,\n",
       "        0.99717398, 0.9972777 , 0.99736227, 0.99746121, 0.99748993,\n",
       "        0.99759046, 0.99767184, 0.99774684, 0.99781546, 0.99788407,\n",
       "        0.99792556, 0.99800216, 0.99807237, 0.99815056, 0.99822715,\n",
       "        0.99825109, 0.99831173, 0.99838034, 0.99845055, 0.99849204,\n",
       "        0.99854949, 0.99856864, 0.99861172, 0.99865321, 0.99869789,\n",
       "        0.99874576, 0.99877449, 0.99882874, 0.99886863, 0.99891491,\n",
       "        0.99896438, 0.99899948, 0.99901384, 0.99904416, 0.99907608,\n",
       "        0.99910799, 0.99914948, 0.99917661, 0.99920374, 0.99922767,\n",
       "        0.99924203, 0.99925959, 0.99928512, 0.99930107, 0.99932661,\n",
       "        0.99935533, 0.99937129, 0.99939522, 0.99941277, 0.9994415 ,\n",
       "        0.99946224, 0.99948299, 0.99950214, 0.99951969, 0.99953245,\n",
       "        0.99954841, 0.99956118, 0.99957235, 0.9995899 , 0.99959628,\n",
       "        0.99960745, 0.99961703, 0.99962501, 0.99963139, 0.99963618,\n",
       "        0.99963937, 0.99964415, 0.99965532, 0.99966011, 0.99968086,\n",
       "        0.99968086, 0.99968564, 0.99969203, 0.99969681, 0.9997    ,\n",
       "        0.9997016 , 0.99970639, 0.99971117, 0.99971437, 0.99971596,\n",
       "        0.99972554, 0.99972713, 0.99973032, 0.99973192, 0.9997383 ,\n",
       "        0.99974788, 0.99974947, 0.99975107, 0.99975426, 0.99975745,\n",
       "        0.99976064, 0.99976543, 0.99976543, 0.99977181, 0.9997766 ,\n",
       "        0.99978139, 0.99978458, 0.99978777, 0.99978777, 0.99979096,\n",
       "        0.99979575, 0.99980213, 0.99980213, 0.99980213, 0.99980373,\n",
       "        0.99980851, 0.99980851, 0.99980851, 0.9998117 , 0.99981649,\n",
       "        0.99981968, 0.99982287, 0.99982607, 0.99983564, 0.99983724,\n",
       "        0.99984362, 0.99985319, 0.99985639, 0.99986117, 0.99986436,\n",
       "        0.99986436, 0.99986756, 0.99987713, 0.99989149, 0.99989787,\n",
       "        0.99990107, 0.99990426, 0.99990585, 0.99990904, 0.99991064,\n",
       "        0.99991543, 0.99991702, 0.99992181, 0.99992341, 0.99992979,\n",
       "        0.99993138, 0.99993458, 0.99993777, 0.99994255, 0.99994575,\n",
       "        0.99994894, 0.99995213, 0.99995532, 0.99995851, 0.99996011,\n",
       "        0.9999633 , 0.9999633 , 0.99996649, 0.99996968, 0.99997128,\n",
       "        0.99997447, 0.99997606, 0.99997926, 0.99997926, 0.99998245,\n",
       "        0.99998245, 0.99998564, 0.99998723, 0.99998723, 0.99998723,\n",
       "        0.99998723, 0.99998723, 0.99998723, 0.99998723, 0.99998723,\n",
       "        0.99998723, 0.99998883, 0.99998883, 0.99999043, 0.99999043,\n",
       "        0.99999043, 0.99999043, 0.99999043, 0.99999043, 0.99999043,\n",
       "        0.99999043, 0.99999202, 0.99999202, 0.99999202, 0.99999202,\n",
       "        0.99999202, 0.99999362, 0.99999362, 0.99999362, 0.99999362,\n",
       "        0.99999362, 0.99999362, 0.99999362, 0.99999362, 0.99999362,\n",
       "        0.99999362, 0.99999362, 0.99999362, 0.99999362, 0.99999362,\n",
       "        0.99999362, 0.99999362, 0.99999362, 0.99999362, 0.99999362,\n",
       "        0.99999362, 0.99999362, 0.99999362, 0.99999362, 0.99999362,\n",
       "        0.99999521, 0.99999521, 0.99999521, 0.99999521, 0.99999521,\n",
       "        0.99999521, 0.99999521, 0.99999521, 0.99999521, 0.99999521,\n",
       "        0.99999521, 0.99999521, 0.99999521, 0.99999521, 0.99999521,\n",
       "        0.99999521, 0.99999521, 0.99999521, 0.99999521, 0.99999521,\n",
       "        0.99999521, 0.99999521, 0.99999521, 0.99999521, 0.99999521,\n",
       "        0.99999521, 0.99999521, 0.99999521, 0.99999521, 0.99999681,\n",
       "        0.99999681, 0.99999681, 0.99999681, 0.99999681, 0.99999681,\n",
       "        0.99999681, 0.99999681, 0.99999681, 0.99999681, 0.99999681,\n",
       "        0.99999681, 0.99999681, 0.9999984 , 0.9999984 , 0.9999984 ,\n",
       "        0.9999984 , 0.9999984 , 0.9999984 , 0.9999984 , 0.9999984 ,\n",
       "        0.9999984 , 0.9999984 , 0.9999984 , 0.9999984 , 0.9999984 ,\n",
       "        0.9999984 , 0.9999984 , 0.9999984 , 0.9999984 , 0.9999984 ,\n",
       "        0.9999984 , 0.9999984 , 0.9999984 , 0.9999984 , 0.9999984 ,\n",
       "        0.9999984 , 0.9999984 , 0.9999984 , 0.9999984 , 0.9999984 ,\n",
       "        0.9999984 , 0.9999984 , 0.9999984 , 0.9999984 , 0.9999984 ,\n",
       "        0.9999984 , 0.9999984 , 0.9999984 , 0.9999984 , 1.        ]),\n",
       " array([  1.   ,   2.818,   4.636,   6.454,   8.272,  10.09 ,  11.908,\n",
       "         13.726,  15.544,  17.362,  19.18 ,  20.998,  22.816,  24.634,\n",
       "         26.452,  28.27 ,  30.088,  31.906,  33.724,  35.542,  37.36 ,\n",
       "         39.178,  40.996,  42.814,  44.632,  46.45 ,  48.268,  50.086,\n",
       "         51.904,  53.722,  55.54 ,  57.358,  59.176,  60.994,  62.812,\n",
       "         64.63 ,  66.448,  68.266,  70.084,  71.902,  73.72 ,  75.538,\n",
       "         77.356,  79.174,  80.992,  82.81 ,  84.628,  86.446,  88.264,\n",
       "         90.082,  91.9  ,  93.718,  95.536,  97.354,  99.172, 100.99 ,\n",
       "        102.808, 104.626, 106.444, 108.262, 110.08 , 111.898, 113.716,\n",
       "        115.534, 117.352, 119.17 , 120.988, 122.806, 124.624, 126.442,\n",
       "        128.26 , 130.078, 131.896, 133.714, 135.532, 137.35 , 139.168,\n",
       "        140.986, 142.804, 144.622, 146.44 , 148.258, 150.076, 151.894,\n",
       "        153.712, 155.53 , 157.348, 159.166, 160.984, 162.802, 164.62 ,\n",
       "        166.438, 168.256, 170.074, 171.892, 173.71 , 175.528, 177.346,\n",
       "        179.164, 180.982, 182.8  , 184.618, 186.436, 188.254, 190.072,\n",
       "        191.89 , 193.708, 195.526, 197.344, 199.162, 200.98 , 202.798,\n",
       "        204.616, 206.434, 208.252, 210.07 , 211.888, 213.706, 215.524,\n",
       "        217.342, 219.16 , 220.978, 222.796, 224.614, 226.432, 228.25 ,\n",
       "        230.068, 231.886, 233.704, 235.522, 237.34 , 239.158, 240.976,\n",
       "        242.794, 244.612, 246.43 , 248.248, 250.066, 251.884, 253.702,\n",
       "        255.52 , 257.338, 259.156, 260.974, 262.792, 264.61 , 266.428,\n",
       "        268.246, 270.064, 271.882, 273.7  , 275.518, 277.336, 279.154,\n",
       "        280.972, 282.79 , 284.608, 286.426, 288.244, 290.062, 291.88 ,\n",
       "        293.698, 295.516, 297.334, 299.152, 300.97 , 302.788, 304.606,\n",
       "        306.424, 308.242, 310.06 , 311.878, 313.696, 315.514, 317.332,\n",
       "        319.15 , 320.968, 322.786, 324.604, 326.422, 328.24 , 330.058,\n",
       "        331.876, 333.694, 335.512, 337.33 , 339.148, 340.966, 342.784,\n",
       "        344.602, 346.42 , 348.238, 350.056, 351.874, 353.692, 355.51 ,\n",
       "        357.328, 359.146, 360.964, 362.782, 364.6  , 366.418, 368.236,\n",
       "        370.054, 371.872, 373.69 , 375.508, 377.326, 379.144, 380.962,\n",
       "        382.78 , 384.598, 386.416, 388.234, 390.052, 391.87 , 393.688,\n",
       "        395.506, 397.324, 399.142, 400.96 , 402.778, 404.596, 406.414,\n",
       "        408.232, 410.05 , 411.868, 413.686, 415.504, 417.322, 419.14 ,\n",
       "        420.958, 422.776, 424.594, 426.412, 428.23 , 430.048, 431.866,\n",
       "        433.684, 435.502, 437.32 , 439.138, 440.956, 442.774, 444.592,\n",
       "        446.41 , 448.228, 450.046, 451.864, 453.682, 455.5  , 457.318,\n",
       "        459.136, 460.954, 462.772, 464.59 , 466.408, 468.226, 470.044,\n",
       "        471.862, 473.68 , 475.498, 477.316, 479.134, 480.952, 482.77 ,\n",
       "        484.588, 486.406, 488.224, 490.042, 491.86 , 493.678, 495.496,\n",
       "        497.314, 499.132, 500.95 , 502.768, 504.586, 506.404, 508.222,\n",
       "        510.04 , 511.858, 513.676, 515.494, 517.312, 519.13 , 520.948,\n",
       "        522.766, 524.584, 526.402, 528.22 , 530.038, 531.856, 533.674,\n",
       "        535.492, 537.31 , 539.128, 540.946, 542.764, 544.582, 546.4  ,\n",
       "        548.218, 550.036, 551.854, 553.672, 555.49 , 557.308, 559.126,\n",
       "        560.944, 562.762, 564.58 , 566.398, 568.216, 570.034, 571.852,\n",
       "        573.67 , 575.488, 577.306, 579.124, 580.942, 582.76 , 584.578,\n",
       "        586.396, 588.214, 590.032, 591.85 , 593.668, 595.486, 597.304,\n",
       "        599.122, 600.94 , 602.758, 604.576, 606.394, 608.212, 610.03 ,\n",
       "        611.848, 613.666, 615.484, 617.302, 619.12 , 620.938, 622.756,\n",
       "        624.574, 626.392, 628.21 , 630.028, 631.846, 633.664, 635.482,\n",
       "        637.3  , 639.118, 640.936, 642.754, 644.572, 646.39 , 648.208,\n",
       "        650.026, 651.844, 653.662, 655.48 , 657.298, 659.116, 660.934,\n",
       "        662.752, 664.57 , 666.388, 668.206, 670.024, 671.842, 673.66 ,\n",
       "        675.478, 677.296, 679.114, 680.932, 682.75 , 684.568, 686.386,\n",
       "        688.204, 690.022, 691.84 , 693.658, 695.476, 697.294, 699.112,\n",
       "        700.93 , 702.748, 704.566, 706.384, 708.202, 710.02 , 711.838,\n",
       "        713.656, 715.474, 717.292, 719.11 , 720.928, 722.746, 724.564,\n",
       "        726.382, 728.2  , 730.018, 731.836, 733.654, 735.472, 737.29 ,\n",
       "        739.108, 740.926, 742.744, 744.562, 746.38 , 748.198, 750.016,\n",
       "        751.834, 753.652, 755.47 , 757.288, 759.106, 760.924, 762.742,\n",
       "        764.56 , 766.378, 768.196, 770.014, 771.832, 773.65 , 775.468,\n",
       "        777.286, 779.104, 780.922, 782.74 , 784.558, 786.376, 788.194,\n",
       "        790.012, 791.83 , 793.648, 795.466, 797.284, 799.102, 800.92 ,\n",
       "        802.738, 804.556, 806.374, 808.192, 810.01 , 811.828, 813.646,\n",
       "        815.464, 817.282, 819.1  , 820.918, 822.736, 824.554, 826.372,\n",
       "        828.19 , 830.008, 831.826, 833.644, 835.462, 837.28 , 839.098,\n",
       "        840.916, 842.734, 844.552, 846.37 , 848.188, 850.006, 851.824,\n",
       "        853.642, 855.46 , 857.278, 859.096, 860.914, 862.732, 864.55 ,\n",
       "        866.368, 868.186, 870.004, 871.822, 873.64 , 875.458, 877.276,\n",
       "        879.094, 880.912, 882.73 , 884.548, 886.366, 888.184, 890.002,\n",
       "        891.82 , 893.638, 895.456, 897.274, 899.092, 900.91 , 902.728,\n",
       "        904.546, 906.364, 908.182, 910.   ]),\n",
       " [<matplotlib.patches.Polygon at 0x7f4ecc2ba2d0>])"
      ]
     },
     "execution_count": 15,
     "metadata": {},
     "output_type": "execute_result"
    },
    {
     "data": {
      "image/png": "[encoded data removed]",
      "text/plain": [
       "<Figure size 432x288 with 1 Axes>"
      ]
     },
     "metadata": {
      "needs_background": "light"
     },
     "output_type": "display_data"
    }
   ],
   "source": [
    "plt.hist(width, bins=500, histtype='step', density=True,\n",
    "                           cumulative=True,)\n",
    "\n"
   ]
  },
  {
   "cell_type": "code",
   "execution_count": 16,
   "metadata": {},
   "outputs": [
    {
     "data": {
      "text/plain": [
       "31.279539985574683"
      ]
     },
     "execution_count": 16,
     "metadata": {},
     "output_type": "execute_result"
    }
   ],
   "source": [
    "import numpy as np\n",
    "np.mean(width)"
   ]
  },
  {
   "cell_type": "code",
   "execution_count": 17,
   "metadata": {},
   "outputs": [
    {
     "data": {
      "text/plain": [
       "1.0"
      ]
     },
     "execution_count": 17,
     "metadata": {},
     "output_type": "execute_result"
    }
   ],
   "source": [
    "np.quantile(width,0.05)"
   ]
  },
  {
   "cell_type": "code",
   "execution_count": 18,
   "metadata": {},
   "outputs": [
    {
     "data": {
      "text/plain": [
       "188.0"
      ]
     },
     "execution_count": 18,
     "metadata": {},
     "output_type": "execute_result"
    }
   ],
   "source": [
    "np.quantile(width,0.95)"
   ]
  },
  {
   "cell_type": "code",
   "execution_count": 19,
   "metadata": {},
   "outputs": [
    {
     "data": {
      "text/plain": [
       "8.0"
      ]
     },
     "execution_count": 19,
     "metadata": {},
     "output_type": "execute_result"
    }
   ],
   "source": [
    "np.median(width)"
   ]
  },
  {
   "cell_type": "code",
   "execution_count": 20,
   "metadata": {},
   "outputs": [
    {
     "data": {
      "text/html": [
       "<div>\n",
       "<style scoped>\n",
       "    .dataframe tbody tr th:only-of-type {\n",
       "        vertical-align: middle;\n",
       "    }\n",
       "\n",
       "    .dataframe tbody tr th {\n",
       "        vertical-align: top;\n",
       "    }\n",
       "\n",
       "    .dataframe thead th {\n",
       "        text-align: right;\n",
       "    }\n",
       "</style>\n",
       "<table border=\"1\" class=\"dataframe\">\n",
       "  <thead>\n",
       "    <tr style=\"text-align: right;\">\n",
       "      <th></th>\n",
       "      <th>0</th>\n",
       "      <th>1</th>\n",
       "      <th>2</th>\n",
       "    </tr>\n",
       "  </thead>\n",
       "  <tbody>\n",
       "    <tr>\n",
       "      <th>12</th>\n",
       "      <td>chr1</td>\n",
       "      <td>779127</td>\n",
       "      <td>779129</td>\n",
       "    </tr>\n",
       "    <tr>\n",
       "      <th>38</th>\n",
       "      <td>chr1</td>\n",
       "      <td>842640</td>\n",
       "      <td>842642</td>\n",
       "    </tr>\n",
       "    <tr>\n",
       "      <th>60</th>\n",
       "      <td>chr1</td>\n",
       "      <td>898971</td>\n",
       "      <td>898973</td>\n",
       "    </tr>\n",
       "    <tr>\n",
       "      <th>73</th>\n",
       "      <td>chr1</td>\n",
       "      <td>911323</td>\n",
       "      <td>911325</td>\n",
       "    </tr>\n",
       "    <tr>\n",
       "      <th>116</th>\n",
       "      <td>chr1</td>\n",
       "      <td>942044</td>\n",
       "      <td>942046</td>\n",
       "    </tr>\n",
       "    <tr>\n",
       "      <th>...</th>\n",
       "      <td>...</td>\n",
       "      <td>...</td>\n",
       "      <td>...</td>\n",
       "    </tr>\n",
       "    <tr>\n",
       "      <th>626637</th>\n",
       "      <td>chrX</td>\n",
       "      <td>156002739</td>\n",
       "      <td>156002741</td>\n",
       "    </tr>\n",
       "    <tr>\n",
       "      <th>626657</th>\n",
       "      <td>chrX</td>\n",
       "      <td>156017241</td>\n",
       "      <td>156017243</td>\n",
       "    </tr>\n",
       "    <tr>\n",
       "      <th>626658</th>\n",
       "      <td>chrX</td>\n",
       "      <td>156017279</td>\n",
       "      <td>156017281</td>\n",
       "    </tr>\n",
       "    <tr>\n",
       "      <th>626659</th>\n",
       "      <td>chrX</td>\n",
       "      <td>156017289</td>\n",
       "      <td>156017291</td>\n",
       "    </tr>\n",
       "    <tr>\n",
       "      <th>626668</th>\n",
       "      <td>chrY</td>\n",
       "      <td>4030864</td>\n",
       "      <td>4030866</td>\n",
       "    </tr>\n",
       "  </tbody>\n",
       "</table>\n",
       "<p>48843 rows × 3 columns</p>\n",
       "</div>"
      ],
      "text/plain": [
       "           0          1          2\n",
       "12      chr1     779127     779129\n",
       "38      chr1     842640     842642\n",
       "60      chr1     898971     898973\n",
       "73      chr1     911323     911325\n",
       "116     chr1     942044     942046\n",
       "...      ...        ...        ...\n",
       "626637  chrX  156002739  156002741\n",
       "626657  chrX  156017241  156017243\n",
       "626658  chrX  156017279  156017281\n",
       "626659  chrX  156017289  156017291\n",
       "626668  chrY    4030864    4030866\n",
       "\n",
       "[48843 rows x 3 columns]"
      ]
     },
     "execution_count": 20,
     "metadata": {},
     "output_type": "execute_result"
    }
   ],
   "source": [
    "footprints[width ==2]"
   ]
  },
  {
   "cell_type": "code",
   "execution_count": 11,
   "metadata": {},
   "outputs": [
    {
     "data": {
      "text/plain": [
       "(617513, 3)"
      ]
     },
     "execution_count": 11,
     "metadata": {},
     "output_type": "execute_result"
    }
   ],
   "source": [
    "footprints.shape"
   ]
  },
  {
   "cell_type": "code",
   "execution_count": null,
   "metadata": {},
   "outputs": [],
   "source": []
  }
 ],
 "metadata": {
  "kernelspec": {
   "display_name": "Python 3",
   "language": "python",
   "name": "python3"
  },
  "language_info": {
   "codemirror_mode": {
    "name": "ipython",
    "version": 3
   },
   "file_extension": ".py",
   "mimetype": "text/x-python",
   "name": "python",
   "nbconvert_exporter": "python",
   "pygments_lexer": "ipython3",
   "version": "3.7.6"
  }
 },
 "nbformat": 4,
 "nbformat_minor": 4
}
