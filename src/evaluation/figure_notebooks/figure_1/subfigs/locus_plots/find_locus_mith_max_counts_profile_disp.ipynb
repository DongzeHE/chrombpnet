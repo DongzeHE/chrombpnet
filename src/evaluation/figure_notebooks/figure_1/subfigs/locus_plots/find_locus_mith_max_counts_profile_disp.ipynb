{
 "cells": [
  {
   "cell_type": "code",
   "execution_count": 1,
   "metadata": {},
   "outputs": [],
   "source": [
    "import pandas as pd"
   ]
  },
  {
   "cell_type": "code",
   "execution_count": 44,
   "metadata": {},
   "outputs": [],
   "source": [
    "NARROWPEAK_SCHEMA = [\"chr\", \"start\", \"end\", \"1\", \"2\", \"3\", \"4\", \"5\", \"6\", \"summit\"]\n",
    "\n",
    "peaks = pd.read_csv(\"/mnt/lab_data2/anusri/chrombpnet/k562_max_intersect_atac_dnase.bed\", sep=\"\\t\", names=NARROWPEAK_SCHEMA)"
   ]
  },
  {
   "cell_type": "code",
   "execution_count": 45,
   "metadata": {},
   "outputs": [
    {
     "data": {
      "text/html": [
       "<div>\n",
       "<style scoped>\n",
       "    .dataframe tbody tr th:only-of-type {\n",
       "        vertical-align: middle;\n",
       "    }\n",
       "\n",
       "    .dataframe tbody tr th {\n",
       "        vertical-align: top;\n",
       "    }\n",
       "\n",
       "    .dataframe thead th {\n",
       "        text-align: right;\n",
       "    }\n",
       "</style>\n",
       "<table border=\"1\" class=\"dataframe\">\n",
       "  <thead>\n",
       "    <tr style=\"text-align: right;\">\n",
       "      <th></th>\n",
       "      <th>chr</th>\n",
       "      <th>start</th>\n",
       "      <th>end</th>\n",
       "      <th>1</th>\n",
       "      <th>2</th>\n",
       "      <th>3</th>\n",
       "      <th>4</th>\n",
       "      <th>5</th>\n",
       "      <th>6</th>\n",
       "      <th>summit</th>\n",
       "    </tr>\n",
       "  </thead>\n",
       "  <tbody>\n",
       "    <tr>\n",
       "      <th>0</th>\n",
       "      <td>chr1</td>\n",
       "      <td>267975</td>\n",
       "      <td>268142</td>\n",
       "      <td>Peak_206400</td>\n",
       "      <td>259</td>\n",
       "      <td>.</td>\n",
       "      <td>3.37837</td>\n",
       "      <td>25.95865</td>\n",
       "      <td>24.08834</td>\n",
       "      <td>81</td>\n",
       "    </tr>\n",
       "    <tr>\n",
       "      <th>1</th>\n",
       "      <td>chr1</td>\n",
       "      <td>778339</td>\n",
       "      <td>779268</td>\n",
       "      <td>Peak_104815</td>\n",
       "      <td>901</td>\n",
       "      <td>.</td>\n",
       "      <td>3.81137</td>\n",
       "      <td>90.10805</td>\n",
       "      <td>87.93501</td>\n",
       "      <td>775</td>\n",
       "    </tr>\n",
       "    <tr>\n",
       "      <th>2</th>\n",
       "      <td>chr1</td>\n",
       "      <td>778339</td>\n",
       "      <td>779268</td>\n",
       "      <td>Peak_1380</td>\n",
       "      <td>1000</td>\n",
       "      <td>.</td>\n",
       "      <td>30.05122</td>\n",
       "      <td>2807.95850</td>\n",
       "      <td>2803.66772</td>\n",
       "      <td>469</td>\n",
       "    </tr>\n",
       "    <tr>\n",
       "      <th>3</th>\n",
       "      <td>chr1</td>\n",
       "      <td>869601</td>\n",
       "      <td>870290</td>\n",
       "      <td>Peak_113087</td>\n",
       "      <td>786</td>\n",
       "      <td>.</td>\n",
       "      <td>5.86433</td>\n",
       "      <td>78.67642</td>\n",
       "      <td>76.53883</td>\n",
       "      <td>569</td>\n",
       "    </tr>\n",
       "    <tr>\n",
       "      <th>4</th>\n",
       "      <td>chr1</td>\n",
       "      <td>869601</td>\n",
       "      <td>870290</td>\n",
       "      <td>Peak_25869</td>\n",
       "      <td>1000</td>\n",
       "      <td>.</td>\n",
       "      <td>20.60247</td>\n",
       "      <td>604.90887</td>\n",
       "      <td>602.05859</td>\n",
       "      <td>318</td>\n",
       "    </tr>\n",
       "  </tbody>\n",
       "</table>\n",
       "</div>"
      ],
      "text/plain": [
       "    chr   start     end            1     2  3         4           5  \\\n",
       "0  chr1  267975  268142  Peak_206400   259  .   3.37837    25.95865   \n",
       "1  chr1  778339  779268  Peak_104815   901  .   3.81137    90.10805   \n",
       "2  chr1  778339  779268    Peak_1380  1000  .  30.05122  2807.95850   \n",
       "3  chr1  869601  870290  Peak_113087   786  .   5.86433    78.67642   \n",
       "4  chr1  869601  870290   Peak_25869  1000  .  20.60247   604.90887   \n",
       "\n",
       "            6  summit  \n",
       "0    24.08834      81  \n",
       "1    87.93501     775  \n",
       "2  2803.66772     469  \n",
       "3    76.53883     569  \n",
       "4   602.05859     318  "
      ]
     },
     "execution_count": 45,
     "metadata": {},
     "output_type": "execute_result"
    }
   ],
   "source": [
    "#peaks=peaks.sample(10000).reset_index()\n",
    "peaks.head()"
   ]
  },
  {
   "cell_type": "code",
   "execution_count": 46,
   "metadata": {},
   "outputs": [],
   "source": [
    "def get_cts(peaks_df, bw, width):\n",
    "    \"\"\"\n",
    "    Fetches values from a bigwig bw, given a df with minimally\n",
    "    chr, start and summit columns. Summit is relative to start.\n",
    "    Retrieves values of specified width centered at summit.\n",
    "    \"cts\" = per base counts across a region\n",
    "    \"\"\"\n",
    "    vals = []\n",
    "    for i, r in peaks_df.iterrows():\n",
    "        vals.append(np.nan_to_num(bw.values(r['chr'], \n",
    "                                            r['start'] + r['summit'] - width//2,\n",
    "                                            r['start'] + r['summit'] + width//2)))\n",
    "        \n",
    "    return np.array(vals)"
   ]
  },
  {
   "cell_type": "code",
   "execution_count": 47,
   "metadata": {},
   "outputs": [],
   "source": [
    "import pyBigWig as pw\n",
    "import numpy as np\n",
    "from scipy.spatial.distance import jensenshannon\n"
   ]
  },
  {
   "cell_type": "code",
   "execution_count": 48,
   "metadata": {},
   "outputs": [],
   "source": [
    "dnase_counts=pw.open(\"/mnt/lab_data3/anusri/chrombpnet/results/chrombpnet/DNASE_PE/K562/uncorrected_model_08.22.2022_filters_512_dil_8/merged.K562.counts.bw\")\n",
    "dnase_profile=pw.open(\"/mnt/lab_data3/anusri/chrombpnet/results/chrombpnet/DNASE_PE/K562/uncorrected_model_08.22.2022_filters_512_dil_8/merged.K562.profile.bw\")\n"
   ]
  },
  {
   "cell_type": "code",
   "execution_count": 49,
   "metadata": {},
   "outputs": [],
   "source": [
    "def jsd_pred(profile1_preds, profile2_preds, peaks_df_1):\n",
    "    assert(profile1_preds.shape==profile2_preds.shape)\n",
    "    jsd_vals=[]\n",
    "    regions = []\n",
    "    for key in range(profile1_preds.shape[0]):\n",
    "        jsd_val = jensenshannon(np.abs(profile1_preds[key]), np.abs(profile2_preds[key]))\n",
    "        if np.isnan(jsd_val):\n",
    "            #print(np.sum(profile1_preds[key]),np.sum(profile2_preds[key]))\n",
    "            pass\n",
    "        else:\n",
    "            jsd_vals.append(jsd_val)\n",
    "            regions.append(peaks_df_1.loc[key,\"chr\"]+\":\"+str(peaks_df_1.loc[key,\"start\"]+peaks_df_1.loc[key,\"summit\"]-500)+\":\"+str(peaks_df_1.loc[key,\"start\"]+peaks_df_1.loc[key,\"summit\"]+500))\n",
    "    \n",
    "    return [np.mean(jsd_vals), np.std(jsd_vals)], jsd_vals, regions\n"
   ]
  },
  {
   "cell_type": "code",
   "execution_count": 50,
   "metadata": {},
   "outputs": [],
   "source": [
    "dnase_counts_d = get_cts(peaks, dnase_counts, 1000)\n",
    "dnase_profile_d = get_cts(peaks, dnase_profile, 1000)"
   ]
  },
  {
   "cell_type": "code",
   "execution_count": 51,
   "metadata": {},
   "outputs": [],
   "source": [
    "vals = jsd_pred(dnase_counts_d, dnase_profile_d, peaks)"
   ]
  },
  {
   "cell_type": "code",
   "execution_count": 52,
   "metadata": {},
   "outputs": [
    {
     "data": {
      "text/plain": [
       "array([0.52968094, 0.52270888, 0.52192487, 0.52192487, 0.51228953,\n",
       "       0.51228953, 0.50581285, 0.49744543, 0.48999625, 0.48999625,\n",
       "       0.4892894 , 0.4892894 , 0.4892894 , 0.48917244, 0.48772878,\n",
       "       0.48724715, 0.48724715, 0.48527424, 0.48527424, 0.48441455,\n",
       "       0.48383587, 0.48379064, 0.48379064, 0.48379064, 0.48375649,\n",
       "       0.48360029, 0.483547  , 0.48349962, 0.48308974, 0.48308974,\n",
       "       0.48263751, 0.48263751, 0.48259346, 0.48249843, 0.48244741,\n",
       "       0.48198507, 0.48198507, 0.48197649, 0.48155807, 0.48125649,\n",
       "       0.48125649, 0.48044891, 0.47942668, 0.47942668, 0.47928011,\n",
       "       0.47928011, 0.47796733, 0.47794206, 0.47794206, 0.47730766,\n",
       "       0.47724351, 0.47710453, 0.47710453, 0.47595891, 0.47595891,\n",
       "       0.47567261, 0.47567261, 0.47532701, 0.47526164, 0.47526164,\n",
       "       0.47385647, 0.47370527, 0.47368668, 0.47355992, 0.47353517,\n",
       "       0.47343796, 0.4731959 , 0.47317302, 0.47203343, 0.47188936,\n",
       "       0.47172814, 0.47167922, 0.47135389, 0.47113535, 0.471065  ,\n",
       "       0.4710502 , 0.47048764, 0.47041682, 0.47041682, 0.46969509,\n",
       "       0.46968516, 0.46822911, 0.46820841, 0.46716768, 0.46701793,\n",
       "       0.46701793, 0.46640875, 0.46636233, 0.46636233, 0.46632163,\n",
       "       0.46613784, 0.46604431, 0.46604431, 0.46582386, 0.46576805,\n",
       "       0.4656684 , 0.46562068, 0.46552898, 0.4652243 , 0.46517626])"
      ]
     },
     "execution_count": 52,
     "metadata": {},
     "output_type": "execute_result"
    }
   ],
   "source": [
    "np.array(vals[1])[np.argsort(vals[1], )][::-1][0:100]"
   ]
  },
  {
   "cell_type": "code",
   "execution_count": 53,
   "metadata": {},
   "outputs": [
    {
     "data": {
      "text/plain": [
       "array(['chr15:50261005:50262005', 'chr14:91138750:91139750',\n",
       "       'chr15:76972340:76973340', 'chr15:76972340:76973340',\n",
       "       'chr5:170278224:170279224', 'chr5:170278224:170279224',\n",
       "       'chr19:4246203:4247203', 'chr3:170717723:170718723',\n",
       "       'chr19:8831580:8832580', 'chr19:8831580:8832580',\n",
       "       'chr20:31573271:31574271', 'chr20:31573271:31574271',\n",
       "       'chr20:31573271:31574271', 'chrX:49878107:49879107',\n",
       "       'chr2:197453455:197454455', 'chr19:8831398:8832398',\n",
       "       'chr19:8831398:8832398', 'chr21:22209182:22210182',\n",
       "       'chr21:22209182:22210182', 'chr13:52651567:52652567',\n",
       "       'chr3:48996951:48997951', 'chr20:13785140:13786140',\n",
       "       'chr20:13785140:13786140', 'chr20:13785140:13786140',\n",
       "       'chr1:1796159:1797159', 'chr20:4081722:4082722',\n",
       "       'chr3:170717493:170718493', 'chr11:2399340:2400340',\n",
       "       'chr21:17689180:17690180', 'chr21:17689180:17690180',\n",
       "       'chr11:72112578:72113578', 'chr11:72112578:72113578',\n",
       "       'chr12:121742683:121743683', 'chr3:170717099:170718099',\n",
       "       'chr11:46700929:46701929', 'chr20:4082461:4083461',\n",
       "       'chr20:4082461:4083461', 'chr1:51321049:51322049',\n",
       "       'chr12:67268022:67269022', 'chr15:90955032:90956032',\n",
       "       'chr15:90955032:90956032', 'chr3:112991038:112992038',\n",
       "       'chr7:4739203:4740203', 'chr7:4739203:4740203',\n",
       "       'chr4:163194381:163195381', 'chr4:163194381:163195381',\n",
       "       'chr5:42839949:42840949', 'chr16:78742697:78743697',\n",
       "       'chr16:78742697:78743697', 'chr6:10429982:10430982',\n",
       "       'chr20:31573090:31574090', 'chr14:60330833:60331833',\n",
       "       'chr14:60330833:60331833', 'chr12:122398917:122399917',\n",
       "       'chr12:122398917:122399917', 'chr1:209826811:209827811',\n",
       "       'chr1:209826811:209827811', 'chr11:46700734:46701734',\n",
       "       'chr1:161522973:161523973', 'chr1:161522973:161523973',\n",
       "       'chr3:49688209:49689209', 'chr3:84304501:84305501',\n",
       "       'chr16:69726932:69727932', 'chr2:46315868:46316868',\n",
       "       'chr9:35658183:35659183', 'chr11:43951718:43952718',\n",
       "       'chr12:75943430:75944430', 'chr1:167714567:167715567',\n",
       "       'chr2:218332237:218333237', 'chr2:196233820:196234820',\n",
       "       'chr19:58574635:58575635', 'chr15:82548273:82549273',\n",
       "       'chr2:206765714:206766714', 'chr13:32798196:32799196',\n",
       "       'chr6:27279780:27280780', 'chr2:65436638:65437638',\n",
       "       'chr11:9385152:9386152', 'chr18:69838309:69839309',\n",
       "       'chr18:69838309:69839309', 'chr9:127751133:127752133',\n",
       "       'chr22:21938442:21939442', 'chrX:47561454:47562454',\n",
       "       'chr3:187100776:187101776', 'chr20:22411822:22412822',\n",
       "       'chr7:149330914:149331914', 'chr7:149330914:149331914',\n",
       "       'chr6:163439150:163440150', 'chr8:61759180:61760180',\n",
       "       'chr8:61759180:61760180', 'chr19:12669620:12670620',\n",
       "       'chr1:53316062:53317062', 'chr5:177377922:177378922',\n",
       "       'chr5:177377922:177378922', 'chr3:52188074:52189074',\n",
       "       'chr3:10515816:10516816', 'chr2:219521794:219522794',\n",
       "       'chr7:148699819:148700819', 'chr19:3499767:3500767',\n",
       "       'chr8:101159156:101160156', 'chr19:1479316:1480316'], dtype='<U25')"
      ]
     },
     "execution_count": 53,
     "metadata": {},
     "output_type": "execute_result"
    }
   ],
   "source": [
    "np.array(vals[2])[np.argsort(vals[1], )][::-1][0:100]"
   ]
  },
  {
   "cell_type": "code",
   "execution_count": null,
   "metadata": {},
   "outputs": [],
   "source": []
  }
 ],
 "metadata": {
  "kernelspec": {
   "display_name": "Python 3",
   "language": "python",
   "name": "python3"
  }
 },
 "nbformat": 4,
 "nbformat_minor": 4
}
