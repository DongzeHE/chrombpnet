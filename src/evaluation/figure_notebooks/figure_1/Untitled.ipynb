{
 "cells": [
  {
   "cell_type": "code",
   "execution_count": 1,
   "metadata": {},
   "outputs": [],
   "source": [
    "import modisco\n",
    "import h5py\n",
    "import deepdish\n",
    "import intervaltree\n",
    "from collections import defaultdict, OrderedDict, Counter\n",
    "from modisco.visualization import viz_sequence\n",
    "import matplotlib\n",
    "\n",
    "# for pdf text saving \n",
    "matplotlib.rcParams['pdf.fonttype'] = 42\n",
    "\n",
    "from matplotlib import pyplot as plt\n",
    "import numpy as np\n",
    "import tqdm\n",
    "import modisco\n",
    "from modisco.visualization import viz_sequence\n",
    "import tqdm\n",
    "import pyBigWig\n",
    "import pyfaidx"
   ]
  },
  {
   "cell_type": "code",
   "execution_count": 2,
   "metadata": {},
   "outputs": [
    {
     "name": "stdout",
     "output_type": "stream",
     "text": [
      "\u001b[33mWARNING: Could not generate requirement for distribution -umpy 1.18.1 (/users/anusri/anaconda3/lib/python3.7/site-packages): Parse error at \"'-umpy==1'\": Expected W:(abcd...)\u001b[0m\n",
      "\u001b[33mWARNING: Could not generate requirement for distribution - nsorflow-gpu (/users/anusri/anaconda3/lib/python3.7/site-packages): Parse error at \"'-===nsor'\": Expected W:(abcd...)\u001b[0m\n",
      "\u001b[33mWARNING: Could not generate requirement for distribution -ensorflow-gpu 2.4.0 (/users/anusri/anaconda3/lib/python3.7/site-packages): Parse error at \"'-ensorfl'\": Expected W:(abcd...)\u001b[0m\n",
      "modisco==0.5.16.0\n"
     ]
    }
   ],
   "source": [
    "!pip freeze | grep modisco\n"
   ]
  },
  {
   "cell_type": "code",
   "execution_count": 3,
   "metadata": {},
   "outputs": [],
   "source": [
    "import os\n"
   ]
  },
  {
   "cell_type": "code",
   "execution_count": 4,
   "metadata": {},
   "outputs": [],
   "source": [
    "os.environ[\"HDF5_USE_FILE_LOCKING\"] = \"FALSE\"\n"
   ]
  },
  {
   "cell_type": "code",
   "execution_count": 5,
   "metadata": {},
   "outputs": [],
   "source": [
    "def revcomp(x):\n",
    "    # Assuming ACGT\n",
    "    return x[::-1][:,::-1]"
   ]
  },
  {
   "cell_type": "code",
   "execution_count": 6,
   "metadata": {},
   "outputs": [],
   "source": [
    "# will crop to this region around center (summit of peak) [this is what was done for this data when modisco was called]\n",
    "MODISCO_CROP_WIDTH = 500"
   ]
  },
  {
   "cell_type": "code",
   "execution_count": 7,
   "metadata": {},
   "outputs": [],
   "source": [
    "hg38 = pyfaidx.Fasta(\"/users/surag/genomes/hg38/GRCh38_no_alt_analysis_set_GCA_000001405.15.fasta\")"
   ]
  },
  {
   "cell_type": "code",
   "execution_count": 8,
   "metadata": {},
   "outputs": [],
   "source": [
    "def get_regions(regions_file, crop_width):\n",
    "    with open(regions_file) as f:\n",
    "        scored_regions = [x.strip().split('\\t') for x in f]\n",
    "\n",
    "    # importance scores are computed centered at summit (2nd col + 10th col)\n",
    "    scored_regions = [(x[0], int(x[9])+int(x[1])-crop_width//2, int(x[9])+int(x[1])+crop_width//2) for x in scored_regions]\n",
    "    \n",
    "    return scored_regions"
   ]
  },
  {
   "cell_type": "code",
   "execution_count": 9,
   "metadata": {},
   "outputs": [],
   "source": [
    "def fetch_data(modisco_hdf5, pattern_name, pattern_start, pattern_end,\n",
    "               imp_scores, regions, insertions_bw_file, \n",
    "               pred_w_bias_bw_file, pred_wo_bias_bw_file, \n",
    "               modisco_crop_width, genome, rc_everything=False, expand_bw=100):\n",
    "    \"\"\"\n",
    "    this function basically goes through the seqlets of a given pattern (pattern_name)\n",
    "    it pulls out raw shap scores for each seqlet, its coordinates, whether it's RC-ed,\n",
    "    its subcluster indices\n",
    "    also pulls out raw insertions for each seqlet (out expand_bw on both sides), and same\n",
    "    for predicted profiles w/ and w/o bias \n",
    "    \n",
    "    returned seqlets all have the same orientation!\n",
    "    pattern_start -> start of pattern within seqlet ([0,seqlen_len)]\n",
    "    pattern_end-> start of pattern within seqlen ((pattern_start,seqlen_len)]\n",
    "    \"\"\"\n",
    "    \n",
    "    assert(len(regions)==imp_scores['shap']['seq'].shape[0])\n",
    "    \n",
    "    # region sliced out and used for modisco\n",
    "    imp_width = imp_scores['shap']['seq'].shape[-1]\n",
    "    imp_crop_start = imp_width//2 - modisco_crop_width//2\n",
    "    imp_crop_end = imp_width//2 + modisco_crop_width//2\n",
    "    \n",
    "    pattern = modisco_hdf5['metacluster_idx_to_submetacluster_results']['metacluster_0']['seqlets_to_patterns_result']['patterns'][pattern_name]\n",
    "    \n",
    "    seqlet_len = pattern[\"sequence\"][\"fwd\"].shape[0]\n",
    "    \n",
    "    subcluster_idxs = np.array(list(pattern[\"subclusters\"]))\n",
    "    \n",
    "    insertions_bw = pyBigWig.open(insertions_bw_file)\n",
    "    pred_w_bias_bw = pyBigWig.open(pred_w_bias_bw_file)\n",
    "    pred_wo_bias_bw = pyBigWig.open(pred_wo_bias_bw_file)\n",
    "    \n",
    "    seqlet_coords = []\n",
    "    seqlet_is_rc = []\n",
    "    seqlet_shaps = []\n",
    "    seqlet_one_hots = []\n",
    "    seqlet_pred_wo_bias = []\n",
    "    seqlet_pred_w_bias = []\n",
    "    seqlet_insertions = []\n",
    "    \n",
    "    # fetch info from the bigwigs where the seqlets are present\n",
    "    for i in tqdm.trange(len(pattern['seqlets_and_alnmts']['seqlets'])):\n",
    "        x = pattern['seqlets_and_alnmts']['seqlets'][i]\n",
    "        \n",
    "        # index into regions/imp_scores, i.e. which entry in regions does each seqlet come from\n",
    "        idx = int(x.decode('utf8').split(',')[0].split(':')[1])\n",
    "        start = int(x.decode('utf8').split(',')[1].split(':')[1])\n",
    "        rc = eval(x.decode('utf8').split(',')[3].split(':')[1])\n",
    "\n",
    "        reg = regions[idx]\n",
    "\n",
    "        cur_proj_shap_scores = imp_scores['projected_shap']['seq'][idx][:, imp_crop_start:imp_crop_end].transpose()\n",
    "        cur_one_hot = imp_scores['raw']['seq'][idx][:, imp_crop_start:imp_crop_end].transpose()\n",
    "\n",
    "        seqlet_is_rc.append(rc)\n",
    "        \n",
    "        if rc:\n",
    "            seqlet_shaps.append(revcomp(cur_proj_shap_scores[start+(seqlet_len-pattern_end):start+(seqlet_len-pattern_start)]))\n",
    "            seqlet_one_hots.append(revcomp(cur_one_hot[start+(seqlet_len-pattern_end):start+(seqlet_len-pattern_start)]))\n",
    "\n",
    "            start_coord = reg[1]+start+(seqlet_len-pattern_end)\n",
    "            end_coord = reg[1]+start+(seqlet_len-pattern_start)\n",
    "            seqlet_coords.append([reg[0], start_coord, end_coord])\n",
    "            \n",
    "            start_coord_expanded = start_coord - expand_bw\n",
    "            end_coord_expanded = end_coord + expand_bw\n",
    "            \n",
    "            seqlet_pred_wo_bias.append(np.nan_to_num(pred_wo_bias_bw.values(reg[0], start_coord_expanded, end_coord_expanded))[::-1])\n",
    "            seqlet_pred_w_bias.append(np.nan_to_num(pred_w_bias_bw.values(reg[0], start_coord_expanded, end_coord_expanded))[::-1])\n",
    "            seqlet_insertions.append(np.nan_to_num(insertions_bw.values(reg[0], start_coord_expanded, end_coord_expanded))[::-1])\n",
    "\n",
    "        else:\n",
    "            seqlet_shaps.append(cur_proj_shap_scores[start+pattern_start:start+pattern_end])\n",
    "            seqlet_one_hots.append(cur_one_hot[start+pattern_start:start+pattern_end])\n",
    "            \n",
    "            start_coord = reg[1]+start+pattern_start\n",
    "            end_coord = reg[1]+start+pattern_end\n",
    "            seqlet_coords.append([reg[0], start_coord, end_coord])\n",
    "            \n",
    "            start_coord_expanded = start_coord - expand_bw\n",
    "            end_coord_expanded = end_coord + expand_bw\n",
    "\n",
    "            seqlet_pred_wo_bias.append(np.nan_to_num(pred_wo_bias_bw.values(reg[0], start_coord_expanded, end_coord_expanded)))\n",
    "            seqlet_pred_w_bias.append(np.nan_to_num(pred_w_bias_bw.values(reg[0], start_coord_expanded, end_coord_expanded)))    \n",
    "            seqlet_insertions.append(np.nan_to_num(insertions_bw.values(reg[0], start_coord_expanded, end_coord_expanded)))\n",
    "    \n",
    "    insertions_bw.close()\n",
    "    pred_w_bias_bw.close()\n",
    "    pred_wo_bias_bw.close()\n",
    "    \n",
    "    # RC-ing all instances\n",
    "    seqlet_shaps = np.array(seqlet_shaps) #[:,::-1,::-1]\n",
    "    seqlet_one_hots = np.array(seqlet_one_hots)  # [:,::-1,::-1]\n",
    "    seqlet_pred_wo_bias = np.array(seqlet_pred_wo_bias)\n",
    "    seqlet_pred_w_bias = np.array(seqlet_pred_w_bias)\n",
    "    seqlet_insertions = np.array(seqlet_insertions)\n",
    "    \n",
    "    if rc_everything:\n",
    "        seqlet_shaps = seqlet_shaps[:, ::-1, ::-1]\n",
    "        seqlet_one_hots = seqlet_one_hots[:, ::-1, ::-1]\n",
    "        seqlet_pred_wo_bias = seqlet_pred_wo_bias[:, ::-1]\n",
    "        seqlet_pred_w_bias = seqlet_pred_w_bias[:, ::-1]\n",
    "        seqlet_insertions = seqlet_insertions[:, ::-1]\n",
    "    \n",
    "    return seqlet_coords, seqlet_is_rc, subcluster_idxs, seqlet_shaps, seqlet_one_hots, seqlet_insertions, seqlet_pred_w_bias, seqlet_pred_wo_bias"
   ]
  },
  {
   "cell_type": "code",
   "execution_count": 10,
   "metadata": {},
   "outputs": [],
   "source": [
    "HIGH_OSK_MODISCO_PATH = \"/users/surag/oak/projects/scATAC-reprog/bpnet/models/20210820_chrombpnet_lite/chrombpnet/cluster_idx11/modisco/modisco_results_allChroms_counts.hdf5\"\n",
    "HIGH_OSK_HDF5_PATH = \"/users/surag/oak/projects/scATAC-reprog/bpnet/models/20210820_chrombpnet_lite/chrombpnet/cluster_idx11/interpret/counts_scores.h5\"\n",
    "HIGH_OSK_REG_PATH = \"/users/surag/oak/projects/scATAC-reprog/bpnet/models/20210820_chrombpnet_lite/chrombpnet/cluster_idx11/interpret/interpreted_regions.bed\""
   ]
  },
  {
   "cell_type": "code",
   "execution_count": null,
   "metadata": {},
   "outputs": [],
   "source": [
    "high_OSK_modisco = h5py.File(HIGH_OSK_MODISCO_PATH, 'r')\n"
   ]
  }
 ],
 "metadata": {
  "kernelspec": {
   "display_name": "Python 3",
   "language": "python",
   "name": "python3"
  },
  "language_info": {
   "codemirror_mode": {
    "name": "ipython",
    "version": 3
   },
   "file_extension": ".py",
   "mimetype": "text/x-python",
   "name": "python",
   "nbconvert_exporter": "python",
   "pygments_lexer": "ipython3",
   "version": "3.7.6"
  }
 },
 "nbformat": 4,
 "nbformat_minor": 4
}
