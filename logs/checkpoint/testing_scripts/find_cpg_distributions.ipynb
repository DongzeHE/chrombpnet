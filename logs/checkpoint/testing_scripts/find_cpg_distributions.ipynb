{
 "cells": [
  {
   "cell_type": "code",
   "execution_count": 1,
   "metadata": {},
   "outputs": [],
   "source": [
    "import pyfaidx\n",
    "import pandas as pd"
   ]
  },
  {
   "cell_type": "code",
   "execution_count": 2,
   "metadata": {},
   "outputs": [],
   "source": [
    "def get_seq(peaks_df, genome, width):\n",
    "    \"\"\"\n",
    "    Same as get_cts, but fetches sequence from a given genome.\n",
    "    \"\"\"\n",
    "    vals = []\n",
    "\n",
    "    for i, r in peaks_df.iterrows():\n",
    "        sequence = str(genome[r['chr']][(r['start']+r['summit'] - width//2):(r['start'] + r['summit'] + width//2)])\n",
    "        vals.append(sequence)\n",
    "\n",
    "    return vals"
   ]
  },
  {
   "cell_type": "code",
   "execution_count": 3,
   "metadata": {},
   "outputs": [],
   "source": [
    "NARROWPEAK_SCHEMA = [\"chr\", \"start\", \"end\", \"1\", \"2\", \"3\", \"4\", \"5\", \"6\", \"summit\"]\n",
    "peaks=\"/oak/stanford/groups/akundaje/projects/chrombpnet/model_inputs/ENCODE_ATAC_downloads/K562/peaks.bed.gz\"\n",
    "peak_regions=pd.read_csv(peaks,header=None,sep='\\t',names=NARROWPEAK_SCHEMA)\n"
   ]
  },
  {
   "cell_type": "code",
   "execution_count": 4,
   "metadata": {},
   "outputs": [],
   "source": [
    "genome = pyfaidx.Fasta(\"reference/hg38.genome.fa\")\n",
    "\n",
    "peak_seqs = get_seq(peak_regions, genome, width=2114)"
   ]
  },
  {
   "cell_type": "code",
   "execution_count": 5,
   "metadata": {},
   "outputs": [],
   "source": [
    "cpg_islands = []\n",
    "for val in peak_seqs:\n",
    "    cpg_islands.append(val.lower().count(\"cg\")/2114.0)\n",
    "    \n",
    "    "
   ]
  },
  {
   "cell_type": "code",
   "execution_count": null,
   "metadata": {},
   "outputs": [],
   "source": [
    "negs=\"/oak/stanford/groups/akundaje/projects/chrombpnet/model_inputs/ENCODE_ATAC_downloads/K562/testing/ENCFF057UYP.bed.gz\" \n",
    "\n",
    "neg_regions=pd.read_csv(negs,header=None,sep='\\t',names=NARROWPEAK_SCHEMA)\n",
    "\n",
    "neg_seqs = get_seq(neg_regions, genome, width=2114)\n"
   ]
  },
  {
   "cell_type": "code",
   "execution_count": null,
   "metadata": {},
   "outputs": [],
   "source": [
    "\n",
    "#cpg_islands = []\n",
    "#for val in peak_seqs:\n",
    "#    cpg_islands.append(val.lower().count(\"cgcg\")*100.0/2114.0)\n",
    "\n",
    "neg_cpg_islands = []\n",
    "\n",
    "for val in neg_seqs:\n",
    "    neg_cpg_islands.append(val.lower().count(\"cg\")/2114.0)\n",
    "    \n",
    "    \n",
    "import matplotlib.pyplot as plt\n",
    "plt.hist(cpg_islands, label=\"peaks cpg\", bins=100, alpha=0.5)\n",
    "plt.hist(neg_cpg_islands, label=\"negs cpg\", bins=100, alpha=0.5)\n",
    "plt.legend()\n"
   ]
  },
  {
   "cell_type": "code",
   "execution_count": null,
   "metadata": {},
   "outputs": [],
   "source": []
  }
 ],
 "metadata": {
  "kernelspec": {
   "display_name": "Python 3",
   "language": "python",
   "name": "python3"
  },
  "language_info": {
   "codemirror_mode": {
    "name": "ipython",
    "version": 3
   },
   "file_extension": ".py",
   "mimetype": "text/x-python",
   "name": "python",
   "nbconvert_exporter": "python",
   "pygments_lexer": "ipython3",
   "version": "3.7.6"
  }
 },
 "nbformat": 4,
 "nbformat_minor": 4
}
