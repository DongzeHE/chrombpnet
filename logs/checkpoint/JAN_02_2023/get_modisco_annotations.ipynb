{
 "cells": [
  {
   "cell_type": "code",
   "execution_count": 1,
   "metadata": {},
   "outputs": [],
   "source": [
    "import h5py \n",
    "import numpy as np\n",
    "def import_tfmodisco_motifs(tfm_results_path, trim=True, only_pos=True):\n",
    "    \"\"\"\n",
    "    Imports the PFMs to into a dictionary, mapping `(x, y)` to the PFM,\n",
    "    where `x` is the metacluster index and `y` is the pattern index.\n",
    "    Arguments:\n",
    "        `tfm_results_path`: path to HDF5 containing TF-MoDISco results\n",
    "        `out_dir`: where to save motifs\n",
    "        `trim`: if True, trim the motif flanks based on information content\n",
    "        `only_pos`: if True, only return motifs with positive contributions\n",
    "    Returns the dictionary of PFMs.\n",
    "    \"\"\" \n",
    "    pfms = {}\n",
    "    with h5py.File(tfm_results_path, \"r\") as f:\n",
    "        metaclusters = f[\"metacluster_idx_to_submetacluster_results\"]\n",
    "        num_metaclusters = len(metaclusters.keys())\n",
    "        for metacluster_i, metacluster_key in enumerate(metaclusters.keys()):\n",
    "            metacluster = metaclusters[metacluster_key]\n",
    "            print(len(metacluster[\"seqlets\"].value))\n",
    "            if \"patterns\" not in metacluster[\"seqlets_to_patterns_result\"]:\n",
    "                continue\n",
    "            patterns = metacluster[\"seqlets_to_patterns_result\"][\"patterns\"]\n",
    "            num_patterns = len(patterns[\"all_pattern_names\"][:])\n",
    "            for pattern_i, pattern_name in enumerate(patterns[\"all_pattern_names\"][:]):\n",
    "                pattern_name = pattern_name.decode()\n",
    "                pattern = patterns[pattern_name]\n",
    "                key = \"metacluster_\"+str(metacluster_i)+\".pattern_\"+str(pattern_i)\n",
    "                \n",
    "                if key not in pfms:\n",
    "                    pfms[key] = []\n",
    "\n",
    "                for seqlet in patternc:\n",
    "                    #print(seqlet.decode(\"utf-8\"))\n",
    "                    pfms[key].append(seqlet.decode(\"utf-8\"))\n",
    "               \n",
    "    return pfms"
   ]
  },
  {
   "cell_type": "code",
   "execution_count": 2,
   "metadata": {},
   "outputs": [
    {
     "name": "stderr",
     "output_type": "stream",
     "text": [
      "/users/anusri/anaconda3/lib/python3.7/site-packages/ipykernel_launcher.py:20: H5pyDeprecationWarning: dataset.value has been deprecated. Use dataset[()] instead.\n"
     ]
    },
    {
     "name": "stdout",
     "output_type": "stream",
     "text": [
      "100000\n",
      "110\n"
     ]
    }
   ],
   "source": [
    "tfm_results_path=\"/oak/stanford/groups/akundaje/projects/chrombpnet_paper_new/modisco_jun_30/modisco/DNASE/K562/modisco_crop_500_100K_seqs_1/modisco_results_allChroms_counts.hdf5\"\n",
    "pfms = import_tfmodisco_motifs(tfm_results_path)"
   ]
  },
  {
   "cell_type": "code",
   "execution_count": 3,
   "metadata": {},
   "outputs": [
    {
     "data": {
      "text/plain": [
       "dict_keys(['metacluster_0.pattern_0', 'metacluster_0.pattern_1', 'metacluster_0.pattern_2', 'metacluster_0.pattern_3', 'metacluster_0.pattern_4', 'metacluster_0.pattern_5', 'metacluster_0.pattern_6', 'metacluster_0.pattern_7', 'metacluster_0.pattern_8', 'metacluster_0.pattern_9', 'metacluster_0.pattern_10', 'metacluster_0.pattern_11', 'metacluster_0.pattern_12', 'metacluster_0.pattern_13', 'metacluster_0.pattern_14', 'metacluster_0.pattern_15', 'metacluster_0.pattern_16', 'metacluster_0.pattern_17', 'metacluster_0.pattern_18', 'metacluster_0.pattern_19', 'metacluster_0.pattern_20', 'metacluster_0.pattern_21', 'metacluster_0.pattern_22', 'metacluster_0.pattern_23', 'metacluster_0.pattern_24', 'metacluster_0.pattern_25', 'metacluster_0.pattern_26', 'metacluster_0.pattern_27', 'metacluster_0.pattern_28', 'metacluster_0.pattern_29', 'metacluster_0.pattern_30', 'metacluster_0.pattern_31', 'metacluster_1.pattern_0', 'metacluster_1.pattern_1', 'metacluster_1.pattern_2'])"
      ]
     },
     "execution_count": 3,
     "metadata": {},
     "output_type": "execute_result"
    }
   ],
   "source": [
    "pfms.keys()"
   ]
  },
  {
   "cell_type": "code",
   "execution_count": 4,
   "metadata": {},
   "outputs": [],
   "source": [
    "import pandas as pd\n",
    "tomtom=\"/oak/stanford/groups/akundaje/projects/chrombpnet_paper_new/modisco_jun_30/modisco/DNASE/K562/modisco_crop_500_100K_seqs_1/counts.tomtom.tsv\"\n",
    "tomtom = pd.read_csv(tomtom, sep=\"\\t\", header=0)\n",
    "    "
   ]
  },
  {
   "cell_type": "code",
   "execution_count": 5,
   "metadata": {},
   "outputs": [],
   "source": [
    "bed=\"/oak/stanford/groups/akundaje/projects/chrombpnet_paper_new/modisco_jun_30/modisco/DNASE/K562/K562_full.interpreted_regions.bed\"\n",
    "bed = pd.read_csv(bed, sep=\"\\t\", header=None)\n"
   ]
  },
  {
   "cell_type": "code",
   "execution_count": 6,
   "metadata": {},
   "outputs": [
    {
     "name": "stdout",
     "output_type": "stream",
     "text": [
      "metacluster_0.pattern_0\n",
      "metacluster_0.pattern_1\n",
      "metacluster_0.pattern_2\n",
      "metacluster_0.pattern_3\n",
      "metacluster_0.pattern_4\n",
      "metacluster_0.pattern_5\n",
      "metacluster_0.pattern_6\n",
      "metacluster_0.pattern_7\n",
      "metacluster_0.pattern_8\n",
      "metacluster_0.pattern_9\n",
      "metacluster_0.pattern_10\n",
      "metacluster_0.pattern_11\n",
      "metacluster_0.pattern_12\n",
      "metacluster_0.pattern_13\n",
      "metacluster_0.pattern_14\n",
      "metacluster_0.pattern_15\n",
      "metacluster_0.pattern_16\n",
      "metacluster_0.pattern_17\n",
      "metacluster_0.pattern_18\n",
      "metacluster_0.pattern_19\n",
      "metacluster_0.pattern_20\n",
      "metacluster_0.pattern_21\n",
      "metacluster_0.pattern_22\n",
      "metacluster_0.pattern_23\n",
      "metacluster_0.pattern_24\n",
      "metacluster_0.pattern_25\n",
      "metacluster_0.pattern_26\n",
      "metacluster_0.pattern_27\n",
      "metacluster_0.pattern_28\n",
      "metacluster_0.pattern_29\n",
      "metacluster_0.pattern_30\n",
      "metacluster_0.pattern_31\n",
      "metacluster_1.pattern_0\n",
      "metacluster_1.pattern_1\n",
      "metacluster_1.pattern_2\n"
     ]
    }
   ],
   "source": [
    "lists=[]\n",
    "for key in pfms:\n",
    "    print(key)\n",
    "    if key in tomtom[\"Pattern\"].values:\n",
    "        match_name = tomtom[tomtom[\"Pattern\"]==key][\"Match_1\"]\n",
    "        keyd = key.split(\"_\")[1].replace(\".pattern\",\"\")+\"_\"+key.split(\"_\")[-1]+\"_\"+match_name\n",
    "        keyd = keyd.values[0]\n",
    "        #print(keyd.values[0])\n",
    "        for seqlet in pfms[key]:\n",
    "            vals = seqlet.split(\",\")\n",
    "            peak_id = int(vals[0].split(\":\")[1])\n",
    "            ss = vals[1].split(\":\")[1]\n",
    "            ee = vals[2].split(\":\")[1]\n",
    "            blist = [bed.loc[peak_id,0], bed.loc[peak_id,1]+bed.loc[peak_id,9]-250+int(ss), bed.loc[peak_id,1]+bed.loc[peak_id,9]-250+int(ee), keyd]\n",
    "            lists.append(blist)\n",
    "    else:\n",
    "        print(key)\n",
    "            "
   ]
  },
  {
   "cell_type": "code",
   "execution_count": 7,
   "metadata": {},
   "outputs": [
    {
     "name": "stdout",
     "output_type": "stream",
     "text": [
      "65489\n",
      "       0          1          2                 3\n",
      "0  chr11   69905752   69905782  0_0_GATA3_GATA_1\n",
      "1  chr10   24569442   24569472  0_0_GATA3_GATA_1\n",
      "2   chr1   26378607   26378637  0_0_GATA3_GATA_1\n",
      "3  chr11     876148     876178  0_0_GATA3_GATA_1\n",
      "4  chr14  103314758  103314788  0_0_GATA3_GATA_1\n"
     ]
    }
   ],
   "source": [
    "print(len(lists))\n",
    "data = pd.DataFrame(lists)\n",
    "print(data.head())"
   ]
  },
  {
   "cell_type": "code",
   "execution_count": 8,
   "metadata": {},
   "outputs": [],
   "source": [
    "#data.to_csv(\"modisco_annotations_k562_dnase.bed\", sep=\"\\t\", header=False, index=False)\n",
    "data = pd.read_csv(\"modisco_annotations_k562_dnase.bed\", sep=\"\\t\", header=None)"
   ]
  },
  {
   "cell_type": "code",
   "execution_count": 9,
   "metadata": {},
   "outputs": [
    {
     "name": "stdout",
     "output_type": "stream",
     "text": [
      "(65489, 4)\n"
     ]
    }
   ],
   "source": [
    "print(data.shape)"
   ]
  },
  {
   "cell_type": "code",
   "execution_count": 10,
   "metadata": {},
   "outputs": [
    {
     "data": {
      "text/plain": [
       "(64392, 4)"
      ]
     },
     "execution_count": 10,
     "metadata": {},
     "output_type": "execute_result"
    }
   ],
   "source": [
    "data.drop_duplicates().shape"
   ]
  },
  {
   "cell_type": "code",
   "execution_count": 11,
   "metadata": {},
   "outputs": [
    {
     "data": {
      "text/plain": [
       "16337"
      ]
     },
     "execution_count": 11,
     "metadata": {},
     "output_type": "execute_result"
    }
   ],
   "source": [
    "sum(data[3]==\"0_0_GATA3_GATA_1\")"
   ]
  },
  {
   "cell_type": "code",
   "execution_count": 12,
   "metadata": {},
   "outputs": [],
   "source": [
    "dict1={0: 16818, 5: 4414, 3: 8931, 4: 7457, 9: 1495, 2: 9688, 8: 1821, 1: 11947, 6: 3845, 7: 3019, 11: 657, 10: 1251}\n",
    "\n"
   ]
  },
  {
   "cell_type": "code",
   "execution_count": 13,
   "metadata": {},
   "outputs": [
    {
     "data": {
      "text/plain": [
       "71343"
      ]
     },
     "execution_count": 13,
     "metadata": {},
     "output_type": "execute_result"
    }
   ],
   "source": [
    "sum(list(dict1.values()))"
   ]
  },
  {
   "cell_type": "code",
   "execution_count": 14,
   "metadata": {},
   "outputs": [],
   "source": [
    "#bed_cwm=\"/mnt/lab_data3/anusri/chrombpnet/results/chrombpnet/DNASE_PE/K562/K562_02.08.2022_bias_128_4_2356/06_22_2022_motif_scanning/mean_moods_baseairmodels_counts_new_divide_by_total_score/modsico_intersect_overlaps_resolved_based_on_cwm_activations_normed_length.bed\"\n",
    "#bed_cwm=\"/mnt/lab_data3/anusri/chrombpnet/results/chrombpnet/DNASE_PE/K562/K562_02.08.2022_bias_128_4_2356/06_22_2022_motif_scanning/mean_moods_baseairmodels_counts_new_divide_by_total_score/modsico_intersect_resolved_based_on_cwm.bed\"\n",
    "#bed_cwm=\"/mnt/lab_data3/anusri/chrombpnet/results/chrombpnet/DNASE_PE/K562/K562_02.08.2022_bias_128_4_2356/06_22_2022_motif_scanning/mean_moods_baseairmodels_counts_new_divide_by_total_score/modisco_intersect_overlaps_resolved_based_on_cwm_activations.bed\"\n",
    "bed_cwm=\"/mnt/lab_data3/anusri/chrombpnet/results/chrombpnet/DNASE_PE/K562/K562_02.08.2022_bias_128_4_2356/06_22_2022_motif_scanning/mean_moods_baseairmodels_counts_new_divide_by_total_score/modisco_annotated_overlaps_resolved_based_on_cwm_activations_subset.bed\"\n",
    "\n",
    "#bed_pwm=\"/mnt/lab_data3/anusri/chrombpnet/results/chrombpnet/DNASE_PE/K562/K562_02.08.2022_bias_128_4_2356/06_22_2022_motif_scanning/mean_moods_baseairmodels_counts_new_divide_by_total_score/modisco_intersect_non_overlaps_resolved.bed\"\n",
    "#bed_cwm=\"/mnt/lab_data3/anusri/chrombpnet/results/chrombpnet/DNASE_PE/K562/K562_02.08.2022_bias_128_4_2356/06_22_2022_motif_scanning/mean_moods_baseairmodels_counts_new_divide_by_total_score/overlaps_resolved_based_on_cwm_activations_trim_intersect_with_modisco.bed\"\n",
    "#bed_pwm=\"/mnt/lab_data3/anusri/chrombpnet/results/chrombpnet/DNASE_PE/K562/K562_02.08.2022_bias_128_4_2356/06_22_2022_motif_scanning/mean_moods_baseairmodels_counts_new_divide_by_total_score/modisco_overlaps_resolved_based_on_pwm.bed\"\n",
    "bed_pwm=\"/mnt/lab_data3/anusri/chrombpnet/results/chrombpnet/DNASE_PE/K562/K562_02.08.2022_bias_128_4_2356/06_22_2022_motif_scanning/mean_moods_baseairmodels_counts_new_divide_by_total_score/modisco_annotated_overlaps_resolved_based_on_pwm_subset.bed\"\n",
    "\n"
   ]
  },
  {
   "cell_type": "code",
   "execution_count": 15,
   "metadata": {},
   "outputs": [],
   "source": [
    "cwms = pd.read_csv(bed_cwm, sep=\"\\t\", header=None).drop_duplicates()\n",
    "pwms = pd.read_csv(bed_pwm, sep=\"\\t\", header=None).drop_duplicates()\n"
   ]
  },
  {
   "cell_type": "code",
   "execution_count": 16,
   "metadata": {},
   "outputs": [
    {
     "data": {
      "text/html": [
       "<div>\n",
       "<style scoped>\n",
       "    .dataframe tbody tr th:only-of-type {\n",
       "        vertical-align: middle;\n",
       "    }\n",
       "\n",
       "    .dataframe tbody tr th {\n",
       "        vertical-align: top;\n",
       "    }\n",
       "\n",
       "    .dataframe thead th {\n",
       "        text-align: right;\n",
       "    }\n",
       "</style>\n",
       "<table border=\"1\" class=\"dataframe\">\n",
       "  <thead>\n",
       "    <tr style=\"text-align: right;\">\n",
       "      <th></th>\n",
       "      <th>0</th>\n",
       "      <th>1</th>\n",
       "      <th>2</th>\n",
       "      <th>3</th>\n",
       "      <th>4</th>\n",
       "      <th>5</th>\n",
       "      <th>6</th>\n",
       "      <th>7</th>\n",
       "      <th>8</th>\n",
       "      <th>9</th>\n",
       "      <th>10</th>\n",
       "      <th>11</th>\n",
       "      <th>12</th>\n",
       "      <th>13</th>\n",
       "      <th>14</th>\n",
       "    </tr>\n",
       "  </thead>\n",
       "  <tbody>\n",
       "    <tr>\n",
       "      <th>0</th>\n",
       "      <td>chr11</td>\n",
       "      <td>69905752</td>\n",
       "      <td>69905782</td>\n",
       "      <td>0_0_GATA3_GATA_1</td>\n",
       "      <td>chr11</td>\n",
       "      <td>69905760</td>\n",
       "      <td>69905765</td>\n",
       "      <td>0_0_GATA3_GATA_1</td>\n",
       "      <td>-</td>\n",
       "      <td>6.699131</td>\n",
       "      <td>56532</td>\n",
       "      <td>44.892879</td>\n",
       "      <td>81288</td>\n",
       "      <td>1.105895</td>\n",
       "      <td>5</td>\n",
       "    </tr>\n",
       "    <tr>\n",
       "      <th>1</th>\n",
       "      <td>chr10</td>\n",
       "      <td>24569442</td>\n",
       "      <td>24569472</td>\n",
       "      <td>0_0_GATA3_GATA_1</td>\n",
       "      <td>chr10</td>\n",
       "      <td>24569459</td>\n",
       "      <td>24569464</td>\n",
       "      <td>0_0_GATA3_GATA_1</td>\n",
       "      <td>+</td>\n",
       "      <td>6.699131</td>\n",
       "      <td>37000</td>\n",
       "      <td>42.849791</td>\n",
       "      <td>52019</td>\n",
       "      <td>1.119128</td>\n",
       "      <td>5</td>\n",
       "    </tr>\n",
       "    <tr>\n",
       "      <th>2</th>\n",
       "      <td>chr1</td>\n",
       "      <td>26378607</td>\n",
       "      <td>26378637</td>\n",
       "      <td>0_0_GATA3_GATA_1</td>\n",
       "      <td>chr1</td>\n",
       "      <td>26378615</td>\n",
       "      <td>26378620</td>\n",
       "      <td>0_0_GATA3_GATA_1</td>\n",
       "      <td>-</td>\n",
       "      <td>6.699131</td>\n",
       "      <td>5922</td>\n",
       "      <td>47.568990</td>\n",
       "      <td>8918</td>\n",
       "      <td>0.988002</td>\n",
       "      <td>5</td>\n",
       "    </tr>\n",
       "    <tr>\n",
       "      <th>3</th>\n",
       "      <td>chr11</td>\n",
       "      <td>876148</td>\n",
       "      <td>876178</td>\n",
       "      <td>0_0_GATA3_GATA_1</td>\n",
       "      <td>chr11</td>\n",
       "      <td>876165</td>\n",
       "      <td>876170</td>\n",
       "      <td>0_0_GATA3_GATA_1</td>\n",
       "      <td>+</td>\n",
       "      <td>6.699131</td>\n",
       "      <td>48121</td>\n",
       "      <td>50.377062</td>\n",
       "      <td>68298</td>\n",
       "      <td>1.081268</td>\n",
       "      <td>5</td>\n",
       "    </tr>\n",
       "    <tr>\n",
       "      <th>4</th>\n",
       "      <td>chr14</td>\n",
       "      <td>103314758</td>\n",
       "      <td>103314788</td>\n",
       "      <td>0_0_GATA3_GATA_1</td>\n",
       "      <td>chr14</td>\n",
       "      <td>103314775</td>\n",
       "      <td>103314780</td>\n",
       "      <td>0_0_GATA3_GATA_1</td>\n",
       "      <td>+</td>\n",
       "      <td>6.699131</td>\n",
       "      <td>90138</td>\n",
       "      <td>47.612621</td>\n",
       "      <td>130556</td>\n",
       "      <td>1.010144</td>\n",
       "      <td>5</td>\n",
       "    </tr>\n",
       "  </tbody>\n",
       "</table>\n",
       "</div>"
      ],
      "text/plain": [
       "      0          1          2                 3      4          5          6   \\\n",
       "0  chr11   69905752   69905782  0_0_GATA3_GATA_1  chr11   69905760   69905765   \n",
       "1  chr10   24569442   24569472  0_0_GATA3_GATA_1  chr10   24569459   24569464   \n",
       "2   chr1   26378607   26378637  0_0_GATA3_GATA_1   chr1   26378615   26378620   \n",
       "3  chr11     876148     876178  0_0_GATA3_GATA_1  chr11     876165     876170   \n",
       "4  chr14  103314758  103314788  0_0_GATA3_GATA_1  chr14  103314775  103314780   \n",
       "\n",
       "                 7  8         9      10         11      12        13  14  \n",
       "0  0_0_GATA3_GATA_1  -  6.699131  56532  44.892879   81288  1.105895   5  \n",
       "1  0_0_GATA3_GATA_1  +  6.699131  37000  42.849791   52019  1.119128   5  \n",
       "2  0_0_GATA3_GATA_1  -  6.699131   5922  47.568990    8918  0.988002   5  \n",
       "3  0_0_GATA3_GATA_1  +  6.699131  48121  50.377062   68298  1.081268   5  \n",
       "4  0_0_GATA3_GATA_1  +  6.699131  90138  47.612621  130556  1.010144   5  "
      ]
     },
     "execution_count": 16,
     "metadata": {},
     "output_type": "execute_result"
    }
   ],
   "source": [
    "cwms.head()"
   ]
  },
  {
   "cell_type": "code",
   "execution_count": 24,
   "metadata": {},
   "outputs": [
    {
     "name": "stdout",
     "output_type": "stream",
     "text": [
      "['0_9_STA5A_MOUSE.H11MO.0.A', '0_0_GATA3_GATA_1', '0_3_BACH2_MOUSE.H11MO.0.A', '0_5_NFIA_HUMAN.H11MO.0.C', '0_6_NFYB_HUMAN.H11MO.0.A', '0_8_FOSL1+JUN_MA1129.1', '0_10_ETV4_MOUSE.H11MO.0.B', '0_2_KLF12_HUMAN.H11MO.0.C', '0_4_Gabpa_MA0062.2', '0_7_NRF1_MOUSE.H11MO.0.A', '0_1_CTCF_MA0139.1']\n"
     ]
    }
   ],
   "source": [
    "all_uniq = list(set(cwms[7].values.tolist()+pwms[7].values.tolist()))\n",
    "print(all_uniq)"
   ]
  },
  {
   "cell_type": "code",
   "execution_count": 30,
   "metadata": {
    "scrolled": false
   },
   "outputs": [
    {
     "name": "stdout",
     "output_type": "stream",
     "text": [
      "CWM failure cases\n",
      "          0          1          2                 3      4          5  \\\n",
      "114   chr11   66886246   66886276  0_0_GATA3_GATA_1  chr11   66886249   \n",
      "141   chr11   70773072   70773102  0_0_GATA3_GATA_1  chr11   70773071   \n",
      "495   chr14  101552854  101552884  0_0_GATA3_GATA_1  chr14  101552858   \n",
      "679   chr15   89911074   89911104  0_0_GATA3_GATA_1  chr15   89911096   \n",
      "717   chr15   70633633   70633663  0_0_GATA3_GATA_1  chr15   70633655   \n",
      "...     ...        ...        ...               ...    ...        ...   \n",
      "5605   chr1  180282610  180282640  0_0_GATA3_GATA_1   chr1  180282621   \n",
      "5641   chr1  198122847  198122877  0_0_GATA3_GATA_1   chr1  198122873   \n",
      "5722  chr12   22562837   22562867  0_0_GATA3_GATA_1  chr12   22562846   \n",
      "5725  chr14   75284172   75284202  0_0_GATA3_GATA_1  chr14   75284165   \n",
      "5743  chr16   90022615   90022645  0_0_GATA3_GATA_1  chr16   90022619   \n",
      "\n",
      "              6                          7  8         9      10         11  \\\n",
      "114    66886263   0_5_NFIA_HUMAN.H11MO.0.C  +  2.045726   55824   5.532086   \n",
      "141    70773080  0_2_KLF12_HUMAN.H11MO.0.C  +  3.434447   56697  11.678147   \n",
      "495   101552867  0_3_BACH2_MOUSE.H11MO.0.A  -  5.668562   89707   7.049604   \n",
      "679    89911105  0_2_KLF12_HUMAN.H11MO.0.C  +  4.056239   99232   5.855989   \n",
      "717    70633669          0_1_CTCF_MA0139.1  -  5.615008   96618   6.500671   \n",
      "...         ...                        ... ..       ...     ...        ...   \n",
      "5605  180282635          0_1_CTCF_MA0139.1  -  4.129532   24414  11.904908   \n",
      "5641  198122882  0_3_BACH2_MOUSE.H11MO.0.A  +  9.327903   26298  14.466973   \n",
      "5722   22562860          0_1_CTCF_MA0139.1  -  2.519890   65069   8.089744   \n",
      "5725   75284174  0_3_BACH2_MOUSE.H11MO.0.A  -  8.053741   87689  21.239444   \n",
      "5743   90022628  0_3_BACH2_MOUSE.H11MO.0.A  -  6.637312  111070   6.553791   \n",
      "\n",
      "          12        13  14                         id  \n",
      "114    80065  0.097091  14    chr11_66886246_66886276  \n",
      "141    81574  0.173936   8    chr11_70773072_70773102  \n",
      "495   129890  0.094377   9  chr14_101552854_101552884  \n",
      "679   144018  0.063331   8    chr15_89911074_89911104  \n",
      "717   139986  0.150051   8    chr15_70633633_70633663  \n",
      "...      ...       ...  ..                        ...  \n",
      "5605   34958  0.198753  14   chr1_180282610_180282640  \n",
      "5641   37233  0.252115   4   chr1_198122847_198122877  \n",
      "5722   93916  0.115846  14    chr12_22562837_22562867  \n",
      "5725  126700  0.481818   2    chr14_75284172_75284202  \n",
      "5743  162456  0.160237   9    chr16_90022615_90022645  \n",
      "\n",
      "[100 rows x 16 columns]\n",
      "PWM failure cases\n",
      "         0          1          2                 3      4          5  \\\n",
      "55   chr15   27273608   27273638  0_0_GATA3_GATA_1  chr15   27273628   \n",
      "115  chr11   66886246   66886276  0_0_GATA3_GATA_1  chr11   66886249   \n",
      "140  chr10  132848631  132848661  0_0_GATA3_GATA_1  chr10  132848651   \n",
      "142  chr11   70773072   70773102  0_0_GATA3_GATA_1  chr11   70773071   \n",
      "161  chr16   57690146   57690176  0_0_GATA3_GATA_1  chr16   57690148   \n",
      "\n",
      "             6                          7  8         9      10         11  \\\n",
      "55    27273636  0_10_ETV4_MOUSE.H11MO.0.B  -  8.029042   91228  11.955136   \n",
      "115   66886263   0_5_NFIA_HUMAN.H11MO.0.C  +  2.045726   55824   5.532086   \n",
      "140  132848659  0_10_ETV4_MOUSE.H11MO.0.B  -  8.029042   47714   9.639487   \n",
      "142   70773080  0_2_KLF12_HUMAN.H11MO.0.C  +  3.434447   56697  11.678147   \n",
      "161   57690156  0_10_ETV4_MOUSE.H11MO.0.B  +  8.029042  106885   9.124155   \n",
      "\n",
      "         12  13                         id  \n",
      "55   132268   8    chr15_27273608_27273638  \n",
      "115   80065  14    chr11_66886246_66886276  \n",
      "140   67611   8  chr10_132848631_132848661  \n",
      "142   81574   8    chr11_70773072_70773102  \n",
      "161  155978   8    chr16_57690146_57690176  \n"
     ]
    }
   ],
   "source": [
    "motifs=[]\n",
    "pwms_all=[]\n",
    "cwms_all=[]\n",
    "for motif in all_uniq:\n",
    "    if motif != \"0_0_GATA3_GATA_1\":\n",
    "        continue\n",
    "    \n",
    "    #if motif != \"0_1_CTCF_MA0139.1\":\n",
    "     #   continue\n",
    "        \n",
    "    if int(motif.split(\"_\")[0]) != 0:\n",
    "        continue\n",
    "        \n",
    "    #if int(motif.split(\"_\")[1]) != 11:\n",
    "    #    continue\n",
    "        \n",
    "    modisco_hits = data[data[3]==motif]\n",
    "    \n",
    "    # all hits with labels\n",
    "    temp = modisco_hits.merge(cwms, on=[0, 1, 2, 3], how=\"inner\").drop_duplicates()\n",
    "    temp[\"id\"] = temp[0].astype(str)+\"_\"+temp[1].astype(str)+\"_\"+temp[2].astype(str)\n",
    "\n",
    "    # all hits with correct predictions\n",
    "    dwms = temp[temp[7]==motif].drop_duplicates(subset=[0, 1, 2, 3])\n",
    "    dwms[\"id\"] = dwms[0].astype(str)+\"_\"+dwms[1].astype(str)+\"_\"+dwms[2].astype(str)\n",
    "    recovered_cwms = dwms.shape[0]\n",
    "   \n",
    "    #dwms = temp[(temp[7]==\"0_15_CTCF_MA0139.1\") | (temp[7]==motif)].drop_duplicates(subset=[0, 1, 2, 3])\n",
    "    dwms[\"id\"] = dwms[0].astype(str)+\"_\"+dwms[1].astype(str)+\"_\"+dwms[2].astype(str)\n",
    "    recovered_cwms = dwms.shape[0]\n",
    "    \n",
    "    # all failed hits \n",
    "    print(\"CWM failure cases\")\n",
    "    ttms = temp[~temp[\"id\"].isin(dwms[\"id\"])].drop_duplicates(subset=[0, 1, 2, 3])\n",
    "    print(ttms.head(100))\n",
    "\n",
    "    # all hits with labels   \n",
    "    temp = modisco_hits.merge(pwms, on=[0, 1, 2, 3], how=\"inner\").drop_duplicates()\n",
    "    temp[\"id\"] = temp[0].astype(str)+\"_\"+temp[1].astype(str)+\"_\"+temp[2].astype(str)\n",
    "\n",
    "    # all hits with correct predictions\n",
    "    dwms = temp[temp[7]==motif].drop_duplicates(subset=[0, 1, 2, 3])\n",
    "    #dwms = temp[(temp[7]==\"0_15_CTCF_MA0139.1\") | (temp[7]==motif)].drop_duplicates(subset=[0, 1, 2, 3])\n",
    "\n",
    "    dwms[\"id\"] = dwms[0].astype(str)+\"_\"+dwms[1].astype(str)+\"_\"+dwms[2].astype(str)\n",
    "    recovered_pwms = dwms.shape[0]\n",
    "    \n",
    "    # all failed hits \n",
    "    print(\"PWM failure cases\")\n",
    "    ttms = temp[~temp[\"id\"].isin(dwms[\"id\"])].drop_duplicates(subset=[0, 1, 2, 3])\n",
    "    print(ttms.head())\n",
    "    \n",
    "    motifs.append(motif)\n",
    "    pwms_all.append(recovered_pwms*100/modisco_hits.shape[0])\n",
    "    cwms_all.append(recovered_cwms*100/modisco_hits.shape[0])\n",
    "    \n",
    "    #for i,r in modisco_hits.iterrows():\n",
    "    #    dwms = cwms[(cwms[3]==r[3]) &  (cwms[2]==r[2]) & (cwms[1]==r[1]) & (cwms[0]==r[0])]\n",
    "    #    if motif in dwms[7].values:\n",
    "    #        recovered+=1\n",
    "    #print(motif)\n",
    "    #print(\"cwm\",recovered_cwms*100/modisco_hits.shape[0])\n",
    "    #print(\"pwm\",recovered_pwms*100/modisco_hits.shape[0])\n",
    "        "
   ]
  },
  {
   "cell_type": "code",
   "execution_count": 26,
   "metadata": {},
   "outputs": [],
   "source": [
    "import matplotlib.pyplot as plt"
   ]
  },
  {
   "cell_type": "code",
   "execution_count": 28,
   "metadata": {},
   "outputs": [
    {
     "name": "stdout",
     "output_type": "stream",
     "text": [
      "0_9_STA5A_MOUSE.H11MO.0.A 0.0\n",
      "0_9_STA5A_MOUSE.H11MO.0.A (93.27036599763872, 93.27036599763872)\n",
      "0_0_GATA3_GATA_1 0.2019954704046114\n",
      "0_0_GATA3_GATA_1 (79.54336781538838, 79.74536328579299)\n",
      "0_3_BACH2_MOUSE.H11MO.0.A 0.16027475672581204\n",
      "0_3_BACH2_MOUSE.H11MO.0.A (92.57012020606754, 92.73039496279335)\n",
      "0_5_NFIA_HUMAN.H11MO.0.C 1.261595547309824\n",
      "0_5_NFIA_HUMAN.H11MO.0.C (92.83858998144713, 94.10018552875695)\n",
      "0_6_NFYB_HUMAN.H11MO.0.A 0.05599104143337286\n",
      "0_6_NFYB_HUMAN.H11MO.0.A (92.32922732362822, 92.38521836506159)\n",
      "0_8_FOSL1+JUN_MA1129.1 -0.6427915518824676\n",
      "0_8_FOSL1+JUN_MA1129.1 (75.57392102846649, 74.93112947658402)\n",
      "0_10_ETV4_MOUSE.H11MO.0.B -0.1319261213720324\n",
      "0_10_ETV4_MOUSE.H11MO.0.B (92.34828496042216, 92.21635883905013)\n",
      "0_2_KLF12_HUMAN.H11MO.0.C -0.5072307360241837\n",
      "0_2_KLF12_HUMAN.H11MO.0.C (87.52428232246925, 87.01705158644506)\n",
      "0_4_Gabpa_MA0062.2 1.007194244604321\n",
      "0_4_Gabpa_MA0062.2 (82.41007194244604, 83.41726618705036)\n",
      "0_7_NRF1_MOUSE.H11MO.0.A 0.6181318681318686\n",
      "0_7_NRF1_MOUSE.H11MO.0.A (89.28571428571429, 89.90384615384616)\n",
      "0_1_CTCF_MA0139.1 1.9950292201249482\n",
      "0_1_CTCF_MA0139.1 (82.19923423120844, 84.19426345133338)\n"
     ]
    },
    {
     "data": {
      "text/plain": [
       "Text(0, 0.5, 'CWM based resolvign')"
      ]
     },
     "execution_count": 28,
     "metadata": {},
     "output_type": "execute_result"
    },
    {
     "data": {
      "image/png": "[encoded data removed]",
      "text/plain": [
       "<Figure size 720x720 with 1 Axes>"
      ]
     },
     "metadata": {
      "needs_background": "light"
     },
     "output_type": "display_data"
    }
   ],
   "source": [
    "fig, ax = plt.subplots(figsize=(10,10))\n",
    "ax.scatter(pwms_all,cwms_all)\n",
    "ax.plot(pwms_all,pwms_all,\"r-\", alpha=0.5)\n",
    "\n",
    "for i, r in enumerate(motifs):\n",
    "    print(r,cwms_all[i]-pwms_all[i])\n",
    "    ax.annotate(r,(pwms_all[i],cwms_all[i]))\n",
    "    print(r,(pwms_all[i],cwms_all[i]))\n",
    "\n",
    "#ax.set_yscale('log')\n",
    "#ax.set_xscale('log')\n",
    "\n",
    "plt.xlabel('PWM based resolving')\n",
    "plt.ylabel('CWM based resolvign') \n",
    "    "
   ]
  },
  {
   "cell_type": "code",
   "execution_count": null,
   "metadata": {},
   "outputs": [],
   "source": []
  }
 ],
 "metadata": {
  "kernelspec": {
   "display_name": "Python 3",
   "language": "python",
   "name": "python3"
  },
  "language_info": {
   "codemirror_mode": {
    "name": "ipython",
    "version": 3
   },
   "file_extension": ".py",
   "mimetype": "text/x-python",
   "name": "python",
   "nbconvert_exporter": "python",
   "pygments_lexer": "ipython3",
   "version": "3.7.6"
  }
 },
 "nbformat": 4,
 "nbformat_minor": 4
}
