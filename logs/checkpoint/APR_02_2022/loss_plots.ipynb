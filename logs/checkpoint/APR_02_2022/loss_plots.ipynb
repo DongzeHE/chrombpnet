{
 "cells": [
  {
   "cell_type": "code",
   "execution_count": 1,
   "metadata": {},
   "outputs": [],
   "source": [
    "import pandas as pd"
   ]
  },
  {
   "cell_type": "code",
   "execution_count": 2,
   "metadata": {},
   "outputs": [],
   "source": [
    "neg_gc = pd.read_csv(\"testing/negatives.filt.gc.bed\", sep=\"\\t\", header=None)"
   ]
  },
  {
   "cell_type": "code",
   "execution_count": 3,
   "metadata": {},
   "outputs": [
    {
     "data": {
      "text/html": [
       "<div>\n",
       "<style scoped>\n",
       "    .dataframe tbody tr th:only-of-type {\n",
       "        vertical-align: middle;\n",
       "    }\n",
       "\n",
       "    .dataframe tbody tr th {\n",
       "        vertical-align: top;\n",
       "    }\n",
       "\n",
       "    .dataframe thead th {\n",
       "        text-align: right;\n",
       "    }\n",
       "</style>\n",
       "<table border=\"1\" class=\"dataframe\">\n",
       "  <thead>\n",
       "    <tr style=\"text-align: right;\">\n",
       "      <th></th>\n",
       "      <th>0</th>\n",
       "      <th>1</th>\n",
       "      <th>2</th>\n",
       "      <th>3</th>\n",
       "    </tr>\n",
       "  </thead>\n",
       "  <tbody>\n",
       "    <tr>\n",
       "      <th>0</th>\n",
       "      <td>chr15</td>\n",
       "      <td>20296000</td>\n",
       "      <td>20298114</td>\n",
       "      <td>0.43</td>\n",
       "    </tr>\n",
       "    <tr>\n",
       "      <th>1</th>\n",
       "      <td>chr12</td>\n",
       "      <td>111547000</td>\n",
       "      <td>111549114</td>\n",
       "      <td>0.43</td>\n",
       "    </tr>\n",
       "    <tr>\n",
       "      <th>2</th>\n",
       "      <td>chr12</td>\n",
       "      <td>5633000</td>\n",
       "      <td>5635114</td>\n",
       "      <td>0.48</td>\n",
       "    </tr>\n",
       "    <tr>\n",
       "      <th>3</th>\n",
       "      <td>chrX</td>\n",
       "      <td>82059000</td>\n",
       "      <td>82061114</td>\n",
       "      <td>0.49</td>\n",
       "    </tr>\n",
       "    <tr>\n",
       "      <th>4</th>\n",
       "      <td>chr10</td>\n",
       "      <td>29966000</td>\n",
       "      <td>29968114</td>\n",
       "      <td>0.45</td>\n",
       "    </tr>\n",
       "  </tbody>\n",
       "</table>\n",
       "</div>"
      ],
      "text/plain": [
       "       0          1          2     3\n",
       "0  chr15   20296000   20298114  0.43\n",
       "1  chr12  111547000  111549114  0.43\n",
       "2  chr12    5633000    5635114  0.48\n",
       "3   chrX   82059000   82061114  0.49\n",
       "4  chr10   29966000   29968114  0.45"
      ]
     },
     "execution_count": 3,
     "metadata": {},
     "output_type": "execute_result"
    }
   ],
   "source": [
    "neg_gc.head()\n"
   ]
  },
  {
   "cell_type": "code",
   "execution_count": 4,
   "metadata": {},
   "outputs": [
    {
     "data": {
      "text/plain": [
       "(array([1.94552529e-03, 2.24927827e-01, 2.97244885e+00, 5.39487888e+00,\n",
       "        5.16210619e+00, 1.91521275e+00, 3.49315928e-01, 8.99334756e-02,\n",
       "        1.65055855e-02, 1.75724865e-03]),\n",
       " array([0.2  , 0.262, 0.324, 0.386, 0.448, 0.51 , 0.572, 0.634, 0.696,\n",
       "        0.758, 0.82 ]),\n",
       " <BarContainer object of 10 artists>)"
      ]
     },
     "execution_count": 4,
     "metadata": {},
     "output_type": "execute_result"
    },
    {
     "data": {
      "image/png": "[encoded data removed]",
      "text/plain": [
       "<Figure size 432x288 with 1 Axes>"
      ]
     },
     "metadata": {
      "needs_background": "light"
     },
     "output_type": "display_data"
    }
   ],
   "source": [
    "import matplotlib.pyplot as plt\n",
    "plt.hist(neg_gc.iloc[:,3].values, density=True)"
   ]
  },
  {
   "cell_type": "code",
   "execution_count": 5,
   "metadata": {},
   "outputs": [],
   "source": [
    "peak_gc=pd.read_csv(\"results/chrombpnet/ATAC_PE/K562/negatives_data/foreground.gc.bed\", sep=\"\\t\")"
   ]
  },
  {
   "cell_type": "code",
   "execution_count": 6,
   "metadata": {},
   "outputs": [
    {
     "data": {
      "text/plain": [
       "<matplotlib.legend.Legend at 0x7fe2ae92a510>"
      ]
     },
     "execution_count": 6,
     "metadata": {},
     "output_type": "execute_result"
    },
    {
     "data": {
      "image/png": "[encoded data removed]",
      "text/plain": [
       "<Figure size 432x288 with 1 Axes>"
      ]
     },
     "metadata": {
      "needs_background": "light"
     },
     "output_type": "display_data"
    }
   ],
   "source": [
    "plt.hist(neg_gc.iloc[:,3].values, density=True, alpha=0.3, label=\"neg\")\n",
    "plt.hist(peak_gc.iloc[:,3].values, density=True, alpha=0.3, label=\"pos\")\n",
    "plt.legend()"
   ]
  },
  {
   "cell_type": "code",
   "execution_count": null,
   "metadata": {},
   "outputs": [],
   "source": []
  },
  {
   "cell_type": "code",
   "execution_count": null,
   "metadata": {},
   "outputs": [],
   "source": []
  },
  {
   "cell_type": "code",
   "execution_count": 2,
   "metadata": {},
   "outputs": [],
   "source": [
    "epoch_loss=pd.read_csv(\"/mnt/lab_data2/anusri/chrombpnet/results/chrombpnet/ATAC_PE/K562_stability/K562_02.08.2022_bias_128_4_1234/chrombpnet_model/chrombpnet.log\")"
   ]
  },
  {
   "cell_type": "code",
   "execution_count": 4,
   "metadata": {},
   "outputs": [
    {
     "data": {
      "text/html": [
       "<div>\n",
       "<style scoped>\n",
       "    .dataframe tbody tr th:only-of-type {\n",
       "        vertical-align: middle;\n",
       "    }\n",
       "\n",
       "    .dataframe tbody tr th {\n",
       "        vertical-align: top;\n",
       "    }\n",
       "\n",
       "    .dataframe thead th {\n",
       "        text-align: right;\n",
       "    }\n",
       "</style>\n",
       "<table border=\"1\" class=\"dataframe\">\n",
       "  <thead>\n",
       "    <tr style=\"text-align: right;\">\n",
       "      <th></th>\n",
       "      <th>epoch</th>\n",
       "      <th>logcount_predictions_loss</th>\n",
       "      <th>logits_profile_predictions_loss</th>\n",
       "      <th>loss</th>\n",
       "      <th>val_logcount_predictions_loss</th>\n",
       "      <th>val_logits_profile_predictions_loss</th>\n",
       "      <th>val_loss</th>\n",
       "    </tr>\n",
       "  </thead>\n",
       "  <tbody>\n",
       "    <tr>\n",
       "      <th>0</th>\n",
       "      <td>0</td>\n",
       "      <td>1.849466</td>\n",
       "      <td>960.981140</td>\n",
       "      <td>1101.357056</td>\n",
       "      <td>0.742864</td>\n",
       "      <td>915.892761</td>\n",
       "      <td>972.276245</td>\n",
       "    </tr>\n",
       "    <tr>\n",
       "      <th>1</th>\n",
       "      <td>1</td>\n",
       "      <td>0.765467</td>\n",
       "      <td>887.503479</td>\n",
       "      <td>945.602661</td>\n",
       "      <td>0.708480</td>\n",
       "      <td>884.863525</td>\n",
       "      <td>938.637756</td>\n",
       "    </tr>\n",
       "    <tr>\n",
       "      <th>2</th>\n",
       "      <td>2</td>\n",
       "      <td>0.717386</td>\n",
       "      <td>864.144348</td>\n",
       "      <td>918.593506</td>\n",
       "      <td>0.690419</td>\n",
       "      <td>879.723877</td>\n",
       "      <td>932.126770</td>\n",
       "    </tr>\n",
       "    <tr>\n",
       "      <th>3</th>\n",
       "      <td>3</td>\n",
       "      <td>0.687161</td>\n",
       "      <td>850.147339</td>\n",
       "      <td>902.303284</td>\n",
       "      <td>0.677660</td>\n",
       "      <td>878.773621</td>\n",
       "      <td>930.208069</td>\n",
       "    </tr>\n",
       "    <tr>\n",
       "      <th>4</th>\n",
       "      <td>4</td>\n",
       "      <td>0.663514</td>\n",
       "      <td>839.846802</td>\n",
       "      <td>890.207397</td>\n",
       "      <td>0.666262</td>\n",
       "      <td>877.080627</td>\n",
       "      <td>927.649536</td>\n",
       "    </tr>\n",
       "  </tbody>\n",
       "</table>\n",
       "</div>"
      ],
      "text/plain": [
       "   epoch  logcount_predictions_loss  logits_profile_predictions_loss  \\\n",
       "0      0                   1.849466                       960.981140   \n",
       "1      1                   0.765467                       887.503479   \n",
       "2      2                   0.717386                       864.144348   \n",
       "3      3                   0.687161                       850.147339   \n",
       "4      4                   0.663514                       839.846802   \n",
       "\n",
       "          loss  val_logcount_predictions_loss  \\\n",
       "0  1101.357056                       0.742864   \n",
       "1   945.602661                       0.708480   \n",
       "2   918.593506                       0.690419   \n",
       "3   902.303284                       0.677660   \n",
       "4   890.207397                       0.666262   \n",
       "\n",
       "   val_logits_profile_predictions_loss    val_loss  \n",
       "0                           915.892761  972.276245  \n",
       "1                           884.863525  938.637756  \n",
       "2                           879.723877  932.126770  \n",
       "3                           878.773621  930.208069  \n",
       "4                           877.080627  927.649536  "
      ]
     },
     "execution_count": 4,
     "metadata": {},
     "output_type": "execute_result"
    }
   ],
   "source": [
    "epoch_loss.head()"
   ]
  },
  {
   "cell_type": "code",
   "execution_count": 8,
   "metadata": {},
   "outputs": [],
   "source": [
    "epoch_loss_batch=pd.read_csv(\"/mnt/lab_data2/anusri/chrombpnet/results/chrombpnet/ATAC_PE/K562_stability/K562_02.08.2022_bias_128_4_1234/chrombpnet_model/chrombpnet.log.batch\", sep=\"\\t\")"
   ]
  },
  {
   "cell_type": "code",
   "execution_count": 39,
   "metadata": {},
   "outputs": [
    {
     "data": {
      "text/plain": [
       "0     972.276245\n",
       "1     938.637756\n",
       "2     932.126770\n",
       "3     930.208069\n",
       "4     927.649536\n",
       "5     928.292786\n",
       "6     928.041443\n",
       "7     925.899536\n",
       "8     933.916931\n",
       "9     930.701477\n",
       "10    926.315918\n",
       "11    920.083496\n",
       "12    923.869629\n",
       "13    928.231018\n",
       "14    929.672852\n",
       "15    929.562927\n",
       "16    928.792236\n",
       "Name: val_loss, dtype: float64"
      ]
     },
     "execution_count": 39,
     "metadata": {},
     "output_type": "execute_result"
    }
   ],
   "source": [
    "epoch_loss_batch.head()\n",
    "epoch_loss['val_loss']"
   ]
  },
  {
   "cell_type": "code",
   "execution_count": 14,
   "metadata": {},
   "outputs": [
    {
     "data": {
      "text/plain": [
       "<matplotlib.legend.Legend at 0x7fbdfdd12550>"
      ]
     },
     "execution_count": 14,
     "metadata": {},
     "output_type": "execute_result"
    },
    {
     "data": {
      "image/png": "[encoded data removed]",
      "text/plain": [
       "<Figure size 432x288 with 1 Axes>"
      ]
     },
     "metadata": {
      "needs_background": "light"
     },
     "output_type": "display_data"
    }
   ],
   "source": [
    "import matplotlib.pyplot as plt\n",
    "\n",
    "plt.plot(epoch_loss[\"epoch\"],epoch_loss[\"loss\"], label=\"loss\")\n",
    "plt.plot(epoch_loss[\"epoch\"],epoch_loss[\"val_loss\"], label=\"val_loss\")\n",
    "plt.legend()\n"
   ]
  },
  {
   "cell_type": "code",
   "execution_count": 37,
   "metadata": {},
   "outputs": [
    {
     "data": {
      "text/plain": [
       "<matplotlib.legend.Legend at 0x7fbdf124b4d0>"
      ]
     },
     "execution_count": 37,
     "metadata": {},
     "output_type": "execute_result"
    },
    {
     "data": {
      "image/png": "[encoded data removed]",
      "text/plain": [
       "<Figure size 432x288 with 1 Axes>"
      ]
     },
     "metadata": {
      "needs_background": "light"
     },
     "output_type": "display_data"
    }
   ],
   "source": [
    "plt.plot(epoch_loss[\"epoch\"],epoch_loss[\"logits_profile_predictions_loss\"], label=\"loss\")\n",
    "plt.plot(epoch_loss[\"epoch\"],epoch_loss[\"val_logits_profile_predictions_loss\"], label=\"val_loss\")\n",
    "plt.legend()\n"
   ]
  },
  {
   "cell_type": "code",
   "execution_count": 20,
   "metadata": {},
   "outputs": [
    {
     "data": {
      "text/plain": [
       "<matplotlib.legend.Legend at 0x7fbdfd964050>"
      ]
     },
     "execution_count": 20,
     "metadata": {},
     "output_type": "execute_result"
    },
    {
     "data": {
      "image/png": "[encoded data removed]",
      "text/plain": [
       "<Figure size 432x288 with 1 Axes>"
      ]
     },
     "metadata": {
      "needs_background": "light"
     },
     "output_type": "display_data"
    }
   ],
   "source": [
    "plt.plot(epoch_loss[\"epoch\"],epoch_loss[\"logcount_predictions_loss\"], label=\"loss\")\n",
    "plt.plot(epoch_loss[\"epoch\"],epoch_loss[\"val_logcount_predictions_loss\"], label=\"val_loss\")\n",
    "plt.legend()\n"
   ]
  },
  {
   "cell_type": "code",
   "execution_count": 34,
   "metadata": {},
   "outputs": [
    {
     "data": {
      "text/plain": [
       "<matplotlib.legend.Legend at 0x7fbdf14da7d0>"
      ]
     },
     "execution_count": 34,
     "metadata": {},
     "output_type": "execute_result"
    },
    {
     "data": {
      "image/png": "[encoded data removed]",
      "text/plain": [
       "<Figure size 432x288 with 1 Axes>"
      ]
     },
     "metadata": {
      "needs_background": "light"
     },
     "output_type": "display_data"
    }
   ],
   "source": [
    "epoch_no=4\n",
    "plt.plot(epoch_loss_batch[epoch_loss_batch[\"Epoch\"]==epoch_no][\"Batch\"],epoch_loss_batch[epoch_loss_batch[\"Epoch\"]==epoch_no][\"logits_profile_predictions_loss\"], label=\"loss\")\n",
    "plt.legend()\n"
   ]
  },
  {
   "cell_type": "code",
   "execution_count": 35,
   "metadata": {},
   "outputs": [
    {
     "data": {
      "text/plain": [
       "<matplotlib.legend.Legend at 0x7fbdf1342d50>"
      ]
     },
     "execution_count": 35,
     "metadata": {},
     "output_type": "execute_result"
    },
    {
     "data": {
      "image/png": "[encoded data removed]",
      "text/plain": [
       "<Figure size 432x288 with 1 Axes>"
      ]
     },
     "metadata": {
      "needs_background": "light"
     },
     "output_type": "display_data"
    }
   ],
   "source": [
    "plt.plot(epoch_loss_batch[epoch_loss_batch[\"Epoch\"]==epoch_no][\"Batch\"],epoch_loss_batch[epoch_loss_batch[\"Epoch\"]==epoch_no][\"logcount_predictions_loss\"], label=\"loss\")\n",
    "plt.legend()"
   ]
  }
 ],
 "metadata": {
  "kernelspec": {
   "display_name": "Python 3",
   "language": "python",
   "name": "python3"
  },
  "language_info": {
   "codemirror_mode": {
    "name": "ipython",
    "version": 3
   },
   "file_extension": ".py",
   "mimetype": "text/x-python",
   "name": "python",
   "nbconvert_exporter": "python",
   "pygments_lexer": "ipython3",
   "version": "3.7.6"
  }
 },
 "nbformat": 4,
 "nbformat_minor": 4
}
